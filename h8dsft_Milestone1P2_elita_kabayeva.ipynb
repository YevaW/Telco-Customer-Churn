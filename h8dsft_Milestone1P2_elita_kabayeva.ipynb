{
 "cells": [
  {
   "cell_type": "markdown",
   "id": "99b3bf3e",
   "metadata": {
    "id": "99b3bf3e"
   },
   "source": [
    "# Milestones 1"
   ]
  },
  {
   "cell_type": "markdown",
   "id": "1f3459a4",
   "metadata": {
    "id": "1f3459a4"
   },
   "source": [
    "## Introduction\n",
    "- Name : Elita Kabayeva\n",
    "- Batch : 008"
   ]
  },
  {
   "cell_type": "markdown",
   "id": "08305278",
   "metadata": {
    "id": "08305278"
   },
   "source": [
    "## The Goals :\n",
    "1. Understanding the Use of Tensorflow in Data Analysis\n",
    "2. Implementing ANN"
   ]
  },
  {
   "cell_type": "markdown",
   "id": "177162c1",
   "metadata": {
    "id": "177162c1"
   },
   "source": [
    "## Import Libraries"
   ]
  },
  {
   "cell_type": "markdown",
   "id": "uTdryM5nYjFy",
   "metadata": {
    "id": "uTdryM5nYjFy"
   },
   "source": [
    "First thing first, we are going to import five libraries we are going to use for data loading and data preprocessing."
   ]
  },
  {
   "cell_type": "code",
   "execution_count": 2,
   "id": "6842ec42",
   "metadata": {
    "id": "6842ec42"
   },
   "outputs": [],
   "source": [
    "import warnings\n",
    "warnings.filterwarnings('ignore')\n",
    "\n",
    "import pandas as pd\n",
    "import numpy as np\n",
    "import matplotlib.pyplot as plt\n",
    "import seaborn as sns"
   ]
  },
  {
   "cell_type": "markdown",
   "id": "8377d1b1",
   "metadata": {
    "id": "8377d1b1"
   },
   "source": [
    "## Data Loading"
   ]
  },
  {
   "cell_type": "markdown",
   "id": "W4iLLMF8YrTM",
   "metadata": {
    "id": "W4iLLMF8YrTM"
   },
   "source": [
    "Then, we are going to load the data. Since we are using google colab, thus we need to use the library from colab to import the files we are going to load."
   ]
  },
  {
   "cell_type": "code",
   "execution_count": 3,
   "id": "L_tFES708W0q",
   "metadata": {
    "colab": {
     "base_uri": "https://localhost:8080/",
     "height": 74,
     "resources": {
      "http://localhost:8080/nbextensions/google.colab/files.js": {
       "data": "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",
       "headers": [
        [
         "content-type",
         "application/javascript"
        ]
       ],
       "ok": true,
       "status": 200,
       "status_text": ""
      }
     }
    },
    "id": "L_tFES708W0q",
    "outputId": "a27a793d-bfed-41d5-fde5-5bb547400650"
   },
   "outputs": [],
   "source": [
    "# from google.colab import files\n",
    "# uploaded = files.upload()"
   ]
  },
  {
   "cell_type": "markdown",
   "id": "OHQ-fj4gZIpw",
   "metadata": {
    "id": "OHQ-fj4gZIpw"
   },
   "source": [
    "After the csv file is uploaded, then we can load it using the pandas libraries. Although for the model predict we will use Tensorflow, since this data is in csv format, we are going to use pandas to load it."
   ]
  },
  {
   "cell_type": "code",
   "execution_count": 4,
   "id": "c0494ca6",
   "metadata": {
    "id": "c0494ca6"
   },
   "outputs": [],
   "source": [
    "data = pd.read_csv('WA_Fn-UseC_-Telco-Customer-Churn.csv')\n",
    "data_ori = data.copy"
   ]
  },
  {
   "cell_type": "markdown",
   "id": "7TCpf1HeZRqX",
   "metadata": {
    "id": "7TCpf1HeZRqX"
   },
   "source": [
    "Next, checking the shape of the data to get the image of the data size we are dealing with."
   ]
  },
  {
   "cell_type": "code",
   "execution_count": 5,
   "id": "140a3a33",
   "metadata": {
    "colab": {
     "base_uri": "https://localhost:8080/"
    },
    "id": "140a3a33",
    "outputId": "eff20a0f-363d-4bfb-b805-b9c0c6612e88"
   },
   "outputs": [
    {
     "data": {
      "text/plain": [
       "(7043, 21)"
      ]
     },
     "execution_count": 5,
     "metadata": {},
     "output_type": "execute_result"
    }
   ],
   "source": [
    "data.shape"
   ]
  },
  {
   "cell_type": "markdown",
   "id": "Nyy-g_y_ZaKd",
   "metadata": {
    "id": "Nyy-g_y_ZaKd"
   },
   "source": [
    "After that, we will display 5 top rows of this data"
   ]
  },
  {
   "cell_type": "code",
   "execution_count": 6,
   "id": "d74fbffb",
   "metadata": {
    "colab": {
     "base_uri": "https://localhost:8080/",
     "height": 357
    },
    "id": "d74fbffb",
    "outputId": "d9936c05-ea33-4915-b4b6-218a7adf0255"
   },
   "outputs": [
    {
     "data": {
      "text/html": [
       "<div>\n",
       "<style scoped>\n",
       "    .dataframe tbody tr th:only-of-type {\n",
       "        vertical-align: middle;\n",
       "    }\n",
       "\n",
       "    .dataframe tbody tr th {\n",
       "        vertical-align: top;\n",
       "    }\n",
       "\n",
       "    .dataframe thead th {\n",
       "        text-align: right;\n",
       "    }\n",
       "</style>\n",
       "<table border=\"1\" class=\"dataframe\">\n",
       "  <thead>\n",
       "    <tr style=\"text-align: right;\">\n",
       "      <th></th>\n",
       "      <th>customerID</th>\n",
       "      <th>gender</th>\n",
       "      <th>SeniorCitizen</th>\n",
       "      <th>Partner</th>\n",
       "      <th>Dependents</th>\n",
       "      <th>tenure</th>\n",
       "      <th>PhoneService</th>\n",
       "      <th>MultipleLines</th>\n",
       "      <th>InternetService</th>\n",
       "      <th>OnlineSecurity</th>\n",
       "      <th>OnlineBackup</th>\n",
       "      <th>DeviceProtection</th>\n",
       "      <th>TechSupport</th>\n",
       "      <th>StreamingTV</th>\n",
       "      <th>StreamingMovies</th>\n",
       "      <th>Contract</th>\n",
       "      <th>PaperlessBilling</th>\n",
       "      <th>PaymentMethod</th>\n",
       "      <th>MonthlyCharges</th>\n",
       "      <th>TotalCharges</th>\n",
       "      <th>Churn</th>\n",
       "    </tr>\n",
       "  </thead>\n",
       "  <tbody>\n",
       "    <tr>\n",
       "      <th>0</th>\n",
       "      <td>7590-VHVEG</td>\n",
       "      <td>Female</td>\n",
       "      <td>0</td>\n",
       "      <td>Yes</td>\n",
       "      <td>No</td>\n",
       "      <td>1</td>\n",
       "      <td>No</td>\n",
       "      <td>No phone service</td>\n",
       "      <td>DSL</td>\n",
       "      <td>No</td>\n",
       "      <td>Yes</td>\n",
       "      <td>No</td>\n",
       "      <td>No</td>\n",
       "      <td>No</td>\n",
       "      <td>No</td>\n",
       "      <td>Month-to-month</td>\n",
       "      <td>Yes</td>\n",
       "      <td>Electronic check</td>\n",
       "      <td>29.85</td>\n",
       "      <td>29.85</td>\n",
       "      <td>No</td>\n",
       "    </tr>\n",
       "    <tr>\n",
       "      <th>1</th>\n",
       "      <td>5575-GNVDE</td>\n",
       "      <td>Male</td>\n",
       "      <td>0</td>\n",
       "      <td>No</td>\n",
       "      <td>No</td>\n",
       "      <td>34</td>\n",
       "      <td>Yes</td>\n",
       "      <td>No</td>\n",
       "      <td>DSL</td>\n",
       "      <td>Yes</td>\n",
       "      <td>No</td>\n",
       "      <td>Yes</td>\n",
       "      <td>No</td>\n",
       "      <td>No</td>\n",
       "      <td>No</td>\n",
       "      <td>One year</td>\n",
       "      <td>No</td>\n",
       "      <td>Mailed check</td>\n",
       "      <td>56.95</td>\n",
       "      <td>1889.5</td>\n",
       "      <td>No</td>\n",
       "    </tr>\n",
       "    <tr>\n",
       "      <th>2</th>\n",
       "      <td>3668-QPYBK</td>\n",
       "      <td>Male</td>\n",
       "      <td>0</td>\n",
       "      <td>No</td>\n",
       "      <td>No</td>\n",
       "      <td>2</td>\n",
       "      <td>Yes</td>\n",
       "      <td>No</td>\n",
       "      <td>DSL</td>\n",
       "      <td>Yes</td>\n",
       "      <td>Yes</td>\n",
       "      <td>No</td>\n",
       "      <td>No</td>\n",
       "      <td>No</td>\n",
       "      <td>No</td>\n",
       "      <td>Month-to-month</td>\n",
       "      <td>Yes</td>\n",
       "      <td>Mailed check</td>\n",
       "      <td>53.85</td>\n",
       "      <td>108.15</td>\n",
       "      <td>Yes</td>\n",
       "    </tr>\n",
       "    <tr>\n",
       "      <th>3</th>\n",
       "      <td>7795-CFOCW</td>\n",
       "      <td>Male</td>\n",
       "      <td>0</td>\n",
       "      <td>No</td>\n",
       "      <td>No</td>\n",
       "      <td>45</td>\n",
       "      <td>No</td>\n",
       "      <td>No phone service</td>\n",
       "      <td>DSL</td>\n",
       "      <td>Yes</td>\n",
       "      <td>No</td>\n",
       "      <td>Yes</td>\n",
       "      <td>Yes</td>\n",
       "      <td>No</td>\n",
       "      <td>No</td>\n",
       "      <td>One year</td>\n",
       "      <td>No</td>\n",
       "      <td>Bank transfer (automatic)</td>\n",
       "      <td>42.30</td>\n",
       "      <td>1840.75</td>\n",
       "      <td>No</td>\n",
       "    </tr>\n",
       "    <tr>\n",
       "      <th>4</th>\n",
       "      <td>9237-HQITU</td>\n",
       "      <td>Female</td>\n",
       "      <td>0</td>\n",
       "      <td>No</td>\n",
       "      <td>No</td>\n",
       "      <td>2</td>\n",
       "      <td>Yes</td>\n",
       "      <td>No</td>\n",
       "      <td>Fiber optic</td>\n",
       "      <td>No</td>\n",
       "      <td>No</td>\n",
       "      <td>No</td>\n",
       "      <td>No</td>\n",
       "      <td>No</td>\n",
       "      <td>No</td>\n",
       "      <td>Month-to-month</td>\n",
       "      <td>Yes</td>\n",
       "      <td>Electronic check</td>\n",
       "      <td>70.70</td>\n",
       "      <td>151.65</td>\n",
       "      <td>Yes</td>\n",
       "    </tr>\n",
       "  </tbody>\n",
       "</table>\n",
       "</div>"
      ],
      "text/plain": [
       "   customerID  gender  SeniorCitizen Partner Dependents  tenure PhoneService  \\\n",
       "0  7590-VHVEG  Female              0     Yes         No       1           No   \n",
       "1  5575-GNVDE    Male              0      No         No      34          Yes   \n",
       "2  3668-QPYBK    Male              0      No         No       2          Yes   \n",
       "3  7795-CFOCW    Male              0      No         No      45           No   \n",
       "4  9237-HQITU  Female              0      No         No       2          Yes   \n",
       "\n",
       "      MultipleLines InternetService OnlineSecurity OnlineBackup  \\\n",
       "0  No phone service             DSL             No          Yes   \n",
       "1                No             DSL            Yes           No   \n",
       "2                No             DSL            Yes          Yes   \n",
       "3  No phone service             DSL            Yes           No   \n",
       "4                No     Fiber optic             No           No   \n",
       "\n",
       "  DeviceProtection TechSupport StreamingTV StreamingMovies        Contract  \\\n",
       "0               No          No          No              No  Month-to-month   \n",
       "1              Yes          No          No              No        One year   \n",
       "2               No          No          No              No  Month-to-month   \n",
       "3              Yes         Yes          No              No        One year   \n",
       "4               No          No          No              No  Month-to-month   \n",
       "\n",
       "  PaperlessBilling              PaymentMethod  MonthlyCharges TotalCharges  \\\n",
       "0              Yes           Electronic check           29.85        29.85   \n",
       "1               No               Mailed check           56.95       1889.5   \n",
       "2              Yes               Mailed check           53.85       108.15   \n",
       "3               No  Bank transfer (automatic)           42.30      1840.75   \n",
       "4              Yes           Electronic check           70.70       151.65   \n",
       "\n",
       "  Churn  \n",
       "0    No  \n",
       "1    No  \n",
       "2   Yes  \n",
       "3    No  \n",
       "4   Yes  "
      ]
     },
     "execution_count": 6,
     "metadata": {},
     "output_type": "execute_result"
    }
   ],
   "source": [
    "pd.set_option('display.max_columns', None)\n",
    "data.head()"
   ]
  },
  {
   "cell_type": "markdown",
   "id": "TQE_02L9ZeW1",
   "metadata": {
    "id": "TQE_02L9ZeW1"
   },
   "source": [
    "Following by checking the data info. Not only to check the Dtype of each column in the data but also to get a glimpse if this data has any missing value."
   ]
  },
  {
   "cell_type": "code",
   "execution_count": 7,
   "id": "5a29b060",
   "metadata": {
    "colab": {
     "base_uri": "https://localhost:8080/"
    },
    "id": "5a29b060",
    "outputId": "7136db2d-d970-4239-c56b-e23ad1f69f6d"
   },
   "outputs": [
    {
     "name": "stdout",
     "output_type": "stream",
     "text": [
      "<class 'pandas.core.frame.DataFrame'>\n",
      "RangeIndex: 7043 entries, 0 to 7042\n",
      "Data columns (total 21 columns):\n",
      " #   Column            Non-Null Count  Dtype  \n",
      "---  ------            --------------  -----  \n",
      " 0   customerID        7043 non-null   object \n",
      " 1   gender            7043 non-null   object \n",
      " 2   SeniorCitizen     7043 non-null   int64  \n",
      " 3   Partner           7043 non-null   object \n",
      " 4   Dependents        7043 non-null   object \n",
      " 5   tenure            7043 non-null   int64  \n",
      " 6   PhoneService      7043 non-null   object \n",
      " 7   MultipleLines     7043 non-null   object \n",
      " 8   InternetService   7043 non-null   object \n",
      " 9   OnlineSecurity    7043 non-null   object \n",
      " 10  OnlineBackup      7043 non-null   object \n",
      " 11  DeviceProtection  7043 non-null   object \n",
      " 12  TechSupport       7043 non-null   object \n",
      " 13  StreamingTV       7043 non-null   object \n",
      " 14  StreamingMovies   7043 non-null   object \n",
      " 15  Contract          7043 non-null   object \n",
      " 16  PaperlessBilling  7043 non-null   object \n",
      " 17  PaymentMethod     7043 non-null   object \n",
      " 18  MonthlyCharges    7043 non-null   float64\n",
      " 19  TotalCharges      7043 non-null   object \n",
      " 20  Churn             7043 non-null   object \n",
      "dtypes: float64(1), int64(2), object(18)\n",
      "memory usage: 1.1+ MB\n"
     ]
    }
   ],
   "source": [
    "data.info()"
   ]
  },
  {
   "cell_type": "markdown",
   "id": "GW8ZvqbzZpMV",
   "metadata": {
    "id": "GW8ZvqbzZpMV"
   },
   "source": [
    "From the data info we roughly can see that this data somewhat has no missing value, but I would like to recheck with the percent missing as following:"
   ]
  },
  {
   "cell_type": "code",
   "execution_count": 8,
   "id": "bb934621",
   "metadata": {
    "colab": {
     "base_uri": "https://localhost:8080/",
     "height": 708
    },
    "id": "bb934621",
    "outputId": "6a61436b-89bd-422a-f8a2-9b1c9284059e"
   },
   "outputs": [
    {
     "data": {
      "text/html": [
       "<div>\n",
       "<style scoped>\n",
       "    .dataframe tbody tr th:only-of-type {\n",
       "        vertical-align: middle;\n",
       "    }\n",
       "\n",
       "    .dataframe tbody tr th {\n",
       "        vertical-align: top;\n",
       "    }\n",
       "\n",
       "    .dataframe thead th {\n",
       "        text-align: right;\n",
       "    }\n",
       "</style>\n",
       "<table border=\"1\" class=\"dataframe\">\n",
       "  <thead>\n",
       "    <tr style=\"text-align: right;\">\n",
       "      <th></th>\n",
       "      <th>column_name</th>\n",
       "      <th>percent_missing</th>\n",
       "    </tr>\n",
       "  </thead>\n",
       "  <tbody>\n",
       "    <tr>\n",
       "      <th>customerID</th>\n",
       "      <td>customerID</td>\n",
       "      <td>0.0</td>\n",
       "    </tr>\n",
       "    <tr>\n",
       "      <th>DeviceProtection</th>\n",
       "      <td>DeviceProtection</td>\n",
       "      <td>0.0</td>\n",
       "    </tr>\n",
       "    <tr>\n",
       "      <th>TotalCharges</th>\n",
       "      <td>TotalCharges</td>\n",
       "      <td>0.0</td>\n",
       "    </tr>\n",
       "    <tr>\n",
       "      <th>MonthlyCharges</th>\n",
       "      <td>MonthlyCharges</td>\n",
       "      <td>0.0</td>\n",
       "    </tr>\n",
       "    <tr>\n",
       "      <th>PaymentMethod</th>\n",
       "      <td>PaymentMethod</td>\n",
       "      <td>0.0</td>\n",
       "    </tr>\n",
       "    <tr>\n",
       "      <th>PaperlessBilling</th>\n",
       "      <td>PaperlessBilling</td>\n",
       "      <td>0.0</td>\n",
       "    </tr>\n",
       "    <tr>\n",
       "      <th>Contract</th>\n",
       "      <td>Contract</td>\n",
       "      <td>0.0</td>\n",
       "    </tr>\n",
       "    <tr>\n",
       "      <th>StreamingMovies</th>\n",
       "      <td>StreamingMovies</td>\n",
       "      <td>0.0</td>\n",
       "    </tr>\n",
       "    <tr>\n",
       "      <th>StreamingTV</th>\n",
       "      <td>StreamingTV</td>\n",
       "      <td>0.0</td>\n",
       "    </tr>\n",
       "    <tr>\n",
       "      <th>TechSupport</th>\n",
       "      <td>TechSupport</td>\n",
       "      <td>0.0</td>\n",
       "    </tr>\n",
       "    <tr>\n",
       "      <th>OnlineBackup</th>\n",
       "      <td>OnlineBackup</td>\n",
       "      <td>0.0</td>\n",
       "    </tr>\n",
       "    <tr>\n",
       "      <th>gender</th>\n",
       "      <td>gender</td>\n",
       "      <td>0.0</td>\n",
       "    </tr>\n",
       "    <tr>\n",
       "      <th>OnlineSecurity</th>\n",
       "      <td>OnlineSecurity</td>\n",
       "      <td>0.0</td>\n",
       "    </tr>\n",
       "    <tr>\n",
       "      <th>InternetService</th>\n",
       "      <td>InternetService</td>\n",
       "      <td>0.0</td>\n",
       "    </tr>\n",
       "    <tr>\n",
       "      <th>MultipleLines</th>\n",
       "      <td>MultipleLines</td>\n",
       "      <td>0.0</td>\n",
       "    </tr>\n",
       "    <tr>\n",
       "      <th>PhoneService</th>\n",
       "      <td>PhoneService</td>\n",
       "      <td>0.0</td>\n",
       "    </tr>\n",
       "    <tr>\n",
       "      <th>tenure</th>\n",
       "      <td>tenure</td>\n",
       "      <td>0.0</td>\n",
       "    </tr>\n",
       "    <tr>\n",
       "      <th>Dependents</th>\n",
       "      <td>Dependents</td>\n",
       "      <td>0.0</td>\n",
       "    </tr>\n",
       "    <tr>\n",
       "      <th>Partner</th>\n",
       "      <td>Partner</td>\n",
       "      <td>0.0</td>\n",
       "    </tr>\n",
       "    <tr>\n",
       "      <th>SeniorCitizen</th>\n",
       "      <td>SeniorCitizen</td>\n",
       "      <td>0.0</td>\n",
       "    </tr>\n",
       "    <tr>\n",
       "      <th>Churn</th>\n",
       "      <td>Churn</td>\n",
       "      <td>0.0</td>\n",
       "    </tr>\n",
       "  </tbody>\n",
       "</table>\n",
       "</div>"
      ],
      "text/plain": [
       "                       column_name  percent_missing\n",
       "customerID              customerID              0.0\n",
       "DeviceProtection  DeviceProtection              0.0\n",
       "TotalCharges          TotalCharges              0.0\n",
       "MonthlyCharges      MonthlyCharges              0.0\n",
       "PaymentMethod        PaymentMethod              0.0\n",
       "PaperlessBilling  PaperlessBilling              0.0\n",
       "Contract                  Contract              0.0\n",
       "StreamingMovies    StreamingMovies              0.0\n",
       "StreamingTV            StreamingTV              0.0\n",
       "TechSupport            TechSupport              0.0\n",
       "OnlineBackup          OnlineBackup              0.0\n",
       "gender                      gender              0.0\n",
       "OnlineSecurity      OnlineSecurity              0.0\n",
       "InternetService    InternetService              0.0\n",
       "MultipleLines        MultipleLines              0.0\n",
       "PhoneService          PhoneService              0.0\n",
       "tenure                      tenure              0.0\n",
       "Dependents              Dependents              0.0\n",
       "Partner                    Partner              0.0\n",
       "SeniorCitizen        SeniorCitizen              0.0\n",
       "Churn                        Churn              0.0"
      ]
     },
     "execution_count": 8,
     "metadata": {},
     "output_type": "execute_result"
    }
   ],
   "source": [
    "percent_missing = (data.isnull().sum() * 100 / len(data)).round(2)\n",
    "missing_value_data = pd.DataFrame({'column_name': data.columns,\n",
    "                                 'percent_missing': percent_missing})\n",
    "missing_value_data.sort_values('percent_missing', ascending=False, inplace=True)\n",
    "missing_value_data"
   ]
  },
  {
   "cell_type": "markdown",
   "id": "XoqPL9NcZyMc",
   "metadata": {
    "id": "XoqPL9NcZyMc"
   },
   "source": [
    "From the percent missing, we also got zero for all missing percentage in all columns. We will take it as the data is clean **for now**."
   ]
  },
  {
   "cell_type": "markdown",
   "id": "8FsGv2SBaDjv",
   "metadata": {
    "id": "8FsGv2SBaDjv"
   },
   "source": [
    "Next, I'm checking the statistical distribution for the data. First is the numerical columns:"
   ]
  },
  {
   "cell_type": "code",
   "execution_count": 9,
   "id": "2a95574c",
   "metadata": {
    "colab": {
     "base_uri": "https://localhost:8080/",
     "height": 143
    },
    "id": "2a95574c",
    "outputId": "981ba3c7-5e5c-48df-d0d6-800535171d03"
   },
   "outputs": [
    {
     "data": {
      "text/html": [
       "<div>\n",
       "<style scoped>\n",
       "    .dataframe tbody tr th:only-of-type {\n",
       "        vertical-align: middle;\n",
       "    }\n",
       "\n",
       "    .dataframe tbody tr th {\n",
       "        vertical-align: top;\n",
       "    }\n",
       "\n",
       "    .dataframe thead th {\n",
       "        text-align: right;\n",
       "    }\n",
       "</style>\n",
       "<table border=\"1\" class=\"dataframe\">\n",
       "  <thead>\n",
       "    <tr style=\"text-align: right;\">\n",
       "      <th></th>\n",
       "      <th>count</th>\n",
       "      <th>mean</th>\n",
       "      <th>std</th>\n",
       "      <th>min</th>\n",
       "      <th>25%</th>\n",
       "      <th>50%</th>\n",
       "      <th>75%</th>\n",
       "      <th>max</th>\n",
       "    </tr>\n",
       "  </thead>\n",
       "  <tbody>\n",
       "    <tr>\n",
       "      <th>SeniorCitizen</th>\n",
       "      <td>7043.0</td>\n",
       "      <td>0.162147</td>\n",
       "      <td>0.368612</td>\n",
       "      <td>0.00</td>\n",
       "      <td>0.0</td>\n",
       "      <td>0.00</td>\n",
       "      <td>0.00</td>\n",
       "      <td>1.00</td>\n",
       "    </tr>\n",
       "    <tr>\n",
       "      <th>tenure</th>\n",
       "      <td>7043.0</td>\n",
       "      <td>32.371149</td>\n",
       "      <td>24.559481</td>\n",
       "      <td>0.00</td>\n",
       "      <td>9.0</td>\n",
       "      <td>29.00</td>\n",
       "      <td>55.00</td>\n",
       "      <td>72.00</td>\n",
       "    </tr>\n",
       "    <tr>\n",
       "      <th>MonthlyCharges</th>\n",
       "      <td>7043.0</td>\n",
       "      <td>64.761692</td>\n",
       "      <td>30.090047</td>\n",
       "      <td>18.25</td>\n",
       "      <td>35.5</td>\n",
       "      <td>70.35</td>\n",
       "      <td>89.85</td>\n",
       "      <td>118.75</td>\n",
       "    </tr>\n",
       "  </tbody>\n",
       "</table>\n",
       "</div>"
      ],
      "text/plain": [
       "                 count       mean        std    min   25%    50%    75%  \\\n",
       "SeniorCitizen   7043.0   0.162147   0.368612   0.00   0.0   0.00   0.00   \n",
       "tenure          7043.0  32.371149  24.559481   0.00   9.0  29.00  55.00   \n",
       "MonthlyCharges  7043.0  64.761692  30.090047  18.25  35.5  70.35  89.85   \n",
       "\n",
       "                   max  \n",
       "SeniorCitizen     1.00  \n",
       "tenure           72.00  \n",
       "MonthlyCharges  118.75  "
      ]
     },
     "execution_count": 9,
     "metadata": {},
     "output_type": "execute_result"
    }
   ],
   "source": [
    "data.describe().T"
   ]
  },
  {
   "cell_type": "markdown",
   "id": "aSGv-BDXaJXe",
   "metadata": {
    "id": "aSGv-BDXaJXe"
   },
   "source": [
    "I notice something weird within this numerical statistic. \n",
    "\n",
    "Notice that there are only three columns with one of them is the *Monthly Charges*. Whereas, previously we saw there is a column called as TotalCharges and it does being filled with numbers just like MonthlyCharges. But it doesn't show on the statistic above."
   ]
  },
  {
   "cell_type": "markdown",
   "id": "s-ApTj9WaqY1",
   "metadata": {
    "id": "s-ApTj9WaqY1"
   },
   "source": [
    "To check, I'm going to load the statistical distribution for the categorical data as followed:"
   ]
  },
  {
   "cell_type": "code",
   "execution_count": 10,
   "id": "b5b3d9e0",
   "metadata": {
    "id": "b5b3d9e0"
   },
   "outputs": [],
   "source": [
    "numeric_columns = list(data.select_dtypes(include=np.number).columns)\n",
    "categorical_columns = list(data.select_dtypes(include=\"object\").columns)"
   ]
  },
  {
   "cell_type": "code",
   "execution_count": 11,
   "id": "a932d94b",
   "metadata": {
    "colab": {
     "base_uri": "https://localhost:8080/",
     "height": 614
    },
    "id": "a932d94b",
    "outputId": "1bc3a386-2773-4364-f491-b80610a65fc8"
   },
   "outputs": [
    {
     "data": {
      "text/html": [
       "<div>\n",
       "<style scoped>\n",
       "    .dataframe tbody tr th:only-of-type {\n",
       "        vertical-align: middle;\n",
       "    }\n",
       "\n",
       "    .dataframe tbody tr th {\n",
       "        vertical-align: top;\n",
       "    }\n",
       "\n",
       "    .dataframe thead th {\n",
       "        text-align: right;\n",
       "    }\n",
       "</style>\n",
       "<table border=\"1\" class=\"dataframe\">\n",
       "  <thead>\n",
       "    <tr style=\"text-align: right;\">\n",
       "      <th></th>\n",
       "      <th>count</th>\n",
       "      <th>unique</th>\n",
       "      <th>top</th>\n",
       "      <th>freq</th>\n",
       "    </tr>\n",
       "  </thead>\n",
       "  <tbody>\n",
       "    <tr>\n",
       "      <th>customerID</th>\n",
       "      <td>7043</td>\n",
       "      <td>7043</td>\n",
       "      <td>7590-VHVEG</td>\n",
       "      <td>1</td>\n",
       "    </tr>\n",
       "    <tr>\n",
       "      <th>gender</th>\n",
       "      <td>7043</td>\n",
       "      <td>2</td>\n",
       "      <td>Male</td>\n",
       "      <td>3555</td>\n",
       "    </tr>\n",
       "    <tr>\n",
       "      <th>Partner</th>\n",
       "      <td>7043</td>\n",
       "      <td>2</td>\n",
       "      <td>No</td>\n",
       "      <td>3641</td>\n",
       "    </tr>\n",
       "    <tr>\n",
       "      <th>Dependents</th>\n",
       "      <td>7043</td>\n",
       "      <td>2</td>\n",
       "      <td>No</td>\n",
       "      <td>4933</td>\n",
       "    </tr>\n",
       "    <tr>\n",
       "      <th>PhoneService</th>\n",
       "      <td>7043</td>\n",
       "      <td>2</td>\n",
       "      <td>Yes</td>\n",
       "      <td>6361</td>\n",
       "    </tr>\n",
       "    <tr>\n",
       "      <th>MultipleLines</th>\n",
       "      <td>7043</td>\n",
       "      <td>3</td>\n",
       "      <td>No</td>\n",
       "      <td>3390</td>\n",
       "    </tr>\n",
       "    <tr>\n",
       "      <th>InternetService</th>\n",
       "      <td>7043</td>\n",
       "      <td>3</td>\n",
       "      <td>Fiber optic</td>\n",
       "      <td>3096</td>\n",
       "    </tr>\n",
       "    <tr>\n",
       "      <th>OnlineSecurity</th>\n",
       "      <td>7043</td>\n",
       "      <td>3</td>\n",
       "      <td>No</td>\n",
       "      <td>3498</td>\n",
       "    </tr>\n",
       "    <tr>\n",
       "      <th>OnlineBackup</th>\n",
       "      <td>7043</td>\n",
       "      <td>3</td>\n",
       "      <td>No</td>\n",
       "      <td>3088</td>\n",
       "    </tr>\n",
       "    <tr>\n",
       "      <th>DeviceProtection</th>\n",
       "      <td>7043</td>\n",
       "      <td>3</td>\n",
       "      <td>No</td>\n",
       "      <td>3095</td>\n",
       "    </tr>\n",
       "    <tr>\n",
       "      <th>TechSupport</th>\n",
       "      <td>7043</td>\n",
       "      <td>3</td>\n",
       "      <td>No</td>\n",
       "      <td>3473</td>\n",
       "    </tr>\n",
       "    <tr>\n",
       "      <th>StreamingTV</th>\n",
       "      <td>7043</td>\n",
       "      <td>3</td>\n",
       "      <td>No</td>\n",
       "      <td>2810</td>\n",
       "    </tr>\n",
       "    <tr>\n",
       "      <th>StreamingMovies</th>\n",
       "      <td>7043</td>\n",
       "      <td>3</td>\n",
       "      <td>No</td>\n",
       "      <td>2785</td>\n",
       "    </tr>\n",
       "    <tr>\n",
       "      <th>Contract</th>\n",
       "      <td>7043</td>\n",
       "      <td>3</td>\n",
       "      <td>Month-to-month</td>\n",
       "      <td>3875</td>\n",
       "    </tr>\n",
       "    <tr>\n",
       "      <th>PaperlessBilling</th>\n",
       "      <td>7043</td>\n",
       "      <td>2</td>\n",
       "      <td>Yes</td>\n",
       "      <td>4171</td>\n",
       "    </tr>\n",
       "    <tr>\n",
       "      <th>PaymentMethod</th>\n",
       "      <td>7043</td>\n",
       "      <td>4</td>\n",
       "      <td>Electronic check</td>\n",
       "      <td>2365</td>\n",
       "    </tr>\n",
       "    <tr>\n",
       "      <th>TotalCharges</th>\n",
       "      <td>7043</td>\n",
       "      <td>6531</td>\n",
       "      <td></td>\n",
       "      <td>11</td>\n",
       "    </tr>\n",
       "    <tr>\n",
       "      <th>Churn</th>\n",
       "      <td>7043</td>\n",
       "      <td>2</td>\n",
       "      <td>No</td>\n",
       "      <td>5174</td>\n",
       "    </tr>\n",
       "  </tbody>\n",
       "</table>\n",
       "</div>"
      ],
      "text/plain": [
       "                 count unique               top  freq\n",
       "customerID        7043   7043        7590-VHVEG     1\n",
       "gender            7043      2              Male  3555\n",
       "Partner           7043      2                No  3641\n",
       "Dependents        7043      2                No  4933\n",
       "PhoneService      7043      2               Yes  6361\n",
       "MultipleLines     7043      3                No  3390\n",
       "InternetService   7043      3       Fiber optic  3096\n",
       "OnlineSecurity    7043      3                No  3498\n",
       "OnlineBackup      7043      3                No  3088\n",
       "DeviceProtection  7043      3                No  3095\n",
       "TechSupport       7043      3                No  3473\n",
       "StreamingTV       7043      3                No  2810\n",
       "StreamingMovies   7043      3                No  2785\n",
       "Contract          7043      3    Month-to-month  3875\n",
       "PaperlessBilling  7043      2               Yes  4171\n",
       "PaymentMethod     7043      4  Electronic check  2365\n",
       "TotalCharges      7043   6531                      11\n",
       "Churn             7043      2                No  5174"
      ]
     },
     "execution_count": 11,
     "metadata": {},
     "output_type": "execute_result"
    }
   ],
   "source": [
    "data[categorical_columns].describe().T"
   ]
  },
  {
   "cell_type": "markdown",
   "id": "zLGxwaj3ayvz",
   "metadata": {
    "id": "zLGxwaj3ayvz"
   },
   "source": [
    "True to our suspicion, the TotalCharges column does appear in the categorical data above. Which is weird."
   ]
  },
  {
   "cell_type": "markdown",
   "id": "DMIodyo3bBRW",
   "metadata": {
    "id": "DMIodyo3bBRW"
   },
   "source": [
    "To further check, I'm going to list the uniques in each categorical columns."
   ]
  },
  {
   "cell_type": "code",
   "execution_count": 12,
   "id": "1d880149",
   "metadata": {
    "colab": {
     "base_uri": "https://localhost:8080/"
    },
    "id": "1d880149",
    "outputId": "5e6f3487-8154-4efc-922e-41e26ad357e3"
   },
   "outputs": [
    {
     "data": {
      "text/plain": [
       "{'customerID': 7043,\n",
       " 'gender': 2,\n",
       " 'Partner': 2,\n",
       " 'Dependents': 2,\n",
       " 'PhoneService': 2,\n",
       " 'MultipleLines': 3,\n",
       " 'InternetService': 3,\n",
       " 'OnlineSecurity': 3,\n",
       " 'OnlineBackup': 3,\n",
       " 'DeviceProtection': 3,\n",
       " 'TechSupport': 3,\n",
       " 'StreamingTV': 3,\n",
       " 'StreamingMovies': 3,\n",
       " 'Contract': 3,\n",
       " 'PaperlessBilling': 2,\n",
       " 'PaymentMethod': 4,\n",
       " 'TotalCharges': 6531,\n",
       " 'Churn': 2}"
      ]
     },
     "execution_count": 12,
     "metadata": {},
     "output_type": "execute_result"
    }
   ],
   "source": [
    "{column: len(data[column].unique()) for column in data.select_dtypes('object').columns}"
   ]
  },
  {
   "cell_type": "code",
   "execution_count": 13,
   "id": "3cada872",
   "metadata": {
    "colab": {
     "base_uri": "https://localhost:8080/"
    },
    "id": "3cada872",
    "outputId": "7e88ffc8-1c3f-401e-9b1c-64e6e3507046"
   },
   "outputs": [
    {
     "name": "stdout",
     "output_type": "stream",
     "text": [
      "customerID : ['7590-VHVEG' '5575-GNVDE' '3668-QPYBK' ... '4801-JZAZL' '8361-LTMKD'\n",
      " '3186-AJIEK']\n",
      "gender : ['Female' 'Male']\n",
      "Partner : ['Yes' 'No']\n",
      "Dependents : ['No' 'Yes']\n",
      "PhoneService : ['No' 'Yes']\n",
      "MultipleLines : ['No phone service' 'No' 'Yes']\n",
      "InternetService : ['DSL' 'Fiber optic' 'No']\n",
      "OnlineSecurity : ['No' 'Yes' 'No internet service']\n",
      "OnlineBackup : ['Yes' 'No' 'No internet service']\n",
      "DeviceProtection : ['No' 'Yes' 'No internet service']\n",
      "TechSupport : ['No' 'Yes' 'No internet service']\n",
      "StreamingTV : ['No' 'Yes' 'No internet service']\n",
      "StreamingMovies : ['No' 'Yes' 'No internet service']\n",
      "Contract : ['Month-to-month' 'One year' 'Two year']\n",
      "PaperlessBilling : ['Yes' 'No']\n",
      "PaymentMethod : ['Electronic check' 'Mailed check' 'Bank transfer (automatic)'\n",
      " 'Credit card (automatic)']\n",
      "TotalCharges : ['29.85' '1889.5' '108.15' ... '346.45' '306.6' '6844.5']\n",
      "Churn : ['No' 'Yes']\n"
     ]
    }
   ],
   "source": [
    "for column in data:\n",
    "  if data[column].dtypes == object:  \n",
    "    print(column+\" :\",data[column].unique())"
   ]
  },
  {
   "cell_type": "markdown",
   "id": "N5oKVcQwd5Ij",
   "metadata": {
    "id": "N5oKVcQwd5Ij"
   },
   "source": [
    "Our suspicion remains true as we could see clearly, although it does have the appearance of numbers, the TotalCharges are listed as object Dtypes. \n",
    "\n",
    "This could lead to potential difficulties most importantly in EDAs and Data Encoding and scaling so I'm going to change TotalCharges Dtypes to numeric:"
   ]
  },
  {
   "cell_type": "code",
   "execution_count": 14,
   "id": "XCR7j2UPNyii",
   "metadata": {
    "colab": {
     "base_uri": "https://localhost:8080/"
    },
    "id": "XCR7j2UPNyii",
    "outputId": "3e0bab48-4a5e-466e-fd9e-38ca952f5971"
   },
   "outputs": [
    {
     "data": {
      "text/plain": [
       "(7032, 21)"
      ]
     },
     "execution_count": 14,
     "metadata": {},
     "output_type": "execute_result"
    }
   ],
   "source": [
    "data1 = data[data.TotalCharges!=\" \"]\n",
    "data1.shape"
   ]
  },
  {
   "cell_type": "code",
   "execution_count": 15,
   "id": "8J2CuZ-8OXY0",
   "metadata": {
    "colab": {
     "base_uri": "https://localhost:8080/"
    },
    "id": "8J2CuZ-8OXY0",
    "outputId": "b922aa65-417d-4072-b6e2-41d4f20ab97f"
   },
   "outputs": [
    {
     "data": {
      "text/plain": [
       "(0, 21)"
      ]
     },
     "execution_count": 15,
     "metadata": {},
     "output_type": "execute_result"
    }
   ],
   "source": [
    "data1[pd.to_numeric(data1.TotalCharges,errors='coerce').isnull()].shape"
   ]
  },
  {
   "cell_type": "code",
   "execution_count": 16,
   "id": "AB5-5ucSOvtz",
   "metadata": {
    "colab": {
     "base_uri": "https://localhost:8080/"
    },
    "id": "AB5-5ucSOvtz",
    "outputId": "281a2e57-2b01-406f-cb60-2819719b15c1"
   },
   "outputs": [
    {
     "data": {
      "text/plain": [
       "dtype('float64')"
      ]
     },
     "execution_count": 16,
     "metadata": {},
     "output_type": "execute_result"
    }
   ],
   "source": [
    "data1.TotalCharges = pd.to_numeric(data1.TotalCharges)\n",
    "data1.TotalCharges.dtypes"
   ]
  },
  {
   "cell_type": "markdown",
   "id": "6c4e74ad",
   "metadata": {
    "id": "6c4e74ad"
   },
   "source": [
    "## Preliminary Data Analysis"
   ]
  },
  {
   "cell_type": "markdown",
   "id": "yFX4S4t8eKd-",
   "metadata": {
    "id": "yFX4S4t8eKd-"
   },
   "source": [
    "Before moving on to EDA, I would like to do some Preliminary Data Analysis"
   ]
  },
  {
   "cell_type": "markdown",
   "id": "_spHFe64eyzE",
   "metadata": {
    "id": "_spHFe64eyzE"
   },
   "source": [
    "First is to see the unique values we have in the data (categorical data)"
   ]
  },
  {
   "cell_type": "code",
   "execution_count": 17,
   "id": "69183e4a",
   "metadata": {
    "id": "69183e4a"
   },
   "outputs": [],
   "source": [
    "def unique_values(df):\n",
    "    print(\"unique values\\n\")\n",
    "    for col in df.columns:\n",
    "        if df[col].dtypes=='object':\n",
    "            if len(df[col].unique())>5:\n",
    "                print('{:>15s} \\t more than 5 unique'.format(col))\n",
    "            else:\n",
    "                print('{:>15s} \\t {}'.format(col,df[col].unique()))"
   ]
  },
  {
   "cell_type": "code",
   "execution_count": 18,
   "id": "f7a092dd",
   "metadata": {
    "colab": {
     "base_uri": "https://localhost:8080/"
    },
    "id": "f7a092dd",
    "outputId": "78d99b31-4f7b-4747-850a-fbc40ff7edc8"
   },
   "outputs": [
    {
     "name": "stdout",
     "output_type": "stream",
     "text": [
      "unique values\n",
      "\n",
      "     customerID \t more than 5 unique\n",
      "         gender \t ['Female' 'Male']\n",
      "        Partner \t ['Yes' 'No']\n",
      "     Dependents \t ['No' 'Yes']\n",
      "   PhoneService \t ['No' 'Yes']\n",
      "  MultipleLines \t ['No phone service' 'No' 'Yes']\n",
      "InternetService \t ['DSL' 'Fiber optic' 'No']\n",
      " OnlineSecurity \t ['No' 'Yes' 'No internet service']\n",
      "   OnlineBackup \t ['Yes' 'No' 'No internet service']\n",
      "DeviceProtection \t ['No' 'Yes' 'No internet service']\n",
      "    TechSupport \t ['No' 'Yes' 'No internet service']\n",
      "    StreamingTV \t ['No' 'Yes' 'No internet service']\n",
      "StreamingMovies \t ['No' 'Yes' 'No internet service']\n",
      "       Contract \t ['Month-to-month' 'One year' 'Two year']\n",
      "PaperlessBilling \t ['Yes' 'No']\n",
      "  PaymentMethod \t ['Electronic check' 'Mailed check' 'Bank transfer (automatic)'\n",
      " 'Credit card (automatic)']\n",
      "          Churn \t ['No' 'Yes']\n"
     ]
    }
   ],
   "source": [
    "unique_values(data1)"
   ]
  },
  {
   "cell_type": "markdown",
   "id": "9vsb26gde2u-",
   "metadata": {
    "id": "9vsb26gde2u-"
   },
   "source": [
    "And to check duplicate records:"
   ]
  },
  {
   "cell_type": "code",
   "execution_count": 19,
   "id": "761573b3",
   "metadata": {
    "colab": {
     "base_uri": "https://localhost:8080/"
    },
    "id": "761573b3",
    "outputId": "9f8be4e0-b501-4857-e66c-6b6b86154d48"
   },
   "outputs": [
    {
     "name": "stdout",
     "output_type": "stream",
     "text": [
      "Duplicate Records in Dataset : 0\n"
     ]
    }
   ],
   "source": [
    "print(\"Duplicate Records in Dataset : {}\".format(data1.duplicated().sum()))"
   ]
  },
  {
   "cell_type": "markdown",
   "id": "65FZTDH5e4zT",
   "metadata": {
    "id": "65FZTDH5e4zT"
   },
   "source": [
    "And to check whether the data is imbalanced or not"
   ]
  },
  {
   "cell_type": "code",
   "execution_count": 20,
   "id": "12deb3eb",
   "metadata": {
    "colab": {
     "base_uri": "https://localhost:8080/"
    },
    "id": "12deb3eb",
    "outputId": "90df767b-0f66-4021-d0b1-e9720113f5a4"
   },
   "outputs": [
    {
     "name": "stdout",
     "output_type": "stream",
     "text": [
      "Churn vs Not Churn 36.20%\n"
     ]
    }
   ],
   "source": [
    "Approved = len(data1[data1['Churn']=='No'])\n",
    "Rejected = len(data1[data1['Churn']=='Yes'])\n",
    "\n",
    "print(\"Churn vs Not Churn {:>3.2f}%\".format(Rejected/Approved*100))"
   ]
  },
  {
   "cell_type": "markdown",
   "id": "EU6GXT2Be7f1",
   "metadata": {
    "id": "EU6GXT2Be7f1"
   },
   "source": [
    "Here we can conclude: \n",
    "1. The Data has no duplicate records\n",
    "2. The Data is highly imbalanced, thus we need to use an oversampling when we are doing the data training."
   ]
  },
  {
   "cell_type": "markdown",
   "id": "12f244f6",
   "metadata": {
    "id": "12f244f6"
   },
   "source": [
    "## Exploratory Data Analysis"
   ]
  },
  {
   "cell_type": "markdown",
   "id": "edazZSO_mNNy",
   "metadata": {
    "id": "edazZSO_mNNy"
   },
   "source": [
    "Then, we are going to do some Exploratory Data Analysis.\n",
    "\n",
    "Firstly, we are going to import some additional libraries (I'm going to use some from plotly here)"
   ]
  },
  {
   "cell_type": "code",
   "execution_count": 21,
   "id": "fe59eeac",
   "metadata": {
    "id": "fe59eeac"
   },
   "outputs": [],
   "source": [
    "import matplotlib.pyplot as plt\n",
    "import seaborn as sns\n",
    "import plotly.express as px\n",
    "import plotly.graph_objects as go\n",
    "from plotly.subplots import make_subplots\n",
    "import plotly.figure_factory as ff"
   ]
  },
  {
   "cell_type": "markdown",
   "id": "1i0-Ilz3mUxZ",
   "metadata": {
    "id": "1i0-Ilz3mUxZ"
   },
   "source": [
    "Then, I'm going to make a copy from the original data just for the EDA sake, since I will add one more column called as 'Count'."
   ]
  },
  {
   "cell_type": "markdown",
   "id": "B8F0zMPFmdwe",
   "metadata": {
    "id": "B8F0zMPFmdwe"
   },
   "source": [
    "This 'Count' column is going to be used to simplify the EDA plotting of some features. But, the Count column could not be added further into this data's preprocessing (Handling Missing Values & Outliers, and Scaling & Encoding) since it will affect the prediction.\n",
    "\n",
    "In order to be cautious, I will make a copy dedicated **only for EDA** and add the Count column there. So the original data won't be affected."
   ]
  },
  {
   "cell_type": "code",
   "execution_count": 22,
   "id": "ca566423",
   "metadata": {
    "id": "ca566423"
   },
   "outputs": [],
   "source": [
    "eda = data1.copy()\n",
    "eda['count'] = 1"
   ]
  },
  {
   "cell_type": "code",
   "execution_count": 23,
   "id": "94d73fe6",
   "metadata": {
    "colab": {
     "base_uri": "https://localhost:8080/",
     "height": 357
    },
    "id": "94d73fe6",
    "outputId": "c6ce81e1-9f00-443b-f2b3-142a063229e5",
    "scrolled": true
   },
   "outputs": [
    {
     "data": {
      "text/html": [
       "<div>\n",
       "<style scoped>\n",
       "    .dataframe tbody tr th:only-of-type {\n",
       "        vertical-align: middle;\n",
       "    }\n",
       "\n",
       "    .dataframe tbody tr th {\n",
       "        vertical-align: top;\n",
       "    }\n",
       "\n",
       "    .dataframe thead th {\n",
       "        text-align: right;\n",
       "    }\n",
       "</style>\n",
       "<table border=\"1\" class=\"dataframe\">\n",
       "  <thead>\n",
       "    <tr style=\"text-align: right;\">\n",
       "      <th></th>\n",
       "      <th>customerID</th>\n",
       "      <th>gender</th>\n",
       "      <th>SeniorCitizen</th>\n",
       "      <th>Partner</th>\n",
       "      <th>Dependents</th>\n",
       "      <th>tenure</th>\n",
       "      <th>PhoneService</th>\n",
       "      <th>MultipleLines</th>\n",
       "      <th>InternetService</th>\n",
       "      <th>OnlineSecurity</th>\n",
       "      <th>OnlineBackup</th>\n",
       "      <th>DeviceProtection</th>\n",
       "      <th>TechSupport</th>\n",
       "      <th>StreamingTV</th>\n",
       "      <th>StreamingMovies</th>\n",
       "      <th>Contract</th>\n",
       "      <th>PaperlessBilling</th>\n",
       "      <th>PaymentMethod</th>\n",
       "      <th>MonthlyCharges</th>\n",
       "      <th>TotalCharges</th>\n",
       "      <th>Churn</th>\n",
       "      <th>count</th>\n",
       "    </tr>\n",
       "  </thead>\n",
       "  <tbody>\n",
       "    <tr>\n",
       "      <th>0</th>\n",
       "      <td>7590-VHVEG</td>\n",
       "      <td>Female</td>\n",
       "      <td>0</td>\n",
       "      <td>Yes</td>\n",
       "      <td>No</td>\n",
       "      <td>1</td>\n",
       "      <td>No</td>\n",
       "      <td>No phone service</td>\n",
       "      <td>DSL</td>\n",
       "      <td>No</td>\n",
       "      <td>Yes</td>\n",
       "      <td>No</td>\n",
       "      <td>No</td>\n",
       "      <td>No</td>\n",
       "      <td>No</td>\n",
       "      <td>Month-to-month</td>\n",
       "      <td>Yes</td>\n",
       "      <td>Electronic check</td>\n",
       "      <td>29.85</td>\n",
       "      <td>29.85</td>\n",
       "      <td>No</td>\n",
       "      <td>1</td>\n",
       "    </tr>\n",
       "    <tr>\n",
       "      <th>1</th>\n",
       "      <td>5575-GNVDE</td>\n",
       "      <td>Male</td>\n",
       "      <td>0</td>\n",
       "      <td>No</td>\n",
       "      <td>No</td>\n",
       "      <td>34</td>\n",
       "      <td>Yes</td>\n",
       "      <td>No</td>\n",
       "      <td>DSL</td>\n",
       "      <td>Yes</td>\n",
       "      <td>No</td>\n",
       "      <td>Yes</td>\n",
       "      <td>No</td>\n",
       "      <td>No</td>\n",
       "      <td>No</td>\n",
       "      <td>One year</td>\n",
       "      <td>No</td>\n",
       "      <td>Mailed check</td>\n",
       "      <td>56.95</td>\n",
       "      <td>1889.50</td>\n",
       "      <td>No</td>\n",
       "      <td>1</td>\n",
       "    </tr>\n",
       "    <tr>\n",
       "      <th>2</th>\n",
       "      <td>3668-QPYBK</td>\n",
       "      <td>Male</td>\n",
       "      <td>0</td>\n",
       "      <td>No</td>\n",
       "      <td>No</td>\n",
       "      <td>2</td>\n",
       "      <td>Yes</td>\n",
       "      <td>No</td>\n",
       "      <td>DSL</td>\n",
       "      <td>Yes</td>\n",
       "      <td>Yes</td>\n",
       "      <td>No</td>\n",
       "      <td>No</td>\n",
       "      <td>No</td>\n",
       "      <td>No</td>\n",
       "      <td>Month-to-month</td>\n",
       "      <td>Yes</td>\n",
       "      <td>Mailed check</td>\n",
       "      <td>53.85</td>\n",
       "      <td>108.15</td>\n",
       "      <td>Yes</td>\n",
       "      <td>1</td>\n",
       "    </tr>\n",
       "    <tr>\n",
       "      <th>3</th>\n",
       "      <td>7795-CFOCW</td>\n",
       "      <td>Male</td>\n",
       "      <td>0</td>\n",
       "      <td>No</td>\n",
       "      <td>No</td>\n",
       "      <td>45</td>\n",
       "      <td>No</td>\n",
       "      <td>No phone service</td>\n",
       "      <td>DSL</td>\n",
       "      <td>Yes</td>\n",
       "      <td>No</td>\n",
       "      <td>Yes</td>\n",
       "      <td>Yes</td>\n",
       "      <td>No</td>\n",
       "      <td>No</td>\n",
       "      <td>One year</td>\n",
       "      <td>No</td>\n",
       "      <td>Bank transfer (automatic)</td>\n",
       "      <td>42.30</td>\n",
       "      <td>1840.75</td>\n",
       "      <td>No</td>\n",
       "      <td>1</td>\n",
       "    </tr>\n",
       "    <tr>\n",
       "      <th>4</th>\n",
       "      <td>9237-HQITU</td>\n",
       "      <td>Female</td>\n",
       "      <td>0</td>\n",
       "      <td>No</td>\n",
       "      <td>No</td>\n",
       "      <td>2</td>\n",
       "      <td>Yes</td>\n",
       "      <td>No</td>\n",
       "      <td>Fiber optic</td>\n",
       "      <td>No</td>\n",
       "      <td>No</td>\n",
       "      <td>No</td>\n",
       "      <td>No</td>\n",
       "      <td>No</td>\n",
       "      <td>No</td>\n",
       "      <td>Month-to-month</td>\n",
       "      <td>Yes</td>\n",
       "      <td>Electronic check</td>\n",
       "      <td>70.70</td>\n",
       "      <td>151.65</td>\n",
       "      <td>Yes</td>\n",
       "      <td>1</td>\n",
       "    </tr>\n",
       "  </tbody>\n",
       "</table>\n",
       "</div>"
      ],
      "text/plain": [
       "   customerID  gender  SeniorCitizen Partner Dependents  tenure PhoneService  \\\n",
       "0  7590-VHVEG  Female              0     Yes         No       1           No   \n",
       "1  5575-GNVDE    Male              0      No         No      34          Yes   \n",
       "2  3668-QPYBK    Male              0      No         No       2          Yes   \n",
       "3  7795-CFOCW    Male              0      No         No      45           No   \n",
       "4  9237-HQITU  Female              0      No         No       2          Yes   \n",
       "\n",
       "      MultipleLines InternetService OnlineSecurity OnlineBackup  \\\n",
       "0  No phone service             DSL             No          Yes   \n",
       "1                No             DSL            Yes           No   \n",
       "2                No             DSL            Yes          Yes   \n",
       "3  No phone service             DSL            Yes           No   \n",
       "4                No     Fiber optic             No           No   \n",
       "\n",
       "  DeviceProtection TechSupport StreamingTV StreamingMovies        Contract  \\\n",
       "0               No          No          No              No  Month-to-month   \n",
       "1              Yes          No          No              No        One year   \n",
       "2               No          No          No              No  Month-to-month   \n",
       "3              Yes         Yes          No              No        One year   \n",
       "4               No          No          No              No  Month-to-month   \n",
       "\n",
       "  PaperlessBilling              PaymentMethod  MonthlyCharges  TotalCharges  \\\n",
       "0              Yes           Electronic check           29.85         29.85   \n",
       "1               No               Mailed check           56.95       1889.50   \n",
       "2              Yes               Mailed check           53.85        108.15   \n",
       "3               No  Bank transfer (automatic)           42.30       1840.75   \n",
       "4              Yes           Electronic check           70.70        151.65   \n",
       "\n",
       "  Churn  count  \n",
       "0    No      1  \n",
       "1    No      1  \n",
       "2   Yes      1  \n",
       "3    No      1  \n",
       "4   Yes      1  "
      ]
     },
     "execution_count": 23,
     "metadata": {},
     "output_type": "execute_result"
    }
   ],
   "source": [
    "eda.head()"
   ]
  },
  {
   "cell_type": "markdown",
   "id": "PT2pByD2m7e4",
   "metadata": {
    "id": "PT2pByD2m7e4"
   },
   "source": [
    "Below I'm going to define the color sequence I'm using for the EDA (this is optional and just for the sake of simplicity) and since I'm using the exact same plot type for all EDA, I'm defining the function for the plot used:"
   ]
  },
  {
   "cell_type": "code",
   "execution_count": 24,
   "id": "39426e4d",
   "metadata": {
    "id": "39426e4d"
   },
   "outputs": [],
   "source": [
    "color_discrete_sequence=['#d11141','#00b159','#00aedb','#f37735','#ffc425']"
   ]
  },
  {
   "cell_type": "code",
   "execution_count": 25,
   "id": "fd7c626c",
   "metadata": {
    "id": "fd7c626c"
   },
   "outputs": [],
   "source": [
    "def plot_sunburst(col):\n",
    "    fig = px.sunburst(eda, path=[col, 'Churn'], values = 'count', names=col, color_discrete_sequence=color_discrete_sequence)\n",
    "    fig.update_layout(height = 500, width = 500, title_text= f'<b style=\"color:#7b8b6f;\">Percent of Churn by {col}</b>')\n",
    "    fig.update_traces(textinfo=\"label+percent parent\", textfont_size = 16)\n",
    "    \n",
    "    return fig.show()"
   ]
  },
  {
   "cell_type": "markdown",
   "id": "8IZv0WqAnGq9",
   "metadata": {
    "id": "8IZv0WqAnGq9"
   },
   "source": [
    "### Churn Percentage"
   ]
  },
  {
   "cell_type": "markdown",
   "id": "4_MtVMDAnInt",
   "metadata": {
    "id": "4_MtVMDAnInt"
   },
   "source": [
    "Below is the plotting of the Churn vs Not Churn Percentage of this data. As we could see and true to our previous suspicion in the Preliminary Data Analysis, this dataset does have an imbalance count for the Churn and not Churn."
   ]
  },
  {
   "cell_type": "code",
   "execution_count": 26,
   "id": "833b9c6d",
   "metadata": {
    "colab": {
     "base_uri": "https://localhost:8080/",
     "height": 517
    },
    "id": "833b9c6d",
    "outputId": "55f9e260-8eb0-497f-ed5a-30d25afbd5fd"
   },
   "outputs": [
    {
     "data": {
      "application/vnd.plotly.v1+json": {
       "config": {
        "plotlyServerURL": "https://plot.ly"
       },
       "data": [
        {
         "hole": 0.4,
         "hoverinfo": "label+percent",
         "labels": [
          "No",
          "Yes"
         ],
         "marker": {
          "colors": [
           "#d11141",
           "#00b159",
           "#00aedb",
           "#f37735",
           "#ffc425"
          ]
         },
         "name": "Churn",
         "textfont": {
          "size": 16
         },
         "type": "pie",
         "values": [
          5163,
          1869
         ]
        }
       ],
       "layout": {
        "height": 500,
        "template": {
         "data": {
          "bar": [
           {
            "error_x": {
             "color": "#2a3f5f"
            },
            "error_y": {
             "color": "#2a3f5f"
            },
            "marker": {
             "line": {
              "color": "#E5ECF6",
              "width": 0.5
             },
             "pattern": {
              "fillmode": "overlay",
              "size": 10,
              "solidity": 0.2
             }
            },
            "type": "bar"
           }
          ],
          "barpolar": [
           {
            "marker": {
             "line": {
              "color": "#E5ECF6",
              "width": 0.5
             },
             "pattern": {
              "fillmode": "overlay",
              "size": 10,
              "solidity": 0.2
             }
            },
            "type": "barpolar"
           }
          ],
          "carpet": [
           {
            "aaxis": {
             "endlinecolor": "#2a3f5f",
             "gridcolor": "white",
             "linecolor": "white",
             "minorgridcolor": "white",
             "startlinecolor": "#2a3f5f"
            },
            "baxis": {
             "endlinecolor": "#2a3f5f",
             "gridcolor": "white",
             "linecolor": "white",
             "minorgridcolor": "white",
             "startlinecolor": "#2a3f5f"
            },
            "type": "carpet"
           }
          ],
          "choropleth": [
           {
            "colorbar": {
             "outlinewidth": 0,
             "ticks": ""
            },
            "type": "choropleth"
           }
          ],
          "contour": [
           {
            "colorbar": {
             "outlinewidth": 0,
             "ticks": ""
            },
            "colorscale": [
             [
              0,
              "#0d0887"
             ],
             [
              0.1111111111111111,
              "#46039f"
             ],
             [
              0.2222222222222222,
              "#7201a8"
             ],
             [
              0.3333333333333333,
              "#9c179e"
             ],
             [
              0.4444444444444444,
              "#bd3786"
             ],
             [
              0.5555555555555556,
              "#d8576b"
             ],
             [
              0.6666666666666666,
              "#ed7953"
             ],
             [
              0.7777777777777778,
              "#fb9f3a"
             ],
             [
              0.8888888888888888,
              "#fdca26"
             ],
             [
              1,
              "#f0f921"
             ]
            ],
            "type": "contour"
           }
          ],
          "contourcarpet": [
           {
            "colorbar": {
             "outlinewidth": 0,
             "ticks": ""
            },
            "type": "contourcarpet"
           }
          ],
          "heatmap": [
           {
            "colorbar": {
             "outlinewidth": 0,
             "ticks": ""
            },
            "colorscale": [
             [
              0,
              "#0d0887"
             ],
             [
              0.1111111111111111,
              "#46039f"
             ],
             [
              0.2222222222222222,
              "#7201a8"
             ],
             [
              0.3333333333333333,
              "#9c179e"
             ],
             [
              0.4444444444444444,
              "#bd3786"
             ],
             [
              0.5555555555555556,
              "#d8576b"
             ],
             [
              0.6666666666666666,
              "#ed7953"
             ],
             [
              0.7777777777777778,
              "#fb9f3a"
             ],
             [
              0.8888888888888888,
              "#fdca26"
             ],
             [
              1,
              "#f0f921"
             ]
            ],
            "type": "heatmap"
           }
          ],
          "heatmapgl": [
           {
            "colorbar": {
             "outlinewidth": 0,
             "ticks": ""
            },
            "colorscale": [
             [
              0,
              "#0d0887"
             ],
             [
              0.1111111111111111,
              "#46039f"
             ],
             [
              0.2222222222222222,
              "#7201a8"
             ],
             [
              0.3333333333333333,
              "#9c179e"
             ],
             [
              0.4444444444444444,
              "#bd3786"
             ],
             [
              0.5555555555555556,
              "#d8576b"
             ],
             [
              0.6666666666666666,
              "#ed7953"
             ],
             [
              0.7777777777777778,
              "#fb9f3a"
             ],
             [
              0.8888888888888888,
              "#fdca26"
             ],
             [
              1,
              "#f0f921"
             ]
            ],
            "type": "heatmapgl"
           }
          ],
          "histogram": [
           {
            "marker": {
             "pattern": {
              "fillmode": "overlay",
              "size": 10,
              "solidity": 0.2
             }
            },
            "type": "histogram"
           }
          ],
          "histogram2d": [
           {
            "colorbar": {
             "outlinewidth": 0,
             "ticks": ""
            },
            "colorscale": [
             [
              0,
              "#0d0887"
             ],
             [
              0.1111111111111111,
              "#46039f"
             ],
             [
              0.2222222222222222,
              "#7201a8"
             ],
             [
              0.3333333333333333,
              "#9c179e"
             ],
             [
              0.4444444444444444,
              "#bd3786"
             ],
             [
              0.5555555555555556,
              "#d8576b"
             ],
             [
              0.6666666666666666,
              "#ed7953"
             ],
             [
              0.7777777777777778,
              "#fb9f3a"
             ],
             [
              0.8888888888888888,
              "#fdca26"
             ],
             [
              1,
              "#f0f921"
             ]
            ],
            "type": "histogram2d"
           }
          ],
          "histogram2dcontour": [
           {
            "colorbar": {
             "outlinewidth": 0,
             "ticks": ""
            },
            "colorscale": [
             [
              0,
              "#0d0887"
             ],
             [
              0.1111111111111111,
              "#46039f"
             ],
             [
              0.2222222222222222,
              "#7201a8"
             ],
             [
              0.3333333333333333,
              "#9c179e"
             ],
             [
              0.4444444444444444,
              "#bd3786"
             ],
             [
              0.5555555555555556,
              "#d8576b"
             ],
             [
              0.6666666666666666,
              "#ed7953"
             ],
             [
              0.7777777777777778,
              "#fb9f3a"
             ],
             [
              0.8888888888888888,
              "#fdca26"
             ],
             [
              1,
              "#f0f921"
             ]
            ],
            "type": "histogram2dcontour"
           }
          ],
          "mesh3d": [
           {
            "colorbar": {
             "outlinewidth": 0,
             "ticks": ""
            },
            "type": "mesh3d"
           }
          ],
          "parcoords": [
           {
            "line": {
             "colorbar": {
              "outlinewidth": 0,
              "ticks": ""
             }
            },
            "type": "parcoords"
           }
          ],
          "pie": [
           {
            "automargin": true,
            "type": "pie"
           }
          ],
          "scatter": [
           {
            "marker": {
             "colorbar": {
              "outlinewidth": 0,
              "ticks": ""
             }
            },
            "type": "scatter"
           }
          ],
          "scatter3d": [
           {
            "line": {
             "colorbar": {
              "outlinewidth": 0,
              "ticks": ""
             }
            },
            "marker": {
             "colorbar": {
              "outlinewidth": 0,
              "ticks": ""
             }
            },
            "type": "scatter3d"
           }
          ],
          "scattercarpet": [
           {
            "marker": {
             "colorbar": {
              "outlinewidth": 0,
              "ticks": ""
             }
            },
            "type": "scattercarpet"
           }
          ],
          "scattergeo": [
           {
            "marker": {
             "colorbar": {
              "outlinewidth": 0,
              "ticks": ""
             }
            },
            "type": "scattergeo"
           }
          ],
          "scattergl": [
           {
            "marker": {
             "colorbar": {
              "outlinewidth": 0,
              "ticks": ""
             }
            },
            "type": "scattergl"
           }
          ],
          "scattermapbox": [
           {
            "marker": {
             "colorbar": {
              "outlinewidth": 0,
              "ticks": ""
             }
            },
            "type": "scattermapbox"
           }
          ],
          "scatterpolar": [
           {
            "marker": {
             "colorbar": {
              "outlinewidth": 0,
              "ticks": ""
             }
            },
            "type": "scatterpolar"
           }
          ],
          "scatterpolargl": [
           {
            "marker": {
             "colorbar": {
              "outlinewidth": 0,
              "ticks": ""
             }
            },
            "type": "scatterpolargl"
           }
          ],
          "scatterternary": [
           {
            "marker": {
             "colorbar": {
              "outlinewidth": 0,
              "ticks": ""
             }
            },
            "type": "scatterternary"
           }
          ],
          "surface": [
           {
            "colorbar": {
             "outlinewidth": 0,
             "ticks": ""
            },
            "colorscale": [
             [
              0,
              "#0d0887"
             ],
             [
              0.1111111111111111,
              "#46039f"
             ],
             [
              0.2222222222222222,
              "#7201a8"
             ],
             [
              0.3333333333333333,
              "#9c179e"
             ],
             [
              0.4444444444444444,
              "#bd3786"
             ],
             [
              0.5555555555555556,
              "#d8576b"
             ],
             [
              0.6666666666666666,
              "#ed7953"
             ],
             [
              0.7777777777777778,
              "#fb9f3a"
             ],
             [
              0.8888888888888888,
              "#fdca26"
             ],
             [
              1,
              "#f0f921"
             ]
            ],
            "type": "surface"
           }
          ],
          "table": [
           {
            "cells": {
             "fill": {
              "color": "#EBF0F8"
             },
             "line": {
              "color": "white"
             }
            },
            "header": {
             "fill": {
              "color": "#C8D4E3"
             },
             "line": {
              "color": "white"
             }
            },
            "type": "table"
           }
          ]
         },
         "layout": {
          "annotationdefaults": {
           "arrowcolor": "#2a3f5f",
           "arrowhead": 0,
           "arrowwidth": 1
          },
          "autotypenumbers": "strict",
          "coloraxis": {
           "colorbar": {
            "outlinewidth": 0,
            "ticks": ""
           }
          },
          "colorscale": {
           "diverging": [
            [
             0,
             "#8e0152"
            ],
            [
             0.1,
             "#c51b7d"
            ],
            [
             0.2,
             "#de77ae"
            ],
            [
             0.3,
             "#f1b6da"
            ],
            [
             0.4,
             "#fde0ef"
            ],
            [
             0.5,
             "#f7f7f7"
            ],
            [
             0.6,
             "#e6f5d0"
            ],
            [
             0.7,
             "#b8e186"
            ],
            [
             0.8,
             "#7fbc41"
            ],
            [
             0.9,
             "#4d9221"
            ],
            [
             1,
             "#276419"
            ]
           ],
           "sequential": [
            [
             0,
             "#0d0887"
            ],
            [
             0.1111111111111111,
             "#46039f"
            ],
            [
             0.2222222222222222,
             "#7201a8"
            ],
            [
             0.3333333333333333,
             "#9c179e"
            ],
            [
             0.4444444444444444,
             "#bd3786"
            ],
            [
             0.5555555555555556,
             "#d8576b"
            ],
            [
             0.6666666666666666,
             "#ed7953"
            ],
            [
             0.7777777777777778,
             "#fb9f3a"
            ],
            [
             0.8888888888888888,
             "#fdca26"
            ],
            [
             1,
             "#f0f921"
            ]
           ],
           "sequentialminus": [
            [
             0,
             "#0d0887"
            ],
            [
             0.1111111111111111,
             "#46039f"
            ],
            [
             0.2222222222222222,
             "#7201a8"
            ],
            [
             0.3333333333333333,
             "#9c179e"
            ],
            [
             0.4444444444444444,
             "#bd3786"
            ],
            [
             0.5555555555555556,
             "#d8576b"
            ],
            [
             0.6666666666666666,
             "#ed7953"
            ],
            [
             0.7777777777777778,
             "#fb9f3a"
            ],
            [
             0.8888888888888888,
             "#fdca26"
            ],
            [
             1,
             "#f0f921"
            ]
           ]
          },
          "colorway": [
           "#636efa",
           "#EF553B",
           "#00cc96",
           "#ab63fa",
           "#FFA15A",
           "#19d3f3",
           "#FF6692",
           "#B6E880",
           "#FF97FF",
           "#FECB52"
          ],
          "font": {
           "color": "#2a3f5f"
          },
          "geo": {
           "bgcolor": "white",
           "lakecolor": "white",
           "landcolor": "#E5ECF6",
           "showlakes": true,
           "showland": true,
           "subunitcolor": "white"
          },
          "hoverlabel": {
           "align": "left"
          },
          "hovermode": "closest",
          "mapbox": {
           "style": "light"
          },
          "paper_bgcolor": "white",
          "plot_bgcolor": "#E5ECF6",
          "polar": {
           "angularaxis": {
            "gridcolor": "white",
            "linecolor": "white",
            "ticks": ""
           },
           "bgcolor": "#E5ECF6",
           "radialaxis": {
            "gridcolor": "white",
            "linecolor": "white",
            "ticks": ""
           }
          },
          "scene": {
           "xaxis": {
            "backgroundcolor": "#E5ECF6",
            "gridcolor": "white",
            "gridwidth": 2,
            "linecolor": "white",
            "showbackground": true,
            "ticks": "",
            "zerolinecolor": "white"
           },
           "yaxis": {
            "backgroundcolor": "#E5ECF6",
            "gridcolor": "white",
            "gridwidth": 2,
            "linecolor": "white",
            "showbackground": true,
            "ticks": "",
            "zerolinecolor": "white"
           },
           "zaxis": {
            "backgroundcolor": "#E5ECF6",
            "gridcolor": "white",
            "gridwidth": 2,
            "linecolor": "white",
            "showbackground": true,
            "ticks": "",
            "zerolinecolor": "white"
           }
          },
          "shapedefaults": {
           "line": {
            "color": "#2a3f5f"
           }
          },
          "ternary": {
           "aaxis": {
            "gridcolor": "white",
            "linecolor": "white",
            "ticks": ""
           },
           "baxis": {
            "gridcolor": "white",
            "linecolor": "white",
            "ticks": ""
           },
           "bgcolor": "#E5ECF6",
           "caxis": {
            "gridcolor": "white",
            "linecolor": "white",
            "ticks": ""
           }
          },
          "title": {
           "x": 0.05
          },
          "xaxis": {
           "automargin": true,
           "gridcolor": "white",
           "linecolor": "white",
           "ticks": "",
           "title": {
            "standoff": 15
           },
           "zerolinecolor": "white",
           "zerolinewidth": 2
          },
          "yaxis": {
           "automargin": true,
           "gridcolor": "white",
           "linecolor": "white",
           "ticks": "",
           "title": {
            "standoff": 15
           },
           "zerolinecolor": "white",
           "zerolinewidth": 2
          }
         }
        },
        "title": {
         "text": "<b style=\"color:#7b8b6f;\">Percent of Churn</b>"
        },
        "width": 500
       }
      }
     },
     "metadata": {},
     "output_type": "display_data"
    }
   ],
   "source": [
    "fig = go.Figure(go.Pie(labels=['No','Yes'],values=eda.Churn.value_counts(),name='Churn'))\n",
    "fig.update_traces(hole=.4, hoverinfo=\"label+percent\", textfont_size=16,marker={'colors':color_discrete_sequence})\n",
    "fig.update_layout(height=500, width=500, title_text='<b style=\"color:#7b8b6f;\">Percent of Churn</b>')\n",
    "fig.show()"
   ]
  },
  {
   "cell_type": "markdown",
   "id": "8YlSM_T5nR5v",
   "metadata": {
    "id": "8YlSM_T5nR5v"
   },
   "source": [
    "### Percent Churn by Gender"
   ]
  },
  {
   "cell_type": "markdown",
   "id": "ywzOQ8GgnUS-",
   "metadata": {
    "id": "ywzOQ8GgnUS-"
   },
   "source": [
    "Then we are seeing the percentage of churn by each gender. Surprisingly, the ratio of Male and Female in this dataset is nicely balanced. \n",
    "\n",
    "From this distribution we can see that Gender does not really affect the tendency to churn or not."
   ]
  },
  {
   "cell_type": "code",
   "execution_count": 27,
   "id": "17da016d",
   "metadata": {
    "colab": {
     "base_uri": "https://localhost:8080/",
     "height": 517
    },
    "id": "17da016d",
    "outputId": "9a15c7d6-aae4-4b9b-8e6f-513afafd9388"
   },
   "outputs": [
    {
     "data": {
      "application/vnd.plotly.v1+json": {
       "config": {
        "plotlyServerURL": "https://plot.ly"
       },
       "data": [
        {
         "branchvalues": "total",
         "domain": {
          "x": [
           0,
           1
          ],
          "y": [
           0,
           1
          ]
         },
         "hovertemplate": "labels=%{label}<br>count=%{value}<br>parent=%{parent}<br>id=%{id}<extra></extra>",
         "ids": [
          "Female/No",
          "Male/No",
          "Female/Yes",
          "Male/Yes",
          "Female",
          "Male"
         ],
         "labels": [
          "No",
          "No",
          "Yes",
          "Yes",
          "Female",
          "Male"
         ],
         "name": "",
         "parents": [
          "Female",
          "Male",
          "Female",
          "Male",
          "",
          ""
         ],
         "textfont": {
          "size": 16
         },
         "textinfo": "label+percent parent",
         "type": "sunburst",
         "values": [
          2544,
          2619,
          939,
          930,
          3483,
          3549
         ]
        }
       ],
       "layout": {
        "height": 500,
        "legend": {
         "tracegroupgap": 0
        },
        "margin": {
         "t": 60
        },
        "sunburstcolorway": [
         "#d11141",
         "#00b159",
         "#00aedb",
         "#f37735",
         "#ffc425"
        ],
        "template": {
         "data": {
          "bar": [
           {
            "error_x": {
             "color": "#2a3f5f"
            },
            "error_y": {
             "color": "#2a3f5f"
            },
            "marker": {
             "line": {
              "color": "#E5ECF6",
              "width": 0.5
             },
             "pattern": {
              "fillmode": "overlay",
              "size": 10,
              "solidity": 0.2
             }
            },
            "type": "bar"
           }
          ],
          "barpolar": [
           {
            "marker": {
             "line": {
              "color": "#E5ECF6",
              "width": 0.5
             },
             "pattern": {
              "fillmode": "overlay",
              "size": 10,
              "solidity": 0.2
             }
            },
            "type": "barpolar"
           }
          ],
          "carpet": [
           {
            "aaxis": {
             "endlinecolor": "#2a3f5f",
             "gridcolor": "white",
             "linecolor": "white",
             "minorgridcolor": "white",
             "startlinecolor": "#2a3f5f"
            },
            "baxis": {
             "endlinecolor": "#2a3f5f",
             "gridcolor": "white",
             "linecolor": "white",
             "minorgridcolor": "white",
             "startlinecolor": "#2a3f5f"
            },
            "type": "carpet"
           }
          ],
          "choropleth": [
           {
            "colorbar": {
             "outlinewidth": 0,
             "ticks": ""
            },
            "type": "choropleth"
           }
          ],
          "contour": [
           {
            "colorbar": {
             "outlinewidth": 0,
             "ticks": ""
            },
            "colorscale": [
             [
              0,
              "#0d0887"
             ],
             [
              0.1111111111111111,
              "#46039f"
             ],
             [
              0.2222222222222222,
              "#7201a8"
             ],
             [
              0.3333333333333333,
              "#9c179e"
             ],
             [
              0.4444444444444444,
              "#bd3786"
             ],
             [
              0.5555555555555556,
              "#d8576b"
             ],
             [
              0.6666666666666666,
              "#ed7953"
             ],
             [
              0.7777777777777778,
              "#fb9f3a"
             ],
             [
              0.8888888888888888,
              "#fdca26"
             ],
             [
              1,
              "#f0f921"
             ]
            ],
            "type": "contour"
           }
          ],
          "contourcarpet": [
           {
            "colorbar": {
             "outlinewidth": 0,
             "ticks": ""
            },
            "type": "contourcarpet"
           }
          ],
          "heatmap": [
           {
            "colorbar": {
             "outlinewidth": 0,
             "ticks": ""
            },
            "colorscale": [
             [
              0,
              "#0d0887"
             ],
             [
              0.1111111111111111,
              "#46039f"
             ],
             [
              0.2222222222222222,
              "#7201a8"
             ],
             [
              0.3333333333333333,
              "#9c179e"
             ],
             [
              0.4444444444444444,
              "#bd3786"
             ],
             [
              0.5555555555555556,
              "#d8576b"
             ],
             [
              0.6666666666666666,
              "#ed7953"
             ],
             [
              0.7777777777777778,
              "#fb9f3a"
             ],
             [
              0.8888888888888888,
              "#fdca26"
             ],
             [
              1,
              "#f0f921"
             ]
            ],
            "type": "heatmap"
           }
          ],
          "heatmapgl": [
           {
            "colorbar": {
             "outlinewidth": 0,
             "ticks": ""
            },
            "colorscale": [
             [
              0,
              "#0d0887"
             ],
             [
              0.1111111111111111,
              "#46039f"
             ],
             [
              0.2222222222222222,
              "#7201a8"
             ],
             [
              0.3333333333333333,
              "#9c179e"
             ],
             [
              0.4444444444444444,
              "#bd3786"
             ],
             [
              0.5555555555555556,
              "#d8576b"
             ],
             [
              0.6666666666666666,
              "#ed7953"
             ],
             [
              0.7777777777777778,
              "#fb9f3a"
             ],
             [
              0.8888888888888888,
              "#fdca26"
             ],
             [
              1,
              "#f0f921"
             ]
            ],
            "type": "heatmapgl"
           }
          ],
          "histogram": [
           {
            "marker": {
             "pattern": {
              "fillmode": "overlay",
              "size": 10,
              "solidity": 0.2
             }
            },
            "type": "histogram"
           }
          ],
          "histogram2d": [
           {
            "colorbar": {
             "outlinewidth": 0,
             "ticks": ""
            },
            "colorscale": [
             [
              0,
              "#0d0887"
             ],
             [
              0.1111111111111111,
              "#46039f"
             ],
             [
              0.2222222222222222,
              "#7201a8"
             ],
             [
              0.3333333333333333,
              "#9c179e"
             ],
             [
              0.4444444444444444,
              "#bd3786"
             ],
             [
              0.5555555555555556,
              "#d8576b"
             ],
             [
              0.6666666666666666,
              "#ed7953"
             ],
             [
              0.7777777777777778,
              "#fb9f3a"
             ],
             [
              0.8888888888888888,
              "#fdca26"
             ],
             [
              1,
              "#f0f921"
             ]
            ],
            "type": "histogram2d"
           }
          ],
          "histogram2dcontour": [
           {
            "colorbar": {
             "outlinewidth": 0,
             "ticks": ""
            },
            "colorscale": [
             [
              0,
              "#0d0887"
             ],
             [
              0.1111111111111111,
              "#46039f"
             ],
             [
              0.2222222222222222,
              "#7201a8"
             ],
             [
              0.3333333333333333,
              "#9c179e"
             ],
             [
              0.4444444444444444,
              "#bd3786"
             ],
             [
              0.5555555555555556,
              "#d8576b"
             ],
             [
              0.6666666666666666,
              "#ed7953"
             ],
             [
              0.7777777777777778,
              "#fb9f3a"
             ],
             [
              0.8888888888888888,
              "#fdca26"
             ],
             [
              1,
              "#f0f921"
             ]
            ],
            "type": "histogram2dcontour"
           }
          ],
          "mesh3d": [
           {
            "colorbar": {
             "outlinewidth": 0,
             "ticks": ""
            },
            "type": "mesh3d"
           }
          ],
          "parcoords": [
           {
            "line": {
             "colorbar": {
              "outlinewidth": 0,
              "ticks": ""
             }
            },
            "type": "parcoords"
           }
          ],
          "pie": [
           {
            "automargin": true,
            "type": "pie"
           }
          ],
          "scatter": [
           {
            "marker": {
             "colorbar": {
              "outlinewidth": 0,
              "ticks": ""
             }
            },
            "type": "scatter"
           }
          ],
          "scatter3d": [
           {
            "line": {
             "colorbar": {
              "outlinewidth": 0,
              "ticks": ""
             }
            },
            "marker": {
             "colorbar": {
              "outlinewidth": 0,
              "ticks": ""
             }
            },
            "type": "scatter3d"
           }
          ],
          "scattercarpet": [
           {
            "marker": {
             "colorbar": {
              "outlinewidth": 0,
              "ticks": ""
             }
            },
            "type": "scattercarpet"
           }
          ],
          "scattergeo": [
           {
            "marker": {
             "colorbar": {
              "outlinewidth": 0,
              "ticks": ""
             }
            },
            "type": "scattergeo"
           }
          ],
          "scattergl": [
           {
            "marker": {
             "colorbar": {
              "outlinewidth": 0,
              "ticks": ""
             }
            },
            "type": "scattergl"
           }
          ],
          "scattermapbox": [
           {
            "marker": {
             "colorbar": {
              "outlinewidth": 0,
              "ticks": ""
             }
            },
            "type": "scattermapbox"
           }
          ],
          "scatterpolar": [
           {
            "marker": {
             "colorbar": {
              "outlinewidth": 0,
              "ticks": ""
             }
            },
            "type": "scatterpolar"
           }
          ],
          "scatterpolargl": [
           {
            "marker": {
             "colorbar": {
              "outlinewidth": 0,
              "ticks": ""
             }
            },
            "type": "scatterpolargl"
           }
          ],
          "scatterternary": [
           {
            "marker": {
             "colorbar": {
              "outlinewidth": 0,
              "ticks": ""
             }
            },
            "type": "scatterternary"
           }
          ],
          "surface": [
           {
            "colorbar": {
             "outlinewidth": 0,
             "ticks": ""
            },
            "colorscale": [
             [
              0,
              "#0d0887"
             ],
             [
              0.1111111111111111,
              "#46039f"
             ],
             [
              0.2222222222222222,
              "#7201a8"
             ],
             [
              0.3333333333333333,
              "#9c179e"
             ],
             [
              0.4444444444444444,
              "#bd3786"
             ],
             [
              0.5555555555555556,
              "#d8576b"
             ],
             [
              0.6666666666666666,
              "#ed7953"
             ],
             [
              0.7777777777777778,
              "#fb9f3a"
             ],
             [
              0.8888888888888888,
              "#fdca26"
             ],
             [
              1,
              "#f0f921"
             ]
            ],
            "type": "surface"
           }
          ],
          "table": [
           {
            "cells": {
             "fill": {
              "color": "#EBF0F8"
             },
             "line": {
              "color": "white"
             }
            },
            "header": {
             "fill": {
              "color": "#C8D4E3"
             },
             "line": {
              "color": "white"
             }
            },
            "type": "table"
           }
          ]
         },
         "layout": {
          "annotationdefaults": {
           "arrowcolor": "#2a3f5f",
           "arrowhead": 0,
           "arrowwidth": 1
          },
          "autotypenumbers": "strict",
          "coloraxis": {
           "colorbar": {
            "outlinewidth": 0,
            "ticks": ""
           }
          },
          "colorscale": {
           "diverging": [
            [
             0,
             "#8e0152"
            ],
            [
             0.1,
             "#c51b7d"
            ],
            [
             0.2,
             "#de77ae"
            ],
            [
             0.3,
             "#f1b6da"
            ],
            [
             0.4,
             "#fde0ef"
            ],
            [
             0.5,
             "#f7f7f7"
            ],
            [
             0.6,
             "#e6f5d0"
            ],
            [
             0.7,
             "#b8e186"
            ],
            [
             0.8,
             "#7fbc41"
            ],
            [
             0.9,
             "#4d9221"
            ],
            [
             1,
             "#276419"
            ]
           ],
           "sequential": [
            [
             0,
             "#0d0887"
            ],
            [
             0.1111111111111111,
             "#46039f"
            ],
            [
             0.2222222222222222,
             "#7201a8"
            ],
            [
             0.3333333333333333,
             "#9c179e"
            ],
            [
             0.4444444444444444,
             "#bd3786"
            ],
            [
             0.5555555555555556,
             "#d8576b"
            ],
            [
             0.6666666666666666,
             "#ed7953"
            ],
            [
             0.7777777777777778,
             "#fb9f3a"
            ],
            [
             0.8888888888888888,
             "#fdca26"
            ],
            [
             1,
             "#f0f921"
            ]
           ],
           "sequentialminus": [
            [
             0,
             "#0d0887"
            ],
            [
             0.1111111111111111,
             "#46039f"
            ],
            [
             0.2222222222222222,
             "#7201a8"
            ],
            [
             0.3333333333333333,
             "#9c179e"
            ],
            [
             0.4444444444444444,
             "#bd3786"
            ],
            [
             0.5555555555555556,
             "#d8576b"
            ],
            [
             0.6666666666666666,
             "#ed7953"
            ],
            [
             0.7777777777777778,
             "#fb9f3a"
            ],
            [
             0.8888888888888888,
             "#fdca26"
            ],
            [
             1,
             "#f0f921"
            ]
           ]
          },
          "colorway": [
           "#636efa",
           "#EF553B",
           "#00cc96",
           "#ab63fa",
           "#FFA15A",
           "#19d3f3",
           "#FF6692",
           "#B6E880",
           "#FF97FF",
           "#FECB52"
          ],
          "font": {
           "color": "#2a3f5f"
          },
          "geo": {
           "bgcolor": "white",
           "lakecolor": "white",
           "landcolor": "#E5ECF6",
           "showlakes": true,
           "showland": true,
           "subunitcolor": "white"
          },
          "hoverlabel": {
           "align": "left"
          },
          "hovermode": "closest",
          "mapbox": {
           "style": "light"
          },
          "paper_bgcolor": "white",
          "plot_bgcolor": "#E5ECF6",
          "polar": {
           "angularaxis": {
            "gridcolor": "white",
            "linecolor": "white",
            "ticks": ""
           },
           "bgcolor": "#E5ECF6",
           "radialaxis": {
            "gridcolor": "white",
            "linecolor": "white",
            "ticks": ""
           }
          },
          "scene": {
           "xaxis": {
            "backgroundcolor": "#E5ECF6",
            "gridcolor": "white",
            "gridwidth": 2,
            "linecolor": "white",
            "showbackground": true,
            "ticks": "",
            "zerolinecolor": "white"
           },
           "yaxis": {
            "backgroundcolor": "#E5ECF6",
            "gridcolor": "white",
            "gridwidth": 2,
            "linecolor": "white",
            "showbackground": true,
            "ticks": "",
            "zerolinecolor": "white"
           },
           "zaxis": {
            "backgroundcolor": "#E5ECF6",
            "gridcolor": "white",
            "gridwidth": 2,
            "linecolor": "white",
            "showbackground": true,
            "ticks": "",
            "zerolinecolor": "white"
           }
          },
          "shapedefaults": {
           "line": {
            "color": "#2a3f5f"
           }
          },
          "ternary": {
           "aaxis": {
            "gridcolor": "white",
            "linecolor": "white",
            "ticks": ""
           },
           "baxis": {
            "gridcolor": "white",
            "linecolor": "white",
            "ticks": ""
           },
           "bgcolor": "#E5ECF6",
           "caxis": {
            "gridcolor": "white",
            "linecolor": "white",
            "ticks": ""
           }
          },
          "title": {
           "x": 0.05
          },
          "xaxis": {
           "automargin": true,
           "gridcolor": "white",
           "linecolor": "white",
           "ticks": "",
           "title": {
            "standoff": 15
           },
           "zerolinecolor": "white",
           "zerolinewidth": 2
          },
          "yaxis": {
           "automargin": true,
           "gridcolor": "white",
           "linecolor": "white",
           "ticks": "",
           "title": {
            "standoff": 15
           },
           "zerolinecolor": "white",
           "zerolinewidth": 2
          }
         }
        },
        "title": {
         "text": "<b style=\"color:#7b8b6f;\">Percent of Churn by gender</b>"
        },
        "width": 500
       }
      }
     },
     "metadata": {},
     "output_type": "display_data"
    }
   ],
   "source": [
    "plot_sunburst('gender')"
   ]
  },
  {
   "cell_type": "markdown",
   "id": "_FgU41EDnquY",
   "metadata": {
    "id": "_FgU41EDnquY"
   },
   "source": [
    "### Percent of Churn by Senior Citizen"
   ]
  },
  {
   "cell_type": "markdown",
   "id": "yPQ9GK_envWP",
   "metadata": {
    "id": "yPQ9GK_envWP"
   },
   "source": [
    "- **0 is Not Senior**\n",
    "- **1 is Senior**"
   ]
  },
  {
   "cell_type": "markdown",
   "id": "C9Bz9iAWn14c",
   "metadata": {
    "id": "C9Bz9iAWn14c"
   },
   "source": [
    "We can see below, in this dataset Senior Citizen is considered somewhat a minority. \n",
    "\n",
    "But from the plotting, if the customer is a senior citizen, we can see they do have a rather balance tendency to churn or not. Compared to the Non-Senior Citizen, which highly tend to be loyal (Not Churning)."
   ]
  },
  {
   "cell_type": "code",
   "execution_count": 28,
   "id": "0949e5a9",
   "metadata": {
    "colab": {
     "base_uri": "https://localhost:8080/",
     "height": 517
    },
    "id": "0949e5a9",
    "outputId": "88ff9217-1e6d-4eeb-f0b2-a452cf447f24"
   },
   "outputs": [
    {
     "data": {
      "application/vnd.plotly.v1+json": {
       "config": {
        "plotlyServerURL": "https://plot.ly"
       },
       "data": [
        {
         "branchvalues": "total",
         "domain": {
          "x": [
           0,
           1
          ],
          "y": [
           0,
           1
          ]
         },
         "hovertemplate": "labels=%{label}<br>count=%{value}<br>parent=%{parent}<br>id=%{id}<extra></extra>",
         "ids": [
          "0/No",
          "1/No",
          "0/Yes",
          "1/Yes",
          "0",
          "1"
         ],
         "labels": [
          "No",
          "No",
          "Yes",
          "Yes",
          "0",
          "1"
         ],
         "name": "",
         "parents": [
          "0",
          "1",
          "0",
          "1",
          "",
          ""
         ],
         "textfont": {
          "size": 16
         },
         "textinfo": "label+percent parent",
         "type": "sunburst",
         "values": [
          4497,
          666,
          1393,
          476,
          5890,
          1142
         ]
        }
       ],
       "layout": {
        "height": 500,
        "legend": {
         "tracegroupgap": 0
        },
        "margin": {
         "t": 60
        },
        "sunburstcolorway": [
         "#d11141",
         "#00b159",
         "#00aedb",
         "#f37735",
         "#ffc425"
        ],
        "template": {
         "data": {
          "bar": [
           {
            "error_x": {
             "color": "#2a3f5f"
            },
            "error_y": {
             "color": "#2a3f5f"
            },
            "marker": {
             "line": {
              "color": "#E5ECF6",
              "width": 0.5
             },
             "pattern": {
              "fillmode": "overlay",
              "size": 10,
              "solidity": 0.2
             }
            },
            "type": "bar"
           }
          ],
          "barpolar": [
           {
            "marker": {
             "line": {
              "color": "#E5ECF6",
              "width": 0.5
             },
             "pattern": {
              "fillmode": "overlay",
              "size": 10,
              "solidity": 0.2
             }
            },
            "type": "barpolar"
           }
          ],
          "carpet": [
           {
            "aaxis": {
             "endlinecolor": "#2a3f5f",
             "gridcolor": "white",
             "linecolor": "white",
             "minorgridcolor": "white",
             "startlinecolor": "#2a3f5f"
            },
            "baxis": {
             "endlinecolor": "#2a3f5f",
             "gridcolor": "white",
             "linecolor": "white",
             "minorgridcolor": "white",
             "startlinecolor": "#2a3f5f"
            },
            "type": "carpet"
           }
          ],
          "choropleth": [
           {
            "colorbar": {
             "outlinewidth": 0,
             "ticks": ""
            },
            "type": "choropleth"
           }
          ],
          "contour": [
           {
            "colorbar": {
             "outlinewidth": 0,
             "ticks": ""
            },
            "colorscale": [
             [
              0,
              "#0d0887"
             ],
             [
              0.1111111111111111,
              "#46039f"
             ],
             [
              0.2222222222222222,
              "#7201a8"
             ],
             [
              0.3333333333333333,
              "#9c179e"
             ],
             [
              0.4444444444444444,
              "#bd3786"
             ],
             [
              0.5555555555555556,
              "#d8576b"
             ],
             [
              0.6666666666666666,
              "#ed7953"
             ],
             [
              0.7777777777777778,
              "#fb9f3a"
             ],
             [
              0.8888888888888888,
              "#fdca26"
             ],
             [
              1,
              "#f0f921"
             ]
            ],
            "type": "contour"
           }
          ],
          "contourcarpet": [
           {
            "colorbar": {
             "outlinewidth": 0,
             "ticks": ""
            },
            "type": "contourcarpet"
           }
          ],
          "heatmap": [
           {
            "colorbar": {
             "outlinewidth": 0,
             "ticks": ""
            },
            "colorscale": [
             [
              0,
              "#0d0887"
             ],
             [
              0.1111111111111111,
              "#46039f"
             ],
             [
              0.2222222222222222,
              "#7201a8"
             ],
             [
              0.3333333333333333,
              "#9c179e"
             ],
             [
              0.4444444444444444,
              "#bd3786"
             ],
             [
              0.5555555555555556,
              "#d8576b"
             ],
             [
              0.6666666666666666,
              "#ed7953"
             ],
             [
              0.7777777777777778,
              "#fb9f3a"
             ],
             [
              0.8888888888888888,
              "#fdca26"
             ],
             [
              1,
              "#f0f921"
             ]
            ],
            "type": "heatmap"
           }
          ],
          "heatmapgl": [
           {
            "colorbar": {
             "outlinewidth": 0,
             "ticks": ""
            },
            "colorscale": [
             [
              0,
              "#0d0887"
             ],
             [
              0.1111111111111111,
              "#46039f"
             ],
             [
              0.2222222222222222,
              "#7201a8"
             ],
             [
              0.3333333333333333,
              "#9c179e"
             ],
             [
              0.4444444444444444,
              "#bd3786"
             ],
             [
              0.5555555555555556,
              "#d8576b"
             ],
             [
              0.6666666666666666,
              "#ed7953"
             ],
             [
              0.7777777777777778,
              "#fb9f3a"
             ],
             [
              0.8888888888888888,
              "#fdca26"
             ],
             [
              1,
              "#f0f921"
             ]
            ],
            "type": "heatmapgl"
           }
          ],
          "histogram": [
           {
            "marker": {
             "pattern": {
              "fillmode": "overlay",
              "size": 10,
              "solidity": 0.2
             }
            },
            "type": "histogram"
           }
          ],
          "histogram2d": [
           {
            "colorbar": {
             "outlinewidth": 0,
             "ticks": ""
            },
            "colorscale": [
             [
              0,
              "#0d0887"
             ],
             [
              0.1111111111111111,
              "#46039f"
             ],
             [
              0.2222222222222222,
              "#7201a8"
             ],
             [
              0.3333333333333333,
              "#9c179e"
             ],
             [
              0.4444444444444444,
              "#bd3786"
             ],
             [
              0.5555555555555556,
              "#d8576b"
             ],
             [
              0.6666666666666666,
              "#ed7953"
             ],
             [
              0.7777777777777778,
              "#fb9f3a"
             ],
             [
              0.8888888888888888,
              "#fdca26"
             ],
             [
              1,
              "#f0f921"
             ]
            ],
            "type": "histogram2d"
           }
          ],
          "histogram2dcontour": [
           {
            "colorbar": {
             "outlinewidth": 0,
             "ticks": ""
            },
            "colorscale": [
             [
              0,
              "#0d0887"
             ],
             [
              0.1111111111111111,
              "#46039f"
             ],
             [
              0.2222222222222222,
              "#7201a8"
             ],
             [
              0.3333333333333333,
              "#9c179e"
             ],
             [
              0.4444444444444444,
              "#bd3786"
             ],
             [
              0.5555555555555556,
              "#d8576b"
             ],
             [
              0.6666666666666666,
              "#ed7953"
             ],
             [
              0.7777777777777778,
              "#fb9f3a"
             ],
             [
              0.8888888888888888,
              "#fdca26"
             ],
             [
              1,
              "#f0f921"
             ]
            ],
            "type": "histogram2dcontour"
           }
          ],
          "mesh3d": [
           {
            "colorbar": {
             "outlinewidth": 0,
             "ticks": ""
            },
            "type": "mesh3d"
           }
          ],
          "parcoords": [
           {
            "line": {
             "colorbar": {
              "outlinewidth": 0,
              "ticks": ""
             }
            },
            "type": "parcoords"
           }
          ],
          "pie": [
           {
            "automargin": true,
            "type": "pie"
           }
          ],
          "scatter": [
           {
            "marker": {
             "colorbar": {
              "outlinewidth": 0,
              "ticks": ""
             }
            },
            "type": "scatter"
           }
          ],
          "scatter3d": [
           {
            "line": {
             "colorbar": {
              "outlinewidth": 0,
              "ticks": ""
             }
            },
            "marker": {
             "colorbar": {
              "outlinewidth": 0,
              "ticks": ""
             }
            },
            "type": "scatter3d"
           }
          ],
          "scattercarpet": [
           {
            "marker": {
             "colorbar": {
              "outlinewidth": 0,
              "ticks": ""
             }
            },
            "type": "scattercarpet"
           }
          ],
          "scattergeo": [
           {
            "marker": {
             "colorbar": {
              "outlinewidth": 0,
              "ticks": ""
             }
            },
            "type": "scattergeo"
           }
          ],
          "scattergl": [
           {
            "marker": {
             "colorbar": {
              "outlinewidth": 0,
              "ticks": ""
             }
            },
            "type": "scattergl"
           }
          ],
          "scattermapbox": [
           {
            "marker": {
             "colorbar": {
              "outlinewidth": 0,
              "ticks": ""
             }
            },
            "type": "scattermapbox"
           }
          ],
          "scatterpolar": [
           {
            "marker": {
             "colorbar": {
              "outlinewidth": 0,
              "ticks": ""
             }
            },
            "type": "scatterpolar"
           }
          ],
          "scatterpolargl": [
           {
            "marker": {
             "colorbar": {
              "outlinewidth": 0,
              "ticks": ""
             }
            },
            "type": "scatterpolargl"
           }
          ],
          "scatterternary": [
           {
            "marker": {
             "colorbar": {
              "outlinewidth": 0,
              "ticks": ""
             }
            },
            "type": "scatterternary"
           }
          ],
          "surface": [
           {
            "colorbar": {
             "outlinewidth": 0,
             "ticks": ""
            },
            "colorscale": [
             [
              0,
              "#0d0887"
             ],
             [
              0.1111111111111111,
              "#46039f"
             ],
             [
              0.2222222222222222,
              "#7201a8"
             ],
             [
              0.3333333333333333,
              "#9c179e"
             ],
             [
              0.4444444444444444,
              "#bd3786"
             ],
             [
              0.5555555555555556,
              "#d8576b"
             ],
             [
              0.6666666666666666,
              "#ed7953"
             ],
             [
              0.7777777777777778,
              "#fb9f3a"
             ],
             [
              0.8888888888888888,
              "#fdca26"
             ],
             [
              1,
              "#f0f921"
             ]
            ],
            "type": "surface"
           }
          ],
          "table": [
           {
            "cells": {
             "fill": {
              "color": "#EBF0F8"
             },
             "line": {
              "color": "white"
             }
            },
            "header": {
             "fill": {
              "color": "#C8D4E3"
             },
             "line": {
              "color": "white"
             }
            },
            "type": "table"
           }
          ]
         },
         "layout": {
          "annotationdefaults": {
           "arrowcolor": "#2a3f5f",
           "arrowhead": 0,
           "arrowwidth": 1
          },
          "autotypenumbers": "strict",
          "coloraxis": {
           "colorbar": {
            "outlinewidth": 0,
            "ticks": ""
           }
          },
          "colorscale": {
           "diverging": [
            [
             0,
             "#8e0152"
            ],
            [
             0.1,
             "#c51b7d"
            ],
            [
             0.2,
             "#de77ae"
            ],
            [
             0.3,
             "#f1b6da"
            ],
            [
             0.4,
             "#fde0ef"
            ],
            [
             0.5,
             "#f7f7f7"
            ],
            [
             0.6,
             "#e6f5d0"
            ],
            [
             0.7,
             "#b8e186"
            ],
            [
             0.8,
             "#7fbc41"
            ],
            [
             0.9,
             "#4d9221"
            ],
            [
             1,
             "#276419"
            ]
           ],
           "sequential": [
            [
             0,
             "#0d0887"
            ],
            [
             0.1111111111111111,
             "#46039f"
            ],
            [
             0.2222222222222222,
             "#7201a8"
            ],
            [
             0.3333333333333333,
             "#9c179e"
            ],
            [
             0.4444444444444444,
             "#bd3786"
            ],
            [
             0.5555555555555556,
             "#d8576b"
            ],
            [
             0.6666666666666666,
             "#ed7953"
            ],
            [
             0.7777777777777778,
             "#fb9f3a"
            ],
            [
             0.8888888888888888,
             "#fdca26"
            ],
            [
             1,
             "#f0f921"
            ]
           ],
           "sequentialminus": [
            [
             0,
             "#0d0887"
            ],
            [
             0.1111111111111111,
             "#46039f"
            ],
            [
             0.2222222222222222,
             "#7201a8"
            ],
            [
             0.3333333333333333,
             "#9c179e"
            ],
            [
             0.4444444444444444,
             "#bd3786"
            ],
            [
             0.5555555555555556,
             "#d8576b"
            ],
            [
             0.6666666666666666,
             "#ed7953"
            ],
            [
             0.7777777777777778,
             "#fb9f3a"
            ],
            [
             0.8888888888888888,
             "#fdca26"
            ],
            [
             1,
             "#f0f921"
            ]
           ]
          },
          "colorway": [
           "#636efa",
           "#EF553B",
           "#00cc96",
           "#ab63fa",
           "#FFA15A",
           "#19d3f3",
           "#FF6692",
           "#B6E880",
           "#FF97FF",
           "#FECB52"
          ],
          "font": {
           "color": "#2a3f5f"
          },
          "geo": {
           "bgcolor": "white",
           "lakecolor": "white",
           "landcolor": "#E5ECF6",
           "showlakes": true,
           "showland": true,
           "subunitcolor": "white"
          },
          "hoverlabel": {
           "align": "left"
          },
          "hovermode": "closest",
          "mapbox": {
           "style": "light"
          },
          "paper_bgcolor": "white",
          "plot_bgcolor": "#E5ECF6",
          "polar": {
           "angularaxis": {
            "gridcolor": "white",
            "linecolor": "white",
            "ticks": ""
           },
           "bgcolor": "#E5ECF6",
           "radialaxis": {
            "gridcolor": "white",
            "linecolor": "white",
            "ticks": ""
           }
          },
          "scene": {
           "xaxis": {
            "backgroundcolor": "#E5ECF6",
            "gridcolor": "white",
            "gridwidth": 2,
            "linecolor": "white",
            "showbackground": true,
            "ticks": "",
            "zerolinecolor": "white"
           },
           "yaxis": {
            "backgroundcolor": "#E5ECF6",
            "gridcolor": "white",
            "gridwidth": 2,
            "linecolor": "white",
            "showbackground": true,
            "ticks": "",
            "zerolinecolor": "white"
           },
           "zaxis": {
            "backgroundcolor": "#E5ECF6",
            "gridcolor": "white",
            "gridwidth": 2,
            "linecolor": "white",
            "showbackground": true,
            "ticks": "",
            "zerolinecolor": "white"
           }
          },
          "shapedefaults": {
           "line": {
            "color": "#2a3f5f"
           }
          },
          "ternary": {
           "aaxis": {
            "gridcolor": "white",
            "linecolor": "white",
            "ticks": ""
           },
           "baxis": {
            "gridcolor": "white",
            "linecolor": "white",
            "ticks": ""
           },
           "bgcolor": "#E5ECF6",
           "caxis": {
            "gridcolor": "white",
            "linecolor": "white",
            "ticks": ""
           }
          },
          "title": {
           "x": 0.05
          },
          "xaxis": {
           "automargin": true,
           "gridcolor": "white",
           "linecolor": "white",
           "ticks": "",
           "title": {
            "standoff": 15
           },
           "zerolinecolor": "white",
           "zerolinewidth": 2
          },
          "yaxis": {
           "automargin": true,
           "gridcolor": "white",
           "linecolor": "white",
           "ticks": "",
           "title": {
            "standoff": 15
           },
           "zerolinecolor": "white",
           "zerolinewidth": 2
          }
         }
        },
        "title": {
         "text": "<b style=\"color:#7b8b6f;\">Percent of Churn by SeniorCitizen</b>"
        },
        "width": 500
       }
      }
     },
     "metadata": {},
     "output_type": "display_data"
    }
   ],
   "source": [
    "plot_sunburst('SeniorCitizen')"
   ]
  },
  {
   "cell_type": "markdown",
   "id": "zRhPlGPXoObG",
   "metadata": {
    "id": "zRhPlGPXoObG"
   },
   "source": [
    "## Percent of Churn by Partner"
   ]
  },
  {
   "cell_type": "markdown",
   "id": "lcg82kkpoU48",
   "metadata": {
    "id": "lcg82kkpoU48"
   },
   "source": [
    "Below, we can see that there is no significant difference in the tendency of churning between people who has Partner and doesn't have Partner.\n",
    "\n",
    "So we can say, Partner isn't heavily influencing the churning decision."
   ]
  },
  {
   "cell_type": "code",
   "execution_count": 29,
   "id": "a0bc624e",
   "metadata": {
    "colab": {
     "base_uri": "https://localhost:8080/",
     "height": 517
    },
    "id": "a0bc624e",
    "outputId": "bceee4ab-59d3-40e3-a4aa-ed15c6ce2dc8"
   },
   "outputs": [
    {
     "data": {
      "application/vnd.plotly.v1+json": {
       "config": {
        "plotlyServerURL": "https://plot.ly"
       },
       "data": [
        {
         "branchvalues": "total",
         "domain": {
          "x": [
           0,
           1
          ],
          "y": [
           0,
           1
          ]
         },
         "hovertemplate": "labels=%{label}<br>count=%{value}<br>parent=%{parent}<br>id=%{id}<extra></extra>",
         "ids": [
          "No/No",
          "Yes/No",
          "No/Yes",
          "Yes/Yes",
          "No",
          "Yes"
         ],
         "labels": [
          "No",
          "No",
          "Yes",
          "Yes",
          "No",
          "Yes"
         ],
         "name": "",
         "parents": [
          "No",
          "Yes",
          "No",
          "Yes",
          "",
          ""
         ],
         "textfont": {
          "size": 16
         },
         "textinfo": "label+percent parent",
         "type": "sunburst",
         "values": [
          2439,
          2724,
          1200,
          669,
          3639,
          3393
         ]
        }
       ],
       "layout": {
        "height": 500,
        "legend": {
         "tracegroupgap": 0
        },
        "margin": {
         "t": 60
        },
        "sunburstcolorway": [
         "#d11141",
         "#00b159",
         "#00aedb",
         "#f37735",
         "#ffc425"
        ],
        "template": {
         "data": {
          "bar": [
           {
            "error_x": {
             "color": "#2a3f5f"
            },
            "error_y": {
             "color": "#2a3f5f"
            },
            "marker": {
             "line": {
              "color": "#E5ECF6",
              "width": 0.5
             },
             "pattern": {
              "fillmode": "overlay",
              "size": 10,
              "solidity": 0.2
             }
            },
            "type": "bar"
           }
          ],
          "barpolar": [
           {
            "marker": {
             "line": {
              "color": "#E5ECF6",
              "width": 0.5
             },
             "pattern": {
              "fillmode": "overlay",
              "size": 10,
              "solidity": 0.2
             }
            },
            "type": "barpolar"
           }
          ],
          "carpet": [
           {
            "aaxis": {
             "endlinecolor": "#2a3f5f",
             "gridcolor": "white",
             "linecolor": "white",
             "minorgridcolor": "white",
             "startlinecolor": "#2a3f5f"
            },
            "baxis": {
             "endlinecolor": "#2a3f5f",
             "gridcolor": "white",
             "linecolor": "white",
             "minorgridcolor": "white",
             "startlinecolor": "#2a3f5f"
            },
            "type": "carpet"
           }
          ],
          "choropleth": [
           {
            "colorbar": {
             "outlinewidth": 0,
             "ticks": ""
            },
            "type": "choropleth"
           }
          ],
          "contour": [
           {
            "colorbar": {
             "outlinewidth": 0,
             "ticks": ""
            },
            "colorscale": [
             [
              0,
              "#0d0887"
             ],
             [
              0.1111111111111111,
              "#46039f"
             ],
             [
              0.2222222222222222,
              "#7201a8"
             ],
             [
              0.3333333333333333,
              "#9c179e"
             ],
             [
              0.4444444444444444,
              "#bd3786"
             ],
             [
              0.5555555555555556,
              "#d8576b"
             ],
             [
              0.6666666666666666,
              "#ed7953"
             ],
             [
              0.7777777777777778,
              "#fb9f3a"
             ],
             [
              0.8888888888888888,
              "#fdca26"
             ],
             [
              1,
              "#f0f921"
             ]
            ],
            "type": "contour"
           }
          ],
          "contourcarpet": [
           {
            "colorbar": {
             "outlinewidth": 0,
             "ticks": ""
            },
            "type": "contourcarpet"
           }
          ],
          "heatmap": [
           {
            "colorbar": {
             "outlinewidth": 0,
             "ticks": ""
            },
            "colorscale": [
             [
              0,
              "#0d0887"
             ],
             [
              0.1111111111111111,
              "#46039f"
             ],
             [
              0.2222222222222222,
              "#7201a8"
             ],
             [
              0.3333333333333333,
              "#9c179e"
             ],
             [
              0.4444444444444444,
              "#bd3786"
             ],
             [
              0.5555555555555556,
              "#d8576b"
             ],
             [
              0.6666666666666666,
              "#ed7953"
             ],
             [
              0.7777777777777778,
              "#fb9f3a"
             ],
             [
              0.8888888888888888,
              "#fdca26"
             ],
             [
              1,
              "#f0f921"
             ]
            ],
            "type": "heatmap"
           }
          ],
          "heatmapgl": [
           {
            "colorbar": {
             "outlinewidth": 0,
             "ticks": ""
            },
            "colorscale": [
             [
              0,
              "#0d0887"
             ],
             [
              0.1111111111111111,
              "#46039f"
             ],
             [
              0.2222222222222222,
              "#7201a8"
             ],
             [
              0.3333333333333333,
              "#9c179e"
             ],
             [
              0.4444444444444444,
              "#bd3786"
             ],
             [
              0.5555555555555556,
              "#d8576b"
             ],
             [
              0.6666666666666666,
              "#ed7953"
             ],
             [
              0.7777777777777778,
              "#fb9f3a"
             ],
             [
              0.8888888888888888,
              "#fdca26"
             ],
             [
              1,
              "#f0f921"
             ]
            ],
            "type": "heatmapgl"
           }
          ],
          "histogram": [
           {
            "marker": {
             "pattern": {
              "fillmode": "overlay",
              "size": 10,
              "solidity": 0.2
             }
            },
            "type": "histogram"
           }
          ],
          "histogram2d": [
           {
            "colorbar": {
             "outlinewidth": 0,
             "ticks": ""
            },
            "colorscale": [
             [
              0,
              "#0d0887"
             ],
             [
              0.1111111111111111,
              "#46039f"
             ],
             [
              0.2222222222222222,
              "#7201a8"
             ],
             [
              0.3333333333333333,
              "#9c179e"
             ],
             [
              0.4444444444444444,
              "#bd3786"
             ],
             [
              0.5555555555555556,
              "#d8576b"
             ],
             [
              0.6666666666666666,
              "#ed7953"
             ],
             [
              0.7777777777777778,
              "#fb9f3a"
             ],
             [
              0.8888888888888888,
              "#fdca26"
             ],
             [
              1,
              "#f0f921"
             ]
            ],
            "type": "histogram2d"
           }
          ],
          "histogram2dcontour": [
           {
            "colorbar": {
             "outlinewidth": 0,
             "ticks": ""
            },
            "colorscale": [
             [
              0,
              "#0d0887"
             ],
             [
              0.1111111111111111,
              "#46039f"
             ],
             [
              0.2222222222222222,
              "#7201a8"
             ],
             [
              0.3333333333333333,
              "#9c179e"
             ],
             [
              0.4444444444444444,
              "#bd3786"
             ],
             [
              0.5555555555555556,
              "#d8576b"
             ],
             [
              0.6666666666666666,
              "#ed7953"
             ],
             [
              0.7777777777777778,
              "#fb9f3a"
             ],
             [
              0.8888888888888888,
              "#fdca26"
             ],
             [
              1,
              "#f0f921"
             ]
            ],
            "type": "histogram2dcontour"
           }
          ],
          "mesh3d": [
           {
            "colorbar": {
             "outlinewidth": 0,
             "ticks": ""
            },
            "type": "mesh3d"
           }
          ],
          "parcoords": [
           {
            "line": {
             "colorbar": {
              "outlinewidth": 0,
              "ticks": ""
             }
            },
            "type": "parcoords"
           }
          ],
          "pie": [
           {
            "automargin": true,
            "type": "pie"
           }
          ],
          "scatter": [
           {
            "marker": {
             "colorbar": {
              "outlinewidth": 0,
              "ticks": ""
             }
            },
            "type": "scatter"
           }
          ],
          "scatter3d": [
           {
            "line": {
             "colorbar": {
              "outlinewidth": 0,
              "ticks": ""
             }
            },
            "marker": {
             "colorbar": {
              "outlinewidth": 0,
              "ticks": ""
             }
            },
            "type": "scatter3d"
           }
          ],
          "scattercarpet": [
           {
            "marker": {
             "colorbar": {
              "outlinewidth": 0,
              "ticks": ""
             }
            },
            "type": "scattercarpet"
           }
          ],
          "scattergeo": [
           {
            "marker": {
             "colorbar": {
              "outlinewidth": 0,
              "ticks": ""
             }
            },
            "type": "scattergeo"
           }
          ],
          "scattergl": [
           {
            "marker": {
             "colorbar": {
              "outlinewidth": 0,
              "ticks": ""
             }
            },
            "type": "scattergl"
           }
          ],
          "scattermapbox": [
           {
            "marker": {
             "colorbar": {
              "outlinewidth": 0,
              "ticks": ""
             }
            },
            "type": "scattermapbox"
           }
          ],
          "scatterpolar": [
           {
            "marker": {
             "colorbar": {
              "outlinewidth": 0,
              "ticks": ""
             }
            },
            "type": "scatterpolar"
           }
          ],
          "scatterpolargl": [
           {
            "marker": {
             "colorbar": {
              "outlinewidth": 0,
              "ticks": ""
             }
            },
            "type": "scatterpolargl"
           }
          ],
          "scatterternary": [
           {
            "marker": {
             "colorbar": {
              "outlinewidth": 0,
              "ticks": ""
             }
            },
            "type": "scatterternary"
           }
          ],
          "surface": [
           {
            "colorbar": {
             "outlinewidth": 0,
             "ticks": ""
            },
            "colorscale": [
             [
              0,
              "#0d0887"
             ],
             [
              0.1111111111111111,
              "#46039f"
             ],
             [
              0.2222222222222222,
              "#7201a8"
             ],
             [
              0.3333333333333333,
              "#9c179e"
             ],
             [
              0.4444444444444444,
              "#bd3786"
             ],
             [
              0.5555555555555556,
              "#d8576b"
             ],
             [
              0.6666666666666666,
              "#ed7953"
             ],
             [
              0.7777777777777778,
              "#fb9f3a"
             ],
             [
              0.8888888888888888,
              "#fdca26"
             ],
             [
              1,
              "#f0f921"
             ]
            ],
            "type": "surface"
           }
          ],
          "table": [
           {
            "cells": {
             "fill": {
              "color": "#EBF0F8"
             },
             "line": {
              "color": "white"
             }
            },
            "header": {
             "fill": {
              "color": "#C8D4E3"
             },
             "line": {
              "color": "white"
             }
            },
            "type": "table"
           }
          ]
         },
         "layout": {
          "annotationdefaults": {
           "arrowcolor": "#2a3f5f",
           "arrowhead": 0,
           "arrowwidth": 1
          },
          "autotypenumbers": "strict",
          "coloraxis": {
           "colorbar": {
            "outlinewidth": 0,
            "ticks": ""
           }
          },
          "colorscale": {
           "diverging": [
            [
             0,
             "#8e0152"
            ],
            [
             0.1,
             "#c51b7d"
            ],
            [
             0.2,
             "#de77ae"
            ],
            [
             0.3,
             "#f1b6da"
            ],
            [
             0.4,
             "#fde0ef"
            ],
            [
             0.5,
             "#f7f7f7"
            ],
            [
             0.6,
             "#e6f5d0"
            ],
            [
             0.7,
             "#b8e186"
            ],
            [
             0.8,
             "#7fbc41"
            ],
            [
             0.9,
             "#4d9221"
            ],
            [
             1,
             "#276419"
            ]
           ],
           "sequential": [
            [
             0,
             "#0d0887"
            ],
            [
             0.1111111111111111,
             "#46039f"
            ],
            [
             0.2222222222222222,
             "#7201a8"
            ],
            [
             0.3333333333333333,
             "#9c179e"
            ],
            [
             0.4444444444444444,
             "#bd3786"
            ],
            [
             0.5555555555555556,
             "#d8576b"
            ],
            [
             0.6666666666666666,
             "#ed7953"
            ],
            [
             0.7777777777777778,
             "#fb9f3a"
            ],
            [
             0.8888888888888888,
             "#fdca26"
            ],
            [
             1,
             "#f0f921"
            ]
           ],
           "sequentialminus": [
            [
             0,
             "#0d0887"
            ],
            [
             0.1111111111111111,
             "#46039f"
            ],
            [
             0.2222222222222222,
             "#7201a8"
            ],
            [
             0.3333333333333333,
             "#9c179e"
            ],
            [
             0.4444444444444444,
             "#bd3786"
            ],
            [
             0.5555555555555556,
             "#d8576b"
            ],
            [
             0.6666666666666666,
             "#ed7953"
            ],
            [
             0.7777777777777778,
             "#fb9f3a"
            ],
            [
             0.8888888888888888,
             "#fdca26"
            ],
            [
             1,
             "#f0f921"
            ]
           ]
          },
          "colorway": [
           "#636efa",
           "#EF553B",
           "#00cc96",
           "#ab63fa",
           "#FFA15A",
           "#19d3f3",
           "#FF6692",
           "#B6E880",
           "#FF97FF",
           "#FECB52"
          ],
          "font": {
           "color": "#2a3f5f"
          },
          "geo": {
           "bgcolor": "white",
           "lakecolor": "white",
           "landcolor": "#E5ECF6",
           "showlakes": true,
           "showland": true,
           "subunitcolor": "white"
          },
          "hoverlabel": {
           "align": "left"
          },
          "hovermode": "closest",
          "mapbox": {
           "style": "light"
          },
          "paper_bgcolor": "white",
          "plot_bgcolor": "#E5ECF6",
          "polar": {
           "angularaxis": {
            "gridcolor": "white",
            "linecolor": "white",
            "ticks": ""
           },
           "bgcolor": "#E5ECF6",
           "radialaxis": {
            "gridcolor": "white",
            "linecolor": "white",
            "ticks": ""
           }
          },
          "scene": {
           "xaxis": {
            "backgroundcolor": "#E5ECF6",
            "gridcolor": "white",
            "gridwidth": 2,
            "linecolor": "white",
            "showbackground": true,
            "ticks": "",
            "zerolinecolor": "white"
           },
           "yaxis": {
            "backgroundcolor": "#E5ECF6",
            "gridcolor": "white",
            "gridwidth": 2,
            "linecolor": "white",
            "showbackground": true,
            "ticks": "",
            "zerolinecolor": "white"
           },
           "zaxis": {
            "backgroundcolor": "#E5ECF6",
            "gridcolor": "white",
            "gridwidth": 2,
            "linecolor": "white",
            "showbackground": true,
            "ticks": "",
            "zerolinecolor": "white"
           }
          },
          "shapedefaults": {
           "line": {
            "color": "#2a3f5f"
           }
          },
          "ternary": {
           "aaxis": {
            "gridcolor": "white",
            "linecolor": "white",
            "ticks": ""
           },
           "baxis": {
            "gridcolor": "white",
            "linecolor": "white",
            "ticks": ""
           },
           "bgcolor": "#E5ECF6",
           "caxis": {
            "gridcolor": "white",
            "linecolor": "white",
            "ticks": ""
           }
          },
          "title": {
           "x": 0.05
          },
          "xaxis": {
           "automargin": true,
           "gridcolor": "white",
           "linecolor": "white",
           "ticks": "",
           "title": {
            "standoff": 15
           },
           "zerolinecolor": "white",
           "zerolinewidth": 2
          },
          "yaxis": {
           "automargin": true,
           "gridcolor": "white",
           "linecolor": "white",
           "ticks": "",
           "title": {
            "standoff": 15
           },
           "zerolinecolor": "white",
           "zerolinewidth": 2
          }
         }
        },
        "title": {
         "text": "<b style=\"color:#7b8b6f;\">Percent of Churn by Partner</b>"
        },
        "width": 500
       }
      }
     },
     "metadata": {},
     "output_type": "display_data"
    }
   ],
   "source": [
    "plot_sunburst('Partner')"
   ]
  },
  {
   "cell_type": "markdown",
   "id": "HK6MjgCXok4g",
   "metadata": {
    "id": "HK6MjgCXok4g"
   },
   "source": [
    "### Percent of Churn by Dependents"
   ]
  },
  {
   "cell_type": "markdown",
   "id": "pN8MvxVEonJd",
   "metadata": {
    "id": "pN8MvxVEonJd"
   },
   "source": [
    "The majority of customers in this dataset are those who doesn't yet have any dependents.\n",
    "\n",
    "From this plot, we can see that from those who does have a dependent, they do have the tendency to Not Churning. Compared to those who doesn't have any dependent."
   ]
  },
  {
   "cell_type": "code",
   "execution_count": 30,
   "id": "08bb89c4",
   "metadata": {
    "colab": {
     "base_uri": "https://localhost:8080/",
     "height": 517
    },
    "id": "08bb89c4",
    "outputId": "7e4f3a4d-ff26-418c-e5b5-708906f68a56"
   },
   "outputs": [
    {
     "data": {
      "application/vnd.plotly.v1+json": {
       "config": {
        "plotlyServerURL": "https://plot.ly"
       },
       "data": [
        {
         "branchvalues": "total",
         "domain": {
          "x": [
           0,
           1
          ],
          "y": [
           0,
           1
          ]
         },
         "hovertemplate": "labels=%{label}<br>count=%{value}<br>parent=%{parent}<br>id=%{id}<extra></extra>",
         "ids": [
          "No/No",
          "Yes/No",
          "No/Yes",
          "Yes/Yes",
          "No",
          "Yes"
         ],
         "labels": [
          "No",
          "No",
          "Yes",
          "Yes",
          "No",
          "Yes"
         ],
         "name": "",
         "parents": [
          "No",
          "Yes",
          "No",
          "Yes",
          "",
          ""
         ],
         "textfont": {
          "size": 16
         },
         "textinfo": "label+percent parent",
         "type": "sunburst",
         "values": [
          3390,
          1773,
          1543,
          326,
          4933,
          2099
         ]
        }
       ],
       "layout": {
        "height": 500,
        "legend": {
         "tracegroupgap": 0
        },
        "margin": {
         "t": 60
        },
        "sunburstcolorway": [
         "#d11141",
         "#00b159",
         "#00aedb",
         "#f37735",
         "#ffc425"
        ],
        "template": {
         "data": {
          "bar": [
           {
            "error_x": {
             "color": "#2a3f5f"
            },
            "error_y": {
             "color": "#2a3f5f"
            },
            "marker": {
             "line": {
              "color": "#E5ECF6",
              "width": 0.5
             },
             "pattern": {
              "fillmode": "overlay",
              "size": 10,
              "solidity": 0.2
             }
            },
            "type": "bar"
           }
          ],
          "barpolar": [
           {
            "marker": {
             "line": {
              "color": "#E5ECF6",
              "width": 0.5
             },
             "pattern": {
              "fillmode": "overlay",
              "size": 10,
              "solidity": 0.2
             }
            },
            "type": "barpolar"
           }
          ],
          "carpet": [
           {
            "aaxis": {
             "endlinecolor": "#2a3f5f",
             "gridcolor": "white",
             "linecolor": "white",
             "minorgridcolor": "white",
             "startlinecolor": "#2a3f5f"
            },
            "baxis": {
             "endlinecolor": "#2a3f5f",
             "gridcolor": "white",
             "linecolor": "white",
             "minorgridcolor": "white",
             "startlinecolor": "#2a3f5f"
            },
            "type": "carpet"
           }
          ],
          "choropleth": [
           {
            "colorbar": {
             "outlinewidth": 0,
             "ticks": ""
            },
            "type": "choropleth"
           }
          ],
          "contour": [
           {
            "colorbar": {
             "outlinewidth": 0,
             "ticks": ""
            },
            "colorscale": [
             [
              0,
              "#0d0887"
             ],
             [
              0.1111111111111111,
              "#46039f"
             ],
             [
              0.2222222222222222,
              "#7201a8"
             ],
             [
              0.3333333333333333,
              "#9c179e"
             ],
             [
              0.4444444444444444,
              "#bd3786"
             ],
             [
              0.5555555555555556,
              "#d8576b"
             ],
             [
              0.6666666666666666,
              "#ed7953"
             ],
             [
              0.7777777777777778,
              "#fb9f3a"
             ],
             [
              0.8888888888888888,
              "#fdca26"
             ],
             [
              1,
              "#f0f921"
             ]
            ],
            "type": "contour"
           }
          ],
          "contourcarpet": [
           {
            "colorbar": {
             "outlinewidth": 0,
             "ticks": ""
            },
            "type": "contourcarpet"
           }
          ],
          "heatmap": [
           {
            "colorbar": {
             "outlinewidth": 0,
             "ticks": ""
            },
            "colorscale": [
             [
              0,
              "#0d0887"
             ],
             [
              0.1111111111111111,
              "#46039f"
             ],
             [
              0.2222222222222222,
              "#7201a8"
             ],
             [
              0.3333333333333333,
              "#9c179e"
             ],
             [
              0.4444444444444444,
              "#bd3786"
             ],
             [
              0.5555555555555556,
              "#d8576b"
             ],
             [
              0.6666666666666666,
              "#ed7953"
             ],
             [
              0.7777777777777778,
              "#fb9f3a"
             ],
             [
              0.8888888888888888,
              "#fdca26"
             ],
             [
              1,
              "#f0f921"
             ]
            ],
            "type": "heatmap"
           }
          ],
          "heatmapgl": [
           {
            "colorbar": {
             "outlinewidth": 0,
             "ticks": ""
            },
            "colorscale": [
             [
              0,
              "#0d0887"
             ],
             [
              0.1111111111111111,
              "#46039f"
             ],
             [
              0.2222222222222222,
              "#7201a8"
             ],
             [
              0.3333333333333333,
              "#9c179e"
             ],
             [
              0.4444444444444444,
              "#bd3786"
             ],
             [
              0.5555555555555556,
              "#d8576b"
             ],
             [
              0.6666666666666666,
              "#ed7953"
             ],
             [
              0.7777777777777778,
              "#fb9f3a"
             ],
             [
              0.8888888888888888,
              "#fdca26"
             ],
             [
              1,
              "#f0f921"
             ]
            ],
            "type": "heatmapgl"
           }
          ],
          "histogram": [
           {
            "marker": {
             "pattern": {
              "fillmode": "overlay",
              "size": 10,
              "solidity": 0.2
             }
            },
            "type": "histogram"
           }
          ],
          "histogram2d": [
           {
            "colorbar": {
             "outlinewidth": 0,
             "ticks": ""
            },
            "colorscale": [
             [
              0,
              "#0d0887"
             ],
             [
              0.1111111111111111,
              "#46039f"
             ],
             [
              0.2222222222222222,
              "#7201a8"
             ],
             [
              0.3333333333333333,
              "#9c179e"
             ],
             [
              0.4444444444444444,
              "#bd3786"
             ],
             [
              0.5555555555555556,
              "#d8576b"
             ],
             [
              0.6666666666666666,
              "#ed7953"
             ],
             [
              0.7777777777777778,
              "#fb9f3a"
             ],
             [
              0.8888888888888888,
              "#fdca26"
             ],
             [
              1,
              "#f0f921"
             ]
            ],
            "type": "histogram2d"
           }
          ],
          "histogram2dcontour": [
           {
            "colorbar": {
             "outlinewidth": 0,
             "ticks": ""
            },
            "colorscale": [
             [
              0,
              "#0d0887"
             ],
             [
              0.1111111111111111,
              "#46039f"
             ],
             [
              0.2222222222222222,
              "#7201a8"
             ],
             [
              0.3333333333333333,
              "#9c179e"
             ],
             [
              0.4444444444444444,
              "#bd3786"
             ],
             [
              0.5555555555555556,
              "#d8576b"
             ],
             [
              0.6666666666666666,
              "#ed7953"
             ],
             [
              0.7777777777777778,
              "#fb9f3a"
             ],
             [
              0.8888888888888888,
              "#fdca26"
             ],
             [
              1,
              "#f0f921"
             ]
            ],
            "type": "histogram2dcontour"
           }
          ],
          "mesh3d": [
           {
            "colorbar": {
             "outlinewidth": 0,
             "ticks": ""
            },
            "type": "mesh3d"
           }
          ],
          "parcoords": [
           {
            "line": {
             "colorbar": {
              "outlinewidth": 0,
              "ticks": ""
             }
            },
            "type": "parcoords"
           }
          ],
          "pie": [
           {
            "automargin": true,
            "type": "pie"
           }
          ],
          "scatter": [
           {
            "marker": {
             "colorbar": {
              "outlinewidth": 0,
              "ticks": ""
             }
            },
            "type": "scatter"
           }
          ],
          "scatter3d": [
           {
            "line": {
             "colorbar": {
              "outlinewidth": 0,
              "ticks": ""
             }
            },
            "marker": {
             "colorbar": {
              "outlinewidth": 0,
              "ticks": ""
             }
            },
            "type": "scatter3d"
           }
          ],
          "scattercarpet": [
           {
            "marker": {
             "colorbar": {
              "outlinewidth": 0,
              "ticks": ""
             }
            },
            "type": "scattercarpet"
           }
          ],
          "scattergeo": [
           {
            "marker": {
             "colorbar": {
              "outlinewidth": 0,
              "ticks": ""
             }
            },
            "type": "scattergeo"
           }
          ],
          "scattergl": [
           {
            "marker": {
             "colorbar": {
              "outlinewidth": 0,
              "ticks": ""
             }
            },
            "type": "scattergl"
           }
          ],
          "scattermapbox": [
           {
            "marker": {
             "colorbar": {
              "outlinewidth": 0,
              "ticks": ""
             }
            },
            "type": "scattermapbox"
           }
          ],
          "scatterpolar": [
           {
            "marker": {
             "colorbar": {
              "outlinewidth": 0,
              "ticks": ""
             }
            },
            "type": "scatterpolar"
           }
          ],
          "scatterpolargl": [
           {
            "marker": {
             "colorbar": {
              "outlinewidth": 0,
              "ticks": ""
             }
            },
            "type": "scatterpolargl"
           }
          ],
          "scatterternary": [
           {
            "marker": {
             "colorbar": {
              "outlinewidth": 0,
              "ticks": ""
             }
            },
            "type": "scatterternary"
           }
          ],
          "surface": [
           {
            "colorbar": {
             "outlinewidth": 0,
             "ticks": ""
            },
            "colorscale": [
             [
              0,
              "#0d0887"
             ],
             [
              0.1111111111111111,
              "#46039f"
             ],
             [
              0.2222222222222222,
              "#7201a8"
             ],
             [
              0.3333333333333333,
              "#9c179e"
             ],
             [
              0.4444444444444444,
              "#bd3786"
             ],
             [
              0.5555555555555556,
              "#d8576b"
             ],
             [
              0.6666666666666666,
              "#ed7953"
             ],
             [
              0.7777777777777778,
              "#fb9f3a"
             ],
             [
              0.8888888888888888,
              "#fdca26"
             ],
             [
              1,
              "#f0f921"
             ]
            ],
            "type": "surface"
           }
          ],
          "table": [
           {
            "cells": {
             "fill": {
              "color": "#EBF0F8"
             },
             "line": {
              "color": "white"
             }
            },
            "header": {
             "fill": {
              "color": "#C8D4E3"
             },
             "line": {
              "color": "white"
             }
            },
            "type": "table"
           }
          ]
         },
         "layout": {
          "annotationdefaults": {
           "arrowcolor": "#2a3f5f",
           "arrowhead": 0,
           "arrowwidth": 1
          },
          "autotypenumbers": "strict",
          "coloraxis": {
           "colorbar": {
            "outlinewidth": 0,
            "ticks": ""
           }
          },
          "colorscale": {
           "diverging": [
            [
             0,
             "#8e0152"
            ],
            [
             0.1,
             "#c51b7d"
            ],
            [
             0.2,
             "#de77ae"
            ],
            [
             0.3,
             "#f1b6da"
            ],
            [
             0.4,
             "#fde0ef"
            ],
            [
             0.5,
             "#f7f7f7"
            ],
            [
             0.6,
             "#e6f5d0"
            ],
            [
             0.7,
             "#b8e186"
            ],
            [
             0.8,
             "#7fbc41"
            ],
            [
             0.9,
             "#4d9221"
            ],
            [
             1,
             "#276419"
            ]
           ],
           "sequential": [
            [
             0,
             "#0d0887"
            ],
            [
             0.1111111111111111,
             "#46039f"
            ],
            [
             0.2222222222222222,
             "#7201a8"
            ],
            [
             0.3333333333333333,
             "#9c179e"
            ],
            [
             0.4444444444444444,
             "#bd3786"
            ],
            [
             0.5555555555555556,
             "#d8576b"
            ],
            [
             0.6666666666666666,
             "#ed7953"
            ],
            [
             0.7777777777777778,
             "#fb9f3a"
            ],
            [
             0.8888888888888888,
             "#fdca26"
            ],
            [
             1,
             "#f0f921"
            ]
           ],
           "sequentialminus": [
            [
             0,
             "#0d0887"
            ],
            [
             0.1111111111111111,
             "#46039f"
            ],
            [
             0.2222222222222222,
             "#7201a8"
            ],
            [
             0.3333333333333333,
             "#9c179e"
            ],
            [
             0.4444444444444444,
             "#bd3786"
            ],
            [
             0.5555555555555556,
             "#d8576b"
            ],
            [
             0.6666666666666666,
             "#ed7953"
            ],
            [
             0.7777777777777778,
             "#fb9f3a"
            ],
            [
             0.8888888888888888,
             "#fdca26"
            ],
            [
             1,
             "#f0f921"
            ]
           ]
          },
          "colorway": [
           "#636efa",
           "#EF553B",
           "#00cc96",
           "#ab63fa",
           "#FFA15A",
           "#19d3f3",
           "#FF6692",
           "#B6E880",
           "#FF97FF",
           "#FECB52"
          ],
          "font": {
           "color": "#2a3f5f"
          },
          "geo": {
           "bgcolor": "white",
           "lakecolor": "white",
           "landcolor": "#E5ECF6",
           "showlakes": true,
           "showland": true,
           "subunitcolor": "white"
          },
          "hoverlabel": {
           "align": "left"
          },
          "hovermode": "closest",
          "mapbox": {
           "style": "light"
          },
          "paper_bgcolor": "white",
          "plot_bgcolor": "#E5ECF6",
          "polar": {
           "angularaxis": {
            "gridcolor": "white",
            "linecolor": "white",
            "ticks": ""
           },
           "bgcolor": "#E5ECF6",
           "radialaxis": {
            "gridcolor": "white",
            "linecolor": "white",
            "ticks": ""
           }
          },
          "scene": {
           "xaxis": {
            "backgroundcolor": "#E5ECF6",
            "gridcolor": "white",
            "gridwidth": 2,
            "linecolor": "white",
            "showbackground": true,
            "ticks": "",
            "zerolinecolor": "white"
           },
           "yaxis": {
            "backgroundcolor": "#E5ECF6",
            "gridcolor": "white",
            "gridwidth": 2,
            "linecolor": "white",
            "showbackground": true,
            "ticks": "",
            "zerolinecolor": "white"
           },
           "zaxis": {
            "backgroundcolor": "#E5ECF6",
            "gridcolor": "white",
            "gridwidth": 2,
            "linecolor": "white",
            "showbackground": true,
            "ticks": "",
            "zerolinecolor": "white"
           }
          },
          "shapedefaults": {
           "line": {
            "color": "#2a3f5f"
           }
          },
          "ternary": {
           "aaxis": {
            "gridcolor": "white",
            "linecolor": "white",
            "ticks": ""
           },
           "baxis": {
            "gridcolor": "white",
            "linecolor": "white",
            "ticks": ""
           },
           "bgcolor": "#E5ECF6",
           "caxis": {
            "gridcolor": "white",
            "linecolor": "white",
            "ticks": ""
           }
          },
          "title": {
           "x": 0.05
          },
          "xaxis": {
           "automargin": true,
           "gridcolor": "white",
           "linecolor": "white",
           "ticks": "",
           "title": {
            "standoff": 15
           },
           "zerolinecolor": "white",
           "zerolinewidth": 2
          },
          "yaxis": {
           "automargin": true,
           "gridcolor": "white",
           "linecolor": "white",
           "ticks": "",
           "title": {
            "standoff": 15
           },
           "zerolinecolor": "white",
           "zerolinewidth": 2
          }
         }
        },
        "title": {
         "text": "<b style=\"color:#7b8b6f;\">Percent of Churn by Dependents</b>"
        },
        "width": 500
       }
      }
     },
     "metadata": {},
     "output_type": "display_data"
    }
   ],
   "source": [
    "plot_sunburst('Dependents')"
   ]
  },
  {
   "cell_type": "markdown",
   "id": "9KbrlQqMo8Bh",
   "metadata": {
    "id": "9KbrlQqMo8Bh"
   },
   "source": [
    "### Percent of Churn by Contract"
   ]
  },
  {
   "cell_type": "markdown",
   "id": "4rfu_yPBo-e_",
   "metadata": {
    "id": "4rfu_yPBo-e_"
   },
   "source": [
    "This dataset has three types of Contract, namely:\n",
    "1. Month-to-Month\n",
    "2. One Year\n",
    "3. Two year"
   ]
  },
  {
   "cell_type": "code",
   "execution_count": 31,
   "id": "00cd3004",
   "metadata": {
    "colab": {
     "base_uri": "https://localhost:8080/",
     "height": 517
    },
    "id": "00cd3004",
    "outputId": "f50b6371-4c74-42f1-9c09-be88a217ee78"
   },
   "outputs": [
    {
     "data": {
      "application/vnd.plotly.v1+json": {
       "config": {
        "plotlyServerURL": "https://plot.ly"
       },
       "data": [
        {
         "branchvalues": "total",
         "domain": {
          "x": [
           0,
           1
          ],
          "y": [
           0,
           1
          ]
         },
         "hovertemplate": "labels=%{label}<br>count=%{value}<br>parent=%{parent}<br>id=%{id}<extra></extra>",
         "ids": [
          "Month-to-month/No",
          "One year/No",
          "Two year/No",
          "Month-to-month/Yes",
          "One year/Yes",
          "Two year/Yes",
          "Month-to-month",
          "One year",
          "Two year"
         ],
         "labels": [
          "No",
          "No",
          "No",
          "Yes",
          "Yes",
          "Yes",
          "Month-to-month",
          "One year",
          "Two year"
         ],
         "name": "",
         "parents": [
          "Month-to-month",
          "One year",
          "Two year",
          "Month-to-month",
          "One year",
          "Two year",
          "",
          "",
          ""
         ],
         "textfont": {
          "size": 16
         },
         "textinfo": "label+percent parent",
         "type": "sunburst",
         "values": [
          2220,
          1306,
          1637,
          1655,
          166,
          48,
          3875,
          1472,
          1685
         ]
        }
       ],
       "layout": {
        "height": 500,
        "legend": {
         "tracegroupgap": 0
        },
        "margin": {
         "t": 60
        },
        "sunburstcolorway": [
         "#d11141",
         "#00b159",
         "#00aedb",
         "#f37735",
         "#ffc425"
        ],
        "template": {
         "data": {
          "bar": [
           {
            "error_x": {
             "color": "#2a3f5f"
            },
            "error_y": {
             "color": "#2a3f5f"
            },
            "marker": {
             "line": {
              "color": "#E5ECF6",
              "width": 0.5
             },
             "pattern": {
              "fillmode": "overlay",
              "size": 10,
              "solidity": 0.2
             }
            },
            "type": "bar"
           }
          ],
          "barpolar": [
           {
            "marker": {
             "line": {
              "color": "#E5ECF6",
              "width": 0.5
             },
             "pattern": {
              "fillmode": "overlay",
              "size": 10,
              "solidity": 0.2
             }
            },
            "type": "barpolar"
           }
          ],
          "carpet": [
           {
            "aaxis": {
             "endlinecolor": "#2a3f5f",
             "gridcolor": "white",
             "linecolor": "white",
             "minorgridcolor": "white",
             "startlinecolor": "#2a3f5f"
            },
            "baxis": {
             "endlinecolor": "#2a3f5f",
             "gridcolor": "white",
             "linecolor": "white",
             "minorgridcolor": "white",
             "startlinecolor": "#2a3f5f"
            },
            "type": "carpet"
           }
          ],
          "choropleth": [
           {
            "colorbar": {
             "outlinewidth": 0,
             "ticks": ""
            },
            "type": "choropleth"
           }
          ],
          "contour": [
           {
            "colorbar": {
             "outlinewidth": 0,
             "ticks": ""
            },
            "colorscale": [
             [
              0,
              "#0d0887"
             ],
             [
              0.1111111111111111,
              "#46039f"
             ],
             [
              0.2222222222222222,
              "#7201a8"
             ],
             [
              0.3333333333333333,
              "#9c179e"
             ],
             [
              0.4444444444444444,
              "#bd3786"
             ],
             [
              0.5555555555555556,
              "#d8576b"
             ],
             [
              0.6666666666666666,
              "#ed7953"
             ],
             [
              0.7777777777777778,
              "#fb9f3a"
             ],
             [
              0.8888888888888888,
              "#fdca26"
             ],
             [
              1,
              "#f0f921"
             ]
            ],
            "type": "contour"
           }
          ],
          "contourcarpet": [
           {
            "colorbar": {
             "outlinewidth": 0,
             "ticks": ""
            },
            "type": "contourcarpet"
           }
          ],
          "heatmap": [
           {
            "colorbar": {
             "outlinewidth": 0,
             "ticks": ""
            },
            "colorscale": [
             [
              0,
              "#0d0887"
             ],
             [
              0.1111111111111111,
              "#46039f"
             ],
             [
              0.2222222222222222,
              "#7201a8"
             ],
             [
              0.3333333333333333,
              "#9c179e"
             ],
             [
              0.4444444444444444,
              "#bd3786"
             ],
             [
              0.5555555555555556,
              "#d8576b"
             ],
             [
              0.6666666666666666,
              "#ed7953"
             ],
             [
              0.7777777777777778,
              "#fb9f3a"
             ],
             [
              0.8888888888888888,
              "#fdca26"
             ],
             [
              1,
              "#f0f921"
             ]
            ],
            "type": "heatmap"
           }
          ],
          "heatmapgl": [
           {
            "colorbar": {
             "outlinewidth": 0,
             "ticks": ""
            },
            "colorscale": [
             [
              0,
              "#0d0887"
             ],
             [
              0.1111111111111111,
              "#46039f"
             ],
             [
              0.2222222222222222,
              "#7201a8"
             ],
             [
              0.3333333333333333,
              "#9c179e"
             ],
             [
              0.4444444444444444,
              "#bd3786"
             ],
             [
              0.5555555555555556,
              "#d8576b"
             ],
             [
              0.6666666666666666,
              "#ed7953"
             ],
             [
              0.7777777777777778,
              "#fb9f3a"
             ],
             [
              0.8888888888888888,
              "#fdca26"
             ],
             [
              1,
              "#f0f921"
             ]
            ],
            "type": "heatmapgl"
           }
          ],
          "histogram": [
           {
            "marker": {
             "pattern": {
              "fillmode": "overlay",
              "size": 10,
              "solidity": 0.2
             }
            },
            "type": "histogram"
           }
          ],
          "histogram2d": [
           {
            "colorbar": {
             "outlinewidth": 0,
             "ticks": ""
            },
            "colorscale": [
             [
              0,
              "#0d0887"
             ],
             [
              0.1111111111111111,
              "#46039f"
             ],
             [
              0.2222222222222222,
              "#7201a8"
             ],
             [
              0.3333333333333333,
              "#9c179e"
             ],
             [
              0.4444444444444444,
              "#bd3786"
             ],
             [
              0.5555555555555556,
              "#d8576b"
             ],
             [
              0.6666666666666666,
              "#ed7953"
             ],
             [
              0.7777777777777778,
              "#fb9f3a"
             ],
             [
              0.8888888888888888,
              "#fdca26"
             ],
             [
              1,
              "#f0f921"
             ]
            ],
            "type": "histogram2d"
           }
          ],
          "histogram2dcontour": [
           {
            "colorbar": {
             "outlinewidth": 0,
             "ticks": ""
            },
            "colorscale": [
             [
              0,
              "#0d0887"
             ],
             [
              0.1111111111111111,
              "#46039f"
             ],
             [
              0.2222222222222222,
              "#7201a8"
             ],
             [
              0.3333333333333333,
              "#9c179e"
             ],
             [
              0.4444444444444444,
              "#bd3786"
             ],
             [
              0.5555555555555556,
              "#d8576b"
             ],
             [
              0.6666666666666666,
              "#ed7953"
             ],
             [
              0.7777777777777778,
              "#fb9f3a"
             ],
             [
              0.8888888888888888,
              "#fdca26"
             ],
             [
              1,
              "#f0f921"
             ]
            ],
            "type": "histogram2dcontour"
           }
          ],
          "mesh3d": [
           {
            "colorbar": {
             "outlinewidth": 0,
             "ticks": ""
            },
            "type": "mesh3d"
           }
          ],
          "parcoords": [
           {
            "line": {
             "colorbar": {
              "outlinewidth": 0,
              "ticks": ""
             }
            },
            "type": "parcoords"
           }
          ],
          "pie": [
           {
            "automargin": true,
            "type": "pie"
           }
          ],
          "scatter": [
           {
            "marker": {
             "colorbar": {
              "outlinewidth": 0,
              "ticks": ""
             }
            },
            "type": "scatter"
           }
          ],
          "scatter3d": [
           {
            "line": {
             "colorbar": {
              "outlinewidth": 0,
              "ticks": ""
             }
            },
            "marker": {
             "colorbar": {
              "outlinewidth": 0,
              "ticks": ""
             }
            },
            "type": "scatter3d"
           }
          ],
          "scattercarpet": [
           {
            "marker": {
             "colorbar": {
              "outlinewidth": 0,
              "ticks": ""
             }
            },
            "type": "scattercarpet"
           }
          ],
          "scattergeo": [
           {
            "marker": {
             "colorbar": {
              "outlinewidth": 0,
              "ticks": ""
             }
            },
            "type": "scattergeo"
           }
          ],
          "scattergl": [
           {
            "marker": {
             "colorbar": {
              "outlinewidth": 0,
              "ticks": ""
             }
            },
            "type": "scattergl"
           }
          ],
          "scattermapbox": [
           {
            "marker": {
             "colorbar": {
              "outlinewidth": 0,
              "ticks": ""
             }
            },
            "type": "scattermapbox"
           }
          ],
          "scatterpolar": [
           {
            "marker": {
             "colorbar": {
              "outlinewidth": 0,
              "ticks": ""
             }
            },
            "type": "scatterpolar"
           }
          ],
          "scatterpolargl": [
           {
            "marker": {
             "colorbar": {
              "outlinewidth": 0,
              "ticks": ""
             }
            },
            "type": "scatterpolargl"
           }
          ],
          "scatterternary": [
           {
            "marker": {
             "colorbar": {
              "outlinewidth": 0,
              "ticks": ""
             }
            },
            "type": "scatterternary"
           }
          ],
          "surface": [
           {
            "colorbar": {
             "outlinewidth": 0,
             "ticks": ""
            },
            "colorscale": [
             [
              0,
              "#0d0887"
             ],
             [
              0.1111111111111111,
              "#46039f"
             ],
             [
              0.2222222222222222,
              "#7201a8"
             ],
             [
              0.3333333333333333,
              "#9c179e"
             ],
             [
              0.4444444444444444,
              "#bd3786"
             ],
             [
              0.5555555555555556,
              "#d8576b"
             ],
             [
              0.6666666666666666,
              "#ed7953"
             ],
             [
              0.7777777777777778,
              "#fb9f3a"
             ],
             [
              0.8888888888888888,
              "#fdca26"
             ],
             [
              1,
              "#f0f921"
             ]
            ],
            "type": "surface"
           }
          ],
          "table": [
           {
            "cells": {
             "fill": {
              "color": "#EBF0F8"
             },
             "line": {
              "color": "white"
             }
            },
            "header": {
             "fill": {
              "color": "#C8D4E3"
             },
             "line": {
              "color": "white"
             }
            },
            "type": "table"
           }
          ]
         },
         "layout": {
          "annotationdefaults": {
           "arrowcolor": "#2a3f5f",
           "arrowhead": 0,
           "arrowwidth": 1
          },
          "autotypenumbers": "strict",
          "coloraxis": {
           "colorbar": {
            "outlinewidth": 0,
            "ticks": ""
           }
          },
          "colorscale": {
           "diverging": [
            [
             0,
             "#8e0152"
            ],
            [
             0.1,
             "#c51b7d"
            ],
            [
             0.2,
             "#de77ae"
            ],
            [
             0.3,
             "#f1b6da"
            ],
            [
             0.4,
             "#fde0ef"
            ],
            [
             0.5,
             "#f7f7f7"
            ],
            [
             0.6,
             "#e6f5d0"
            ],
            [
             0.7,
             "#b8e186"
            ],
            [
             0.8,
             "#7fbc41"
            ],
            [
             0.9,
             "#4d9221"
            ],
            [
             1,
             "#276419"
            ]
           ],
           "sequential": [
            [
             0,
             "#0d0887"
            ],
            [
             0.1111111111111111,
             "#46039f"
            ],
            [
             0.2222222222222222,
             "#7201a8"
            ],
            [
             0.3333333333333333,
             "#9c179e"
            ],
            [
             0.4444444444444444,
             "#bd3786"
            ],
            [
             0.5555555555555556,
             "#d8576b"
            ],
            [
             0.6666666666666666,
             "#ed7953"
            ],
            [
             0.7777777777777778,
             "#fb9f3a"
            ],
            [
             0.8888888888888888,
             "#fdca26"
            ],
            [
             1,
             "#f0f921"
            ]
           ],
           "sequentialminus": [
            [
             0,
             "#0d0887"
            ],
            [
             0.1111111111111111,
             "#46039f"
            ],
            [
             0.2222222222222222,
             "#7201a8"
            ],
            [
             0.3333333333333333,
             "#9c179e"
            ],
            [
             0.4444444444444444,
             "#bd3786"
            ],
            [
             0.5555555555555556,
             "#d8576b"
            ],
            [
             0.6666666666666666,
             "#ed7953"
            ],
            [
             0.7777777777777778,
             "#fb9f3a"
            ],
            [
             0.8888888888888888,
             "#fdca26"
            ],
            [
             1,
             "#f0f921"
            ]
           ]
          },
          "colorway": [
           "#636efa",
           "#EF553B",
           "#00cc96",
           "#ab63fa",
           "#FFA15A",
           "#19d3f3",
           "#FF6692",
           "#B6E880",
           "#FF97FF",
           "#FECB52"
          ],
          "font": {
           "color": "#2a3f5f"
          },
          "geo": {
           "bgcolor": "white",
           "lakecolor": "white",
           "landcolor": "#E5ECF6",
           "showlakes": true,
           "showland": true,
           "subunitcolor": "white"
          },
          "hoverlabel": {
           "align": "left"
          },
          "hovermode": "closest",
          "mapbox": {
           "style": "light"
          },
          "paper_bgcolor": "white",
          "plot_bgcolor": "#E5ECF6",
          "polar": {
           "angularaxis": {
            "gridcolor": "white",
            "linecolor": "white",
            "ticks": ""
           },
           "bgcolor": "#E5ECF6",
           "radialaxis": {
            "gridcolor": "white",
            "linecolor": "white",
            "ticks": ""
           }
          },
          "scene": {
           "xaxis": {
            "backgroundcolor": "#E5ECF6",
            "gridcolor": "white",
            "gridwidth": 2,
            "linecolor": "white",
            "showbackground": true,
            "ticks": "",
            "zerolinecolor": "white"
           },
           "yaxis": {
            "backgroundcolor": "#E5ECF6",
            "gridcolor": "white",
            "gridwidth": 2,
            "linecolor": "white",
            "showbackground": true,
            "ticks": "",
            "zerolinecolor": "white"
           },
           "zaxis": {
            "backgroundcolor": "#E5ECF6",
            "gridcolor": "white",
            "gridwidth": 2,
            "linecolor": "white",
            "showbackground": true,
            "ticks": "",
            "zerolinecolor": "white"
           }
          },
          "shapedefaults": {
           "line": {
            "color": "#2a3f5f"
           }
          },
          "ternary": {
           "aaxis": {
            "gridcolor": "white",
            "linecolor": "white",
            "ticks": ""
           },
           "baxis": {
            "gridcolor": "white",
            "linecolor": "white",
            "ticks": ""
           },
           "bgcolor": "#E5ECF6",
           "caxis": {
            "gridcolor": "white",
            "linecolor": "white",
            "ticks": ""
           }
          },
          "title": {
           "x": 0.05
          },
          "xaxis": {
           "automargin": true,
           "gridcolor": "white",
           "linecolor": "white",
           "ticks": "",
           "title": {
            "standoff": 15
           },
           "zerolinecolor": "white",
           "zerolinewidth": 2
          },
          "yaxis": {
           "automargin": true,
           "gridcolor": "white",
           "linecolor": "white",
           "ticks": "",
           "title": {
            "standoff": 15
           },
           "zerolinecolor": "white",
           "zerolinewidth": 2
          }
         }
        },
        "title": {
         "text": "<b style=\"color:#7b8b6f;\">Percent of Churn by Contract</b>"
        },
        "width": 500
       }
      }
     },
     "metadata": {},
     "output_type": "display_data"
    }
   ],
   "source": [
    "plot_sunburst('Contract')"
   ]
  },
  {
   "cell_type": "markdown",
   "id": "5s6tLCzIq5-Y",
   "metadata": {
    "id": "5s6tLCzIq5-Y"
   },
   "source": [
    "### Percent of Churn by Paperless Billing"
   ]
  },
  {
   "cell_type": "markdown",
   "id": "qnVSVgOIq8d6",
   "metadata": {
    "id": "qnVSVgOIq8d6"
   },
   "source": [
    "Below we can see that people who opt for Paperless Billing actually tend to Churn more than those who opt for Paper Billing.\n"
   ]
  },
  {
   "cell_type": "code",
   "execution_count": 32,
   "id": "109f6843",
   "metadata": {
    "colab": {
     "base_uri": "https://localhost:8080/",
     "height": 517
    },
    "id": "109f6843",
    "outputId": "35aa6e2c-0cd1-4dad-dfe0-d07fda24d3b6"
   },
   "outputs": [
    {
     "data": {
      "application/vnd.plotly.v1+json": {
       "config": {
        "plotlyServerURL": "https://plot.ly"
       },
       "data": [
        {
         "branchvalues": "total",
         "domain": {
          "x": [
           0,
           1
          ],
          "y": [
           0,
           1
          ]
         },
         "hovertemplate": "labels=%{label}<br>count=%{value}<br>parent=%{parent}<br>id=%{id}<extra></extra>",
         "ids": [
          "No/No",
          "Yes/No",
          "No/Yes",
          "Yes/Yes",
          "No",
          "Yes"
         ],
         "labels": [
          "No",
          "No",
          "Yes",
          "Yes",
          "No",
          "Yes"
         ],
         "name": "",
         "parents": [
          "No",
          "Yes",
          "No",
          "Yes",
          "",
          ""
         ],
         "textfont": {
          "size": 16
         },
         "textinfo": "label+percent parent",
         "type": "sunburst",
         "values": [
          2395,
          2768,
          469,
          1400,
          2864,
          4168
         ]
        }
       ],
       "layout": {
        "height": 500,
        "legend": {
         "tracegroupgap": 0
        },
        "margin": {
         "t": 60
        },
        "sunburstcolorway": [
         "#d11141",
         "#00b159",
         "#00aedb",
         "#f37735",
         "#ffc425"
        ],
        "template": {
         "data": {
          "bar": [
           {
            "error_x": {
             "color": "#2a3f5f"
            },
            "error_y": {
             "color": "#2a3f5f"
            },
            "marker": {
             "line": {
              "color": "#E5ECF6",
              "width": 0.5
             },
             "pattern": {
              "fillmode": "overlay",
              "size": 10,
              "solidity": 0.2
             }
            },
            "type": "bar"
           }
          ],
          "barpolar": [
           {
            "marker": {
             "line": {
              "color": "#E5ECF6",
              "width": 0.5
             },
             "pattern": {
              "fillmode": "overlay",
              "size": 10,
              "solidity": 0.2
             }
            },
            "type": "barpolar"
           }
          ],
          "carpet": [
           {
            "aaxis": {
             "endlinecolor": "#2a3f5f",
             "gridcolor": "white",
             "linecolor": "white",
             "minorgridcolor": "white",
             "startlinecolor": "#2a3f5f"
            },
            "baxis": {
             "endlinecolor": "#2a3f5f",
             "gridcolor": "white",
             "linecolor": "white",
             "minorgridcolor": "white",
             "startlinecolor": "#2a3f5f"
            },
            "type": "carpet"
           }
          ],
          "choropleth": [
           {
            "colorbar": {
             "outlinewidth": 0,
             "ticks": ""
            },
            "type": "choropleth"
           }
          ],
          "contour": [
           {
            "colorbar": {
             "outlinewidth": 0,
             "ticks": ""
            },
            "colorscale": [
             [
              0,
              "#0d0887"
             ],
             [
              0.1111111111111111,
              "#46039f"
             ],
             [
              0.2222222222222222,
              "#7201a8"
             ],
             [
              0.3333333333333333,
              "#9c179e"
             ],
             [
              0.4444444444444444,
              "#bd3786"
             ],
             [
              0.5555555555555556,
              "#d8576b"
             ],
             [
              0.6666666666666666,
              "#ed7953"
             ],
             [
              0.7777777777777778,
              "#fb9f3a"
             ],
             [
              0.8888888888888888,
              "#fdca26"
             ],
             [
              1,
              "#f0f921"
             ]
            ],
            "type": "contour"
           }
          ],
          "contourcarpet": [
           {
            "colorbar": {
             "outlinewidth": 0,
             "ticks": ""
            },
            "type": "contourcarpet"
           }
          ],
          "heatmap": [
           {
            "colorbar": {
             "outlinewidth": 0,
             "ticks": ""
            },
            "colorscale": [
             [
              0,
              "#0d0887"
             ],
             [
              0.1111111111111111,
              "#46039f"
             ],
             [
              0.2222222222222222,
              "#7201a8"
             ],
             [
              0.3333333333333333,
              "#9c179e"
             ],
             [
              0.4444444444444444,
              "#bd3786"
             ],
             [
              0.5555555555555556,
              "#d8576b"
             ],
             [
              0.6666666666666666,
              "#ed7953"
             ],
             [
              0.7777777777777778,
              "#fb9f3a"
             ],
             [
              0.8888888888888888,
              "#fdca26"
             ],
             [
              1,
              "#f0f921"
             ]
            ],
            "type": "heatmap"
           }
          ],
          "heatmapgl": [
           {
            "colorbar": {
             "outlinewidth": 0,
             "ticks": ""
            },
            "colorscale": [
             [
              0,
              "#0d0887"
             ],
             [
              0.1111111111111111,
              "#46039f"
             ],
             [
              0.2222222222222222,
              "#7201a8"
             ],
             [
              0.3333333333333333,
              "#9c179e"
             ],
             [
              0.4444444444444444,
              "#bd3786"
             ],
             [
              0.5555555555555556,
              "#d8576b"
             ],
             [
              0.6666666666666666,
              "#ed7953"
             ],
             [
              0.7777777777777778,
              "#fb9f3a"
             ],
             [
              0.8888888888888888,
              "#fdca26"
             ],
             [
              1,
              "#f0f921"
             ]
            ],
            "type": "heatmapgl"
           }
          ],
          "histogram": [
           {
            "marker": {
             "pattern": {
              "fillmode": "overlay",
              "size": 10,
              "solidity": 0.2
             }
            },
            "type": "histogram"
           }
          ],
          "histogram2d": [
           {
            "colorbar": {
             "outlinewidth": 0,
             "ticks": ""
            },
            "colorscale": [
             [
              0,
              "#0d0887"
             ],
             [
              0.1111111111111111,
              "#46039f"
             ],
             [
              0.2222222222222222,
              "#7201a8"
             ],
             [
              0.3333333333333333,
              "#9c179e"
             ],
             [
              0.4444444444444444,
              "#bd3786"
             ],
             [
              0.5555555555555556,
              "#d8576b"
             ],
             [
              0.6666666666666666,
              "#ed7953"
             ],
             [
              0.7777777777777778,
              "#fb9f3a"
             ],
             [
              0.8888888888888888,
              "#fdca26"
             ],
             [
              1,
              "#f0f921"
             ]
            ],
            "type": "histogram2d"
           }
          ],
          "histogram2dcontour": [
           {
            "colorbar": {
             "outlinewidth": 0,
             "ticks": ""
            },
            "colorscale": [
             [
              0,
              "#0d0887"
             ],
             [
              0.1111111111111111,
              "#46039f"
             ],
             [
              0.2222222222222222,
              "#7201a8"
             ],
             [
              0.3333333333333333,
              "#9c179e"
             ],
             [
              0.4444444444444444,
              "#bd3786"
             ],
             [
              0.5555555555555556,
              "#d8576b"
             ],
             [
              0.6666666666666666,
              "#ed7953"
             ],
             [
              0.7777777777777778,
              "#fb9f3a"
             ],
             [
              0.8888888888888888,
              "#fdca26"
             ],
             [
              1,
              "#f0f921"
             ]
            ],
            "type": "histogram2dcontour"
           }
          ],
          "mesh3d": [
           {
            "colorbar": {
             "outlinewidth": 0,
             "ticks": ""
            },
            "type": "mesh3d"
           }
          ],
          "parcoords": [
           {
            "line": {
             "colorbar": {
              "outlinewidth": 0,
              "ticks": ""
             }
            },
            "type": "parcoords"
           }
          ],
          "pie": [
           {
            "automargin": true,
            "type": "pie"
           }
          ],
          "scatter": [
           {
            "marker": {
             "colorbar": {
              "outlinewidth": 0,
              "ticks": ""
             }
            },
            "type": "scatter"
           }
          ],
          "scatter3d": [
           {
            "line": {
             "colorbar": {
              "outlinewidth": 0,
              "ticks": ""
             }
            },
            "marker": {
             "colorbar": {
              "outlinewidth": 0,
              "ticks": ""
             }
            },
            "type": "scatter3d"
           }
          ],
          "scattercarpet": [
           {
            "marker": {
             "colorbar": {
              "outlinewidth": 0,
              "ticks": ""
             }
            },
            "type": "scattercarpet"
           }
          ],
          "scattergeo": [
           {
            "marker": {
             "colorbar": {
              "outlinewidth": 0,
              "ticks": ""
             }
            },
            "type": "scattergeo"
           }
          ],
          "scattergl": [
           {
            "marker": {
             "colorbar": {
              "outlinewidth": 0,
              "ticks": ""
             }
            },
            "type": "scattergl"
           }
          ],
          "scattermapbox": [
           {
            "marker": {
             "colorbar": {
              "outlinewidth": 0,
              "ticks": ""
             }
            },
            "type": "scattermapbox"
           }
          ],
          "scatterpolar": [
           {
            "marker": {
             "colorbar": {
              "outlinewidth": 0,
              "ticks": ""
             }
            },
            "type": "scatterpolar"
           }
          ],
          "scatterpolargl": [
           {
            "marker": {
             "colorbar": {
              "outlinewidth": 0,
              "ticks": ""
             }
            },
            "type": "scatterpolargl"
           }
          ],
          "scatterternary": [
           {
            "marker": {
             "colorbar": {
              "outlinewidth": 0,
              "ticks": ""
             }
            },
            "type": "scatterternary"
           }
          ],
          "surface": [
           {
            "colorbar": {
             "outlinewidth": 0,
             "ticks": ""
            },
            "colorscale": [
             [
              0,
              "#0d0887"
             ],
             [
              0.1111111111111111,
              "#46039f"
             ],
             [
              0.2222222222222222,
              "#7201a8"
             ],
             [
              0.3333333333333333,
              "#9c179e"
             ],
             [
              0.4444444444444444,
              "#bd3786"
             ],
             [
              0.5555555555555556,
              "#d8576b"
             ],
             [
              0.6666666666666666,
              "#ed7953"
             ],
             [
              0.7777777777777778,
              "#fb9f3a"
             ],
             [
              0.8888888888888888,
              "#fdca26"
             ],
             [
              1,
              "#f0f921"
             ]
            ],
            "type": "surface"
           }
          ],
          "table": [
           {
            "cells": {
             "fill": {
              "color": "#EBF0F8"
             },
             "line": {
              "color": "white"
             }
            },
            "header": {
             "fill": {
              "color": "#C8D4E3"
             },
             "line": {
              "color": "white"
             }
            },
            "type": "table"
           }
          ]
         },
         "layout": {
          "annotationdefaults": {
           "arrowcolor": "#2a3f5f",
           "arrowhead": 0,
           "arrowwidth": 1
          },
          "autotypenumbers": "strict",
          "coloraxis": {
           "colorbar": {
            "outlinewidth": 0,
            "ticks": ""
           }
          },
          "colorscale": {
           "diverging": [
            [
             0,
             "#8e0152"
            ],
            [
             0.1,
             "#c51b7d"
            ],
            [
             0.2,
             "#de77ae"
            ],
            [
             0.3,
             "#f1b6da"
            ],
            [
             0.4,
             "#fde0ef"
            ],
            [
             0.5,
             "#f7f7f7"
            ],
            [
             0.6,
             "#e6f5d0"
            ],
            [
             0.7,
             "#b8e186"
            ],
            [
             0.8,
             "#7fbc41"
            ],
            [
             0.9,
             "#4d9221"
            ],
            [
             1,
             "#276419"
            ]
           ],
           "sequential": [
            [
             0,
             "#0d0887"
            ],
            [
             0.1111111111111111,
             "#46039f"
            ],
            [
             0.2222222222222222,
             "#7201a8"
            ],
            [
             0.3333333333333333,
             "#9c179e"
            ],
            [
             0.4444444444444444,
             "#bd3786"
            ],
            [
             0.5555555555555556,
             "#d8576b"
            ],
            [
             0.6666666666666666,
             "#ed7953"
            ],
            [
             0.7777777777777778,
             "#fb9f3a"
            ],
            [
             0.8888888888888888,
             "#fdca26"
            ],
            [
             1,
             "#f0f921"
            ]
           ],
           "sequentialminus": [
            [
             0,
             "#0d0887"
            ],
            [
             0.1111111111111111,
             "#46039f"
            ],
            [
             0.2222222222222222,
             "#7201a8"
            ],
            [
             0.3333333333333333,
             "#9c179e"
            ],
            [
             0.4444444444444444,
             "#bd3786"
            ],
            [
             0.5555555555555556,
             "#d8576b"
            ],
            [
             0.6666666666666666,
             "#ed7953"
            ],
            [
             0.7777777777777778,
             "#fb9f3a"
            ],
            [
             0.8888888888888888,
             "#fdca26"
            ],
            [
             1,
             "#f0f921"
            ]
           ]
          },
          "colorway": [
           "#636efa",
           "#EF553B",
           "#00cc96",
           "#ab63fa",
           "#FFA15A",
           "#19d3f3",
           "#FF6692",
           "#B6E880",
           "#FF97FF",
           "#FECB52"
          ],
          "font": {
           "color": "#2a3f5f"
          },
          "geo": {
           "bgcolor": "white",
           "lakecolor": "white",
           "landcolor": "#E5ECF6",
           "showlakes": true,
           "showland": true,
           "subunitcolor": "white"
          },
          "hoverlabel": {
           "align": "left"
          },
          "hovermode": "closest",
          "mapbox": {
           "style": "light"
          },
          "paper_bgcolor": "white",
          "plot_bgcolor": "#E5ECF6",
          "polar": {
           "angularaxis": {
            "gridcolor": "white",
            "linecolor": "white",
            "ticks": ""
           },
           "bgcolor": "#E5ECF6",
           "radialaxis": {
            "gridcolor": "white",
            "linecolor": "white",
            "ticks": ""
           }
          },
          "scene": {
           "xaxis": {
            "backgroundcolor": "#E5ECF6",
            "gridcolor": "white",
            "gridwidth": 2,
            "linecolor": "white",
            "showbackground": true,
            "ticks": "",
            "zerolinecolor": "white"
           },
           "yaxis": {
            "backgroundcolor": "#E5ECF6",
            "gridcolor": "white",
            "gridwidth": 2,
            "linecolor": "white",
            "showbackground": true,
            "ticks": "",
            "zerolinecolor": "white"
           },
           "zaxis": {
            "backgroundcolor": "#E5ECF6",
            "gridcolor": "white",
            "gridwidth": 2,
            "linecolor": "white",
            "showbackground": true,
            "ticks": "",
            "zerolinecolor": "white"
           }
          },
          "shapedefaults": {
           "line": {
            "color": "#2a3f5f"
           }
          },
          "ternary": {
           "aaxis": {
            "gridcolor": "white",
            "linecolor": "white",
            "ticks": ""
           },
           "baxis": {
            "gridcolor": "white",
            "linecolor": "white",
            "ticks": ""
           },
           "bgcolor": "#E5ECF6",
           "caxis": {
            "gridcolor": "white",
            "linecolor": "white",
            "ticks": ""
           }
          },
          "title": {
           "x": 0.05
          },
          "xaxis": {
           "automargin": true,
           "gridcolor": "white",
           "linecolor": "white",
           "ticks": "",
           "title": {
            "standoff": 15
           },
           "zerolinecolor": "white",
           "zerolinewidth": 2
          },
          "yaxis": {
           "automargin": true,
           "gridcolor": "white",
           "linecolor": "white",
           "ticks": "",
           "title": {
            "standoff": 15
           },
           "zerolinecolor": "white",
           "zerolinewidth": 2
          }
         }
        },
        "title": {
         "text": "<b style=\"color:#7b8b6f;\">Percent of Churn by PaperlessBilling</b>"
        },
        "width": 500
       }
      }
     },
     "metadata": {},
     "output_type": "display_data"
    }
   ],
   "source": [
    "plot_sunburst('PaperlessBilling')"
   ]
  },
  {
   "cell_type": "markdown",
   "id": "pfTxAxg9rInJ",
   "metadata": {
    "id": "pfTxAxg9rInJ"
   },
   "source": [
    "### Payment Method"
   ]
  },
  {
   "cell_type": "markdown",
   "id": "GgaZxVzDrMdo",
   "metadata": {
    "id": "GgaZxVzDrMdo"
   },
   "source": [
    "From the chart below, interestingly, all form of Payment has the tendency to not churn, **except those who use Electronic Checking**. \n",
    "\n",
    "Those who use electronic checking, has the balanced churn vs not churn."
   ]
  },
  {
   "cell_type": "code",
   "execution_count": 33,
   "id": "8a09e4a8",
   "metadata": {
    "colab": {
     "base_uri": "https://localhost:8080/",
     "height": 517
    },
    "id": "8a09e4a8",
    "outputId": "36088b0e-df6e-458f-e30f-e838f7060b1e"
   },
   "outputs": [
    {
     "data": {
      "application/vnd.plotly.v1+json": {
       "config": {
        "plotlyServerURL": "https://plot.ly"
       },
       "data": [
        {
         "branchvalues": "total",
         "domain": {
          "x": [
           0,
           1
          ],
          "y": [
           0,
           1
          ]
         },
         "hovertemplate": "labels=%{label}<br>count=%{value}<br>parent=%{parent}<br>id=%{id}<extra></extra>",
         "ids": [
          "Bank transfer (automatic)/No",
          "Credit card (automatic)/No",
          "Electronic check/No",
          "Mailed check/No",
          "Bank transfer (automatic)/Yes",
          "Credit card (automatic)/Yes",
          "Electronic check/Yes",
          "Mailed check/Yes",
          "Bank transfer (automatic)",
          "Credit card (automatic)",
          "Electronic check",
          "Mailed check"
         ],
         "labels": [
          "No",
          "No",
          "No",
          "No",
          "Yes",
          "Yes",
          "Yes",
          "Yes",
          "Bank transfer (automatic)",
          "Credit card (automatic)",
          "Electronic check",
          "Mailed check"
         ],
         "name": "",
         "parents": [
          "Bank transfer (automatic)",
          "Credit card (automatic)",
          "Electronic check",
          "Mailed check",
          "Bank transfer (automatic)",
          "Credit card (automatic)",
          "Electronic check",
          "Mailed check",
          "",
          "",
          "",
          ""
         ],
         "textfont": {
          "size": 16
         },
         "textinfo": "label+percent parent",
         "type": "sunburst",
         "values": [
          1284,
          1289,
          1294,
          1296,
          258,
          232,
          1071,
          308,
          1542,
          1521,
          2365,
          1604
         ]
        }
       ],
       "layout": {
        "height": 500,
        "legend": {
         "tracegroupgap": 0
        },
        "margin": {
         "t": 60
        },
        "sunburstcolorway": [
         "#d11141",
         "#00b159",
         "#00aedb",
         "#f37735",
         "#ffc425"
        ],
        "template": {
         "data": {
          "bar": [
           {
            "error_x": {
             "color": "#2a3f5f"
            },
            "error_y": {
             "color": "#2a3f5f"
            },
            "marker": {
             "line": {
              "color": "#E5ECF6",
              "width": 0.5
             },
             "pattern": {
              "fillmode": "overlay",
              "size": 10,
              "solidity": 0.2
             }
            },
            "type": "bar"
           }
          ],
          "barpolar": [
           {
            "marker": {
             "line": {
              "color": "#E5ECF6",
              "width": 0.5
             },
             "pattern": {
              "fillmode": "overlay",
              "size": 10,
              "solidity": 0.2
             }
            },
            "type": "barpolar"
           }
          ],
          "carpet": [
           {
            "aaxis": {
             "endlinecolor": "#2a3f5f",
             "gridcolor": "white",
             "linecolor": "white",
             "minorgridcolor": "white",
             "startlinecolor": "#2a3f5f"
            },
            "baxis": {
             "endlinecolor": "#2a3f5f",
             "gridcolor": "white",
             "linecolor": "white",
             "minorgridcolor": "white",
             "startlinecolor": "#2a3f5f"
            },
            "type": "carpet"
           }
          ],
          "choropleth": [
           {
            "colorbar": {
             "outlinewidth": 0,
             "ticks": ""
            },
            "type": "choropleth"
           }
          ],
          "contour": [
           {
            "colorbar": {
             "outlinewidth": 0,
             "ticks": ""
            },
            "colorscale": [
             [
              0,
              "#0d0887"
             ],
             [
              0.1111111111111111,
              "#46039f"
             ],
             [
              0.2222222222222222,
              "#7201a8"
             ],
             [
              0.3333333333333333,
              "#9c179e"
             ],
             [
              0.4444444444444444,
              "#bd3786"
             ],
             [
              0.5555555555555556,
              "#d8576b"
             ],
             [
              0.6666666666666666,
              "#ed7953"
             ],
             [
              0.7777777777777778,
              "#fb9f3a"
             ],
             [
              0.8888888888888888,
              "#fdca26"
             ],
             [
              1,
              "#f0f921"
             ]
            ],
            "type": "contour"
           }
          ],
          "contourcarpet": [
           {
            "colorbar": {
             "outlinewidth": 0,
             "ticks": ""
            },
            "type": "contourcarpet"
           }
          ],
          "heatmap": [
           {
            "colorbar": {
             "outlinewidth": 0,
             "ticks": ""
            },
            "colorscale": [
             [
              0,
              "#0d0887"
             ],
             [
              0.1111111111111111,
              "#46039f"
             ],
             [
              0.2222222222222222,
              "#7201a8"
             ],
             [
              0.3333333333333333,
              "#9c179e"
             ],
             [
              0.4444444444444444,
              "#bd3786"
             ],
             [
              0.5555555555555556,
              "#d8576b"
             ],
             [
              0.6666666666666666,
              "#ed7953"
             ],
             [
              0.7777777777777778,
              "#fb9f3a"
             ],
             [
              0.8888888888888888,
              "#fdca26"
             ],
             [
              1,
              "#f0f921"
             ]
            ],
            "type": "heatmap"
           }
          ],
          "heatmapgl": [
           {
            "colorbar": {
             "outlinewidth": 0,
             "ticks": ""
            },
            "colorscale": [
             [
              0,
              "#0d0887"
             ],
             [
              0.1111111111111111,
              "#46039f"
             ],
             [
              0.2222222222222222,
              "#7201a8"
             ],
             [
              0.3333333333333333,
              "#9c179e"
             ],
             [
              0.4444444444444444,
              "#bd3786"
             ],
             [
              0.5555555555555556,
              "#d8576b"
             ],
             [
              0.6666666666666666,
              "#ed7953"
             ],
             [
              0.7777777777777778,
              "#fb9f3a"
             ],
             [
              0.8888888888888888,
              "#fdca26"
             ],
             [
              1,
              "#f0f921"
             ]
            ],
            "type": "heatmapgl"
           }
          ],
          "histogram": [
           {
            "marker": {
             "pattern": {
              "fillmode": "overlay",
              "size": 10,
              "solidity": 0.2
             }
            },
            "type": "histogram"
           }
          ],
          "histogram2d": [
           {
            "colorbar": {
             "outlinewidth": 0,
             "ticks": ""
            },
            "colorscale": [
             [
              0,
              "#0d0887"
             ],
             [
              0.1111111111111111,
              "#46039f"
             ],
             [
              0.2222222222222222,
              "#7201a8"
             ],
             [
              0.3333333333333333,
              "#9c179e"
             ],
             [
              0.4444444444444444,
              "#bd3786"
             ],
             [
              0.5555555555555556,
              "#d8576b"
             ],
             [
              0.6666666666666666,
              "#ed7953"
             ],
             [
              0.7777777777777778,
              "#fb9f3a"
             ],
             [
              0.8888888888888888,
              "#fdca26"
             ],
             [
              1,
              "#f0f921"
             ]
            ],
            "type": "histogram2d"
           }
          ],
          "histogram2dcontour": [
           {
            "colorbar": {
             "outlinewidth": 0,
             "ticks": ""
            },
            "colorscale": [
             [
              0,
              "#0d0887"
             ],
             [
              0.1111111111111111,
              "#46039f"
             ],
             [
              0.2222222222222222,
              "#7201a8"
             ],
             [
              0.3333333333333333,
              "#9c179e"
             ],
             [
              0.4444444444444444,
              "#bd3786"
             ],
             [
              0.5555555555555556,
              "#d8576b"
             ],
             [
              0.6666666666666666,
              "#ed7953"
             ],
             [
              0.7777777777777778,
              "#fb9f3a"
             ],
             [
              0.8888888888888888,
              "#fdca26"
             ],
             [
              1,
              "#f0f921"
             ]
            ],
            "type": "histogram2dcontour"
           }
          ],
          "mesh3d": [
           {
            "colorbar": {
             "outlinewidth": 0,
             "ticks": ""
            },
            "type": "mesh3d"
           }
          ],
          "parcoords": [
           {
            "line": {
             "colorbar": {
              "outlinewidth": 0,
              "ticks": ""
             }
            },
            "type": "parcoords"
           }
          ],
          "pie": [
           {
            "automargin": true,
            "type": "pie"
           }
          ],
          "scatter": [
           {
            "marker": {
             "colorbar": {
              "outlinewidth": 0,
              "ticks": ""
             }
            },
            "type": "scatter"
           }
          ],
          "scatter3d": [
           {
            "line": {
             "colorbar": {
              "outlinewidth": 0,
              "ticks": ""
             }
            },
            "marker": {
             "colorbar": {
              "outlinewidth": 0,
              "ticks": ""
             }
            },
            "type": "scatter3d"
           }
          ],
          "scattercarpet": [
           {
            "marker": {
             "colorbar": {
              "outlinewidth": 0,
              "ticks": ""
             }
            },
            "type": "scattercarpet"
           }
          ],
          "scattergeo": [
           {
            "marker": {
             "colorbar": {
              "outlinewidth": 0,
              "ticks": ""
             }
            },
            "type": "scattergeo"
           }
          ],
          "scattergl": [
           {
            "marker": {
             "colorbar": {
              "outlinewidth": 0,
              "ticks": ""
             }
            },
            "type": "scattergl"
           }
          ],
          "scattermapbox": [
           {
            "marker": {
             "colorbar": {
              "outlinewidth": 0,
              "ticks": ""
             }
            },
            "type": "scattermapbox"
           }
          ],
          "scatterpolar": [
           {
            "marker": {
             "colorbar": {
              "outlinewidth": 0,
              "ticks": ""
             }
            },
            "type": "scatterpolar"
           }
          ],
          "scatterpolargl": [
           {
            "marker": {
             "colorbar": {
              "outlinewidth": 0,
              "ticks": ""
             }
            },
            "type": "scatterpolargl"
           }
          ],
          "scatterternary": [
           {
            "marker": {
             "colorbar": {
              "outlinewidth": 0,
              "ticks": ""
             }
            },
            "type": "scatterternary"
           }
          ],
          "surface": [
           {
            "colorbar": {
             "outlinewidth": 0,
             "ticks": ""
            },
            "colorscale": [
             [
              0,
              "#0d0887"
             ],
             [
              0.1111111111111111,
              "#46039f"
             ],
             [
              0.2222222222222222,
              "#7201a8"
             ],
             [
              0.3333333333333333,
              "#9c179e"
             ],
             [
              0.4444444444444444,
              "#bd3786"
             ],
             [
              0.5555555555555556,
              "#d8576b"
             ],
             [
              0.6666666666666666,
              "#ed7953"
             ],
             [
              0.7777777777777778,
              "#fb9f3a"
             ],
             [
              0.8888888888888888,
              "#fdca26"
             ],
             [
              1,
              "#f0f921"
             ]
            ],
            "type": "surface"
           }
          ],
          "table": [
           {
            "cells": {
             "fill": {
              "color": "#EBF0F8"
             },
             "line": {
              "color": "white"
             }
            },
            "header": {
             "fill": {
              "color": "#C8D4E3"
             },
             "line": {
              "color": "white"
             }
            },
            "type": "table"
           }
          ]
         },
         "layout": {
          "annotationdefaults": {
           "arrowcolor": "#2a3f5f",
           "arrowhead": 0,
           "arrowwidth": 1
          },
          "autotypenumbers": "strict",
          "coloraxis": {
           "colorbar": {
            "outlinewidth": 0,
            "ticks": ""
           }
          },
          "colorscale": {
           "diverging": [
            [
             0,
             "#8e0152"
            ],
            [
             0.1,
             "#c51b7d"
            ],
            [
             0.2,
             "#de77ae"
            ],
            [
             0.3,
             "#f1b6da"
            ],
            [
             0.4,
             "#fde0ef"
            ],
            [
             0.5,
             "#f7f7f7"
            ],
            [
             0.6,
             "#e6f5d0"
            ],
            [
             0.7,
             "#b8e186"
            ],
            [
             0.8,
             "#7fbc41"
            ],
            [
             0.9,
             "#4d9221"
            ],
            [
             1,
             "#276419"
            ]
           ],
           "sequential": [
            [
             0,
             "#0d0887"
            ],
            [
             0.1111111111111111,
             "#46039f"
            ],
            [
             0.2222222222222222,
             "#7201a8"
            ],
            [
             0.3333333333333333,
             "#9c179e"
            ],
            [
             0.4444444444444444,
             "#bd3786"
            ],
            [
             0.5555555555555556,
             "#d8576b"
            ],
            [
             0.6666666666666666,
             "#ed7953"
            ],
            [
             0.7777777777777778,
             "#fb9f3a"
            ],
            [
             0.8888888888888888,
             "#fdca26"
            ],
            [
             1,
             "#f0f921"
            ]
           ],
           "sequentialminus": [
            [
             0,
             "#0d0887"
            ],
            [
             0.1111111111111111,
             "#46039f"
            ],
            [
             0.2222222222222222,
             "#7201a8"
            ],
            [
             0.3333333333333333,
             "#9c179e"
            ],
            [
             0.4444444444444444,
             "#bd3786"
            ],
            [
             0.5555555555555556,
             "#d8576b"
            ],
            [
             0.6666666666666666,
             "#ed7953"
            ],
            [
             0.7777777777777778,
             "#fb9f3a"
            ],
            [
             0.8888888888888888,
             "#fdca26"
            ],
            [
             1,
             "#f0f921"
            ]
           ]
          },
          "colorway": [
           "#636efa",
           "#EF553B",
           "#00cc96",
           "#ab63fa",
           "#FFA15A",
           "#19d3f3",
           "#FF6692",
           "#B6E880",
           "#FF97FF",
           "#FECB52"
          ],
          "font": {
           "color": "#2a3f5f"
          },
          "geo": {
           "bgcolor": "white",
           "lakecolor": "white",
           "landcolor": "#E5ECF6",
           "showlakes": true,
           "showland": true,
           "subunitcolor": "white"
          },
          "hoverlabel": {
           "align": "left"
          },
          "hovermode": "closest",
          "mapbox": {
           "style": "light"
          },
          "paper_bgcolor": "white",
          "plot_bgcolor": "#E5ECF6",
          "polar": {
           "angularaxis": {
            "gridcolor": "white",
            "linecolor": "white",
            "ticks": ""
           },
           "bgcolor": "#E5ECF6",
           "radialaxis": {
            "gridcolor": "white",
            "linecolor": "white",
            "ticks": ""
           }
          },
          "scene": {
           "xaxis": {
            "backgroundcolor": "#E5ECF6",
            "gridcolor": "white",
            "gridwidth": 2,
            "linecolor": "white",
            "showbackground": true,
            "ticks": "",
            "zerolinecolor": "white"
           },
           "yaxis": {
            "backgroundcolor": "#E5ECF6",
            "gridcolor": "white",
            "gridwidth": 2,
            "linecolor": "white",
            "showbackground": true,
            "ticks": "",
            "zerolinecolor": "white"
           },
           "zaxis": {
            "backgroundcolor": "#E5ECF6",
            "gridcolor": "white",
            "gridwidth": 2,
            "linecolor": "white",
            "showbackground": true,
            "ticks": "",
            "zerolinecolor": "white"
           }
          },
          "shapedefaults": {
           "line": {
            "color": "#2a3f5f"
           }
          },
          "ternary": {
           "aaxis": {
            "gridcolor": "white",
            "linecolor": "white",
            "ticks": ""
           },
           "baxis": {
            "gridcolor": "white",
            "linecolor": "white",
            "ticks": ""
           },
           "bgcolor": "#E5ECF6",
           "caxis": {
            "gridcolor": "white",
            "linecolor": "white",
            "ticks": ""
           }
          },
          "title": {
           "x": 0.05
          },
          "xaxis": {
           "automargin": true,
           "gridcolor": "white",
           "linecolor": "white",
           "ticks": "",
           "title": {
            "standoff": 15
           },
           "zerolinecolor": "white",
           "zerolinewidth": 2
          },
          "yaxis": {
           "automargin": true,
           "gridcolor": "white",
           "linecolor": "white",
           "ticks": "",
           "title": {
            "standoff": 15
           },
           "zerolinecolor": "white",
           "zerolinewidth": 2
          }
         }
        },
        "title": {
         "text": "<b style=\"color:#7b8b6f;\">Percent of Churn by PaymentMethod</b>"
        },
        "width": 500
       }
      }
     },
     "metadata": {},
     "output_type": "display_data"
    }
   ],
   "source": [
    "plot_sunburst('PaymentMethod')"
   ]
  },
  {
   "cell_type": "markdown",
   "id": "_yTUM4pzsOjP",
   "metadata": {
    "id": "_yTUM4pzsOjP"
   },
   "source": [
    "### Percent of Churn by Phone Service\n",
    "\n",
    "Although here we can see that majority of the customer opt for having Phone Service, from both spectrum (those who opt for phone service and those who does not) we can see the same conclusion for the Churn vs Not Churn. Therefore, phoneservice isn't really a contributing factor in churning."
   ]
  },
  {
   "cell_type": "code",
   "execution_count": 34,
   "id": "281ad2e0",
   "metadata": {
    "colab": {
     "base_uri": "https://localhost:8080/",
     "height": 517
    },
    "id": "281ad2e0",
    "outputId": "951aba4b-07f5-4632-e6b1-1ad028187784"
   },
   "outputs": [
    {
     "data": {
      "application/vnd.plotly.v1+json": {
       "config": {
        "plotlyServerURL": "https://plot.ly"
       },
       "data": [
        {
         "branchvalues": "total",
         "domain": {
          "x": [
           0,
           1
          ],
          "y": [
           0,
           1
          ]
         },
         "hovertemplate": "labels=%{label}<br>count=%{value}<br>parent=%{parent}<br>id=%{id}<extra></extra>",
         "ids": [
          "No/No",
          "Yes/No",
          "No/Yes",
          "Yes/Yes",
          "No",
          "Yes"
         ],
         "labels": [
          "No",
          "No",
          "Yes",
          "Yes",
          "No",
          "Yes"
         ],
         "name": "",
         "parents": [
          "No",
          "Yes",
          "No",
          "Yes",
          "",
          ""
         ],
         "textfont": {
          "size": 16
         },
         "textinfo": "label+percent parent",
         "type": "sunburst",
         "values": [
          510,
          4653,
          170,
          1699,
          680,
          6352
         ]
        }
       ],
       "layout": {
        "height": 500,
        "legend": {
         "tracegroupgap": 0
        },
        "margin": {
         "t": 60
        },
        "sunburstcolorway": [
         "#d11141",
         "#00b159",
         "#00aedb",
         "#f37735",
         "#ffc425"
        ],
        "template": {
         "data": {
          "bar": [
           {
            "error_x": {
             "color": "#2a3f5f"
            },
            "error_y": {
             "color": "#2a3f5f"
            },
            "marker": {
             "line": {
              "color": "#E5ECF6",
              "width": 0.5
             },
             "pattern": {
              "fillmode": "overlay",
              "size": 10,
              "solidity": 0.2
             }
            },
            "type": "bar"
           }
          ],
          "barpolar": [
           {
            "marker": {
             "line": {
              "color": "#E5ECF6",
              "width": 0.5
             },
             "pattern": {
              "fillmode": "overlay",
              "size": 10,
              "solidity": 0.2
             }
            },
            "type": "barpolar"
           }
          ],
          "carpet": [
           {
            "aaxis": {
             "endlinecolor": "#2a3f5f",
             "gridcolor": "white",
             "linecolor": "white",
             "minorgridcolor": "white",
             "startlinecolor": "#2a3f5f"
            },
            "baxis": {
             "endlinecolor": "#2a3f5f",
             "gridcolor": "white",
             "linecolor": "white",
             "minorgridcolor": "white",
             "startlinecolor": "#2a3f5f"
            },
            "type": "carpet"
           }
          ],
          "choropleth": [
           {
            "colorbar": {
             "outlinewidth": 0,
             "ticks": ""
            },
            "type": "choropleth"
           }
          ],
          "contour": [
           {
            "colorbar": {
             "outlinewidth": 0,
             "ticks": ""
            },
            "colorscale": [
             [
              0,
              "#0d0887"
             ],
             [
              0.1111111111111111,
              "#46039f"
             ],
             [
              0.2222222222222222,
              "#7201a8"
             ],
             [
              0.3333333333333333,
              "#9c179e"
             ],
             [
              0.4444444444444444,
              "#bd3786"
             ],
             [
              0.5555555555555556,
              "#d8576b"
             ],
             [
              0.6666666666666666,
              "#ed7953"
             ],
             [
              0.7777777777777778,
              "#fb9f3a"
             ],
             [
              0.8888888888888888,
              "#fdca26"
             ],
             [
              1,
              "#f0f921"
             ]
            ],
            "type": "contour"
           }
          ],
          "contourcarpet": [
           {
            "colorbar": {
             "outlinewidth": 0,
             "ticks": ""
            },
            "type": "contourcarpet"
           }
          ],
          "heatmap": [
           {
            "colorbar": {
             "outlinewidth": 0,
             "ticks": ""
            },
            "colorscale": [
             [
              0,
              "#0d0887"
             ],
             [
              0.1111111111111111,
              "#46039f"
             ],
             [
              0.2222222222222222,
              "#7201a8"
             ],
             [
              0.3333333333333333,
              "#9c179e"
             ],
             [
              0.4444444444444444,
              "#bd3786"
             ],
             [
              0.5555555555555556,
              "#d8576b"
             ],
             [
              0.6666666666666666,
              "#ed7953"
             ],
             [
              0.7777777777777778,
              "#fb9f3a"
             ],
             [
              0.8888888888888888,
              "#fdca26"
             ],
             [
              1,
              "#f0f921"
             ]
            ],
            "type": "heatmap"
           }
          ],
          "heatmapgl": [
           {
            "colorbar": {
             "outlinewidth": 0,
             "ticks": ""
            },
            "colorscale": [
             [
              0,
              "#0d0887"
             ],
             [
              0.1111111111111111,
              "#46039f"
             ],
             [
              0.2222222222222222,
              "#7201a8"
             ],
             [
              0.3333333333333333,
              "#9c179e"
             ],
             [
              0.4444444444444444,
              "#bd3786"
             ],
             [
              0.5555555555555556,
              "#d8576b"
             ],
             [
              0.6666666666666666,
              "#ed7953"
             ],
             [
              0.7777777777777778,
              "#fb9f3a"
             ],
             [
              0.8888888888888888,
              "#fdca26"
             ],
             [
              1,
              "#f0f921"
             ]
            ],
            "type": "heatmapgl"
           }
          ],
          "histogram": [
           {
            "marker": {
             "pattern": {
              "fillmode": "overlay",
              "size": 10,
              "solidity": 0.2
             }
            },
            "type": "histogram"
           }
          ],
          "histogram2d": [
           {
            "colorbar": {
             "outlinewidth": 0,
             "ticks": ""
            },
            "colorscale": [
             [
              0,
              "#0d0887"
             ],
             [
              0.1111111111111111,
              "#46039f"
             ],
             [
              0.2222222222222222,
              "#7201a8"
             ],
             [
              0.3333333333333333,
              "#9c179e"
             ],
             [
              0.4444444444444444,
              "#bd3786"
             ],
             [
              0.5555555555555556,
              "#d8576b"
             ],
             [
              0.6666666666666666,
              "#ed7953"
             ],
             [
              0.7777777777777778,
              "#fb9f3a"
             ],
             [
              0.8888888888888888,
              "#fdca26"
             ],
             [
              1,
              "#f0f921"
             ]
            ],
            "type": "histogram2d"
           }
          ],
          "histogram2dcontour": [
           {
            "colorbar": {
             "outlinewidth": 0,
             "ticks": ""
            },
            "colorscale": [
             [
              0,
              "#0d0887"
             ],
             [
              0.1111111111111111,
              "#46039f"
             ],
             [
              0.2222222222222222,
              "#7201a8"
             ],
             [
              0.3333333333333333,
              "#9c179e"
             ],
             [
              0.4444444444444444,
              "#bd3786"
             ],
             [
              0.5555555555555556,
              "#d8576b"
             ],
             [
              0.6666666666666666,
              "#ed7953"
             ],
             [
              0.7777777777777778,
              "#fb9f3a"
             ],
             [
              0.8888888888888888,
              "#fdca26"
             ],
             [
              1,
              "#f0f921"
             ]
            ],
            "type": "histogram2dcontour"
           }
          ],
          "mesh3d": [
           {
            "colorbar": {
             "outlinewidth": 0,
             "ticks": ""
            },
            "type": "mesh3d"
           }
          ],
          "parcoords": [
           {
            "line": {
             "colorbar": {
              "outlinewidth": 0,
              "ticks": ""
             }
            },
            "type": "parcoords"
           }
          ],
          "pie": [
           {
            "automargin": true,
            "type": "pie"
           }
          ],
          "scatter": [
           {
            "marker": {
             "colorbar": {
              "outlinewidth": 0,
              "ticks": ""
             }
            },
            "type": "scatter"
           }
          ],
          "scatter3d": [
           {
            "line": {
             "colorbar": {
              "outlinewidth": 0,
              "ticks": ""
             }
            },
            "marker": {
             "colorbar": {
              "outlinewidth": 0,
              "ticks": ""
             }
            },
            "type": "scatter3d"
           }
          ],
          "scattercarpet": [
           {
            "marker": {
             "colorbar": {
              "outlinewidth": 0,
              "ticks": ""
             }
            },
            "type": "scattercarpet"
           }
          ],
          "scattergeo": [
           {
            "marker": {
             "colorbar": {
              "outlinewidth": 0,
              "ticks": ""
             }
            },
            "type": "scattergeo"
           }
          ],
          "scattergl": [
           {
            "marker": {
             "colorbar": {
              "outlinewidth": 0,
              "ticks": ""
             }
            },
            "type": "scattergl"
           }
          ],
          "scattermapbox": [
           {
            "marker": {
             "colorbar": {
              "outlinewidth": 0,
              "ticks": ""
             }
            },
            "type": "scattermapbox"
           }
          ],
          "scatterpolar": [
           {
            "marker": {
             "colorbar": {
              "outlinewidth": 0,
              "ticks": ""
             }
            },
            "type": "scatterpolar"
           }
          ],
          "scatterpolargl": [
           {
            "marker": {
             "colorbar": {
              "outlinewidth": 0,
              "ticks": ""
             }
            },
            "type": "scatterpolargl"
           }
          ],
          "scatterternary": [
           {
            "marker": {
             "colorbar": {
              "outlinewidth": 0,
              "ticks": ""
             }
            },
            "type": "scatterternary"
           }
          ],
          "surface": [
           {
            "colorbar": {
             "outlinewidth": 0,
             "ticks": ""
            },
            "colorscale": [
             [
              0,
              "#0d0887"
             ],
             [
              0.1111111111111111,
              "#46039f"
             ],
             [
              0.2222222222222222,
              "#7201a8"
             ],
             [
              0.3333333333333333,
              "#9c179e"
             ],
             [
              0.4444444444444444,
              "#bd3786"
             ],
             [
              0.5555555555555556,
              "#d8576b"
             ],
             [
              0.6666666666666666,
              "#ed7953"
             ],
             [
              0.7777777777777778,
              "#fb9f3a"
             ],
             [
              0.8888888888888888,
              "#fdca26"
             ],
             [
              1,
              "#f0f921"
             ]
            ],
            "type": "surface"
           }
          ],
          "table": [
           {
            "cells": {
             "fill": {
              "color": "#EBF0F8"
             },
             "line": {
              "color": "white"
             }
            },
            "header": {
             "fill": {
              "color": "#C8D4E3"
             },
             "line": {
              "color": "white"
             }
            },
            "type": "table"
           }
          ]
         },
         "layout": {
          "annotationdefaults": {
           "arrowcolor": "#2a3f5f",
           "arrowhead": 0,
           "arrowwidth": 1
          },
          "autotypenumbers": "strict",
          "coloraxis": {
           "colorbar": {
            "outlinewidth": 0,
            "ticks": ""
           }
          },
          "colorscale": {
           "diverging": [
            [
             0,
             "#8e0152"
            ],
            [
             0.1,
             "#c51b7d"
            ],
            [
             0.2,
             "#de77ae"
            ],
            [
             0.3,
             "#f1b6da"
            ],
            [
             0.4,
             "#fde0ef"
            ],
            [
             0.5,
             "#f7f7f7"
            ],
            [
             0.6,
             "#e6f5d0"
            ],
            [
             0.7,
             "#b8e186"
            ],
            [
             0.8,
             "#7fbc41"
            ],
            [
             0.9,
             "#4d9221"
            ],
            [
             1,
             "#276419"
            ]
           ],
           "sequential": [
            [
             0,
             "#0d0887"
            ],
            [
             0.1111111111111111,
             "#46039f"
            ],
            [
             0.2222222222222222,
             "#7201a8"
            ],
            [
             0.3333333333333333,
             "#9c179e"
            ],
            [
             0.4444444444444444,
             "#bd3786"
            ],
            [
             0.5555555555555556,
             "#d8576b"
            ],
            [
             0.6666666666666666,
             "#ed7953"
            ],
            [
             0.7777777777777778,
             "#fb9f3a"
            ],
            [
             0.8888888888888888,
             "#fdca26"
            ],
            [
             1,
             "#f0f921"
            ]
           ],
           "sequentialminus": [
            [
             0,
             "#0d0887"
            ],
            [
             0.1111111111111111,
             "#46039f"
            ],
            [
             0.2222222222222222,
             "#7201a8"
            ],
            [
             0.3333333333333333,
             "#9c179e"
            ],
            [
             0.4444444444444444,
             "#bd3786"
            ],
            [
             0.5555555555555556,
             "#d8576b"
            ],
            [
             0.6666666666666666,
             "#ed7953"
            ],
            [
             0.7777777777777778,
             "#fb9f3a"
            ],
            [
             0.8888888888888888,
             "#fdca26"
            ],
            [
             1,
             "#f0f921"
            ]
           ]
          },
          "colorway": [
           "#636efa",
           "#EF553B",
           "#00cc96",
           "#ab63fa",
           "#FFA15A",
           "#19d3f3",
           "#FF6692",
           "#B6E880",
           "#FF97FF",
           "#FECB52"
          ],
          "font": {
           "color": "#2a3f5f"
          },
          "geo": {
           "bgcolor": "white",
           "lakecolor": "white",
           "landcolor": "#E5ECF6",
           "showlakes": true,
           "showland": true,
           "subunitcolor": "white"
          },
          "hoverlabel": {
           "align": "left"
          },
          "hovermode": "closest",
          "mapbox": {
           "style": "light"
          },
          "paper_bgcolor": "white",
          "plot_bgcolor": "#E5ECF6",
          "polar": {
           "angularaxis": {
            "gridcolor": "white",
            "linecolor": "white",
            "ticks": ""
           },
           "bgcolor": "#E5ECF6",
           "radialaxis": {
            "gridcolor": "white",
            "linecolor": "white",
            "ticks": ""
           }
          },
          "scene": {
           "xaxis": {
            "backgroundcolor": "#E5ECF6",
            "gridcolor": "white",
            "gridwidth": 2,
            "linecolor": "white",
            "showbackground": true,
            "ticks": "",
            "zerolinecolor": "white"
           },
           "yaxis": {
            "backgroundcolor": "#E5ECF6",
            "gridcolor": "white",
            "gridwidth": 2,
            "linecolor": "white",
            "showbackground": true,
            "ticks": "",
            "zerolinecolor": "white"
           },
           "zaxis": {
            "backgroundcolor": "#E5ECF6",
            "gridcolor": "white",
            "gridwidth": 2,
            "linecolor": "white",
            "showbackground": true,
            "ticks": "",
            "zerolinecolor": "white"
           }
          },
          "shapedefaults": {
           "line": {
            "color": "#2a3f5f"
           }
          },
          "ternary": {
           "aaxis": {
            "gridcolor": "white",
            "linecolor": "white",
            "ticks": ""
           },
           "baxis": {
            "gridcolor": "white",
            "linecolor": "white",
            "ticks": ""
           },
           "bgcolor": "#E5ECF6",
           "caxis": {
            "gridcolor": "white",
            "linecolor": "white",
            "ticks": ""
           }
          },
          "title": {
           "x": 0.05
          },
          "xaxis": {
           "automargin": true,
           "gridcolor": "white",
           "linecolor": "white",
           "ticks": "",
           "title": {
            "standoff": 15
           },
           "zerolinecolor": "white",
           "zerolinewidth": 2
          },
          "yaxis": {
           "automargin": true,
           "gridcolor": "white",
           "linecolor": "white",
           "ticks": "",
           "title": {
            "standoff": 15
           },
           "zerolinecolor": "white",
           "zerolinewidth": 2
          }
         }
        },
        "title": {
         "text": "<b style=\"color:#7b8b6f;\">Percent of Churn by PhoneService</b>"
        },
        "width": 500
       }
      }
     },
     "metadata": {},
     "output_type": "display_data"
    }
   ],
   "source": [
    "plot_sunburst('PhoneService')"
   ]
  },
  {
   "cell_type": "markdown",
   "id": "1CTsAbVzsfdj",
   "metadata": {
    "id": "1CTsAbVzsfdj"
   },
   "source": [
    "### Percent of Churn by Mutliple Lines"
   ]
  },
  {
   "cell_type": "markdown",
   "id": "lmlXK4GasjZ9",
   "metadata": {
    "id": "lmlXK4GasjZ9"
   },
   "source": [
    "The same with previously Phone Service, here we see no difference in churning tendency between those who have multiple lines, those who doesn't, and even those who doesn't have phone service."
   ]
  },
  {
   "cell_type": "code",
   "execution_count": 35,
   "id": "3827654c",
   "metadata": {
    "colab": {
     "base_uri": "https://localhost:8080/",
     "height": 517
    },
    "id": "3827654c",
    "outputId": "faf7818e-a59f-4bca-9db2-2e779e070e88"
   },
   "outputs": [
    {
     "data": {
      "application/vnd.plotly.v1+json": {
       "config": {
        "plotlyServerURL": "https://plot.ly"
       },
       "data": [
        {
         "branchvalues": "total",
         "domain": {
          "x": [
           0,
           1
          ],
          "y": [
           0,
           1
          ]
         },
         "hovertemplate": "labels=%{label}<br>count=%{value}<br>parent=%{parent}<br>id=%{id}<extra></extra>",
         "ids": [
          "No/No",
          "No phone service/No",
          "Yes/No",
          "No/Yes",
          "No phone service/Yes",
          "Yes/Yes",
          "No",
          "No phone service",
          "Yes"
         ],
         "labels": [
          "No",
          "No",
          "No",
          "Yes",
          "Yes",
          "Yes",
          "No",
          "No phone service",
          "Yes"
         ],
         "name": "",
         "parents": [
          "No",
          "No phone service",
          "Yes",
          "No",
          "No phone service",
          "Yes",
          "",
          "",
          ""
         ],
         "textfont": {
          "size": 16
         },
         "textinfo": "label+percent parent",
         "type": "sunburst",
         "values": [
          2536,
          510,
          2117,
          849,
          170,
          850,
          3385,
          680,
          2967
         ]
        }
       ],
       "layout": {
        "height": 500,
        "legend": {
         "tracegroupgap": 0
        },
        "margin": {
         "t": 60
        },
        "sunburstcolorway": [
         "#d11141",
         "#00b159",
         "#00aedb",
         "#f37735",
         "#ffc425"
        ],
        "template": {
         "data": {
          "bar": [
           {
            "error_x": {
             "color": "#2a3f5f"
            },
            "error_y": {
             "color": "#2a3f5f"
            },
            "marker": {
             "line": {
              "color": "#E5ECF6",
              "width": 0.5
             },
             "pattern": {
              "fillmode": "overlay",
              "size": 10,
              "solidity": 0.2
             }
            },
            "type": "bar"
           }
          ],
          "barpolar": [
           {
            "marker": {
             "line": {
              "color": "#E5ECF6",
              "width": 0.5
             },
             "pattern": {
              "fillmode": "overlay",
              "size": 10,
              "solidity": 0.2
             }
            },
            "type": "barpolar"
           }
          ],
          "carpet": [
           {
            "aaxis": {
             "endlinecolor": "#2a3f5f",
             "gridcolor": "white",
             "linecolor": "white",
             "minorgridcolor": "white",
             "startlinecolor": "#2a3f5f"
            },
            "baxis": {
             "endlinecolor": "#2a3f5f",
             "gridcolor": "white",
             "linecolor": "white",
             "minorgridcolor": "white",
             "startlinecolor": "#2a3f5f"
            },
            "type": "carpet"
           }
          ],
          "choropleth": [
           {
            "colorbar": {
             "outlinewidth": 0,
             "ticks": ""
            },
            "type": "choropleth"
           }
          ],
          "contour": [
           {
            "colorbar": {
             "outlinewidth": 0,
             "ticks": ""
            },
            "colorscale": [
             [
              0,
              "#0d0887"
             ],
             [
              0.1111111111111111,
              "#46039f"
             ],
             [
              0.2222222222222222,
              "#7201a8"
             ],
             [
              0.3333333333333333,
              "#9c179e"
             ],
             [
              0.4444444444444444,
              "#bd3786"
             ],
             [
              0.5555555555555556,
              "#d8576b"
             ],
             [
              0.6666666666666666,
              "#ed7953"
             ],
             [
              0.7777777777777778,
              "#fb9f3a"
             ],
             [
              0.8888888888888888,
              "#fdca26"
             ],
             [
              1,
              "#f0f921"
             ]
            ],
            "type": "contour"
           }
          ],
          "contourcarpet": [
           {
            "colorbar": {
             "outlinewidth": 0,
             "ticks": ""
            },
            "type": "contourcarpet"
           }
          ],
          "heatmap": [
           {
            "colorbar": {
             "outlinewidth": 0,
             "ticks": ""
            },
            "colorscale": [
             [
              0,
              "#0d0887"
             ],
             [
              0.1111111111111111,
              "#46039f"
             ],
             [
              0.2222222222222222,
              "#7201a8"
             ],
             [
              0.3333333333333333,
              "#9c179e"
             ],
             [
              0.4444444444444444,
              "#bd3786"
             ],
             [
              0.5555555555555556,
              "#d8576b"
             ],
             [
              0.6666666666666666,
              "#ed7953"
             ],
             [
              0.7777777777777778,
              "#fb9f3a"
             ],
             [
              0.8888888888888888,
              "#fdca26"
             ],
             [
              1,
              "#f0f921"
             ]
            ],
            "type": "heatmap"
           }
          ],
          "heatmapgl": [
           {
            "colorbar": {
             "outlinewidth": 0,
             "ticks": ""
            },
            "colorscale": [
             [
              0,
              "#0d0887"
             ],
             [
              0.1111111111111111,
              "#46039f"
             ],
             [
              0.2222222222222222,
              "#7201a8"
             ],
             [
              0.3333333333333333,
              "#9c179e"
             ],
             [
              0.4444444444444444,
              "#bd3786"
             ],
             [
              0.5555555555555556,
              "#d8576b"
             ],
             [
              0.6666666666666666,
              "#ed7953"
             ],
             [
              0.7777777777777778,
              "#fb9f3a"
             ],
             [
              0.8888888888888888,
              "#fdca26"
             ],
             [
              1,
              "#f0f921"
             ]
            ],
            "type": "heatmapgl"
           }
          ],
          "histogram": [
           {
            "marker": {
             "pattern": {
              "fillmode": "overlay",
              "size": 10,
              "solidity": 0.2
             }
            },
            "type": "histogram"
           }
          ],
          "histogram2d": [
           {
            "colorbar": {
             "outlinewidth": 0,
             "ticks": ""
            },
            "colorscale": [
             [
              0,
              "#0d0887"
             ],
             [
              0.1111111111111111,
              "#46039f"
             ],
             [
              0.2222222222222222,
              "#7201a8"
             ],
             [
              0.3333333333333333,
              "#9c179e"
             ],
             [
              0.4444444444444444,
              "#bd3786"
             ],
             [
              0.5555555555555556,
              "#d8576b"
             ],
             [
              0.6666666666666666,
              "#ed7953"
             ],
             [
              0.7777777777777778,
              "#fb9f3a"
             ],
             [
              0.8888888888888888,
              "#fdca26"
             ],
             [
              1,
              "#f0f921"
             ]
            ],
            "type": "histogram2d"
           }
          ],
          "histogram2dcontour": [
           {
            "colorbar": {
             "outlinewidth": 0,
             "ticks": ""
            },
            "colorscale": [
             [
              0,
              "#0d0887"
             ],
             [
              0.1111111111111111,
              "#46039f"
             ],
             [
              0.2222222222222222,
              "#7201a8"
             ],
             [
              0.3333333333333333,
              "#9c179e"
             ],
             [
              0.4444444444444444,
              "#bd3786"
             ],
             [
              0.5555555555555556,
              "#d8576b"
             ],
             [
              0.6666666666666666,
              "#ed7953"
             ],
             [
              0.7777777777777778,
              "#fb9f3a"
             ],
             [
              0.8888888888888888,
              "#fdca26"
             ],
             [
              1,
              "#f0f921"
             ]
            ],
            "type": "histogram2dcontour"
           }
          ],
          "mesh3d": [
           {
            "colorbar": {
             "outlinewidth": 0,
             "ticks": ""
            },
            "type": "mesh3d"
           }
          ],
          "parcoords": [
           {
            "line": {
             "colorbar": {
              "outlinewidth": 0,
              "ticks": ""
             }
            },
            "type": "parcoords"
           }
          ],
          "pie": [
           {
            "automargin": true,
            "type": "pie"
           }
          ],
          "scatter": [
           {
            "marker": {
             "colorbar": {
              "outlinewidth": 0,
              "ticks": ""
             }
            },
            "type": "scatter"
           }
          ],
          "scatter3d": [
           {
            "line": {
             "colorbar": {
              "outlinewidth": 0,
              "ticks": ""
             }
            },
            "marker": {
             "colorbar": {
              "outlinewidth": 0,
              "ticks": ""
             }
            },
            "type": "scatter3d"
           }
          ],
          "scattercarpet": [
           {
            "marker": {
             "colorbar": {
              "outlinewidth": 0,
              "ticks": ""
             }
            },
            "type": "scattercarpet"
           }
          ],
          "scattergeo": [
           {
            "marker": {
             "colorbar": {
              "outlinewidth": 0,
              "ticks": ""
             }
            },
            "type": "scattergeo"
           }
          ],
          "scattergl": [
           {
            "marker": {
             "colorbar": {
              "outlinewidth": 0,
              "ticks": ""
             }
            },
            "type": "scattergl"
           }
          ],
          "scattermapbox": [
           {
            "marker": {
             "colorbar": {
              "outlinewidth": 0,
              "ticks": ""
             }
            },
            "type": "scattermapbox"
           }
          ],
          "scatterpolar": [
           {
            "marker": {
             "colorbar": {
              "outlinewidth": 0,
              "ticks": ""
             }
            },
            "type": "scatterpolar"
           }
          ],
          "scatterpolargl": [
           {
            "marker": {
             "colorbar": {
              "outlinewidth": 0,
              "ticks": ""
             }
            },
            "type": "scatterpolargl"
           }
          ],
          "scatterternary": [
           {
            "marker": {
             "colorbar": {
              "outlinewidth": 0,
              "ticks": ""
             }
            },
            "type": "scatterternary"
           }
          ],
          "surface": [
           {
            "colorbar": {
             "outlinewidth": 0,
             "ticks": ""
            },
            "colorscale": [
             [
              0,
              "#0d0887"
             ],
             [
              0.1111111111111111,
              "#46039f"
             ],
             [
              0.2222222222222222,
              "#7201a8"
             ],
             [
              0.3333333333333333,
              "#9c179e"
             ],
             [
              0.4444444444444444,
              "#bd3786"
             ],
             [
              0.5555555555555556,
              "#d8576b"
             ],
             [
              0.6666666666666666,
              "#ed7953"
             ],
             [
              0.7777777777777778,
              "#fb9f3a"
             ],
             [
              0.8888888888888888,
              "#fdca26"
             ],
             [
              1,
              "#f0f921"
             ]
            ],
            "type": "surface"
           }
          ],
          "table": [
           {
            "cells": {
             "fill": {
              "color": "#EBF0F8"
             },
             "line": {
              "color": "white"
             }
            },
            "header": {
             "fill": {
              "color": "#C8D4E3"
             },
             "line": {
              "color": "white"
             }
            },
            "type": "table"
           }
          ]
         },
         "layout": {
          "annotationdefaults": {
           "arrowcolor": "#2a3f5f",
           "arrowhead": 0,
           "arrowwidth": 1
          },
          "autotypenumbers": "strict",
          "coloraxis": {
           "colorbar": {
            "outlinewidth": 0,
            "ticks": ""
           }
          },
          "colorscale": {
           "diverging": [
            [
             0,
             "#8e0152"
            ],
            [
             0.1,
             "#c51b7d"
            ],
            [
             0.2,
             "#de77ae"
            ],
            [
             0.3,
             "#f1b6da"
            ],
            [
             0.4,
             "#fde0ef"
            ],
            [
             0.5,
             "#f7f7f7"
            ],
            [
             0.6,
             "#e6f5d0"
            ],
            [
             0.7,
             "#b8e186"
            ],
            [
             0.8,
             "#7fbc41"
            ],
            [
             0.9,
             "#4d9221"
            ],
            [
             1,
             "#276419"
            ]
           ],
           "sequential": [
            [
             0,
             "#0d0887"
            ],
            [
             0.1111111111111111,
             "#46039f"
            ],
            [
             0.2222222222222222,
             "#7201a8"
            ],
            [
             0.3333333333333333,
             "#9c179e"
            ],
            [
             0.4444444444444444,
             "#bd3786"
            ],
            [
             0.5555555555555556,
             "#d8576b"
            ],
            [
             0.6666666666666666,
             "#ed7953"
            ],
            [
             0.7777777777777778,
             "#fb9f3a"
            ],
            [
             0.8888888888888888,
             "#fdca26"
            ],
            [
             1,
             "#f0f921"
            ]
           ],
           "sequentialminus": [
            [
             0,
             "#0d0887"
            ],
            [
             0.1111111111111111,
             "#46039f"
            ],
            [
             0.2222222222222222,
             "#7201a8"
            ],
            [
             0.3333333333333333,
             "#9c179e"
            ],
            [
             0.4444444444444444,
             "#bd3786"
            ],
            [
             0.5555555555555556,
             "#d8576b"
            ],
            [
             0.6666666666666666,
             "#ed7953"
            ],
            [
             0.7777777777777778,
             "#fb9f3a"
            ],
            [
             0.8888888888888888,
             "#fdca26"
            ],
            [
             1,
             "#f0f921"
            ]
           ]
          },
          "colorway": [
           "#636efa",
           "#EF553B",
           "#00cc96",
           "#ab63fa",
           "#FFA15A",
           "#19d3f3",
           "#FF6692",
           "#B6E880",
           "#FF97FF",
           "#FECB52"
          ],
          "font": {
           "color": "#2a3f5f"
          },
          "geo": {
           "bgcolor": "white",
           "lakecolor": "white",
           "landcolor": "#E5ECF6",
           "showlakes": true,
           "showland": true,
           "subunitcolor": "white"
          },
          "hoverlabel": {
           "align": "left"
          },
          "hovermode": "closest",
          "mapbox": {
           "style": "light"
          },
          "paper_bgcolor": "white",
          "plot_bgcolor": "#E5ECF6",
          "polar": {
           "angularaxis": {
            "gridcolor": "white",
            "linecolor": "white",
            "ticks": ""
           },
           "bgcolor": "#E5ECF6",
           "radialaxis": {
            "gridcolor": "white",
            "linecolor": "white",
            "ticks": ""
           }
          },
          "scene": {
           "xaxis": {
            "backgroundcolor": "#E5ECF6",
            "gridcolor": "white",
            "gridwidth": 2,
            "linecolor": "white",
            "showbackground": true,
            "ticks": "",
            "zerolinecolor": "white"
           },
           "yaxis": {
            "backgroundcolor": "#E5ECF6",
            "gridcolor": "white",
            "gridwidth": 2,
            "linecolor": "white",
            "showbackground": true,
            "ticks": "",
            "zerolinecolor": "white"
           },
           "zaxis": {
            "backgroundcolor": "#E5ECF6",
            "gridcolor": "white",
            "gridwidth": 2,
            "linecolor": "white",
            "showbackground": true,
            "ticks": "",
            "zerolinecolor": "white"
           }
          },
          "shapedefaults": {
           "line": {
            "color": "#2a3f5f"
           }
          },
          "ternary": {
           "aaxis": {
            "gridcolor": "white",
            "linecolor": "white",
            "ticks": ""
           },
           "baxis": {
            "gridcolor": "white",
            "linecolor": "white",
            "ticks": ""
           },
           "bgcolor": "#E5ECF6",
           "caxis": {
            "gridcolor": "white",
            "linecolor": "white",
            "ticks": ""
           }
          },
          "title": {
           "x": 0.05
          },
          "xaxis": {
           "automargin": true,
           "gridcolor": "white",
           "linecolor": "white",
           "ticks": "",
           "title": {
            "standoff": 15
           },
           "zerolinecolor": "white",
           "zerolinewidth": 2
          },
          "yaxis": {
           "automargin": true,
           "gridcolor": "white",
           "linecolor": "white",
           "ticks": "",
           "title": {
            "standoff": 15
           },
           "zerolinecolor": "white",
           "zerolinewidth": 2
          }
         }
        },
        "title": {
         "text": "<b style=\"color:#7b8b6f;\">Percent of Churn by MultipleLines</b>"
        },
        "width": 500
       }
      }
     },
     "metadata": {},
     "output_type": "display_data"
    }
   ],
   "source": [
    "plot_sunburst('MultipleLines')"
   ]
  },
  {
   "cell_type": "markdown",
   "id": "2XWLvFlfstZZ",
   "metadata": {
    "id": "2XWLvFlfstZZ"
   },
   "source": [
    "### Percent of Churn by Internet Service"
   ]
  },
  {
   "cell_type": "markdown",
   "id": "SAilUqmRsxR9",
   "metadata": {
    "id": "SAilUqmRsxR9"
   },
   "source": [
    "For DSL and No Internet Service, surprisingly we see the high tendency to not Churning. But for Fiber optic, we does see a pretty much 50-50 tendency of churning and not churning.\n",
    "\n",
    "This can be highlighted and investigated more. Maybe there is something wrong with the Fiber Optic Service."
   ]
  },
  {
   "cell_type": "code",
   "execution_count": 36,
   "id": "4cb02224",
   "metadata": {
    "colab": {
     "base_uri": "https://localhost:8080/",
     "height": 517
    },
    "id": "4cb02224",
    "outputId": "afd4171b-28ca-4ffe-9f23-cdee7bd9f01e"
   },
   "outputs": [
    {
     "data": {
      "application/vnd.plotly.v1+json": {
       "config": {
        "plotlyServerURL": "https://plot.ly"
       },
       "data": [
        {
         "branchvalues": "total",
         "domain": {
          "x": [
           0,
           1
          ],
          "y": [
           0,
           1
          ]
         },
         "hovertemplate": "labels=%{label}<br>count=%{value}<br>parent=%{parent}<br>id=%{id}<extra></extra>",
         "ids": [
          "DSL/No",
          "Fiber optic/No",
          "No/No",
          "DSL/Yes",
          "Fiber optic/Yes",
          "No/Yes",
          "DSL",
          "Fiber optic",
          "No"
         ],
         "labels": [
          "No",
          "No",
          "No",
          "Yes",
          "Yes",
          "Yes",
          "DSL",
          "Fiber optic",
          "No"
         ],
         "name": "",
         "parents": [
          "DSL",
          "Fiber optic",
          "No",
          "DSL",
          "Fiber optic",
          "No",
          "",
          "",
          ""
         ],
         "textfont": {
          "size": 16
         },
         "textinfo": "label+percent parent",
         "type": "sunburst",
         "values": [
          1957,
          1799,
          1407,
          459,
          1297,
          113,
          2416,
          3096,
          1520
         ]
        }
       ],
       "layout": {
        "height": 500,
        "legend": {
         "tracegroupgap": 0
        },
        "margin": {
         "t": 60
        },
        "sunburstcolorway": [
         "#d11141",
         "#00b159",
         "#00aedb",
         "#f37735",
         "#ffc425"
        ],
        "template": {
         "data": {
          "bar": [
           {
            "error_x": {
             "color": "#2a3f5f"
            },
            "error_y": {
             "color": "#2a3f5f"
            },
            "marker": {
             "line": {
              "color": "#E5ECF6",
              "width": 0.5
             },
             "pattern": {
              "fillmode": "overlay",
              "size": 10,
              "solidity": 0.2
             }
            },
            "type": "bar"
           }
          ],
          "barpolar": [
           {
            "marker": {
             "line": {
              "color": "#E5ECF6",
              "width": 0.5
             },
             "pattern": {
              "fillmode": "overlay",
              "size": 10,
              "solidity": 0.2
             }
            },
            "type": "barpolar"
           }
          ],
          "carpet": [
           {
            "aaxis": {
             "endlinecolor": "#2a3f5f",
             "gridcolor": "white",
             "linecolor": "white",
             "minorgridcolor": "white",
             "startlinecolor": "#2a3f5f"
            },
            "baxis": {
             "endlinecolor": "#2a3f5f",
             "gridcolor": "white",
             "linecolor": "white",
             "minorgridcolor": "white",
             "startlinecolor": "#2a3f5f"
            },
            "type": "carpet"
           }
          ],
          "choropleth": [
           {
            "colorbar": {
             "outlinewidth": 0,
             "ticks": ""
            },
            "type": "choropleth"
           }
          ],
          "contour": [
           {
            "colorbar": {
             "outlinewidth": 0,
             "ticks": ""
            },
            "colorscale": [
             [
              0,
              "#0d0887"
             ],
             [
              0.1111111111111111,
              "#46039f"
             ],
             [
              0.2222222222222222,
              "#7201a8"
             ],
             [
              0.3333333333333333,
              "#9c179e"
             ],
             [
              0.4444444444444444,
              "#bd3786"
             ],
             [
              0.5555555555555556,
              "#d8576b"
             ],
             [
              0.6666666666666666,
              "#ed7953"
             ],
             [
              0.7777777777777778,
              "#fb9f3a"
             ],
             [
              0.8888888888888888,
              "#fdca26"
             ],
             [
              1,
              "#f0f921"
             ]
            ],
            "type": "contour"
           }
          ],
          "contourcarpet": [
           {
            "colorbar": {
             "outlinewidth": 0,
             "ticks": ""
            },
            "type": "contourcarpet"
           }
          ],
          "heatmap": [
           {
            "colorbar": {
             "outlinewidth": 0,
             "ticks": ""
            },
            "colorscale": [
             [
              0,
              "#0d0887"
             ],
             [
              0.1111111111111111,
              "#46039f"
             ],
             [
              0.2222222222222222,
              "#7201a8"
             ],
             [
              0.3333333333333333,
              "#9c179e"
             ],
             [
              0.4444444444444444,
              "#bd3786"
             ],
             [
              0.5555555555555556,
              "#d8576b"
             ],
             [
              0.6666666666666666,
              "#ed7953"
             ],
             [
              0.7777777777777778,
              "#fb9f3a"
             ],
             [
              0.8888888888888888,
              "#fdca26"
             ],
             [
              1,
              "#f0f921"
             ]
            ],
            "type": "heatmap"
           }
          ],
          "heatmapgl": [
           {
            "colorbar": {
             "outlinewidth": 0,
             "ticks": ""
            },
            "colorscale": [
             [
              0,
              "#0d0887"
             ],
             [
              0.1111111111111111,
              "#46039f"
             ],
             [
              0.2222222222222222,
              "#7201a8"
             ],
             [
              0.3333333333333333,
              "#9c179e"
             ],
             [
              0.4444444444444444,
              "#bd3786"
             ],
             [
              0.5555555555555556,
              "#d8576b"
             ],
             [
              0.6666666666666666,
              "#ed7953"
             ],
             [
              0.7777777777777778,
              "#fb9f3a"
             ],
             [
              0.8888888888888888,
              "#fdca26"
             ],
             [
              1,
              "#f0f921"
             ]
            ],
            "type": "heatmapgl"
           }
          ],
          "histogram": [
           {
            "marker": {
             "pattern": {
              "fillmode": "overlay",
              "size": 10,
              "solidity": 0.2
             }
            },
            "type": "histogram"
           }
          ],
          "histogram2d": [
           {
            "colorbar": {
             "outlinewidth": 0,
             "ticks": ""
            },
            "colorscale": [
             [
              0,
              "#0d0887"
             ],
             [
              0.1111111111111111,
              "#46039f"
             ],
             [
              0.2222222222222222,
              "#7201a8"
             ],
             [
              0.3333333333333333,
              "#9c179e"
             ],
             [
              0.4444444444444444,
              "#bd3786"
             ],
             [
              0.5555555555555556,
              "#d8576b"
             ],
             [
              0.6666666666666666,
              "#ed7953"
             ],
             [
              0.7777777777777778,
              "#fb9f3a"
             ],
             [
              0.8888888888888888,
              "#fdca26"
             ],
             [
              1,
              "#f0f921"
             ]
            ],
            "type": "histogram2d"
           }
          ],
          "histogram2dcontour": [
           {
            "colorbar": {
             "outlinewidth": 0,
             "ticks": ""
            },
            "colorscale": [
             [
              0,
              "#0d0887"
             ],
             [
              0.1111111111111111,
              "#46039f"
             ],
             [
              0.2222222222222222,
              "#7201a8"
             ],
             [
              0.3333333333333333,
              "#9c179e"
             ],
             [
              0.4444444444444444,
              "#bd3786"
             ],
             [
              0.5555555555555556,
              "#d8576b"
             ],
             [
              0.6666666666666666,
              "#ed7953"
             ],
             [
              0.7777777777777778,
              "#fb9f3a"
             ],
             [
              0.8888888888888888,
              "#fdca26"
             ],
             [
              1,
              "#f0f921"
             ]
            ],
            "type": "histogram2dcontour"
           }
          ],
          "mesh3d": [
           {
            "colorbar": {
             "outlinewidth": 0,
             "ticks": ""
            },
            "type": "mesh3d"
           }
          ],
          "parcoords": [
           {
            "line": {
             "colorbar": {
              "outlinewidth": 0,
              "ticks": ""
             }
            },
            "type": "parcoords"
           }
          ],
          "pie": [
           {
            "automargin": true,
            "type": "pie"
           }
          ],
          "scatter": [
           {
            "marker": {
             "colorbar": {
              "outlinewidth": 0,
              "ticks": ""
             }
            },
            "type": "scatter"
           }
          ],
          "scatter3d": [
           {
            "line": {
             "colorbar": {
              "outlinewidth": 0,
              "ticks": ""
             }
            },
            "marker": {
             "colorbar": {
              "outlinewidth": 0,
              "ticks": ""
             }
            },
            "type": "scatter3d"
           }
          ],
          "scattercarpet": [
           {
            "marker": {
             "colorbar": {
              "outlinewidth": 0,
              "ticks": ""
             }
            },
            "type": "scattercarpet"
           }
          ],
          "scattergeo": [
           {
            "marker": {
             "colorbar": {
              "outlinewidth": 0,
              "ticks": ""
             }
            },
            "type": "scattergeo"
           }
          ],
          "scattergl": [
           {
            "marker": {
             "colorbar": {
              "outlinewidth": 0,
              "ticks": ""
             }
            },
            "type": "scattergl"
           }
          ],
          "scattermapbox": [
           {
            "marker": {
             "colorbar": {
              "outlinewidth": 0,
              "ticks": ""
             }
            },
            "type": "scattermapbox"
           }
          ],
          "scatterpolar": [
           {
            "marker": {
             "colorbar": {
              "outlinewidth": 0,
              "ticks": ""
             }
            },
            "type": "scatterpolar"
           }
          ],
          "scatterpolargl": [
           {
            "marker": {
             "colorbar": {
              "outlinewidth": 0,
              "ticks": ""
             }
            },
            "type": "scatterpolargl"
           }
          ],
          "scatterternary": [
           {
            "marker": {
             "colorbar": {
              "outlinewidth": 0,
              "ticks": ""
             }
            },
            "type": "scatterternary"
           }
          ],
          "surface": [
           {
            "colorbar": {
             "outlinewidth": 0,
             "ticks": ""
            },
            "colorscale": [
             [
              0,
              "#0d0887"
             ],
             [
              0.1111111111111111,
              "#46039f"
             ],
             [
              0.2222222222222222,
              "#7201a8"
             ],
             [
              0.3333333333333333,
              "#9c179e"
             ],
             [
              0.4444444444444444,
              "#bd3786"
             ],
             [
              0.5555555555555556,
              "#d8576b"
             ],
             [
              0.6666666666666666,
              "#ed7953"
             ],
             [
              0.7777777777777778,
              "#fb9f3a"
             ],
             [
              0.8888888888888888,
              "#fdca26"
             ],
             [
              1,
              "#f0f921"
             ]
            ],
            "type": "surface"
           }
          ],
          "table": [
           {
            "cells": {
             "fill": {
              "color": "#EBF0F8"
             },
             "line": {
              "color": "white"
             }
            },
            "header": {
             "fill": {
              "color": "#C8D4E3"
             },
             "line": {
              "color": "white"
             }
            },
            "type": "table"
           }
          ]
         },
         "layout": {
          "annotationdefaults": {
           "arrowcolor": "#2a3f5f",
           "arrowhead": 0,
           "arrowwidth": 1
          },
          "autotypenumbers": "strict",
          "coloraxis": {
           "colorbar": {
            "outlinewidth": 0,
            "ticks": ""
           }
          },
          "colorscale": {
           "diverging": [
            [
             0,
             "#8e0152"
            ],
            [
             0.1,
             "#c51b7d"
            ],
            [
             0.2,
             "#de77ae"
            ],
            [
             0.3,
             "#f1b6da"
            ],
            [
             0.4,
             "#fde0ef"
            ],
            [
             0.5,
             "#f7f7f7"
            ],
            [
             0.6,
             "#e6f5d0"
            ],
            [
             0.7,
             "#b8e186"
            ],
            [
             0.8,
             "#7fbc41"
            ],
            [
             0.9,
             "#4d9221"
            ],
            [
             1,
             "#276419"
            ]
           ],
           "sequential": [
            [
             0,
             "#0d0887"
            ],
            [
             0.1111111111111111,
             "#46039f"
            ],
            [
             0.2222222222222222,
             "#7201a8"
            ],
            [
             0.3333333333333333,
             "#9c179e"
            ],
            [
             0.4444444444444444,
             "#bd3786"
            ],
            [
             0.5555555555555556,
             "#d8576b"
            ],
            [
             0.6666666666666666,
             "#ed7953"
            ],
            [
             0.7777777777777778,
             "#fb9f3a"
            ],
            [
             0.8888888888888888,
             "#fdca26"
            ],
            [
             1,
             "#f0f921"
            ]
           ],
           "sequentialminus": [
            [
             0,
             "#0d0887"
            ],
            [
             0.1111111111111111,
             "#46039f"
            ],
            [
             0.2222222222222222,
             "#7201a8"
            ],
            [
             0.3333333333333333,
             "#9c179e"
            ],
            [
             0.4444444444444444,
             "#bd3786"
            ],
            [
             0.5555555555555556,
             "#d8576b"
            ],
            [
             0.6666666666666666,
             "#ed7953"
            ],
            [
             0.7777777777777778,
             "#fb9f3a"
            ],
            [
             0.8888888888888888,
             "#fdca26"
            ],
            [
             1,
             "#f0f921"
            ]
           ]
          },
          "colorway": [
           "#636efa",
           "#EF553B",
           "#00cc96",
           "#ab63fa",
           "#FFA15A",
           "#19d3f3",
           "#FF6692",
           "#B6E880",
           "#FF97FF",
           "#FECB52"
          ],
          "font": {
           "color": "#2a3f5f"
          },
          "geo": {
           "bgcolor": "white",
           "lakecolor": "white",
           "landcolor": "#E5ECF6",
           "showlakes": true,
           "showland": true,
           "subunitcolor": "white"
          },
          "hoverlabel": {
           "align": "left"
          },
          "hovermode": "closest",
          "mapbox": {
           "style": "light"
          },
          "paper_bgcolor": "white",
          "plot_bgcolor": "#E5ECF6",
          "polar": {
           "angularaxis": {
            "gridcolor": "white",
            "linecolor": "white",
            "ticks": ""
           },
           "bgcolor": "#E5ECF6",
           "radialaxis": {
            "gridcolor": "white",
            "linecolor": "white",
            "ticks": ""
           }
          },
          "scene": {
           "xaxis": {
            "backgroundcolor": "#E5ECF6",
            "gridcolor": "white",
            "gridwidth": 2,
            "linecolor": "white",
            "showbackground": true,
            "ticks": "",
            "zerolinecolor": "white"
           },
           "yaxis": {
            "backgroundcolor": "#E5ECF6",
            "gridcolor": "white",
            "gridwidth": 2,
            "linecolor": "white",
            "showbackground": true,
            "ticks": "",
            "zerolinecolor": "white"
           },
           "zaxis": {
            "backgroundcolor": "#E5ECF6",
            "gridcolor": "white",
            "gridwidth": 2,
            "linecolor": "white",
            "showbackground": true,
            "ticks": "",
            "zerolinecolor": "white"
           }
          },
          "shapedefaults": {
           "line": {
            "color": "#2a3f5f"
           }
          },
          "ternary": {
           "aaxis": {
            "gridcolor": "white",
            "linecolor": "white",
            "ticks": ""
           },
           "baxis": {
            "gridcolor": "white",
            "linecolor": "white",
            "ticks": ""
           },
           "bgcolor": "#E5ECF6",
           "caxis": {
            "gridcolor": "white",
            "linecolor": "white",
            "ticks": ""
           }
          },
          "title": {
           "x": 0.05
          },
          "xaxis": {
           "automargin": true,
           "gridcolor": "white",
           "linecolor": "white",
           "ticks": "",
           "title": {
            "standoff": 15
           },
           "zerolinecolor": "white",
           "zerolinewidth": 2
          },
          "yaxis": {
           "automargin": true,
           "gridcolor": "white",
           "linecolor": "white",
           "ticks": "",
           "title": {
            "standoff": 15
           },
           "zerolinecolor": "white",
           "zerolinewidth": 2
          }
         }
        },
        "title": {
         "text": "<b style=\"color:#7b8b6f;\">Percent of Churn by InternetService</b>"
        },
        "width": 500
       }
      }
     },
     "metadata": {},
     "output_type": "display_data"
    }
   ],
   "source": [
    "plot_sunburst('InternetService')"
   ]
  },
  {
   "cell_type": "markdown",
   "id": "rmvsUTsMs_qM",
   "metadata": {
    "id": "rmvsUTsMs_qM"
   },
   "source": [
    "### Percent of Churn by Online Security\n",
    "\n",
    "Here, as expected, we can see those who doesn't have the online security service tend to churn more than those who does have it (and those who doesn't have interenet service)."
   ]
  },
  {
   "cell_type": "code",
   "execution_count": 37,
   "id": "c083eb90",
   "metadata": {
    "colab": {
     "base_uri": "https://localhost:8080/",
     "height": 517
    },
    "id": "c083eb90",
    "outputId": "8e412116-1db9-46b0-ca05-e52f939a64d0"
   },
   "outputs": [
    {
     "data": {
      "application/vnd.plotly.v1+json": {
       "config": {
        "plotlyServerURL": "https://plot.ly"
       },
       "data": [
        {
         "branchvalues": "total",
         "domain": {
          "x": [
           0,
           1
          ],
          "y": [
           0,
           1
          ]
         },
         "hovertemplate": "labels=%{label}<br>count=%{value}<br>parent=%{parent}<br>id=%{id}<extra></extra>",
         "ids": [
          "No/No",
          "No internet service/No",
          "Yes/No",
          "No/Yes",
          "No internet service/Yes",
          "Yes/Yes",
          "No",
          "No internet service",
          "Yes"
         ],
         "labels": [
          "No",
          "No",
          "No",
          "Yes",
          "Yes",
          "Yes",
          "No",
          "No internet service",
          "Yes"
         ],
         "name": "",
         "parents": [
          "No",
          "No internet service",
          "Yes",
          "No",
          "No internet service",
          "Yes",
          "",
          "",
          ""
         ],
         "textfont": {
          "size": 16
         },
         "textinfo": "label+percent parent",
         "type": "sunburst",
         "values": [
          2036,
          1407,
          1720,
          1461,
          113,
          295,
          3497,
          1520,
          2015
         ]
        }
       ],
       "layout": {
        "height": 500,
        "legend": {
         "tracegroupgap": 0
        },
        "margin": {
         "t": 60
        },
        "sunburstcolorway": [
         "#d11141",
         "#00b159",
         "#00aedb",
         "#f37735",
         "#ffc425"
        ],
        "template": {
         "data": {
          "bar": [
           {
            "error_x": {
             "color": "#2a3f5f"
            },
            "error_y": {
             "color": "#2a3f5f"
            },
            "marker": {
             "line": {
              "color": "#E5ECF6",
              "width": 0.5
             },
             "pattern": {
              "fillmode": "overlay",
              "size": 10,
              "solidity": 0.2
             }
            },
            "type": "bar"
           }
          ],
          "barpolar": [
           {
            "marker": {
             "line": {
              "color": "#E5ECF6",
              "width": 0.5
             },
             "pattern": {
              "fillmode": "overlay",
              "size": 10,
              "solidity": 0.2
             }
            },
            "type": "barpolar"
           }
          ],
          "carpet": [
           {
            "aaxis": {
             "endlinecolor": "#2a3f5f",
             "gridcolor": "white",
             "linecolor": "white",
             "minorgridcolor": "white",
             "startlinecolor": "#2a3f5f"
            },
            "baxis": {
             "endlinecolor": "#2a3f5f",
             "gridcolor": "white",
             "linecolor": "white",
             "minorgridcolor": "white",
             "startlinecolor": "#2a3f5f"
            },
            "type": "carpet"
           }
          ],
          "choropleth": [
           {
            "colorbar": {
             "outlinewidth": 0,
             "ticks": ""
            },
            "type": "choropleth"
           }
          ],
          "contour": [
           {
            "colorbar": {
             "outlinewidth": 0,
             "ticks": ""
            },
            "colorscale": [
             [
              0,
              "#0d0887"
             ],
             [
              0.1111111111111111,
              "#46039f"
             ],
             [
              0.2222222222222222,
              "#7201a8"
             ],
             [
              0.3333333333333333,
              "#9c179e"
             ],
             [
              0.4444444444444444,
              "#bd3786"
             ],
             [
              0.5555555555555556,
              "#d8576b"
             ],
             [
              0.6666666666666666,
              "#ed7953"
             ],
             [
              0.7777777777777778,
              "#fb9f3a"
             ],
             [
              0.8888888888888888,
              "#fdca26"
             ],
             [
              1,
              "#f0f921"
             ]
            ],
            "type": "contour"
           }
          ],
          "contourcarpet": [
           {
            "colorbar": {
             "outlinewidth": 0,
             "ticks": ""
            },
            "type": "contourcarpet"
           }
          ],
          "heatmap": [
           {
            "colorbar": {
             "outlinewidth": 0,
             "ticks": ""
            },
            "colorscale": [
             [
              0,
              "#0d0887"
             ],
             [
              0.1111111111111111,
              "#46039f"
             ],
             [
              0.2222222222222222,
              "#7201a8"
             ],
             [
              0.3333333333333333,
              "#9c179e"
             ],
             [
              0.4444444444444444,
              "#bd3786"
             ],
             [
              0.5555555555555556,
              "#d8576b"
             ],
             [
              0.6666666666666666,
              "#ed7953"
             ],
             [
              0.7777777777777778,
              "#fb9f3a"
             ],
             [
              0.8888888888888888,
              "#fdca26"
             ],
             [
              1,
              "#f0f921"
             ]
            ],
            "type": "heatmap"
           }
          ],
          "heatmapgl": [
           {
            "colorbar": {
             "outlinewidth": 0,
             "ticks": ""
            },
            "colorscale": [
             [
              0,
              "#0d0887"
             ],
             [
              0.1111111111111111,
              "#46039f"
             ],
             [
              0.2222222222222222,
              "#7201a8"
             ],
             [
              0.3333333333333333,
              "#9c179e"
             ],
             [
              0.4444444444444444,
              "#bd3786"
             ],
             [
              0.5555555555555556,
              "#d8576b"
             ],
             [
              0.6666666666666666,
              "#ed7953"
             ],
             [
              0.7777777777777778,
              "#fb9f3a"
             ],
             [
              0.8888888888888888,
              "#fdca26"
             ],
             [
              1,
              "#f0f921"
             ]
            ],
            "type": "heatmapgl"
           }
          ],
          "histogram": [
           {
            "marker": {
             "pattern": {
              "fillmode": "overlay",
              "size": 10,
              "solidity": 0.2
             }
            },
            "type": "histogram"
           }
          ],
          "histogram2d": [
           {
            "colorbar": {
             "outlinewidth": 0,
             "ticks": ""
            },
            "colorscale": [
             [
              0,
              "#0d0887"
             ],
             [
              0.1111111111111111,
              "#46039f"
             ],
             [
              0.2222222222222222,
              "#7201a8"
             ],
             [
              0.3333333333333333,
              "#9c179e"
             ],
             [
              0.4444444444444444,
              "#bd3786"
             ],
             [
              0.5555555555555556,
              "#d8576b"
             ],
             [
              0.6666666666666666,
              "#ed7953"
             ],
             [
              0.7777777777777778,
              "#fb9f3a"
             ],
             [
              0.8888888888888888,
              "#fdca26"
             ],
             [
              1,
              "#f0f921"
             ]
            ],
            "type": "histogram2d"
           }
          ],
          "histogram2dcontour": [
           {
            "colorbar": {
             "outlinewidth": 0,
             "ticks": ""
            },
            "colorscale": [
             [
              0,
              "#0d0887"
             ],
             [
              0.1111111111111111,
              "#46039f"
             ],
             [
              0.2222222222222222,
              "#7201a8"
             ],
             [
              0.3333333333333333,
              "#9c179e"
             ],
             [
              0.4444444444444444,
              "#bd3786"
             ],
             [
              0.5555555555555556,
              "#d8576b"
             ],
             [
              0.6666666666666666,
              "#ed7953"
             ],
             [
              0.7777777777777778,
              "#fb9f3a"
             ],
             [
              0.8888888888888888,
              "#fdca26"
             ],
             [
              1,
              "#f0f921"
             ]
            ],
            "type": "histogram2dcontour"
           }
          ],
          "mesh3d": [
           {
            "colorbar": {
             "outlinewidth": 0,
             "ticks": ""
            },
            "type": "mesh3d"
           }
          ],
          "parcoords": [
           {
            "line": {
             "colorbar": {
              "outlinewidth": 0,
              "ticks": ""
             }
            },
            "type": "parcoords"
           }
          ],
          "pie": [
           {
            "automargin": true,
            "type": "pie"
           }
          ],
          "scatter": [
           {
            "marker": {
             "colorbar": {
              "outlinewidth": 0,
              "ticks": ""
             }
            },
            "type": "scatter"
           }
          ],
          "scatter3d": [
           {
            "line": {
             "colorbar": {
              "outlinewidth": 0,
              "ticks": ""
             }
            },
            "marker": {
             "colorbar": {
              "outlinewidth": 0,
              "ticks": ""
             }
            },
            "type": "scatter3d"
           }
          ],
          "scattercarpet": [
           {
            "marker": {
             "colorbar": {
              "outlinewidth": 0,
              "ticks": ""
             }
            },
            "type": "scattercarpet"
           }
          ],
          "scattergeo": [
           {
            "marker": {
             "colorbar": {
              "outlinewidth": 0,
              "ticks": ""
             }
            },
            "type": "scattergeo"
           }
          ],
          "scattergl": [
           {
            "marker": {
             "colorbar": {
              "outlinewidth": 0,
              "ticks": ""
             }
            },
            "type": "scattergl"
           }
          ],
          "scattermapbox": [
           {
            "marker": {
             "colorbar": {
              "outlinewidth": 0,
              "ticks": ""
             }
            },
            "type": "scattermapbox"
           }
          ],
          "scatterpolar": [
           {
            "marker": {
             "colorbar": {
              "outlinewidth": 0,
              "ticks": ""
             }
            },
            "type": "scatterpolar"
           }
          ],
          "scatterpolargl": [
           {
            "marker": {
             "colorbar": {
              "outlinewidth": 0,
              "ticks": ""
             }
            },
            "type": "scatterpolargl"
           }
          ],
          "scatterternary": [
           {
            "marker": {
             "colorbar": {
              "outlinewidth": 0,
              "ticks": ""
             }
            },
            "type": "scatterternary"
           }
          ],
          "surface": [
           {
            "colorbar": {
             "outlinewidth": 0,
             "ticks": ""
            },
            "colorscale": [
             [
              0,
              "#0d0887"
             ],
             [
              0.1111111111111111,
              "#46039f"
             ],
             [
              0.2222222222222222,
              "#7201a8"
             ],
             [
              0.3333333333333333,
              "#9c179e"
             ],
             [
              0.4444444444444444,
              "#bd3786"
             ],
             [
              0.5555555555555556,
              "#d8576b"
             ],
             [
              0.6666666666666666,
              "#ed7953"
             ],
             [
              0.7777777777777778,
              "#fb9f3a"
             ],
             [
              0.8888888888888888,
              "#fdca26"
             ],
             [
              1,
              "#f0f921"
             ]
            ],
            "type": "surface"
           }
          ],
          "table": [
           {
            "cells": {
             "fill": {
              "color": "#EBF0F8"
             },
             "line": {
              "color": "white"
             }
            },
            "header": {
             "fill": {
              "color": "#C8D4E3"
             },
             "line": {
              "color": "white"
             }
            },
            "type": "table"
           }
          ]
         },
         "layout": {
          "annotationdefaults": {
           "arrowcolor": "#2a3f5f",
           "arrowhead": 0,
           "arrowwidth": 1
          },
          "autotypenumbers": "strict",
          "coloraxis": {
           "colorbar": {
            "outlinewidth": 0,
            "ticks": ""
           }
          },
          "colorscale": {
           "diverging": [
            [
             0,
             "#8e0152"
            ],
            [
             0.1,
             "#c51b7d"
            ],
            [
             0.2,
             "#de77ae"
            ],
            [
             0.3,
             "#f1b6da"
            ],
            [
             0.4,
             "#fde0ef"
            ],
            [
             0.5,
             "#f7f7f7"
            ],
            [
             0.6,
             "#e6f5d0"
            ],
            [
             0.7,
             "#b8e186"
            ],
            [
             0.8,
             "#7fbc41"
            ],
            [
             0.9,
             "#4d9221"
            ],
            [
             1,
             "#276419"
            ]
           ],
           "sequential": [
            [
             0,
             "#0d0887"
            ],
            [
             0.1111111111111111,
             "#46039f"
            ],
            [
             0.2222222222222222,
             "#7201a8"
            ],
            [
             0.3333333333333333,
             "#9c179e"
            ],
            [
             0.4444444444444444,
             "#bd3786"
            ],
            [
             0.5555555555555556,
             "#d8576b"
            ],
            [
             0.6666666666666666,
             "#ed7953"
            ],
            [
             0.7777777777777778,
             "#fb9f3a"
            ],
            [
             0.8888888888888888,
             "#fdca26"
            ],
            [
             1,
             "#f0f921"
            ]
           ],
           "sequentialminus": [
            [
             0,
             "#0d0887"
            ],
            [
             0.1111111111111111,
             "#46039f"
            ],
            [
             0.2222222222222222,
             "#7201a8"
            ],
            [
             0.3333333333333333,
             "#9c179e"
            ],
            [
             0.4444444444444444,
             "#bd3786"
            ],
            [
             0.5555555555555556,
             "#d8576b"
            ],
            [
             0.6666666666666666,
             "#ed7953"
            ],
            [
             0.7777777777777778,
             "#fb9f3a"
            ],
            [
             0.8888888888888888,
             "#fdca26"
            ],
            [
             1,
             "#f0f921"
            ]
           ]
          },
          "colorway": [
           "#636efa",
           "#EF553B",
           "#00cc96",
           "#ab63fa",
           "#FFA15A",
           "#19d3f3",
           "#FF6692",
           "#B6E880",
           "#FF97FF",
           "#FECB52"
          ],
          "font": {
           "color": "#2a3f5f"
          },
          "geo": {
           "bgcolor": "white",
           "lakecolor": "white",
           "landcolor": "#E5ECF6",
           "showlakes": true,
           "showland": true,
           "subunitcolor": "white"
          },
          "hoverlabel": {
           "align": "left"
          },
          "hovermode": "closest",
          "mapbox": {
           "style": "light"
          },
          "paper_bgcolor": "white",
          "plot_bgcolor": "#E5ECF6",
          "polar": {
           "angularaxis": {
            "gridcolor": "white",
            "linecolor": "white",
            "ticks": ""
           },
           "bgcolor": "#E5ECF6",
           "radialaxis": {
            "gridcolor": "white",
            "linecolor": "white",
            "ticks": ""
           }
          },
          "scene": {
           "xaxis": {
            "backgroundcolor": "#E5ECF6",
            "gridcolor": "white",
            "gridwidth": 2,
            "linecolor": "white",
            "showbackground": true,
            "ticks": "",
            "zerolinecolor": "white"
           },
           "yaxis": {
            "backgroundcolor": "#E5ECF6",
            "gridcolor": "white",
            "gridwidth": 2,
            "linecolor": "white",
            "showbackground": true,
            "ticks": "",
            "zerolinecolor": "white"
           },
           "zaxis": {
            "backgroundcolor": "#E5ECF6",
            "gridcolor": "white",
            "gridwidth": 2,
            "linecolor": "white",
            "showbackground": true,
            "ticks": "",
            "zerolinecolor": "white"
           }
          },
          "shapedefaults": {
           "line": {
            "color": "#2a3f5f"
           }
          },
          "ternary": {
           "aaxis": {
            "gridcolor": "white",
            "linecolor": "white",
            "ticks": ""
           },
           "baxis": {
            "gridcolor": "white",
            "linecolor": "white",
            "ticks": ""
           },
           "bgcolor": "#E5ECF6",
           "caxis": {
            "gridcolor": "white",
            "linecolor": "white",
            "ticks": ""
           }
          },
          "title": {
           "x": 0.05
          },
          "xaxis": {
           "automargin": true,
           "gridcolor": "white",
           "linecolor": "white",
           "ticks": "",
           "title": {
            "standoff": 15
           },
           "zerolinecolor": "white",
           "zerolinewidth": 2
          },
          "yaxis": {
           "automargin": true,
           "gridcolor": "white",
           "linecolor": "white",
           "ticks": "",
           "title": {
            "standoff": 15
           },
           "zerolinecolor": "white",
           "zerolinewidth": 2
          }
         }
        },
        "title": {
         "text": "<b style=\"color:#7b8b6f;\">Percent of Churn by OnlineSecurity</b>"
        },
        "width": 500
       }
      }
     },
     "metadata": {},
     "output_type": "display_data"
    }
   ],
   "source": [
    "plot_sunburst('OnlineSecurity')"
   ]
  },
  {
   "cell_type": "markdown",
   "id": "WhJbHBCitKD0",
   "metadata": {
    "id": "WhJbHBCitKD0"
   },
   "source": [
    "### Percent of Churn by Online Backup\n",
    "\n",
    "Online Backup does have some effect in the Churning and Not Churning tendency (although not as massive as Online Security). We can see below that those who doesn't have online backup tend to churn more than those who does have it."
   ]
  },
  {
   "cell_type": "code",
   "execution_count": 38,
   "id": "16d844e9",
   "metadata": {
    "colab": {
     "base_uri": "https://localhost:8080/",
     "height": 517
    },
    "id": "16d844e9",
    "outputId": "8bdfe7a8-5e24-4338-e522-3a5f5544193e"
   },
   "outputs": [
    {
     "data": {
      "application/vnd.plotly.v1+json": {
       "config": {
        "plotlyServerURL": "https://plot.ly"
       },
       "data": [
        {
         "branchvalues": "total",
         "domain": {
          "x": [
           0,
           1
          ],
          "y": [
           0,
           1
          ]
         },
         "hovertemplate": "labels=%{label}<br>count=%{value}<br>parent=%{parent}<br>id=%{id}<extra></extra>",
         "ids": [
          "No/No",
          "No internet service/No",
          "Yes/No",
          "No/Yes",
          "No internet service/Yes",
          "Yes/Yes",
          "No",
          "No internet service",
          "Yes"
         ],
         "labels": [
          "No",
          "No",
          "No",
          "Yes",
          "Yes",
          "Yes",
          "No",
          "No internet service",
          "Yes"
         ],
         "name": "",
         "parents": [
          "No",
          "No internet service",
          "Yes",
          "No",
          "No internet service",
          "Yes",
          "",
          "",
          ""
         ],
         "textfont": {
          "size": 16
         },
         "textinfo": "label+percent parent",
         "type": "sunburst",
         "values": [
          1854,
          1407,
          1902,
          1233,
          113,
          523,
          3087,
          1520,
          2425
         ]
        }
       ],
       "layout": {
        "height": 500,
        "legend": {
         "tracegroupgap": 0
        },
        "margin": {
         "t": 60
        },
        "sunburstcolorway": [
         "#d11141",
         "#00b159",
         "#00aedb",
         "#f37735",
         "#ffc425"
        ],
        "template": {
         "data": {
          "bar": [
           {
            "error_x": {
             "color": "#2a3f5f"
            },
            "error_y": {
             "color": "#2a3f5f"
            },
            "marker": {
             "line": {
              "color": "#E5ECF6",
              "width": 0.5
             },
             "pattern": {
              "fillmode": "overlay",
              "size": 10,
              "solidity": 0.2
             }
            },
            "type": "bar"
           }
          ],
          "barpolar": [
           {
            "marker": {
             "line": {
              "color": "#E5ECF6",
              "width": 0.5
             },
             "pattern": {
              "fillmode": "overlay",
              "size": 10,
              "solidity": 0.2
             }
            },
            "type": "barpolar"
           }
          ],
          "carpet": [
           {
            "aaxis": {
             "endlinecolor": "#2a3f5f",
             "gridcolor": "white",
             "linecolor": "white",
             "minorgridcolor": "white",
             "startlinecolor": "#2a3f5f"
            },
            "baxis": {
             "endlinecolor": "#2a3f5f",
             "gridcolor": "white",
             "linecolor": "white",
             "minorgridcolor": "white",
             "startlinecolor": "#2a3f5f"
            },
            "type": "carpet"
           }
          ],
          "choropleth": [
           {
            "colorbar": {
             "outlinewidth": 0,
             "ticks": ""
            },
            "type": "choropleth"
           }
          ],
          "contour": [
           {
            "colorbar": {
             "outlinewidth": 0,
             "ticks": ""
            },
            "colorscale": [
             [
              0,
              "#0d0887"
             ],
             [
              0.1111111111111111,
              "#46039f"
             ],
             [
              0.2222222222222222,
              "#7201a8"
             ],
             [
              0.3333333333333333,
              "#9c179e"
             ],
             [
              0.4444444444444444,
              "#bd3786"
             ],
             [
              0.5555555555555556,
              "#d8576b"
             ],
             [
              0.6666666666666666,
              "#ed7953"
             ],
             [
              0.7777777777777778,
              "#fb9f3a"
             ],
             [
              0.8888888888888888,
              "#fdca26"
             ],
             [
              1,
              "#f0f921"
             ]
            ],
            "type": "contour"
           }
          ],
          "contourcarpet": [
           {
            "colorbar": {
             "outlinewidth": 0,
             "ticks": ""
            },
            "type": "contourcarpet"
           }
          ],
          "heatmap": [
           {
            "colorbar": {
             "outlinewidth": 0,
             "ticks": ""
            },
            "colorscale": [
             [
              0,
              "#0d0887"
             ],
             [
              0.1111111111111111,
              "#46039f"
             ],
             [
              0.2222222222222222,
              "#7201a8"
             ],
             [
              0.3333333333333333,
              "#9c179e"
             ],
             [
              0.4444444444444444,
              "#bd3786"
             ],
             [
              0.5555555555555556,
              "#d8576b"
             ],
             [
              0.6666666666666666,
              "#ed7953"
             ],
             [
              0.7777777777777778,
              "#fb9f3a"
             ],
             [
              0.8888888888888888,
              "#fdca26"
             ],
             [
              1,
              "#f0f921"
             ]
            ],
            "type": "heatmap"
           }
          ],
          "heatmapgl": [
           {
            "colorbar": {
             "outlinewidth": 0,
             "ticks": ""
            },
            "colorscale": [
             [
              0,
              "#0d0887"
             ],
             [
              0.1111111111111111,
              "#46039f"
             ],
             [
              0.2222222222222222,
              "#7201a8"
             ],
             [
              0.3333333333333333,
              "#9c179e"
             ],
             [
              0.4444444444444444,
              "#bd3786"
             ],
             [
              0.5555555555555556,
              "#d8576b"
             ],
             [
              0.6666666666666666,
              "#ed7953"
             ],
             [
              0.7777777777777778,
              "#fb9f3a"
             ],
             [
              0.8888888888888888,
              "#fdca26"
             ],
             [
              1,
              "#f0f921"
             ]
            ],
            "type": "heatmapgl"
           }
          ],
          "histogram": [
           {
            "marker": {
             "pattern": {
              "fillmode": "overlay",
              "size": 10,
              "solidity": 0.2
             }
            },
            "type": "histogram"
           }
          ],
          "histogram2d": [
           {
            "colorbar": {
             "outlinewidth": 0,
             "ticks": ""
            },
            "colorscale": [
             [
              0,
              "#0d0887"
             ],
             [
              0.1111111111111111,
              "#46039f"
             ],
             [
              0.2222222222222222,
              "#7201a8"
             ],
             [
              0.3333333333333333,
              "#9c179e"
             ],
             [
              0.4444444444444444,
              "#bd3786"
             ],
             [
              0.5555555555555556,
              "#d8576b"
             ],
             [
              0.6666666666666666,
              "#ed7953"
             ],
             [
              0.7777777777777778,
              "#fb9f3a"
             ],
             [
              0.8888888888888888,
              "#fdca26"
             ],
             [
              1,
              "#f0f921"
             ]
            ],
            "type": "histogram2d"
           }
          ],
          "histogram2dcontour": [
           {
            "colorbar": {
             "outlinewidth": 0,
             "ticks": ""
            },
            "colorscale": [
             [
              0,
              "#0d0887"
             ],
             [
              0.1111111111111111,
              "#46039f"
             ],
             [
              0.2222222222222222,
              "#7201a8"
             ],
             [
              0.3333333333333333,
              "#9c179e"
             ],
             [
              0.4444444444444444,
              "#bd3786"
             ],
             [
              0.5555555555555556,
              "#d8576b"
             ],
             [
              0.6666666666666666,
              "#ed7953"
             ],
             [
              0.7777777777777778,
              "#fb9f3a"
             ],
             [
              0.8888888888888888,
              "#fdca26"
             ],
             [
              1,
              "#f0f921"
             ]
            ],
            "type": "histogram2dcontour"
           }
          ],
          "mesh3d": [
           {
            "colorbar": {
             "outlinewidth": 0,
             "ticks": ""
            },
            "type": "mesh3d"
           }
          ],
          "parcoords": [
           {
            "line": {
             "colorbar": {
              "outlinewidth": 0,
              "ticks": ""
             }
            },
            "type": "parcoords"
           }
          ],
          "pie": [
           {
            "automargin": true,
            "type": "pie"
           }
          ],
          "scatter": [
           {
            "marker": {
             "colorbar": {
              "outlinewidth": 0,
              "ticks": ""
             }
            },
            "type": "scatter"
           }
          ],
          "scatter3d": [
           {
            "line": {
             "colorbar": {
              "outlinewidth": 0,
              "ticks": ""
             }
            },
            "marker": {
             "colorbar": {
              "outlinewidth": 0,
              "ticks": ""
             }
            },
            "type": "scatter3d"
           }
          ],
          "scattercarpet": [
           {
            "marker": {
             "colorbar": {
              "outlinewidth": 0,
              "ticks": ""
             }
            },
            "type": "scattercarpet"
           }
          ],
          "scattergeo": [
           {
            "marker": {
             "colorbar": {
              "outlinewidth": 0,
              "ticks": ""
             }
            },
            "type": "scattergeo"
           }
          ],
          "scattergl": [
           {
            "marker": {
             "colorbar": {
              "outlinewidth": 0,
              "ticks": ""
             }
            },
            "type": "scattergl"
           }
          ],
          "scattermapbox": [
           {
            "marker": {
             "colorbar": {
              "outlinewidth": 0,
              "ticks": ""
             }
            },
            "type": "scattermapbox"
           }
          ],
          "scatterpolar": [
           {
            "marker": {
             "colorbar": {
              "outlinewidth": 0,
              "ticks": ""
             }
            },
            "type": "scatterpolar"
           }
          ],
          "scatterpolargl": [
           {
            "marker": {
             "colorbar": {
              "outlinewidth": 0,
              "ticks": ""
             }
            },
            "type": "scatterpolargl"
           }
          ],
          "scatterternary": [
           {
            "marker": {
             "colorbar": {
              "outlinewidth": 0,
              "ticks": ""
             }
            },
            "type": "scatterternary"
           }
          ],
          "surface": [
           {
            "colorbar": {
             "outlinewidth": 0,
             "ticks": ""
            },
            "colorscale": [
             [
              0,
              "#0d0887"
             ],
             [
              0.1111111111111111,
              "#46039f"
             ],
             [
              0.2222222222222222,
              "#7201a8"
             ],
             [
              0.3333333333333333,
              "#9c179e"
             ],
             [
              0.4444444444444444,
              "#bd3786"
             ],
             [
              0.5555555555555556,
              "#d8576b"
             ],
             [
              0.6666666666666666,
              "#ed7953"
             ],
             [
              0.7777777777777778,
              "#fb9f3a"
             ],
             [
              0.8888888888888888,
              "#fdca26"
             ],
             [
              1,
              "#f0f921"
             ]
            ],
            "type": "surface"
           }
          ],
          "table": [
           {
            "cells": {
             "fill": {
              "color": "#EBF0F8"
             },
             "line": {
              "color": "white"
             }
            },
            "header": {
             "fill": {
              "color": "#C8D4E3"
             },
             "line": {
              "color": "white"
             }
            },
            "type": "table"
           }
          ]
         },
         "layout": {
          "annotationdefaults": {
           "arrowcolor": "#2a3f5f",
           "arrowhead": 0,
           "arrowwidth": 1
          },
          "autotypenumbers": "strict",
          "coloraxis": {
           "colorbar": {
            "outlinewidth": 0,
            "ticks": ""
           }
          },
          "colorscale": {
           "diverging": [
            [
             0,
             "#8e0152"
            ],
            [
             0.1,
             "#c51b7d"
            ],
            [
             0.2,
             "#de77ae"
            ],
            [
             0.3,
             "#f1b6da"
            ],
            [
             0.4,
             "#fde0ef"
            ],
            [
             0.5,
             "#f7f7f7"
            ],
            [
             0.6,
             "#e6f5d0"
            ],
            [
             0.7,
             "#b8e186"
            ],
            [
             0.8,
             "#7fbc41"
            ],
            [
             0.9,
             "#4d9221"
            ],
            [
             1,
             "#276419"
            ]
           ],
           "sequential": [
            [
             0,
             "#0d0887"
            ],
            [
             0.1111111111111111,
             "#46039f"
            ],
            [
             0.2222222222222222,
             "#7201a8"
            ],
            [
             0.3333333333333333,
             "#9c179e"
            ],
            [
             0.4444444444444444,
             "#bd3786"
            ],
            [
             0.5555555555555556,
             "#d8576b"
            ],
            [
             0.6666666666666666,
             "#ed7953"
            ],
            [
             0.7777777777777778,
             "#fb9f3a"
            ],
            [
             0.8888888888888888,
             "#fdca26"
            ],
            [
             1,
             "#f0f921"
            ]
           ],
           "sequentialminus": [
            [
             0,
             "#0d0887"
            ],
            [
             0.1111111111111111,
             "#46039f"
            ],
            [
             0.2222222222222222,
             "#7201a8"
            ],
            [
             0.3333333333333333,
             "#9c179e"
            ],
            [
             0.4444444444444444,
             "#bd3786"
            ],
            [
             0.5555555555555556,
             "#d8576b"
            ],
            [
             0.6666666666666666,
             "#ed7953"
            ],
            [
             0.7777777777777778,
             "#fb9f3a"
            ],
            [
             0.8888888888888888,
             "#fdca26"
            ],
            [
             1,
             "#f0f921"
            ]
           ]
          },
          "colorway": [
           "#636efa",
           "#EF553B",
           "#00cc96",
           "#ab63fa",
           "#FFA15A",
           "#19d3f3",
           "#FF6692",
           "#B6E880",
           "#FF97FF",
           "#FECB52"
          ],
          "font": {
           "color": "#2a3f5f"
          },
          "geo": {
           "bgcolor": "white",
           "lakecolor": "white",
           "landcolor": "#E5ECF6",
           "showlakes": true,
           "showland": true,
           "subunitcolor": "white"
          },
          "hoverlabel": {
           "align": "left"
          },
          "hovermode": "closest",
          "mapbox": {
           "style": "light"
          },
          "paper_bgcolor": "white",
          "plot_bgcolor": "#E5ECF6",
          "polar": {
           "angularaxis": {
            "gridcolor": "white",
            "linecolor": "white",
            "ticks": ""
           },
           "bgcolor": "#E5ECF6",
           "radialaxis": {
            "gridcolor": "white",
            "linecolor": "white",
            "ticks": ""
           }
          },
          "scene": {
           "xaxis": {
            "backgroundcolor": "#E5ECF6",
            "gridcolor": "white",
            "gridwidth": 2,
            "linecolor": "white",
            "showbackground": true,
            "ticks": "",
            "zerolinecolor": "white"
           },
           "yaxis": {
            "backgroundcolor": "#E5ECF6",
            "gridcolor": "white",
            "gridwidth": 2,
            "linecolor": "white",
            "showbackground": true,
            "ticks": "",
            "zerolinecolor": "white"
           },
           "zaxis": {
            "backgroundcolor": "#E5ECF6",
            "gridcolor": "white",
            "gridwidth": 2,
            "linecolor": "white",
            "showbackground": true,
            "ticks": "",
            "zerolinecolor": "white"
           }
          },
          "shapedefaults": {
           "line": {
            "color": "#2a3f5f"
           }
          },
          "ternary": {
           "aaxis": {
            "gridcolor": "white",
            "linecolor": "white",
            "ticks": ""
           },
           "baxis": {
            "gridcolor": "white",
            "linecolor": "white",
            "ticks": ""
           },
           "bgcolor": "#E5ECF6",
           "caxis": {
            "gridcolor": "white",
            "linecolor": "white",
            "ticks": ""
           }
          },
          "title": {
           "x": 0.05
          },
          "xaxis": {
           "automargin": true,
           "gridcolor": "white",
           "linecolor": "white",
           "ticks": "",
           "title": {
            "standoff": 15
           },
           "zerolinecolor": "white",
           "zerolinewidth": 2
          },
          "yaxis": {
           "automargin": true,
           "gridcolor": "white",
           "linecolor": "white",
           "ticks": "",
           "title": {
            "standoff": 15
           },
           "zerolinecolor": "white",
           "zerolinewidth": 2
          }
         }
        },
        "title": {
         "text": "<b style=\"color:#7b8b6f;\">Percent of Churn by OnlineBackup</b>"
        },
        "width": 500
       }
      }
     },
     "metadata": {},
     "output_type": "display_data"
    }
   ],
   "source": [
    "plot_sunburst('OnlineBackup')"
   ]
  },
  {
   "cell_type": "markdown",
   "id": "wLwrN4PQt2wu",
   "metadata": {
    "id": "wLwrN4PQt2wu"
   },
   "source": [
    "### Percent of Churn by Device Protection\n",
    "\n",
    "Similar to the previous percentage, here we can see clearly those who dooesn't have the device protection tend to churn more than those who does have it."
   ]
  },
  {
   "cell_type": "code",
   "execution_count": 39,
   "id": "80631e76",
   "metadata": {
    "colab": {
     "base_uri": "https://localhost:8080/",
     "height": 517
    },
    "id": "80631e76",
    "outputId": "baf766f5-71a4-43c9-b8d3-4fa19483f2fa"
   },
   "outputs": [
    {
     "data": {
      "application/vnd.plotly.v1+json": {
       "config": {
        "plotlyServerURL": "https://plot.ly"
       },
       "data": [
        {
         "branchvalues": "total",
         "domain": {
          "x": [
           0,
           1
          ],
          "y": [
           0,
           1
          ]
         },
         "hovertemplate": "labels=%{label}<br>count=%{value}<br>parent=%{parent}<br>id=%{id}<extra></extra>",
         "ids": [
          "No/No",
          "No internet service/No",
          "Yes/No",
          "No/Yes",
          "No internet service/Yes",
          "Yes/Yes",
          "No",
          "No internet service",
          "Yes"
         ],
         "labels": [
          "No",
          "No",
          "No",
          "Yes",
          "Yes",
          "Yes",
          "No",
          "No internet service",
          "Yes"
         ],
         "name": "",
         "parents": [
          "No",
          "No internet service",
          "Yes",
          "No",
          "No internet service",
          "Yes",
          "",
          "",
          ""
         ],
         "textfont": {
          "size": 16
         },
         "textinfo": "label+percent parent",
         "type": "sunburst",
         "values": [
          1883,
          1407,
          1873,
          1211,
          113,
          545,
          3094,
          1520,
          2418
         ]
        }
       ],
       "layout": {
        "height": 500,
        "legend": {
         "tracegroupgap": 0
        },
        "margin": {
         "t": 60
        },
        "sunburstcolorway": [
         "#d11141",
         "#00b159",
         "#00aedb",
         "#f37735",
         "#ffc425"
        ],
        "template": {
         "data": {
          "bar": [
           {
            "error_x": {
             "color": "#2a3f5f"
            },
            "error_y": {
             "color": "#2a3f5f"
            },
            "marker": {
             "line": {
              "color": "#E5ECF6",
              "width": 0.5
             },
             "pattern": {
              "fillmode": "overlay",
              "size": 10,
              "solidity": 0.2
             }
            },
            "type": "bar"
           }
          ],
          "barpolar": [
           {
            "marker": {
             "line": {
              "color": "#E5ECF6",
              "width": 0.5
             },
             "pattern": {
              "fillmode": "overlay",
              "size": 10,
              "solidity": 0.2
             }
            },
            "type": "barpolar"
           }
          ],
          "carpet": [
           {
            "aaxis": {
             "endlinecolor": "#2a3f5f",
             "gridcolor": "white",
             "linecolor": "white",
             "minorgridcolor": "white",
             "startlinecolor": "#2a3f5f"
            },
            "baxis": {
             "endlinecolor": "#2a3f5f",
             "gridcolor": "white",
             "linecolor": "white",
             "minorgridcolor": "white",
             "startlinecolor": "#2a3f5f"
            },
            "type": "carpet"
           }
          ],
          "choropleth": [
           {
            "colorbar": {
             "outlinewidth": 0,
             "ticks": ""
            },
            "type": "choropleth"
           }
          ],
          "contour": [
           {
            "colorbar": {
             "outlinewidth": 0,
             "ticks": ""
            },
            "colorscale": [
             [
              0,
              "#0d0887"
             ],
             [
              0.1111111111111111,
              "#46039f"
             ],
             [
              0.2222222222222222,
              "#7201a8"
             ],
             [
              0.3333333333333333,
              "#9c179e"
             ],
             [
              0.4444444444444444,
              "#bd3786"
             ],
             [
              0.5555555555555556,
              "#d8576b"
             ],
             [
              0.6666666666666666,
              "#ed7953"
             ],
             [
              0.7777777777777778,
              "#fb9f3a"
             ],
             [
              0.8888888888888888,
              "#fdca26"
             ],
             [
              1,
              "#f0f921"
             ]
            ],
            "type": "contour"
           }
          ],
          "contourcarpet": [
           {
            "colorbar": {
             "outlinewidth": 0,
             "ticks": ""
            },
            "type": "contourcarpet"
           }
          ],
          "heatmap": [
           {
            "colorbar": {
             "outlinewidth": 0,
             "ticks": ""
            },
            "colorscale": [
             [
              0,
              "#0d0887"
             ],
             [
              0.1111111111111111,
              "#46039f"
             ],
             [
              0.2222222222222222,
              "#7201a8"
             ],
             [
              0.3333333333333333,
              "#9c179e"
             ],
             [
              0.4444444444444444,
              "#bd3786"
             ],
             [
              0.5555555555555556,
              "#d8576b"
             ],
             [
              0.6666666666666666,
              "#ed7953"
             ],
             [
              0.7777777777777778,
              "#fb9f3a"
             ],
             [
              0.8888888888888888,
              "#fdca26"
             ],
             [
              1,
              "#f0f921"
             ]
            ],
            "type": "heatmap"
           }
          ],
          "heatmapgl": [
           {
            "colorbar": {
             "outlinewidth": 0,
             "ticks": ""
            },
            "colorscale": [
             [
              0,
              "#0d0887"
             ],
             [
              0.1111111111111111,
              "#46039f"
             ],
             [
              0.2222222222222222,
              "#7201a8"
             ],
             [
              0.3333333333333333,
              "#9c179e"
             ],
             [
              0.4444444444444444,
              "#bd3786"
             ],
             [
              0.5555555555555556,
              "#d8576b"
             ],
             [
              0.6666666666666666,
              "#ed7953"
             ],
             [
              0.7777777777777778,
              "#fb9f3a"
             ],
             [
              0.8888888888888888,
              "#fdca26"
             ],
             [
              1,
              "#f0f921"
             ]
            ],
            "type": "heatmapgl"
           }
          ],
          "histogram": [
           {
            "marker": {
             "pattern": {
              "fillmode": "overlay",
              "size": 10,
              "solidity": 0.2
             }
            },
            "type": "histogram"
           }
          ],
          "histogram2d": [
           {
            "colorbar": {
             "outlinewidth": 0,
             "ticks": ""
            },
            "colorscale": [
             [
              0,
              "#0d0887"
             ],
             [
              0.1111111111111111,
              "#46039f"
             ],
             [
              0.2222222222222222,
              "#7201a8"
             ],
             [
              0.3333333333333333,
              "#9c179e"
             ],
             [
              0.4444444444444444,
              "#bd3786"
             ],
             [
              0.5555555555555556,
              "#d8576b"
             ],
             [
              0.6666666666666666,
              "#ed7953"
             ],
             [
              0.7777777777777778,
              "#fb9f3a"
             ],
             [
              0.8888888888888888,
              "#fdca26"
             ],
             [
              1,
              "#f0f921"
             ]
            ],
            "type": "histogram2d"
           }
          ],
          "histogram2dcontour": [
           {
            "colorbar": {
             "outlinewidth": 0,
             "ticks": ""
            },
            "colorscale": [
             [
              0,
              "#0d0887"
             ],
             [
              0.1111111111111111,
              "#46039f"
             ],
             [
              0.2222222222222222,
              "#7201a8"
             ],
             [
              0.3333333333333333,
              "#9c179e"
             ],
             [
              0.4444444444444444,
              "#bd3786"
             ],
             [
              0.5555555555555556,
              "#d8576b"
             ],
             [
              0.6666666666666666,
              "#ed7953"
             ],
             [
              0.7777777777777778,
              "#fb9f3a"
             ],
             [
              0.8888888888888888,
              "#fdca26"
             ],
             [
              1,
              "#f0f921"
             ]
            ],
            "type": "histogram2dcontour"
           }
          ],
          "mesh3d": [
           {
            "colorbar": {
             "outlinewidth": 0,
             "ticks": ""
            },
            "type": "mesh3d"
           }
          ],
          "parcoords": [
           {
            "line": {
             "colorbar": {
              "outlinewidth": 0,
              "ticks": ""
             }
            },
            "type": "parcoords"
           }
          ],
          "pie": [
           {
            "automargin": true,
            "type": "pie"
           }
          ],
          "scatter": [
           {
            "marker": {
             "colorbar": {
              "outlinewidth": 0,
              "ticks": ""
             }
            },
            "type": "scatter"
           }
          ],
          "scatter3d": [
           {
            "line": {
             "colorbar": {
              "outlinewidth": 0,
              "ticks": ""
             }
            },
            "marker": {
             "colorbar": {
              "outlinewidth": 0,
              "ticks": ""
             }
            },
            "type": "scatter3d"
           }
          ],
          "scattercarpet": [
           {
            "marker": {
             "colorbar": {
              "outlinewidth": 0,
              "ticks": ""
             }
            },
            "type": "scattercarpet"
           }
          ],
          "scattergeo": [
           {
            "marker": {
             "colorbar": {
              "outlinewidth": 0,
              "ticks": ""
             }
            },
            "type": "scattergeo"
           }
          ],
          "scattergl": [
           {
            "marker": {
             "colorbar": {
              "outlinewidth": 0,
              "ticks": ""
             }
            },
            "type": "scattergl"
           }
          ],
          "scattermapbox": [
           {
            "marker": {
             "colorbar": {
              "outlinewidth": 0,
              "ticks": ""
             }
            },
            "type": "scattermapbox"
           }
          ],
          "scatterpolar": [
           {
            "marker": {
             "colorbar": {
              "outlinewidth": 0,
              "ticks": ""
             }
            },
            "type": "scatterpolar"
           }
          ],
          "scatterpolargl": [
           {
            "marker": {
             "colorbar": {
              "outlinewidth": 0,
              "ticks": ""
             }
            },
            "type": "scatterpolargl"
           }
          ],
          "scatterternary": [
           {
            "marker": {
             "colorbar": {
              "outlinewidth": 0,
              "ticks": ""
             }
            },
            "type": "scatterternary"
           }
          ],
          "surface": [
           {
            "colorbar": {
             "outlinewidth": 0,
             "ticks": ""
            },
            "colorscale": [
             [
              0,
              "#0d0887"
             ],
             [
              0.1111111111111111,
              "#46039f"
             ],
             [
              0.2222222222222222,
              "#7201a8"
             ],
             [
              0.3333333333333333,
              "#9c179e"
             ],
             [
              0.4444444444444444,
              "#bd3786"
             ],
             [
              0.5555555555555556,
              "#d8576b"
             ],
             [
              0.6666666666666666,
              "#ed7953"
             ],
             [
              0.7777777777777778,
              "#fb9f3a"
             ],
             [
              0.8888888888888888,
              "#fdca26"
             ],
             [
              1,
              "#f0f921"
             ]
            ],
            "type": "surface"
           }
          ],
          "table": [
           {
            "cells": {
             "fill": {
              "color": "#EBF0F8"
             },
             "line": {
              "color": "white"
             }
            },
            "header": {
             "fill": {
              "color": "#C8D4E3"
             },
             "line": {
              "color": "white"
             }
            },
            "type": "table"
           }
          ]
         },
         "layout": {
          "annotationdefaults": {
           "arrowcolor": "#2a3f5f",
           "arrowhead": 0,
           "arrowwidth": 1
          },
          "autotypenumbers": "strict",
          "coloraxis": {
           "colorbar": {
            "outlinewidth": 0,
            "ticks": ""
           }
          },
          "colorscale": {
           "diverging": [
            [
             0,
             "#8e0152"
            ],
            [
             0.1,
             "#c51b7d"
            ],
            [
             0.2,
             "#de77ae"
            ],
            [
             0.3,
             "#f1b6da"
            ],
            [
             0.4,
             "#fde0ef"
            ],
            [
             0.5,
             "#f7f7f7"
            ],
            [
             0.6,
             "#e6f5d0"
            ],
            [
             0.7,
             "#b8e186"
            ],
            [
             0.8,
             "#7fbc41"
            ],
            [
             0.9,
             "#4d9221"
            ],
            [
             1,
             "#276419"
            ]
           ],
           "sequential": [
            [
             0,
             "#0d0887"
            ],
            [
             0.1111111111111111,
             "#46039f"
            ],
            [
             0.2222222222222222,
             "#7201a8"
            ],
            [
             0.3333333333333333,
             "#9c179e"
            ],
            [
             0.4444444444444444,
             "#bd3786"
            ],
            [
             0.5555555555555556,
             "#d8576b"
            ],
            [
             0.6666666666666666,
             "#ed7953"
            ],
            [
             0.7777777777777778,
             "#fb9f3a"
            ],
            [
             0.8888888888888888,
             "#fdca26"
            ],
            [
             1,
             "#f0f921"
            ]
           ],
           "sequentialminus": [
            [
             0,
             "#0d0887"
            ],
            [
             0.1111111111111111,
             "#46039f"
            ],
            [
             0.2222222222222222,
             "#7201a8"
            ],
            [
             0.3333333333333333,
             "#9c179e"
            ],
            [
             0.4444444444444444,
             "#bd3786"
            ],
            [
             0.5555555555555556,
             "#d8576b"
            ],
            [
             0.6666666666666666,
             "#ed7953"
            ],
            [
             0.7777777777777778,
             "#fb9f3a"
            ],
            [
             0.8888888888888888,
             "#fdca26"
            ],
            [
             1,
             "#f0f921"
            ]
           ]
          },
          "colorway": [
           "#636efa",
           "#EF553B",
           "#00cc96",
           "#ab63fa",
           "#FFA15A",
           "#19d3f3",
           "#FF6692",
           "#B6E880",
           "#FF97FF",
           "#FECB52"
          ],
          "font": {
           "color": "#2a3f5f"
          },
          "geo": {
           "bgcolor": "white",
           "lakecolor": "white",
           "landcolor": "#E5ECF6",
           "showlakes": true,
           "showland": true,
           "subunitcolor": "white"
          },
          "hoverlabel": {
           "align": "left"
          },
          "hovermode": "closest",
          "mapbox": {
           "style": "light"
          },
          "paper_bgcolor": "white",
          "plot_bgcolor": "#E5ECF6",
          "polar": {
           "angularaxis": {
            "gridcolor": "white",
            "linecolor": "white",
            "ticks": ""
           },
           "bgcolor": "#E5ECF6",
           "radialaxis": {
            "gridcolor": "white",
            "linecolor": "white",
            "ticks": ""
           }
          },
          "scene": {
           "xaxis": {
            "backgroundcolor": "#E5ECF6",
            "gridcolor": "white",
            "gridwidth": 2,
            "linecolor": "white",
            "showbackground": true,
            "ticks": "",
            "zerolinecolor": "white"
           },
           "yaxis": {
            "backgroundcolor": "#E5ECF6",
            "gridcolor": "white",
            "gridwidth": 2,
            "linecolor": "white",
            "showbackground": true,
            "ticks": "",
            "zerolinecolor": "white"
           },
           "zaxis": {
            "backgroundcolor": "#E5ECF6",
            "gridcolor": "white",
            "gridwidth": 2,
            "linecolor": "white",
            "showbackground": true,
            "ticks": "",
            "zerolinecolor": "white"
           }
          },
          "shapedefaults": {
           "line": {
            "color": "#2a3f5f"
           }
          },
          "ternary": {
           "aaxis": {
            "gridcolor": "white",
            "linecolor": "white",
            "ticks": ""
           },
           "baxis": {
            "gridcolor": "white",
            "linecolor": "white",
            "ticks": ""
           },
           "bgcolor": "#E5ECF6",
           "caxis": {
            "gridcolor": "white",
            "linecolor": "white",
            "ticks": ""
           }
          },
          "title": {
           "x": 0.05
          },
          "xaxis": {
           "automargin": true,
           "gridcolor": "white",
           "linecolor": "white",
           "ticks": "",
           "title": {
            "standoff": 15
           },
           "zerolinecolor": "white",
           "zerolinewidth": 2
          },
          "yaxis": {
           "automargin": true,
           "gridcolor": "white",
           "linecolor": "white",
           "ticks": "",
           "title": {
            "standoff": 15
           },
           "zerolinecolor": "white",
           "zerolinewidth": 2
          }
         }
        },
        "title": {
         "text": "<b style=\"color:#7b8b6f;\">Percent of Churn by DeviceProtection</b>"
        },
        "width": 500
       }
      }
     },
     "metadata": {},
     "output_type": "display_data"
    }
   ],
   "source": [
    "plot_sunburst('DeviceProtection')"
   ]
  },
  {
   "cell_type": "markdown",
   "id": "pJXUM9ttuBED",
   "metadata": {
    "id": "pJXUM9ttuBED"
   },
   "source": [
    "### Percent of Churn by Tech Support\n",
    "\n",
    "This one, as expected, those who doesn't have any tech support tend to churn (significantly) more than those who have the Tech Support."
   ]
  },
  {
   "cell_type": "code",
   "execution_count": 40,
   "id": "d5821b63",
   "metadata": {
    "colab": {
     "base_uri": "https://localhost:8080/",
     "height": 517
    },
    "id": "d5821b63",
    "outputId": "340ae40b-597f-45c5-a902-24e3afa7eda7"
   },
   "outputs": [
    {
     "data": {
      "application/vnd.plotly.v1+json": {
       "config": {
        "plotlyServerURL": "https://plot.ly"
       },
       "data": [
        {
         "branchvalues": "total",
         "domain": {
          "x": [
           0,
           1
          ],
          "y": [
           0,
           1
          ]
         },
         "hovertemplate": "labels=%{label}<br>count=%{value}<br>parent=%{parent}<br>id=%{id}<extra></extra>",
         "ids": [
          "No/No",
          "No internet service/No",
          "Yes/No",
          "No/Yes",
          "No internet service/Yes",
          "Yes/Yes",
          "No",
          "No internet service",
          "Yes"
         ],
         "labels": [
          "No",
          "No",
          "No",
          "Yes",
          "Yes",
          "Yes",
          "No",
          "No internet service",
          "Yes"
         ],
         "name": "",
         "parents": [
          "No",
          "No internet service",
          "Yes",
          "No",
          "No internet service",
          "Yes",
          "",
          "",
          ""
         ],
         "textfont": {
          "size": 16
         },
         "textinfo": "label+percent parent",
         "type": "sunburst",
         "values": [
          2026,
          1407,
          1730,
          1446,
          113,
          310,
          3472,
          1520,
          2040
         ]
        }
       ],
       "layout": {
        "height": 500,
        "legend": {
         "tracegroupgap": 0
        },
        "margin": {
         "t": 60
        },
        "sunburstcolorway": [
         "#d11141",
         "#00b159",
         "#00aedb",
         "#f37735",
         "#ffc425"
        ],
        "template": {
         "data": {
          "bar": [
           {
            "error_x": {
             "color": "#2a3f5f"
            },
            "error_y": {
             "color": "#2a3f5f"
            },
            "marker": {
             "line": {
              "color": "#E5ECF6",
              "width": 0.5
             },
             "pattern": {
              "fillmode": "overlay",
              "size": 10,
              "solidity": 0.2
             }
            },
            "type": "bar"
           }
          ],
          "barpolar": [
           {
            "marker": {
             "line": {
              "color": "#E5ECF6",
              "width": 0.5
             },
             "pattern": {
              "fillmode": "overlay",
              "size": 10,
              "solidity": 0.2
             }
            },
            "type": "barpolar"
           }
          ],
          "carpet": [
           {
            "aaxis": {
             "endlinecolor": "#2a3f5f",
             "gridcolor": "white",
             "linecolor": "white",
             "minorgridcolor": "white",
             "startlinecolor": "#2a3f5f"
            },
            "baxis": {
             "endlinecolor": "#2a3f5f",
             "gridcolor": "white",
             "linecolor": "white",
             "minorgridcolor": "white",
             "startlinecolor": "#2a3f5f"
            },
            "type": "carpet"
           }
          ],
          "choropleth": [
           {
            "colorbar": {
             "outlinewidth": 0,
             "ticks": ""
            },
            "type": "choropleth"
           }
          ],
          "contour": [
           {
            "colorbar": {
             "outlinewidth": 0,
             "ticks": ""
            },
            "colorscale": [
             [
              0,
              "#0d0887"
             ],
             [
              0.1111111111111111,
              "#46039f"
             ],
             [
              0.2222222222222222,
              "#7201a8"
             ],
             [
              0.3333333333333333,
              "#9c179e"
             ],
             [
              0.4444444444444444,
              "#bd3786"
             ],
             [
              0.5555555555555556,
              "#d8576b"
             ],
             [
              0.6666666666666666,
              "#ed7953"
             ],
             [
              0.7777777777777778,
              "#fb9f3a"
             ],
             [
              0.8888888888888888,
              "#fdca26"
             ],
             [
              1,
              "#f0f921"
             ]
            ],
            "type": "contour"
           }
          ],
          "contourcarpet": [
           {
            "colorbar": {
             "outlinewidth": 0,
             "ticks": ""
            },
            "type": "contourcarpet"
           }
          ],
          "heatmap": [
           {
            "colorbar": {
             "outlinewidth": 0,
             "ticks": ""
            },
            "colorscale": [
             [
              0,
              "#0d0887"
             ],
             [
              0.1111111111111111,
              "#46039f"
             ],
             [
              0.2222222222222222,
              "#7201a8"
             ],
             [
              0.3333333333333333,
              "#9c179e"
             ],
             [
              0.4444444444444444,
              "#bd3786"
             ],
             [
              0.5555555555555556,
              "#d8576b"
             ],
             [
              0.6666666666666666,
              "#ed7953"
             ],
             [
              0.7777777777777778,
              "#fb9f3a"
             ],
             [
              0.8888888888888888,
              "#fdca26"
             ],
             [
              1,
              "#f0f921"
             ]
            ],
            "type": "heatmap"
           }
          ],
          "heatmapgl": [
           {
            "colorbar": {
             "outlinewidth": 0,
             "ticks": ""
            },
            "colorscale": [
             [
              0,
              "#0d0887"
             ],
             [
              0.1111111111111111,
              "#46039f"
             ],
             [
              0.2222222222222222,
              "#7201a8"
             ],
             [
              0.3333333333333333,
              "#9c179e"
             ],
             [
              0.4444444444444444,
              "#bd3786"
             ],
             [
              0.5555555555555556,
              "#d8576b"
             ],
             [
              0.6666666666666666,
              "#ed7953"
             ],
             [
              0.7777777777777778,
              "#fb9f3a"
             ],
             [
              0.8888888888888888,
              "#fdca26"
             ],
             [
              1,
              "#f0f921"
             ]
            ],
            "type": "heatmapgl"
           }
          ],
          "histogram": [
           {
            "marker": {
             "pattern": {
              "fillmode": "overlay",
              "size": 10,
              "solidity": 0.2
             }
            },
            "type": "histogram"
           }
          ],
          "histogram2d": [
           {
            "colorbar": {
             "outlinewidth": 0,
             "ticks": ""
            },
            "colorscale": [
             [
              0,
              "#0d0887"
             ],
             [
              0.1111111111111111,
              "#46039f"
             ],
             [
              0.2222222222222222,
              "#7201a8"
             ],
             [
              0.3333333333333333,
              "#9c179e"
             ],
             [
              0.4444444444444444,
              "#bd3786"
             ],
             [
              0.5555555555555556,
              "#d8576b"
             ],
             [
              0.6666666666666666,
              "#ed7953"
             ],
             [
              0.7777777777777778,
              "#fb9f3a"
             ],
             [
              0.8888888888888888,
              "#fdca26"
             ],
             [
              1,
              "#f0f921"
             ]
            ],
            "type": "histogram2d"
           }
          ],
          "histogram2dcontour": [
           {
            "colorbar": {
             "outlinewidth": 0,
             "ticks": ""
            },
            "colorscale": [
             [
              0,
              "#0d0887"
             ],
             [
              0.1111111111111111,
              "#46039f"
             ],
             [
              0.2222222222222222,
              "#7201a8"
             ],
             [
              0.3333333333333333,
              "#9c179e"
             ],
             [
              0.4444444444444444,
              "#bd3786"
             ],
             [
              0.5555555555555556,
              "#d8576b"
             ],
             [
              0.6666666666666666,
              "#ed7953"
             ],
             [
              0.7777777777777778,
              "#fb9f3a"
             ],
             [
              0.8888888888888888,
              "#fdca26"
             ],
             [
              1,
              "#f0f921"
             ]
            ],
            "type": "histogram2dcontour"
           }
          ],
          "mesh3d": [
           {
            "colorbar": {
             "outlinewidth": 0,
             "ticks": ""
            },
            "type": "mesh3d"
           }
          ],
          "parcoords": [
           {
            "line": {
             "colorbar": {
              "outlinewidth": 0,
              "ticks": ""
             }
            },
            "type": "parcoords"
           }
          ],
          "pie": [
           {
            "automargin": true,
            "type": "pie"
           }
          ],
          "scatter": [
           {
            "marker": {
             "colorbar": {
              "outlinewidth": 0,
              "ticks": ""
             }
            },
            "type": "scatter"
           }
          ],
          "scatter3d": [
           {
            "line": {
             "colorbar": {
              "outlinewidth": 0,
              "ticks": ""
             }
            },
            "marker": {
             "colorbar": {
              "outlinewidth": 0,
              "ticks": ""
             }
            },
            "type": "scatter3d"
           }
          ],
          "scattercarpet": [
           {
            "marker": {
             "colorbar": {
              "outlinewidth": 0,
              "ticks": ""
             }
            },
            "type": "scattercarpet"
           }
          ],
          "scattergeo": [
           {
            "marker": {
             "colorbar": {
              "outlinewidth": 0,
              "ticks": ""
             }
            },
            "type": "scattergeo"
           }
          ],
          "scattergl": [
           {
            "marker": {
             "colorbar": {
              "outlinewidth": 0,
              "ticks": ""
             }
            },
            "type": "scattergl"
           }
          ],
          "scattermapbox": [
           {
            "marker": {
             "colorbar": {
              "outlinewidth": 0,
              "ticks": ""
             }
            },
            "type": "scattermapbox"
           }
          ],
          "scatterpolar": [
           {
            "marker": {
             "colorbar": {
              "outlinewidth": 0,
              "ticks": ""
             }
            },
            "type": "scatterpolar"
           }
          ],
          "scatterpolargl": [
           {
            "marker": {
             "colorbar": {
              "outlinewidth": 0,
              "ticks": ""
             }
            },
            "type": "scatterpolargl"
           }
          ],
          "scatterternary": [
           {
            "marker": {
             "colorbar": {
              "outlinewidth": 0,
              "ticks": ""
             }
            },
            "type": "scatterternary"
           }
          ],
          "surface": [
           {
            "colorbar": {
             "outlinewidth": 0,
             "ticks": ""
            },
            "colorscale": [
             [
              0,
              "#0d0887"
             ],
             [
              0.1111111111111111,
              "#46039f"
             ],
             [
              0.2222222222222222,
              "#7201a8"
             ],
             [
              0.3333333333333333,
              "#9c179e"
             ],
             [
              0.4444444444444444,
              "#bd3786"
             ],
             [
              0.5555555555555556,
              "#d8576b"
             ],
             [
              0.6666666666666666,
              "#ed7953"
             ],
             [
              0.7777777777777778,
              "#fb9f3a"
             ],
             [
              0.8888888888888888,
              "#fdca26"
             ],
             [
              1,
              "#f0f921"
             ]
            ],
            "type": "surface"
           }
          ],
          "table": [
           {
            "cells": {
             "fill": {
              "color": "#EBF0F8"
             },
             "line": {
              "color": "white"
             }
            },
            "header": {
             "fill": {
              "color": "#C8D4E3"
             },
             "line": {
              "color": "white"
             }
            },
            "type": "table"
           }
          ]
         },
         "layout": {
          "annotationdefaults": {
           "arrowcolor": "#2a3f5f",
           "arrowhead": 0,
           "arrowwidth": 1
          },
          "autotypenumbers": "strict",
          "coloraxis": {
           "colorbar": {
            "outlinewidth": 0,
            "ticks": ""
           }
          },
          "colorscale": {
           "diverging": [
            [
             0,
             "#8e0152"
            ],
            [
             0.1,
             "#c51b7d"
            ],
            [
             0.2,
             "#de77ae"
            ],
            [
             0.3,
             "#f1b6da"
            ],
            [
             0.4,
             "#fde0ef"
            ],
            [
             0.5,
             "#f7f7f7"
            ],
            [
             0.6,
             "#e6f5d0"
            ],
            [
             0.7,
             "#b8e186"
            ],
            [
             0.8,
             "#7fbc41"
            ],
            [
             0.9,
             "#4d9221"
            ],
            [
             1,
             "#276419"
            ]
           ],
           "sequential": [
            [
             0,
             "#0d0887"
            ],
            [
             0.1111111111111111,
             "#46039f"
            ],
            [
             0.2222222222222222,
             "#7201a8"
            ],
            [
             0.3333333333333333,
             "#9c179e"
            ],
            [
             0.4444444444444444,
             "#bd3786"
            ],
            [
             0.5555555555555556,
             "#d8576b"
            ],
            [
             0.6666666666666666,
             "#ed7953"
            ],
            [
             0.7777777777777778,
             "#fb9f3a"
            ],
            [
             0.8888888888888888,
             "#fdca26"
            ],
            [
             1,
             "#f0f921"
            ]
           ],
           "sequentialminus": [
            [
             0,
             "#0d0887"
            ],
            [
             0.1111111111111111,
             "#46039f"
            ],
            [
             0.2222222222222222,
             "#7201a8"
            ],
            [
             0.3333333333333333,
             "#9c179e"
            ],
            [
             0.4444444444444444,
             "#bd3786"
            ],
            [
             0.5555555555555556,
             "#d8576b"
            ],
            [
             0.6666666666666666,
             "#ed7953"
            ],
            [
             0.7777777777777778,
             "#fb9f3a"
            ],
            [
             0.8888888888888888,
             "#fdca26"
            ],
            [
             1,
             "#f0f921"
            ]
           ]
          },
          "colorway": [
           "#636efa",
           "#EF553B",
           "#00cc96",
           "#ab63fa",
           "#FFA15A",
           "#19d3f3",
           "#FF6692",
           "#B6E880",
           "#FF97FF",
           "#FECB52"
          ],
          "font": {
           "color": "#2a3f5f"
          },
          "geo": {
           "bgcolor": "white",
           "lakecolor": "white",
           "landcolor": "#E5ECF6",
           "showlakes": true,
           "showland": true,
           "subunitcolor": "white"
          },
          "hoverlabel": {
           "align": "left"
          },
          "hovermode": "closest",
          "mapbox": {
           "style": "light"
          },
          "paper_bgcolor": "white",
          "plot_bgcolor": "#E5ECF6",
          "polar": {
           "angularaxis": {
            "gridcolor": "white",
            "linecolor": "white",
            "ticks": ""
           },
           "bgcolor": "#E5ECF6",
           "radialaxis": {
            "gridcolor": "white",
            "linecolor": "white",
            "ticks": ""
           }
          },
          "scene": {
           "xaxis": {
            "backgroundcolor": "#E5ECF6",
            "gridcolor": "white",
            "gridwidth": 2,
            "linecolor": "white",
            "showbackground": true,
            "ticks": "",
            "zerolinecolor": "white"
           },
           "yaxis": {
            "backgroundcolor": "#E5ECF6",
            "gridcolor": "white",
            "gridwidth": 2,
            "linecolor": "white",
            "showbackground": true,
            "ticks": "",
            "zerolinecolor": "white"
           },
           "zaxis": {
            "backgroundcolor": "#E5ECF6",
            "gridcolor": "white",
            "gridwidth": 2,
            "linecolor": "white",
            "showbackground": true,
            "ticks": "",
            "zerolinecolor": "white"
           }
          },
          "shapedefaults": {
           "line": {
            "color": "#2a3f5f"
           }
          },
          "ternary": {
           "aaxis": {
            "gridcolor": "white",
            "linecolor": "white",
            "ticks": ""
           },
           "baxis": {
            "gridcolor": "white",
            "linecolor": "white",
            "ticks": ""
           },
           "bgcolor": "#E5ECF6",
           "caxis": {
            "gridcolor": "white",
            "linecolor": "white",
            "ticks": ""
           }
          },
          "title": {
           "x": 0.05
          },
          "xaxis": {
           "automargin": true,
           "gridcolor": "white",
           "linecolor": "white",
           "ticks": "",
           "title": {
            "standoff": 15
           },
           "zerolinecolor": "white",
           "zerolinewidth": 2
          },
          "yaxis": {
           "automargin": true,
           "gridcolor": "white",
           "linecolor": "white",
           "ticks": "",
           "title": {
            "standoff": 15
           },
           "zerolinecolor": "white",
           "zerolinewidth": 2
          }
         }
        },
        "title": {
         "text": "<b style=\"color:#7b8b6f;\">Percent of Churn by TechSupport</b>"
        },
        "width": 500
       }
      }
     },
     "metadata": {},
     "output_type": "display_data"
    }
   ],
   "source": [
    "plot_sunburst('TechSupport')"
   ]
  },
  {
   "cell_type": "markdown",
   "id": "tvQP8ov0uJiB",
   "metadata": {
    "id": "tvQP8ov0uJiB"
   },
   "source": [
    "### Percent of Churn by Streaming TV\n",
    "\n",
    "This one, we can say this category quite have the effect on Churning Decision by I'll say not significantly so. "
   ]
  },
  {
   "cell_type": "code",
   "execution_count": 41,
   "id": "cd76c91b",
   "metadata": {
    "colab": {
     "base_uri": "https://localhost:8080/",
     "height": 517
    },
    "id": "cd76c91b",
    "outputId": "fb5ad13b-aec0-4ad0-e6c8-9b4f3f5cb4a6"
   },
   "outputs": [
    {
     "data": {
      "application/vnd.plotly.v1+json": {
       "config": {
        "plotlyServerURL": "https://plot.ly"
       },
       "data": [
        {
         "branchvalues": "total",
         "domain": {
          "x": [
           0,
           1
          ],
          "y": [
           0,
           1
          ]
         },
         "hovertemplate": "labels=%{label}<br>count=%{value}<br>parent=%{parent}<br>id=%{id}<extra></extra>",
         "ids": [
          "No/No",
          "No internet service/No",
          "Yes/No",
          "No/Yes",
          "No internet service/Yes",
          "Yes/Yes",
          "No",
          "No internet service",
          "Yes"
         ],
         "labels": [
          "No",
          "No",
          "No",
          "Yes",
          "Yes",
          "Yes",
          "No",
          "No internet service",
          "Yes"
         ],
         "name": "",
         "parents": [
          "No",
          "No internet service",
          "Yes",
          "No",
          "No internet service",
          "Yes",
          "",
          "",
          ""
         ],
         "textfont": {
          "size": 16
         },
         "textinfo": "label+percent parent",
         "type": "sunburst",
         "values": [
          1867,
          1407,
          1889,
          942,
          113,
          814,
          2809,
          1520,
          2703
         ]
        }
       ],
       "layout": {
        "height": 500,
        "legend": {
         "tracegroupgap": 0
        },
        "margin": {
         "t": 60
        },
        "sunburstcolorway": [
         "#d11141",
         "#00b159",
         "#00aedb",
         "#f37735",
         "#ffc425"
        ],
        "template": {
         "data": {
          "bar": [
           {
            "error_x": {
             "color": "#2a3f5f"
            },
            "error_y": {
             "color": "#2a3f5f"
            },
            "marker": {
             "line": {
              "color": "#E5ECF6",
              "width": 0.5
             },
             "pattern": {
              "fillmode": "overlay",
              "size": 10,
              "solidity": 0.2
             }
            },
            "type": "bar"
           }
          ],
          "barpolar": [
           {
            "marker": {
             "line": {
              "color": "#E5ECF6",
              "width": 0.5
             },
             "pattern": {
              "fillmode": "overlay",
              "size": 10,
              "solidity": 0.2
             }
            },
            "type": "barpolar"
           }
          ],
          "carpet": [
           {
            "aaxis": {
             "endlinecolor": "#2a3f5f",
             "gridcolor": "white",
             "linecolor": "white",
             "minorgridcolor": "white",
             "startlinecolor": "#2a3f5f"
            },
            "baxis": {
             "endlinecolor": "#2a3f5f",
             "gridcolor": "white",
             "linecolor": "white",
             "minorgridcolor": "white",
             "startlinecolor": "#2a3f5f"
            },
            "type": "carpet"
           }
          ],
          "choropleth": [
           {
            "colorbar": {
             "outlinewidth": 0,
             "ticks": ""
            },
            "type": "choropleth"
           }
          ],
          "contour": [
           {
            "colorbar": {
             "outlinewidth": 0,
             "ticks": ""
            },
            "colorscale": [
             [
              0,
              "#0d0887"
             ],
             [
              0.1111111111111111,
              "#46039f"
             ],
             [
              0.2222222222222222,
              "#7201a8"
             ],
             [
              0.3333333333333333,
              "#9c179e"
             ],
             [
              0.4444444444444444,
              "#bd3786"
             ],
             [
              0.5555555555555556,
              "#d8576b"
             ],
             [
              0.6666666666666666,
              "#ed7953"
             ],
             [
              0.7777777777777778,
              "#fb9f3a"
             ],
             [
              0.8888888888888888,
              "#fdca26"
             ],
             [
              1,
              "#f0f921"
             ]
            ],
            "type": "contour"
           }
          ],
          "contourcarpet": [
           {
            "colorbar": {
             "outlinewidth": 0,
             "ticks": ""
            },
            "type": "contourcarpet"
           }
          ],
          "heatmap": [
           {
            "colorbar": {
             "outlinewidth": 0,
             "ticks": ""
            },
            "colorscale": [
             [
              0,
              "#0d0887"
             ],
             [
              0.1111111111111111,
              "#46039f"
             ],
             [
              0.2222222222222222,
              "#7201a8"
             ],
             [
              0.3333333333333333,
              "#9c179e"
             ],
             [
              0.4444444444444444,
              "#bd3786"
             ],
             [
              0.5555555555555556,
              "#d8576b"
             ],
             [
              0.6666666666666666,
              "#ed7953"
             ],
             [
              0.7777777777777778,
              "#fb9f3a"
             ],
             [
              0.8888888888888888,
              "#fdca26"
             ],
             [
              1,
              "#f0f921"
             ]
            ],
            "type": "heatmap"
           }
          ],
          "heatmapgl": [
           {
            "colorbar": {
             "outlinewidth": 0,
             "ticks": ""
            },
            "colorscale": [
             [
              0,
              "#0d0887"
             ],
             [
              0.1111111111111111,
              "#46039f"
             ],
             [
              0.2222222222222222,
              "#7201a8"
             ],
             [
              0.3333333333333333,
              "#9c179e"
             ],
             [
              0.4444444444444444,
              "#bd3786"
             ],
             [
              0.5555555555555556,
              "#d8576b"
             ],
             [
              0.6666666666666666,
              "#ed7953"
             ],
             [
              0.7777777777777778,
              "#fb9f3a"
             ],
             [
              0.8888888888888888,
              "#fdca26"
             ],
             [
              1,
              "#f0f921"
             ]
            ],
            "type": "heatmapgl"
           }
          ],
          "histogram": [
           {
            "marker": {
             "pattern": {
              "fillmode": "overlay",
              "size": 10,
              "solidity": 0.2
             }
            },
            "type": "histogram"
           }
          ],
          "histogram2d": [
           {
            "colorbar": {
             "outlinewidth": 0,
             "ticks": ""
            },
            "colorscale": [
             [
              0,
              "#0d0887"
             ],
             [
              0.1111111111111111,
              "#46039f"
             ],
             [
              0.2222222222222222,
              "#7201a8"
             ],
             [
              0.3333333333333333,
              "#9c179e"
             ],
             [
              0.4444444444444444,
              "#bd3786"
             ],
             [
              0.5555555555555556,
              "#d8576b"
             ],
             [
              0.6666666666666666,
              "#ed7953"
             ],
             [
              0.7777777777777778,
              "#fb9f3a"
             ],
             [
              0.8888888888888888,
              "#fdca26"
             ],
             [
              1,
              "#f0f921"
             ]
            ],
            "type": "histogram2d"
           }
          ],
          "histogram2dcontour": [
           {
            "colorbar": {
             "outlinewidth": 0,
             "ticks": ""
            },
            "colorscale": [
             [
              0,
              "#0d0887"
             ],
             [
              0.1111111111111111,
              "#46039f"
             ],
             [
              0.2222222222222222,
              "#7201a8"
             ],
             [
              0.3333333333333333,
              "#9c179e"
             ],
             [
              0.4444444444444444,
              "#bd3786"
             ],
             [
              0.5555555555555556,
              "#d8576b"
             ],
             [
              0.6666666666666666,
              "#ed7953"
             ],
             [
              0.7777777777777778,
              "#fb9f3a"
             ],
             [
              0.8888888888888888,
              "#fdca26"
             ],
             [
              1,
              "#f0f921"
             ]
            ],
            "type": "histogram2dcontour"
           }
          ],
          "mesh3d": [
           {
            "colorbar": {
             "outlinewidth": 0,
             "ticks": ""
            },
            "type": "mesh3d"
           }
          ],
          "parcoords": [
           {
            "line": {
             "colorbar": {
              "outlinewidth": 0,
              "ticks": ""
             }
            },
            "type": "parcoords"
           }
          ],
          "pie": [
           {
            "automargin": true,
            "type": "pie"
           }
          ],
          "scatter": [
           {
            "marker": {
             "colorbar": {
              "outlinewidth": 0,
              "ticks": ""
             }
            },
            "type": "scatter"
           }
          ],
          "scatter3d": [
           {
            "line": {
             "colorbar": {
              "outlinewidth": 0,
              "ticks": ""
             }
            },
            "marker": {
             "colorbar": {
              "outlinewidth": 0,
              "ticks": ""
             }
            },
            "type": "scatter3d"
           }
          ],
          "scattercarpet": [
           {
            "marker": {
             "colorbar": {
              "outlinewidth": 0,
              "ticks": ""
             }
            },
            "type": "scattercarpet"
           }
          ],
          "scattergeo": [
           {
            "marker": {
             "colorbar": {
              "outlinewidth": 0,
              "ticks": ""
             }
            },
            "type": "scattergeo"
           }
          ],
          "scattergl": [
           {
            "marker": {
             "colorbar": {
              "outlinewidth": 0,
              "ticks": ""
             }
            },
            "type": "scattergl"
           }
          ],
          "scattermapbox": [
           {
            "marker": {
             "colorbar": {
              "outlinewidth": 0,
              "ticks": ""
             }
            },
            "type": "scattermapbox"
           }
          ],
          "scatterpolar": [
           {
            "marker": {
             "colorbar": {
              "outlinewidth": 0,
              "ticks": ""
             }
            },
            "type": "scatterpolar"
           }
          ],
          "scatterpolargl": [
           {
            "marker": {
             "colorbar": {
              "outlinewidth": 0,
              "ticks": ""
             }
            },
            "type": "scatterpolargl"
           }
          ],
          "scatterternary": [
           {
            "marker": {
             "colorbar": {
              "outlinewidth": 0,
              "ticks": ""
             }
            },
            "type": "scatterternary"
           }
          ],
          "surface": [
           {
            "colorbar": {
             "outlinewidth": 0,
             "ticks": ""
            },
            "colorscale": [
             [
              0,
              "#0d0887"
             ],
             [
              0.1111111111111111,
              "#46039f"
             ],
             [
              0.2222222222222222,
              "#7201a8"
             ],
             [
              0.3333333333333333,
              "#9c179e"
             ],
             [
              0.4444444444444444,
              "#bd3786"
             ],
             [
              0.5555555555555556,
              "#d8576b"
             ],
             [
              0.6666666666666666,
              "#ed7953"
             ],
             [
              0.7777777777777778,
              "#fb9f3a"
             ],
             [
              0.8888888888888888,
              "#fdca26"
             ],
             [
              1,
              "#f0f921"
             ]
            ],
            "type": "surface"
           }
          ],
          "table": [
           {
            "cells": {
             "fill": {
              "color": "#EBF0F8"
             },
             "line": {
              "color": "white"
             }
            },
            "header": {
             "fill": {
              "color": "#C8D4E3"
             },
             "line": {
              "color": "white"
             }
            },
            "type": "table"
           }
          ]
         },
         "layout": {
          "annotationdefaults": {
           "arrowcolor": "#2a3f5f",
           "arrowhead": 0,
           "arrowwidth": 1
          },
          "autotypenumbers": "strict",
          "coloraxis": {
           "colorbar": {
            "outlinewidth": 0,
            "ticks": ""
           }
          },
          "colorscale": {
           "diverging": [
            [
             0,
             "#8e0152"
            ],
            [
             0.1,
             "#c51b7d"
            ],
            [
             0.2,
             "#de77ae"
            ],
            [
             0.3,
             "#f1b6da"
            ],
            [
             0.4,
             "#fde0ef"
            ],
            [
             0.5,
             "#f7f7f7"
            ],
            [
             0.6,
             "#e6f5d0"
            ],
            [
             0.7,
             "#b8e186"
            ],
            [
             0.8,
             "#7fbc41"
            ],
            [
             0.9,
             "#4d9221"
            ],
            [
             1,
             "#276419"
            ]
           ],
           "sequential": [
            [
             0,
             "#0d0887"
            ],
            [
             0.1111111111111111,
             "#46039f"
            ],
            [
             0.2222222222222222,
             "#7201a8"
            ],
            [
             0.3333333333333333,
             "#9c179e"
            ],
            [
             0.4444444444444444,
             "#bd3786"
            ],
            [
             0.5555555555555556,
             "#d8576b"
            ],
            [
             0.6666666666666666,
             "#ed7953"
            ],
            [
             0.7777777777777778,
             "#fb9f3a"
            ],
            [
             0.8888888888888888,
             "#fdca26"
            ],
            [
             1,
             "#f0f921"
            ]
           ],
           "sequentialminus": [
            [
             0,
             "#0d0887"
            ],
            [
             0.1111111111111111,
             "#46039f"
            ],
            [
             0.2222222222222222,
             "#7201a8"
            ],
            [
             0.3333333333333333,
             "#9c179e"
            ],
            [
             0.4444444444444444,
             "#bd3786"
            ],
            [
             0.5555555555555556,
             "#d8576b"
            ],
            [
             0.6666666666666666,
             "#ed7953"
            ],
            [
             0.7777777777777778,
             "#fb9f3a"
            ],
            [
             0.8888888888888888,
             "#fdca26"
            ],
            [
             1,
             "#f0f921"
            ]
           ]
          },
          "colorway": [
           "#636efa",
           "#EF553B",
           "#00cc96",
           "#ab63fa",
           "#FFA15A",
           "#19d3f3",
           "#FF6692",
           "#B6E880",
           "#FF97FF",
           "#FECB52"
          ],
          "font": {
           "color": "#2a3f5f"
          },
          "geo": {
           "bgcolor": "white",
           "lakecolor": "white",
           "landcolor": "#E5ECF6",
           "showlakes": true,
           "showland": true,
           "subunitcolor": "white"
          },
          "hoverlabel": {
           "align": "left"
          },
          "hovermode": "closest",
          "mapbox": {
           "style": "light"
          },
          "paper_bgcolor": "white",
          "plot_bgcolor": "#E5ECF6",
          "polar": {
           "angularaxis": {
            "gridcolor": "white",
            "linecolor": "white",
            "ticks": ""
           },
           "bgcolor": "#E5ECF6",
           "radialaxis": {
            "gridcolor": "white",
            "linecolor": "white",
            "ticks": ""
           }
          },
          "scene": {
           "xaxis": {
            "backgroundcolor": "#E5ECF6",
            "gridcolor": "white",
            "gridwidth": 2,
            "linecolor": "white",
            "showbackground": true,
            "ticks": "",
            "zerolinecolor": "white"
           },
           "yaxis": {
            "backgroundcolor": "#E5ECF6",
            "gridcolor": "white",
            "gridwidth": 2,
            "linecolor": "white",
            "showbackground": true,
            "ticks": "",
            "zerolinecolor": "white"
           },
           "zaxis": {
            "backgroundcolor": "#E5ECF6",
            "gridcolor": "white",
            "gridwidth": 2,
            "linecolor": "white",
            "showbackground": true,
            "ticks": "",
            "zerolinecolor": "white"
           }
          },
          "shapedefaults": {
           "line": {
            "color": "#2a3f5f"
           }
          },
          "ternary": {
           "aaxis": {
            "gridcolor": "white",
            "linecolor": "white",
            "ticks": ""
           },
           "baxis": {
            "gridcolor": "white",
            "linecolor": "white",
            "ticks": ""
           },
           "bgcolor": "#E5ECF6",
           "caxis": {
            "gridcolor": "white",
            "linecolor": "white",
            "ticks": ""
           }
          },
          "title": {
           "x": 0.05
          },
          "xaxis": {
           "automargin": true,
           "gridcolor": "white",
           "linecolor": "white",
           "ticks": "",
           "title": {
            "standoff": 15
           },
           "zerolinecolor": "white",
           "zerolinewidth": 2
          },
          "yaxis": {
           "automargin": true,
           "gridcolor": "white",
           "linecolor": "white",
           "ticks": "",
           "title": {
            "standoff": 15
           },
           "zerolinecolor": "white",
           "zerolinewidth": 2
          }
         }
        },
        "title": {
         "text": "<b style=\"color:#7b8b6f;\">Percent of Churn by StreamingTV</b>"
        },
        "width": 500
       }
      }
     },
     "metadata": {},
     "output_type": "display_data"
    }
   ],
   "source": [
    "plot_sunburst('StreamingTV')"
   ]
  },
  {
   "cell_type": "markdown",
   "id": "mUFs59IMuTuc",
   "metadata": {
    "id": "mUFs59IMuTuc"
   },
   "source": [
    "### Percent of Churn by Streaming Movies\n",
    "\n",
    "And for the Streaming Movies, not surprisingly, the conclusion is the exact same with the previous Streaming TV."
   ]
  },
  {
   "cell_type": "code",
   "execution_count": 42,
   "id": "04ee5b4c",
   "metadata": {
    "colab": {
     "base_uri": "https://localhost:8080/",
     "height": 517
    },
    "id": "04ee5b4c",
    "outputId": "07ff46af-2788-4158-f884-b995bef6f4f1"
   },
   "outputs": [
    {
     "data": {
      "application/vnd.plotly.v1+json": {
       "config": {
        "plotlyServerURL": "https://plot.ly"
       },
       "data": [
        {
         "branchvalues": "total",
         "domain": {
          "x": [
           0,
           1
          ],
          "y": [
           0,
           1
          ]
         },
         "hovertemplate": "labels=%{label}<br>count=%{value}<br>parent=%{parent}<br>id=%{id}<extra></extra>",
         "ids": [
          "No/No",
          "No internet service/No",
          "Yes/No",
          "No/Yes",
          "No internet service/Yes",
          "Yes/Yes",
          "No",
          "No internet service",
          "Yes"
         ],
         "labels": [
          "No",
          "No",
          "No",
          "Yes",
          "Yes",
          "Yes",
          "No",
          "No internet service",
          "Yes"
         ],
         "name": "",
         "parents": [
          "No",
          "No internet service",
          "Yes",
          "No",
          "No internet service",
          "Yes",
          "",
          "",
          ""
         ],
         "textfont": {
          "size": 16
         },
         "textinfo": "label+percent parent",
         "type": "sunburst",
         "values": [
          1843,
          1407,
          1913,
          938,
          113,
          818,
          2781,
          1520,
          2731
         ]
        }
       ],
       "layout": {
        "height": 500,
        "legend": {
         "tracegroupgap": 0
        },
        "margin": {
         "t": 60
        },
        "sunburstcolorway": [
         "#d11141",
         "#00b159",
         "#00aedb",
         "#f37735",
         "#ffc425"
        ],
        "template": {
         "data": {
          "bar": [
           {
            "error_x": {
             "color": "#2a3f5f"
            },
            "error_y": {
             "color": "#2a3f5f"
            },
            "marker": {
             "line": {
              "color": "#E5ECF6",
              "width": 0.5
             },
             "pattern": {
              "fillmode": "overlay",
              "size": 10,
              "solidity": 0.2
             }
            },
            "type": "bar"
           }
          ],
          "barpolar": [
           {
            "marker": {
             "line": {
              "color": "#E5ECF6",
              "width": 0.5
             },
             "pattern": {
              "fillmode": "overlay",
              "size": 10,
              "solidity": 0.2
             }
            },
            "type": "barpolar"
           }
          ],
          "carpet": [
           {
            "aaxis": {
             "endlinecolor": "#2a3f5f",
             "gridcolor": "white",
             "linecolor": "white",
             "minorgridcolor": "white",
             "startlinecolor": "#2a3f5f"
            },
            "baxis": {
             "endlinecolor": "#2a3f5f",
             "gridcolor": "white",
             "linecolor": "white",
             "minorgridcolor": "white",
             "startlinecolor": "#2a3f5f"
            },
            "type": "carpet"
           }
          ],
          "choropleth": [
           {
            "colorbar": {
             "outlinewidth": 0,
             "ticks": ""
            },
            "type": "choropleth"
           }
          ],
          "contour": [
           {
            "colorbar": {
             "outlinewidth": 0,
             "ticks": ""
            },
            "colorscale": [
             [
              0,
              "#0d0887"
             ],
             [
              0.1111111111111111,
              "#46039f"
             ],
             [
              0.2222222222222222,
              "#7201a8"
             ],
             [
              0.3333333333333333,
              "#9c179e"
             ],
             [
              0.4444444444444444,
              "#bd3786"
             ],
             [
              0.5555555555555556,
              "#d8576b"
             ],
             [
              0.6666666666666666,
              "#ed7953"
             ],
             [
              0.7777777777777778,
              "#fb9f3a"
             ],
             [
              0.8888888888888888,
              "#fdca26"
             ],
             [
              1,
              "#f0f921"
             ]
            ],
            "type": "contour"
           }
          ],
          "contourcarpet": [
           {
            "colorbar": {
             "outlinewidth": 0,
             "ticks": ""
            },
            "type": "contourcarpet"
           }
          ],
          "heatmap": [
           {
            "colorbar": {
             "outlinewidth": 0,
             "ticks": ""
            },
            "colorscale": [
             [
              0,
              "#0d0887"
             ],
             [
              0.1111111111111111,
              "#46039f"
             ],
             [
              0.2222222222222222,
              "#7201a8"
             ],
             [
              0.3333333333333333,
              "#9c179e"
             ],
             [
              0.4444444444444444,
              "#bd3786"
             ],
             [
              0.5555555555555556,
              "#d8576b"
             ],
             [
              0.6666666666666666,
              "#ed7953"
             ],
             [
              0.7777777777777778,
              "#fb9f3a"
             ],
             [
              0.8888888888888888,
              "#fdca26"
             ],
             [
              1,
              "#f0f921"
             ]
            ],
            "type": "heatmap"
           }
          ],
          "heatmapgl": [
           {
            "colorbar": {
             "outlinewidth": 0,
             "ticks": ""
            },
            "colorscale": [
             [
              0,
              "#0d0887"
             ],
             [
              0.1111111111111111,
              "#46039f"
             ],
             [
              0.2222222222222222,
              "#7201a8"
             ],
             [
              0.3333333333333333,
              "#9c179e"
             ],
             [
              0.4444444444444444,
              "#bd3786"
             ],
             [
              0.5555555555555556,
              "#d8576b"
             ],
             [
              0.6666666666666666,
              "#ed7953"
             ],
             [
              0.7777777777777778,
              "#fb9f3a"
             ],
             [
              0.8888888888888888,
              "#fdca26"
             ],
             [
              1,
              "#f0f921"
             ]
            ],
            "type": "heatmapgl"
           }
          ],
          "histogram": [
           {
            "marker": {
             "pattern": {
              "fillmode": "overlay",
              "size": 10,
              "solidity": 0.2
             }
            },
            "type": "histogram"
           }
          ],
          "histogram2d": [
           {
            "colorbar": {
             "outlinewidth": 0,
             "ticks": ""
            },
            "colorscale": [
             [
              0,
              "#0d0887"
             ],
             [
              0.1111111111111111,
              "#46039f"
             ],
             [
              0.2222222222222222,
              "#7201a8"
             ],
             [
              0.3333333333333333,
              "#9c179e"
             ],
             [
              0.4444444444444444,
              "#bd3786"
             ],
             [
              0.5555555555555556,
              "#d8576b"
             ],
             [
              0.6666666666666666,
              "#ed7953"
             ],
             [
              0.7777777777777778,
              "#fb9f3a"
             ],
             [
              0.8888888888888888,
              "#fdca26"
             ],
             [
              1,
              "#f0f921"
             ]
            ],
            "type": "histogram2d"
           }
          ],
          "histogram2dcontour": [
           {
            "colorbar": {
             "outlinewidth": 0,
             "ticks": ""
            },
            "colorscale": [
             [
              0,
              "#0d0887"
             ],
             [
              0.1111111111111111,
              "#46039f"
             ],
             [
              0.2222222222222222,
              "#7201a8"
             ],
             [
              0.3333333333333333,
              "#9c179e"
             ],
             [
              0.4444444444444444,
              "#bd3786"
             ],
             [
              0.5555555555555556,
              "#d8576b"
             ],
             [
              0.6666666666666666,
              "#ed7953"
             ],
             [
              0.7777777777777778,
              "#fb9f3a"
             ],
             [
              0.8888888888888888,
              "#fdca26"
             ],
             [
              1,
              "#f0f921"
             ]
            ],
            "type": "histogram2dcontour"
           }
          ],
          "mesh3d": [
           {
            "colorbar": {
             "outlinewidth": 0,
             "ticks": ""
            },
            "type": "mesh3d"
           }
          ],
          "parcoords": [
           {
            "line": {
             "colorbar": {
              "outlinewidth": 0,
              "ticks": ""
             }
            },
            "type": "parcoords"
           }
          ],
          "pie": [
           {
            "automargin": true,
            "type": "pie"
           }
          ],
          "scatter": [
           {
            "marker": {
             "colorbar": {
              "outlinewidth": 0,
              "ticks": ""
             }
            },
            "type": "scatter"
           }
          ],
          "scatter3d": [
           {
            "line": {
             "colorbar": {
              "outlinewidth": 0,
              "ticks": ""
             }
            },
            "marker": {
             "colorbar": {
              "outlinewidth": 0,
              "ticks": ""
             }
            },
            "type": "scatter3d"
           }
          ],
          "scattercarpet": [
           {
            "marker": {
             "colorbar": {
              "outlinewidth": 0,
              "ticks": ""
             }
            },
            "type": "scattercarpet"
           }
          ],
          "scattergeo": [
           {
            "marker": {
             "colorbar": {
              "outlinewidth": 0,
              "ticks": ""
             }
            },
            "type": "scattergeo"
           }
          ],
          "scattergl": [
           {
            "marker": {
             "colorbar": {
              "outlinewidth": 0,
              "ticks": ""
             }
            },
            "type": "scattergl"
           }
          ],
          "scattermapbox": [
           {
            "marker": {
             "colorbar": {
              "outlinewidth": 0,
              "ticks": ""
             }
            },
            "type": "scattermapbox"
           }
          ],
          "scatterpolar": [
           {
            "marker": {
             "colorbar": {
              "outlinewidth": 0,
              "ticks": ""
             }
            },
            "type": "scatterpolar"
           }
          ],
          "scatterpolargl": [
           {
            "marker": {
             "colorbar": {
              "outlinewidth": 0,
              "ticks": ""
             }
            },
            "type": "scatterpolargl"
           }
          ],
          "scatterternary": [
           {
            "marker": {
             "colorbar": {
              "outlinewidth": 0,
              "ticks": ""
             }
            },
            "type": "scatterternary"
           }
          ],
          "surface": [
           {
            "colorbar": {
             "outlinewidth": 0,
             "ticks": ""
            },
            "colorscale": [
             [
              0,
              "#0d0887"
             ],
             [
              0.1111111111111111,
              "#46039f"
             ],
             [
              0.2222222222222222,
              "#7201a8"
             ],
             [
              0.3333333333333333,
              "#9c179e"
             ],
             [
              0.4444444444444444,
              "#bd3786"
             ],
             [
              0.5555555555555556,
              "#d8576b"
             ],
             [
              0.6666666666666666,
              "#ed7953"
             ],
             [
              0.7777777777777778,
              "#fb9f3a"
             ],
             [
              0.8888888888888888,
              "#fdca26"
             ],
             [
              1,
              "#f0f921"
             ]
            ],
            "type": "surface"
           }
          ],
          "table": [
           {
            "cells": {
             "fill": {
              "color": "#EBF0F8"
             },
             "line": {
              "color": "white"
             }
            },
            "header": {
             "fill": {
              "color": "#C8D4E3"
             },
             "line": {
              "color": "white"
             }
            },
            "type": "table"
           }
          ]
         },
         "layout": {
          "annotationdefaults": {
           "arrowcolor": "#2a3f5f",
           "arrowhead": 0,
           "arrowwidth": 1
          },
          "autotypenumbers": "strict",
          "coloraxis": {
           "colorbar": {
            "outlinewidth": 0,
            "ticks": ""
           }
          },
          "colorscale": {
           "diverging": [
            [
             0,
             "#8e0152"
            ],
            [
             0.1,
             "#c51b7d"
            ],
            [
             0.2,
             "#de77ae"
            ],
            [
             0.3,
             "#f1b6da"
            ],
            [
             0.4,
             "#fde0ef"
            ],
            [
             0.5,
             "#f7f7f7"
            ],
            [
             0.6,
             "#e6f5d0"
            ],
            [
             0.7,
             "#b8e186"
            ],
            [
             0.8,
             "#7fbc41"
            ],
            [
             0.9,
             "#4d9221"
            ],
            [
             1,
             "#276419"
            ]
           ],
           "sequential": [
            [
             0,
             "#0d0887"
            ],
            [
             0.1111111111111111,
             "#46039f"
            ],
            [
             0.2222222222222222,
             "#7201a8"
            ],
            [
             0.3333333333333333,
             "#9c179e"
            ],
            [
             0.4444444444444444,
             "#bd3786"
            ],
            [
             0.5555555555555556,
             "#d8576b"
            ],
            [
             0.6666666666666666,
             "#ed7953"
            ],
            [
             0.7777777777777778,
             "#fb9f3a"
            ],
            [
             0.8888888888888888,
             "#fdca26"
            ],
            [
             1,
             "#f0f921"
            ]
           ],
           "sequentialminus": [
            [
             0,
             "#0d0887"
            ],
            [
             0.1111111111111111,
             "#46039f"
            ],
            [
             0.2222222222222222,
             "#7201a8"
            ],
            [
             0.3333333333333333,
             "#9c179e"
            ],
            [
             0.4444444444444444,
             "#bd3786"
            ],
            [
             0.5555555555555556,
             "#d8576b"
            ],
            [
             0.6666666666666666,
             "#ed7953"
            ],
            [
             0.7777777777777778,
             "#fb9f3a"
            ],
            [
             0.8888888888888888,
             "#fdca26"
            ],
            [
             1,
             "#f0f921"
            ]
           ]
          },
          "colorway": [
           "#636efa",
           "#EF553B",
           "#00cc96",
           "#ab63fa",
           "#FFA15A",
           "#19d3f3",
           "#FF6692",
           "#B6E880",
           "#FF97FF",
           "#FECB52"
          ],
          "font": {
           "color": "#2a3f5f"
          },
          "geo": {
           "bgcolor": "white",
           "lakecolor": "white",
           "landcolor": "#E5ECF6",
           "showlakes": true,
           "showland": true,
           "subunitcolor": "white"
          },
          "hoverlabel": {
           "align": "left"
          },
          "hovermode": "closest",
          "mapbox": {
           "style": "light"
          },
          "paper_bgcolor": "white",
          "plot_bgcolor": "#E5ECF6",
          "polar": {
           "angularaxis": {
            "gridcolor": "white",
            "linecolor": "white",
            "ticks": ""
           },
           "bgcolor": "#E5ECF6",
           "radialaxis": {
            "gridcolor": "white",
            "linecolor": "white",
            "ticks": ""
           }
          },
          "scene": {
           "xaxis": {
            "backgroundcolor": "#E5ECF6",
            "gridcolor": "white",
            "gridwidth": 2,
            "linecolor": "white",
            "showbackground": true,
            "ticks": "",
            "zerolinecolor": "white"
           },
           "yaxis": {
            "backgroundcolor": "#E5ECF6",
            "gridcolor": "white",
            "gridwidth": 2,
            "linecolor": "white",
            "showbackground": true,
            "ticks": "",
            "zerolinecolor": "white"
           },
           "zaxis": {
            "backgroundcolor": "#E5ECF6",
            "gridcolor": "white",
            "gridwidth": 2,
            "linecolor": "white",
            "showbackground": true,
            "ticks": "",
            "zerolinecolor": "white"
           }
          },
          "shapedefaults": {
           "line": {
            "color": "#2a3f5f"
           }
          },
          "ternary": {
           "aaxis": {
            "gridcolor": "white",
            "linecolor": "white",
            "ticks": ""
           },
           "baxis": {
            "gridcolor": "white",
            "linecolor": "white",
            "ticks": ""
           },
           "bgcolor": "#E5ECF6",
           "caxis": {
            "gridcolor": "white",
            "linecolor": "white",
            "ticks": ""
           }
          },
          "title": {
           "x": 0.05
          },
          "xaxis": {
           "automargin": true,
           "gridcolor": "white",
           "linecolor": "white",
           "ticks": "",
           "title": {
            "standoff": 15
           },
           "zerolinecolor": "white",
           "zerolinewidth": 2
          },
          "yaxis": {
           "automargin": true,
           "gridcolor": "white",
           "linecolor": "white",
           "ticks": "",
           "title": {
            "standoff": 15
           },
           "zerolinecolor": "white",
           "zerolinewidth": 2
          }
         }
        },
        "title": {
         "text": "<b style=\"color:#7b8b6f;\">Percent of Churn by StreamingMovies</b>"
        },
        "width": 500
       }
      }
     },
     "metadata": {},
     "output_type": "display_data"
    }
   ],
   "source": [
    "plot_sunburst('StreamingMovies')"
   ]
  },
  {
   "cell_type": "markdown",
   "id": "RTBEXdVzubs8",
   "metadata": {
    "id": "RTBEXdVzubs8"
   },
   "source": [
    "### Distribution of Monthly Charges of Churn"
   ]
  },
  {
   "cell_type": "code",
   "execution_count": 43,
   "id": "d5f0837a",
   "metadata": {
    "colab": {
     "base_uri": "https://localhost:8080/",
     "height": 519
    },
    "id": "d5f0837a",
    "outputId": "9b85ab28-8239-498f-eeb6-c17bacb1f436"
   },
   "outputs": [
    {
     "data": {
      "image/png": "[encoded data removed]",
      "text/plain": [
       "<Figure size 1152x576 with 1 Axes>"
      ]
     },
     "metadata": {
      "needs_background": "light"
     },
     "output_type": "display_data"
    }
   ],
   "source": [
    "sns.set_context(\"paper\",font_scale=1.1)\n",
    "_, ax = plt.subplots(figsize=(16,8))\n",
    "ax = sns.kdeplot(eda.MonthlyCharges[(eda[\"Churn\"] == 'No') ],\n",
    "                color=color_discrete_sequence[4], shade = True);\n",
    "ax = sns.kdeplot(eda.MonthlyCharges[(eda[\"Churn\"] == 'Yes') ],\n",
    "                ax =ax, color=color_discrete_sequence[0], shade= True);\n",
    "ax.legend([\"Not Churn\",\"Churn\"],loc='upper right',fontsize=15);\n",
    "ax.set_ylabel('Density');\n",
    "ax.set_xlabel('Monthly Charges');\n",
    "ax.set_title('Distribution of monthly charges by churn',fontdict={'fontsize':20,'color':'#7b8b6f','fontweight':'bold'});"
   ]
  },
  {
   "cell_type": "markdown",
   "id": "3ydqHzcouiFA",
   "metadata": {
    "id": "3ydqHzcouiFA"
   },
   "source": [
    "We can see from the graph above, the tendency of churning increases as the monthly charges increases.\n",
    "\n",
    "This is a pretty much enlightening category since we can confidently conclude that price does affect the churning decision from the customers."
   ]
  },
  {
   "cell_type": "markdown",
   "id": "lTKNHComu39X",
   "metadata": {
    "id": "lTKNHComu39X"
   },
   "source": [
    "### Distribution of Total Charges by Churn"
   ]
  },
  {
   "cell_type": "code",
   "execution_count": 44,
   "id": "87242534",
   "metadata": {
    "colab": {
     "base_uri": "https://localhost:8080/",
     "height": 519
    },
    "id": "87242534",
    "outputId": "533bc7cb-9129-4fa8-800d-aad2cd23643b"
   },
   "outputs": [
    {
     "data": {
      "image/png": "[encoded data removed]",
      "text/plain": [
       "<Figure size 1152x576 with 1 Axes>"
      ]
     },
     "metadata": {
      "needs_background": "light"
     },
     "output_type": "display_data"
    }
   ],
   "source": [
    "sns.set_context(\"paper\",font_scale=1.1)\n",
    "_, ax = plt.subplots(figsize=(16,8))\n",
    "ax = sns.kdeplot(eda.TotalCharges[(eda[\"Churn\"] == 'No') ],\n",
    "                color=color_discrete_sequence[4], shade = True);\n",
    "ax = sns.kdeplot(eda.TotalCharges[(eda[\"Churn\"] == 'Yes') ],\n",
    "                ax =ax, color=color_discrete_sequence[0], shade= True);\n",
    "ax.legend([\"Not Churn\",\"Churn\"],loc='upper right',fontsize=15);\n",
    "ax.set_ylabel('Density');\n",
    "ax.set_xlabel('Total Charges');\n",
    "ax.set_title('Distribution of total charges by churn',fontdict={'fontsize':20,'color':'#7b8b6f','fontweight':'bold'});"
   ]
  },
  {
   "cell_type": "markdown",
   "id": "yv8Qb5rru9Oo",
   "metadata": {
    "id": "yv8Qb5rru9Oo"
   },
   "source": [
    "But weirdly enough, if we see the total charges, there is no much difference in the charges between those who decides to churn and not churn."
   ]
  },
  {
   "cell_type": "markdown",
   "id": "f79-tb1hvFKZ",
   "metadata": {
    "id": "f79-tb1hvFKZ"
   },
   "source": [
    "### Distribution of Tenure by Churn"
   ]
  },
  {
   "cell_type": "code",
   "execution_count": 45,
   "id": "0fa31c74",
   "metadata": {
    "colab": {
     "base_uri": "https://localhost:8080/",
     "height": 519
    },
    "id": "0fa31c74",
    "outputId": "8fed7158-8f6c-4845-feb9-5d48df1f9728",
    "scrolled": true
   },
   "outputs": [
    {
     "data": {
      "image/png": "[encoded data removed]",
      "text/plain": [
       "<Figure size 1152x576 with 1 Axes>"
      ]
     },
     "metadata": {
      "needs_background": "light"
     },
     "output_type": "display_data"
    }
   ],
   "source": [
    "_, ax = plt.subplots(figsize=(16,8))\n",
    "ax = sns.kdeplot(eda.tenure[(eda[\"Churn\"] == 'No') ],\n",
    "                color=color_discrete_sequence[4], shade = True);\n",
    "ax = sns.kdeplot(eda.tenure[(eda[\"Churn\"] == 'Yes') ],\n",
    "                ax =ax, color=color_discrete_sequence[0], shade= True);\n",
    "ax.legend([\"Not Churn\",\"Churn\"],loc='upper right',fontsize=15);\n",
    "ax.set_ylabel('Density');\n",
    "ax.set_xlabel('Tenure');\n",
    "ax.set_title('Distribution of tenure by churn',fontdict={'fontsize':20,'color':'#7b8b6f','fontweight':'bold'});"
   ]
  },
  {
   "cell_type": "markdown",
   "id": "pzf6_TkVvIcA",
   "metadata": {
    "id": "pzf6_TkVvIcA"
   },
   "source": [
    "Now we have the churn distribution by tenure and this kind of make the total charges distribution a little more make sense.\n",
    "\n",
    "We can see that here people who has short term tenure tend to churn way higher than those who has longer term tenure.\n",
    "\n",
    "Thus, probably there are lots of customers who tried all sort of services (hence **Higher Total Charges**) in a short term tenure just for the sake of trial and error."
   ]
  },
  {
   "cell_type": "markdown",
   "id": "0c34ca80",
   "metadata": {
    "id": "0c34ca80"
   },
   "source": [
    "## Data Preprocessing"
   ]
  },
  {
   "cell_type": "markdown",
   "id": "5HUwZWnKvjmI",
   "metadata": {
    "id": "5HUwZWnKvjmI"
   },
   "source": [
    "Next we are going to preprocess this data."
   ]
  },
  {
   "cell_type": "markdown",
   "id": "e369438b",
   "metadata": {
    "id": "e369438b"
   },
   "source": [
    "## Data Inference"
   ]
  },
  {
   "cell_type": "markdown",
   "id": "t4CQaaBLvmkc",
   "metadata": {
    "id": "t4CQaaBLvmkc"
   },
   "source": [
    "We are going to separate the inference data from the data we are going to use for training and testing."
   ]
  },
  {
   "cell_type": "code",
   "execution_count": 46,
   "id": "3a9f079e",
   "metadata": {
    "id": "3a9f079e"
   },
   "outputs": [],
   "source": [
    "data_inf = data1.sample(10, random_state = 22)"
   ]
  },
  {
   "cell_type": "code",
   "execution_count": 47,
   "id": "b4699b22",
   "metadata": {
    "id": "b4699b22"
   },
   "outputs": [],
   "source": [
    "#removing data_inf\n",
    "data_train_test = data1.drop(data_inf.index)"
   ]
  },
  {
   "cell_type": "markdown",
   "id": "egxCzIfcvsO4",
   "metadata": {
    "id": "egxCzIfcvsO4"
   },
   "source": [
    "And also resetting index for both inference data and train test data"
   ]
  },
  {
   "cell_type": "code",
   "execution_count": 48,
   "id": "5993cb0c",
   "metadata": {
    "id": "5993cb0c"
   },
   "outputs": [],
   "source": [
    "#reset index\n",
    "data_train_test.reset_index(drop=True, inplace=True)\n",
    "data_inf.reset_index(drop=True, inplace=True)"
   ]
  },
  {
   "cell_type": "markdown",
   "id": "aef91cb7",
   "metadata": {
    "id": "aef91cb7"
   },
   "source": [
    "## Split Dataset"
   ]
  },
  {
   "cell_type": "markdown",
   "id": "cbiklm-VvvU9",
   "metadata": {
    "id": "cbiklm-VvvU9"
   },
   "source": [
    "For the train test data, we are going to split it. But before that, we are defining the X (features) and y (target):"
   ]
  },
  {
   "cell_type": "code",
   "execution_count": 49,
   "id": "53c23c3d",
   "metadata": {
    "id": "53c23c3d"
   },
   "outputs": [],
   "source": [
    "from sklearn.model_selection import train_test_split"
   ]
  },
  {
   "cell_type": "code",
   "execution_count": 50,
   "id": "462a2444",
   "metadata": {
    "colab": {
     "base_uri": "https://localhost:8080/",
     "height": 661
    },
    "id": "462a2444",
    "outputId": "3ded6747-c6f9-43cf-c7dd-a07bd634cf0b"
   },
   "outputs": [
    {
     "data": {
      "text/html": [
       "<div>\n",
       "<style scoped>\n",
       "    .dataframe tbody tr th:only-of-type {\n",
       "        vertical-align: middle;\n",
       "    }\n",
       "\n",
       "    .dataframe tbody tr th {\n",
       "        vertical-align: top;\n",
       "    }\n",
       "\n",
       "    .dataframe thead th {\n",
       "        text-align: right;\n",
       "    }\n",
       "</style>\n",
       "<table border=\"1\" class=\"dataframe\">\n",
       "  <thead>\n",
       "    <tr style=\"text-align: right;\">\n",
       "      <th></th>\n",
       "      <th>customerID</th>\n",
       "      <th>gender</th>\n",
       "      <th>SeniorCitizen</th>\n",
       "      <th>Partner</th>\n",
       "      <th>Dependents</th>\n",
       "      <th>tenure</th>\n",
       "      <th>PhoneService</th>\n",
       "      <th>MultipleLines</th>\n",
       "      <th>InternetService</th>\n",
       "      <th>OnlineSecurity</th>\n",
       "      <th>OnlineBackup</th>\n",
       "      <th>DeviceProtection</th>\n",
       "      <th>TechSupport</th>\n",
       "      <th>StreamingTV</th>\n",
       "      <th>StreamingMovies</th>\n",
       "      <th>Contract</th>\n",
       "      <th>PaperlessBilling</th>\n",
       "      <th>PaymentMethod</th>\n",
       "      <th>MonthlyCharges</th>\n",
       "      <th>TotalCharges</th>\n",
       "    </tr>\n",
       "  </thead>\n",
       "  <tbody>\n",
       "    <tr>\n",
       "      <th>0</th>\n",
       "      <td>7590-VHVEG</td>\n",
       "      <td>Female</td>\n",
       "      <td>0</td>\n",
       "      <td>Yes</td>\n",
       "      <td>No</td>\n",
       "      <td>1</td>\n",
       "      <td>No</td>\n",
       "      <td>No phone service</td>\n",
       "      <td>DSL</td>\n",
       "      <td>No</td>\n",
       "      <td>Yes</td>\n",
       "      <td>No</td>\n",
       "      <td>No</td>\n",
       "      <td>No</td>\n",
       "      <td>No</td>\n",
       "      <td>Month-to-month</td>\n",
       "      <td>Yes</td>\n",
       "      <td>Electronic check</td>\n",
       "      <td>29.85</td>\n",
       "      <td>29.85</td>\n",
       "    </tr>\n",
       "    <tr>\n",
       "      <th>1</th>\n",
       "      <td>5575-GNVDE</td>\n",
       "      <td>Male</td>\n",
       "      <td>0</td>\n",
       "      <td>No</td>\n",
       "      <td>No</td>\n",
       "      <td>34</td>\n",
       "      <td>Yes</td>\n",
       "      <td>No</td>\n",
       "      <td>DSL</td>\n",
       "      <td>Yes</td>\n",
       "      <td>No</td>\n",
       "      <td>Yes</td>\n",
       "      <td>No</td>\n",
       "      <td>No</td>\n",
       "      <td>No</td>\n",
       "      <td>One year</td>\n",
       "      <td>No</td>\n",
       "      <td>Mailed check</td>\n",
       "      <td>56.95</td>\n",
       "      <td>1889.50</td>\n",
       "    </tr>\n",
       "    <tr>\n",
       "      <th>2</th>\n",
       "      <td>3668-QPYBK</td>\n",
       "      <td>Male</td>\n",
       "      <td>0</td>\n",
       "      <td>No</td>\n",
       "      <td>No</td>\n",
       "      <td>2</td>\n",
       "      <td>Yes</td>\n",
       "      <td>No</td>\n",
       "      <td>DSL</td>\n",
       "      <td>Yes</td>\n",
       "      <td>Yes</td>\n",
       "      <td>No</td>\n",
       "      <td>No</td>\n",
       "      <td>No</td>\n",
       "      <td>No</td>\n",
       "      <td>Month-to-month</td>\n",
       "      <td>Yes</td>\n",
       "      <td>Mailed check</td>\n",
       "      <td>53.85</td>\n",
       "      <td>108.15</td>\n",
       "    </tr>\n",
       "    <tr>\n",
       "      <th>3</th>\n",
       "      <td>7795-CFOCW</td>\n",
       "      <td>Male</td>\n",
       "      <td>0</td>\n",
       "      <td>No</td>\n",
       "      <td>No</td>\n",
       "      <td>45</td>\n",
       "      <td>No</td>\n",
       "      <td>No phone service</td>\n",
       "      <td>DSL</td>\n",
       "      <td>Yes</td>\n",
       "      <td>No</td>\n",
       "      <td>Yes</td>\n",
       "      <td>Yes</td>\n",
       "      <td>No</td>\n",
       "      <td>No</td>\n",
       "      <td>One year</td>\n",
       "      <td>No</td>\n",
       "      <td>Bank transfer (automatic)</td>\n",
       "      <td>42.30</td>\n",
       "      <td>1840.75</td>\n",
       "    </tr>\n",
       "    <tr>\n",
       "      <th>4</th>\n",
       "      <td>9237-HQITU</td>\n",
       "      <td>Female</td>\n",
       "      <td>0</td>\n",
       "      <td>No</td>\n",
       "      <td>No</td>\n",
       "      <td>2</td>\n",
       "      <td>Yes</td>\n",
       "      <td>No</td>\n",
       "      <td>Fiber optic</td>\n",
       "      <td>No</td>\n",
       "      <td>No</td>\n",
       "      <td>No</td>\n",
       "      <td>No</td>\n",
       "      <td>No</td>\n",
       "      <td>No</td>\n",
       "      <td>Month-to-month</td>\n",
       "      <td>Yes</td>\n",
       "      <td>Electronic check</td>\n",
       "      <td>70.70</td>\n",
       "      <td>151.65</td>\n",
       "    </tr>\n",
       "    <tr>\n",
       "      <th>...</th>\n",
       "      <td>...</td>\n",
       "      <td>...</td>\n",
       "      <td>...</td>\n",
       "      <td>...</td>\n",
       "      <td>...</td>\n",
       "      <td>...</td>\n",
       "      <td>...</td>\n",
       "      <td>...</td>\n",
       "      <td>...</td>\n",
       "      <td>...</td>\n",
       "      <td>...</td>\n",
       "      <td>...</td>\n",
       "      <td>...</td>\n",
       "      <td>...</td>\n",
       "      <td>...</td>\n",
       "      <td>...</td>\n",
       "      <td>...</td>\n",
       "      <td>...</td>\n",
       "      <td>...</td>\n",
       "      <td>...</td>\n",
       "    </tr>\n",
       "    <tr>\n",
       "      <th>7017</th>\n",
       "      <td>6840-RESVB</td>\n",
       "      <td>Male</td>\n",
       "      <td>0</td>\n",
       "      <td>Yes</td>\n",
       "      <td>Yes</td>\n",
       "      <td>24</td>\n",
       "      <td>Yes</td>\n",
       "      <td>Yes</td>\n",
       "      <td>DSL</td>\n",
       "      <td>Yes</td>\n",
       "      <td>No</td>\n",
       "      <td>Yes</td>\n",
       "      <td>Yes</td>\n",
       "      <td>Yes</td>\n",
       "      <td>Yes</td>\n",
       "      <td>One year</td>\n",
       "      <td>Yes</td>\n",
       "      <td>Mailed check</td>\n",
       "      <td>84.80</td>\n",
       "      <td>1990.50</td>\n",
       "    </tr>\n",
       "    <tr>\n",
       "      <th>7018</th>\n",
       "      <td>2234-XADUH</td>\n",
       "      <td>Female</td>\n",
       "      <td>0</td>\n",
       "      <td>Yes</td>\n",
       "      <td>Yes</td>\n",
       "      <td>72</td>\n",
       "      <td>Yes</td>\n",
       "      <td>Yes</td>\n",
       "      <td>Fiber optic</td>\n",
       "      <td>No</td>\n",
       "      <td>Yes</td>\n",
       "      <td>Yes</td>\n",
       "      <td>No</td>\n",
       "      <td>Yes</td>\n",
       "      <td>Yes</td>\n",
       "      <td>One year</td>\n",
       "      <td>Yes</td>\n",
       "      <td>Credit card (automatic)</td>\n",
       "      <td>103.20</td>\n",
       "      <td>7362.90</td>\n",
       "    </tr>\n",
       "    <tr>\n",
       "      <th>7019</th>\n",
       "      <td>4801-JZAZL</td>\n",
       "      <td>Female</td>\n",
       "      <td>0</td>\n",
       "      <td>Yes</td>\n",
       "      <td>Yes</td>\n",
       "      <td>11</td>\n",
       "      <td>No</td>\n",
       "      <td>No phone service</td>\n",
       "      <td>DSL</td>\n",
       "      <td>Yes</td>\n",
       "      <td>No</td>\n",
       "      <td>No</td>\n",
       "      <td>No</td>\n",
       "      <td>No</td>\n",
       "      <td>No</td>\n",
       "      <td>Month-to-month</td>\n",
       "      <td>Yes</td>\n",
       "      <td>Electronic check</td>\n",
       "      <td>29.60</td>\n",
       "      <td>346.45</td>\n",
       "    </tr>\n",
       "    <tr>\n",
       "      <th>7020</th>\n",
       "      <td>8361-LTMKD</td>\n",
       "      <td>Male</td>\n",
       "      <td>1</td>\n",
       "      <td>Yes</td>\n",
       "      <td>No</td>\n",
       "      <td>4</td>\n",
       "      <td>Yes</td>\n",
       "      <td>Yes</td>\n",
       "      <td>Fiber optic</td>\n",
       "      <td>No</td>\n",
       "      <td>No</td>\n",
       "      <td>No</td>\n",
       "      <td>No</td>\n",
       "      <td>No</td>\n",
       "      <td>No</td>\n",
       "      <td>Month-to-month</td>\n",
       "      <td>Yes</td>\n",
       "      <td>Mailed check</td>\n",
       "      <td>74.40</td>\n",
       "      <td>306.60</td>\n",
       "    </tr>\n",
       "    <tr>\n",
       "      <th>7021</th>\n",
       "      <td>3186-AJIEK</td>\n",
       "      <td>Male</td>\n",
       "      <td>0</td>\n",
       "      <td>No</td>\n",
       "      <td>No</td>\n",
       "      <td>66</td>\n",
       "      <td>Yes</td>\n",
       "      <td>No</td>\n",
       "      <td>Fiber optic</td>\n",
       "      <td>Yes</td>\n",
       "      <td>No</td>\n",
       "      <td>Yes</td>\n",
       "      <td>Yes</td>\n",
       "      <td>Yes</td>\n",
       "      <td>Yes</td>\n",
       "      <td>Two year</td>\n",
       "      <td>Yes</td>\n",
       "      <td>Bank transfer (automatic)</td>\n",
       "      <td>105.65</td>\n",
       "      <td>6844.50</td>\n",
       "    </tr>\n",
       "  </tbody>\n",
       "</table>\n",
       "<p>7022 rows × 20 columns</p>\n",
       "</div>"
      ],
      "text/plain": [
       "      customerID  gender  SeniorCitizen Partner Dependents  tenure  \\\n",
       "0     7590-VHVEG  Female              0     Yes         No       1   \n",
       "1     5575-GNVDE    Male              0      No         No      34   \n",
       "2     3668-QPYBK    Male              0      No         No       2   \n",
       "3     7795-CFOCW    Male              0      No         No      45   \n",
       "4     9237-HQITU  Female              0      No         No       2   \n",
       "...          ...     ...            ...     ...        ...     ...   \n",
       "7017  6840-RESVB    Male              0     Yes        Yes      24   \n",
       "7018  2234-XADUH  Female              0     Yes        Yes      72   \n",
       "7019  4801-JZAZL  Female              0     Yes        Yes      11   \n",
       "7020  8361-LTMKD    Male              1     Yes         No       4   \n",
       "7021  3186-AJIEK    Male              0      No         No      66   \n",
       "\n",
       "     PhoneService     MultipleLines InternetService OnlineSecurity  \\\n",
       "0              No  No phone service             DSL             No   \n",
       "1             Yes                No             DSL            Yes   \n",
       "2             Yes                No             DSL            Yes   \n",
       "3              No  No phone service             DSL            Yes   \n",
       "4             Yes                No     Fiber optic             No   \n",
       "...           ...               ...             ...            ...   \n",
       "7017          Yes               Yes             DSL            Yes   \n",
       "7018          Yes               Yes     Fiber optic             No   \n",
       "7019           No  No phone service             DSL            Yes   \n",
       "7020          Yes               Yes     Fiber optic             No   \n",
       "7021          Yes                No     Fiber optic            Yes   \n",
       "\n",
       "     OnlineBackup DeviceProtection TechSupport StreamingTV StreamingMovies  \\\n",
       "0             Yes               No          No          No              No   \n",
       "1              No              Yes          No          No              No   \n",
       "2             Yes               No          No          No              No   \n",
       "3              No              Yes         Yes          No              No   \n",
       "4              No               No          No          No              No   \n",
       "...           ...              ...         ...         ...             ...   \n",
       "7017           No              Yes         Yes         Yes             Yes   \n",
       "7018          Yes              Yes          No         Yes             Yes   \n",
       "7019           No               No          No          No              No   \n",
       "7020           No               No          No          No              No   \n",
       "7021           No              Yes         Yes         Yes             Yes   \n",
       "\n",
       "            Contract PaperlessBilling              PaymentMethod  \\\n",
       "0     Month-to-month              Yes           Electronic check   \n",
       "1           One year               No               Mailed check   \n",
       "2     Month-to-month              Yes               Mailed check   \n",
       "3           One year               No  Bank transfer (automatic)   \n",
       "4     Month-to-month              Yes           Electronic check   \n",
       "...              ...              ...                        ...   \n",
       "7017        One year              Yes               Mailed check   \n",
       "7018        One year              Yes    Credit card (automatic)   \n",
       "7019  Month-to-month              Yes           Electronic check   \n",
       "7020  Month-to-month              Yes               Mailed check   \n",
       "7021        Two year              Yes  Bank transfer (automatic)   \n",
       "\n",
       "      MonthlyCharges  TotalCharges  \n",
       "0              29.85         29.85  \n",
       "1              56.95       1889.50  \n",
       "2              53.85        108.15  \n",
       "3              42.30       1840.75  \n",
       "4              70.70        151.65  \n",
       "...              ...           ...  \n",
       "7017           84.80       1990.50  \n",
       "7018          103.20       7362.90  \n",
       "7019           29.60        346.45  \n",
       "7020           74.40        306.60  \n",
       "7021          105.65       6844.50  \n",
       "\n",
       "[7022 rows x 20 columns]"
      ]
     },
     "execution_count": 50,
     "metadata": {},
     "output_type": "execute_result"
    }
   ],
   "source": [
    "# define X and Y\n",
    "X = data_train_test.drop(['Churn'], axis=1)\n",
    "y = data_train_test['Churn']\n",
    "\n",
    "X"
   ]
  },
  {
   "cell_type": "markdown",
   "id": "2kv53TNkwAkE",
   "metadata": {
    "id": "2kv53TNkwAkE"
   },
   "source": [
    "For splitting, we are going to do it twice. First we are splitting it by Train and Test:"
   ]
  },
  {
   "cell_type": "code",
   "execution_count": 51,
   "id": "2e894b72",
   "metadata": {
    "colab": {
     "base_uri": "https://localhost:8080/"
    },
    "id": "2e894b72",
    "outputId": "648752c0-47e5-48bb-de25-2354ab1da9d5"
   },
   "outputs": [
    {
     "name": "stdout",
     "output_type": "stream",
     "text": [
      "(5617, 20)\n",
      "(1405, 20)\n"
     ]
    }
   ],
   "source": [
    "X_train, X_test, y_train, y_test = train_test_split(X, y, test_size = 0.20, random_state = 22, stratify = y)\n",
    "\n",
    "print(X_train.shape)\n",
    "print(X_test.shape)"
   ]
  },
  {
   "cell_type": "markdown",
   "id": "8CM52EhAwEz9",
   "metadata": {
    "id": "8CM52EhAwEz9"
   },
   "source": [
    "Next we are splitting the train into Train adn validation:"
   ]
  },
  {
   "cell_type": "code",
   "execution_count": 52,
   "id": "ce95bdb8",
   "metadata": {
    "colab": {
     "base_uri": "https://localhost:8080/"
    },
    "id": "ce95bdb8",
    "outputId": "acdddd3b-b16e-47f0-e4e2-36f67cd5aecd"
   },
   "outputs": [
    {
     "name": "stdout",
     "output_type": "stream",
     "text": [
      "(4493, 20)\n",
      "(1124, 20)\n"
     ]
    }
   ],
   "source": [
    "# split train val\n",
    "X_train, X_val, y_train, y_val = train_test_split(X_train, y_train, test_size=0.2)\n",
    "\n",
    "print(X_train.shape)\n",
    "print(X_val.shape)"
   ]
  },
  {
   "cell_type": "markdown",
   "id": "a76028b9",
   "metadata": {
    "id": "a76028b9"
   },
   "source": [
    "## Data Cleaning"
   ]
  },
  {
   "cell_type": "code",
   "execution_count": 53,
   "id": "5e9e154a",
   "metadata": {},
   "outputs": [],
   "source": [
    "from sklearn.pipeline import Pipeline\n",
    "from sklearn.preprocessing import StandardScaler\n",
    "from sklearn.impute import SimpleImputer\n",
    "from sklearn.preprocessing import OrdinalEncoder\n",
    "from sklearn.preprocessing import OneHotEncoder\n",
    "from sklearn.compose import ColumnTransformer\n",
    "from sklearn.decomposition import PCA"
   ]
  },
  {
   "cell_type": "code",
   "execution_count": 54,
   "id": "b7d0293a",
   "metadata": {},
   "outputs": [],
   "source": [
    "num_columns = X_train.select_dtypes(include=np.number).columns.tolist()\n",
    "cat_columns = X_train.select_dtypes(include=['object']).columns.tolist()\n",
    "\n",
    "binary_cat_cols = [cname for cname in cat_columns if len(X_train[cname].unique()) == 2]\n",
    "multiclass_cat_cols = [cname for cname in cat_columns if len(X_train[cname].unique()) > 2]"
   ]
  },
  {
   "cell_type": "code",
   "execution_count": 55,
   "id": "33fd123c",
   "metadata": {},
   "outputs": [],
   "source": [
    "class columnDropperTransformer():\n",
    "    def __init__(self, columns):\n",
    "        self.columns = columns\n",
    "\n",
    "    def transform(self, X, y=None):\n",
    "        return X.drop(self.columns, axis=1)\n",
    "\n",
    "    def fit(self, X, y=None):\n",
    "        return self\n",
    "\n",
    "dropped_columns = ['customerID', 'PhoneService', 'MultipleLines']\n",
    "binary_cat_cols = [cname for cname in cat_columns if len(X_train[cname].unique()) == 2]\n",
    "binary_cat_cols.remove('PhoneService')\n",
    "multiclass_cat_cols = [cname for cname in cat_columns if len(X_train[cname].unique()) > 2]\n",
    "multiclass_cat_cols.remove('customerID')\n",
    "multiclass_cat_cols.remove('MultipleLines')\n",
    "\n",
    "numerical_transformer = Pipeline(\n",
    "    steps=[\n",
    "        (\"imputer\", SimpleImputer(strategy=\"median\")),\n",
    "        (\"scaler\", StandardScaler())\n",
    "    ]\n",
    ")\n",
    "binary_cat_transformer = Pipeline(\n",
    "    steps=[\n",
    "        (\"imputer\", SimpleImputer(strategy=\"most_frequent\")),\n",
    "        (\"encoder\", OrdinalEncoder())\n",
    "    ]\n",
    ")\n",
    "multiclass_cat_transformer = Pipeline(\n",
    "    steps=[\n",
    "        (\"imputer\", SimpleImputer(strategy=\"most_frequent\")),\n",
    "        (\"encoder\", OneHotEncoder(handle_unknown=\"ignore\"))\n",
    "    ]\n",
    ")\n",
    "\n",
    "preprocessor = Pipeline(\n",
    "    steps=[\n",
    "        (\"drop_columns\", columnDropperTransformer(dropped_columns)),\n",
    "        (\"normalization\", ColumnTransformer(\n",
    "            transformers=[\n",
    "                ('num_input', numerical_transformer, num_columns),\n",
    "                ('bin_cat_input', binary_cat_transformer, binary_cat_cols),\n",
    "                ('multi_cat_input', multiclass_cat_transformer, multiclass_cat_cols)\n",
    "            ], remainder='passthrough'\n",
    "        )),\n",
    "        # (\"oversampling\", SMOTENC(random_state=random_state, categorical_features=list(range(2,37)))),\n",
    "        (\"reduction\", PCA(n_components=0.99))\n",
    "    ], verbose=True\n",
    ")\n",
    "y_train.replace({\"Yes\": 1, \"No\": 0}, inplace=True)\n",
    "y_val.replace({\"Yes\": 1, \"No\": 0}, inplace=True)\n",
    "y_test.replace({\"Yes\": 1, \"No\": 0}, inplace=True)\n"
   ]
  },
  {
   "cell_type": "code",
   "execution_count": 56,
   "id": "a57468eb",
   "metadata": {},
   "outputs": [
    {
     "data": {
      "text/plain": [
       "['gender', 'Partner', 'Dependents', 'PaperlessBilling']"
      ]
     },
     "execution_count": 56,
     "metadata": {},
     "output_type": "execute_result"
    }
   ],
   "source": [
    "binary_cat_cols"
   ]
  },
  {
   "cell_type": "code",
   "execution_count": 57,
   "id": "0476cf89",
   "metadata": {},
   "outputs": [
    {
     "name": "stdout",
     "output_type": "stream",
     "text": [
      "[Pipeline] ...... (step 1 of 3) Processing drop_columns, total=   0.0s\n",
      "[Pipeline] ..... (step 2 of 3) Processing normalization, total=   0.0s\n",
      "[Pipeline] ......... (step 3 of 3) Processing reduction, total=   0.0s\n"
     ]
    }
   ],
   "source": [
    "X_train_ok = preprocessor.fit_transform(X_train)\n",
    "X_test_ok = preprocessor.transform(X_test)\n",
    "X_val_ok = preprocessor.transform(X_val)"
   ]
  },
  {
   "cell_type": "markdown",
   "id": "f90a2a62",
   "metadata": {
    "id": "f90a2a62"
   },
   "source": [
    "## Model Definition"
   ]
  },
  {
   "cell_type": "markdown",
   "id": "gbTK7HtN5i4I",
   "metadata": {
    "id": "gbTK7HtN5i4I"
   },
   "source": [
    "Next we are going to start our Model Definition. Below I'm going to use two kinds of API.\n",
    "1. Functional API\n",
    "2. Sequential API"
   ]
  },
  {
   "cell_type": "markdown",
   "id": "8EL_iqzR5pJD",
   "metadata": {
    "id": "8EL_iqzR5pJD"
   },
   "source": [
    "But before that, we are importing the most important libraries we are going to use :"
   ]
  },
  {
   "cell_type": "code",
   "execution_count": 58,
   "id": "M9cHiv1b-dt1",
   "metadata": {
    "id": "M9cHiv1b-dt1"
   },
   "outputs": [],
   "source": [
    "import tensorflow as tf\n",
    "from tensorflow import keras"
   ]
  },
  {
   "cell_type": "markdown",
   "id": "oCIX0FsizuLb",
   "metadata": {
    "id": "oCIX0FsizuLb"
   },
   "source": [
    "### Functional API"
   ]
  },
  {
   "cell_type": "markdown",
   "id": "g-tkloip552Q",
   "metadata": {
    "id": "g-tkloip552Q"
   },
   "source": [
    "We will start with the Functional API"
   ]
  },
  {
   "cell_type": "code",
   "execution_count": 59,
   "id": "5JE6xVHm1w-G",
   "metadata": {
    "id": "5JE6xVHm1w-G"
   },
   "outputs": [],
   "source": [
    "from keras.layers import Input\n",
    "from keras.layers import Dense"
   ]
  },
  {
   "cell_type": "code",
   "execution_count": 62,
   "id": "A6QHpEdP2iV1",
   "metadata": {
    "id": "A6QHpEdP2iV1"
   },
   "outputs": [],
   "source": [
    "from keras import Model\n",
    "from keras.layers import Dropout"
   ]
  },
  {
   "cell_type": "markdown",
   "id": "6y6F1m7l581d",
   "metadata": {
    "id": "6y6F1m7l581d"
   },
   "source": [
    "First, we are going to define the model first:"
   ]
  },
  {
   "cell_type": "code",
   "execution_count": 63,
   "id": "lSBf2lKwzwBY",
   "metadata": {
    "colab": {
     "base_uri": "https://localhost:8080/"
    },
    "id": "lSBf2lKwzwBY",
    "outputId": "7d3e9d13-ed7f-4224-c353-66e64548582a"
   },
   "outputs": [
    {
     "name": "stdout",
     "output_type": "stream",
     "text": [
      "Model: \"model\"\n",
      "_________________________________________________________________\n",
      " Layer (type)                Output Shape              Param #   \n",
      "=================================================================\n",
      " input_2 (InputLayer)        [(None, 19)]              0         \n",
      "                                                                 \n",
      " dense_1 (Dense)             (None, 20)                400       \n",
      "                                                                 \n",
      " dense_3 (Dense)             (None, 1)                 21        \n",
      "                                                                 \n",
      "=================================================================\n",
      "Total params: 421\n",
      "Trainable params: 421\n",
      "Non-trainable params: 0\n",
      "_________________________________________________________________\n",
      "None\n"
     ]
    }
   ],
   "source": [
    "# Functional API\n",
    "data_input = Input(shape=(19,))\n",
    "hidden_1 = Dense(20, activation='relu')(data_input)\n",
    "drop_1 = Dropout(0.50)(hidden_1)\n",
    "hidden_2 = Dense(20, activation='relu')(drop_1)\n",
    "output_layer = Dense(1, activation='sigmoid')(hidden_1)\n",
    "\n",
    "model_2 = Model(inputs=data_input, outputs=output_layer)\n",
    "\n",
    "#summarize layers\n",
    "print(model_2.summary())"
   ]
  },
  {
   "cell_type": "markdown",
   "id": "SJ8Im1GM6Amu",
   "metadata": {
    "id": "SJ8Im1GM6Amu"
   },
   "source": [
    "And then compiling it:"
   ]
  },
  {
   "cell_type": "code",
   "execution_count": 64,
   "id": "dMo9A3OG3p0w",
   "metadata": {
    "colab": {
     "base_uri": "https://localhost:8080/"
    },
    "id": "dMo9A3OG3p0w",
    "outputId": "950410e2-18f7-45c5-a617-0a9894608fd3"
   },
   "outputs": [
    {
     "name": "stdout",
     "output_type": "stream",
     "text": [
      "Epoch 1/300\n",
      "141/141 [==============================] - 1s 4ms/step - loss: 0.6515 - val_loss: 0.6380\n",
      "Epoch 2/300\n",
      "141/141 [==============================] - 0s 1ms/step - loss: 0.6232 - val_loss: 0.6112\n",
      "Epoch 3/300\n",
      "141/141 [==============================] - 0s 2ms/step - loss: 0.6000 - val_loss: 0.5892\n",
      "Epoch 4/300\n",
      "141/141 [==============================] - 0s 2ms/step - loss: 0.5809 - val_loss: 0.5710\n",
      "Epoch 5/300\n",
      "141/141 [==============================] - 0s 2ms/step - loss: 0.5650 - val_loss: 0.5558\n",
      "Epoch 6/300\n",
      "141/141 [==============================] - 0s 2ms/step - loss: 0.5517 - val_loss: 0.5429\n",
      "Epoch 7/300\n",
      "141/141 [==============================] - 0s 2ms/step - loss: 0.5403 - val_loss: 0.5320\n",
      "Epoch 8/300\n",
      "141/141 [==============================] - 0s 2ms/step - loss: 0.5307 - val_loss: 0.5226\n",
      "Epoch 9/300\n",
      "141/141 [==============================] - 0s 1ms/step - loss: 0.5223 - val_loss: 0.5145\n",
      "Epoch 10/300\n",
      "141/141 [==============================] - 0s 1ms/step - loss: 0.5150 - val_loss: 0.5074\n",
      "Epoch 11/300\n",
      "141/141 [==============================] - 0s 1ms/step - loss: 0.5086 - val_loss: 0.5011\n",
      "Epoch 12/300\n",
      "141/141 [==============================] - 0s 1ms/step - loss: 0.5030 - val_loss: 0.4957\n",
      "Epoch 13/300\n",
      "141/141 [==============================] - 0s 2ms/step - loss: 0.4980 - val_loss: 0.4908\n",
      "Epoch 14/300\n",
      "141/141 [==============================] - 0s 1ms/step - loss: 0.4936 - val_loss: 0.4865\n",
      "Epoch 15/300\n",
      "141/141 [==============================] - 0s 1ms/step - loss: 0.4895 - val_loss: 0.4825\n",
      "Epoch 16/300\n",
      "141/141 [==============================] - 0s 1ms/step - loss: 0.4859 - val_loss: 0.4790\n",
      "Epoch 17/300\n",
      "141/141 [==============================] - 0s 1ms/step - loss: 0.4826 - val_loss: 0.4757\n",
      "Epoch 18/300\n",
      "141/141 [==============================] - 0s 1ms/step - loss: 0.4795 - val_loss: 0.4728\n",
      "Epoch 19/300\n",
      "141/141 [==============================] - 0s 1ms/step - loss: 0.4767 - val_loss: 0.4701\n",
      "Epoch 20/300\n",
      "141/141 [==============================] - 0s 1ms/step - loss: 0.4741 - val_loss: 0.4677\n",
      "Epoch 21/300\n",
      "141/141 [==============================] - 0s 1ms/step - loss: 0.4717 - val_loss: 0.4654\n",
      "Epoch 22/300\n",
      "141/141 [==============================] - 0s 1ms/step - loss: 0.4695 - val_loss: 0.4633\n",
      "Epoch 23/300\n",
      "141/141 [==============================] - 0s 1ms/step - loss: 0.4675 - val_loss: 0.4614\n",
      "Epoch 24/300\n",
      "141/141 [==============================] - 0s 1ms/step - loss: 0.4655 - val_loss: 0.4596\n",
      "Epoch 25/300\n",
      "141/141 [==============================] - 0s 1ms/step - loss: 0.4637 - val_loss: 0.4579\n",
      "Epoch 26/300\n",
      "141/141 [==============================] - 0s 1ms/step - loss: 0.4620 - val_loss: 0.4563\n",
      "Epoch 27/300\n",
      "141/141 [==============================] - 0s 2ms/step - loss: 0.4604 - val_loss: 0.4548\n",
      "Epoch 28/300\n",
      "141/141 [==============================] - 0s 2ms/step - loss: 0.4589 - val_loss: 0.4534\n",
      "Epoch 29/300\n",
      "141/141 [==============================] - 0s 2ms/step - loss: 0.4575 - val_loss: 0.4522\n",
      "Epoch 30/300\n",
      "141/141 [==============================] - 0s 2ms/step - loss: 0.4561 - val_loss: 0.4509\n",
      "Epoch 31/300\n",
      "141/141 [==============================] - 0s 1ms/step - loss: 0.4549 - val_loss: 0.4498\n",
      "Epoch 32/300\n",
      "141/141 [==============================] - 0s 1ms/step - loss: 0.4537 - val_loss: 0.4487\n",
      "Epoch 33/300\n",
      "141/141 [==============================] - 0s 1ms/step - loss: 0.4525 - val_loss: 0.4477\n",
      "Epoch 34/300\n",
      "141/141 [==============================] - 0s 1ms/step - loss: 0.4514 - val_loss: 0.4467\n",
      "Epoch 35/300\n",
      "141/141 [==============================] - 0s 1ms/step - loss: 0.4504 - val_loss: 0.4458\n",
      "Epoch 36/300\n",
      "141/141 [==============================] - 0s 1ms/step - loss: 0.4494 - val_loss: 0.4450\n",
      "Epoch 37/300\n",
      "141/141 [==============================] - 0s 1ms/step - loss: 0.4485 - val_loss: 0.4441\n",
      "Epoch 38/300\n",
      "141/141 [==============================] - 0s 1ms/step - loss: 0.4476 - val_loss: 0.4434\n",
      "Epoch 39/300\n",
      "141/141 [==============================] - 0s 1ms/step - loss: 0.4467 - val_loss: 0.4426\n",
      "Epoch 40/300\n",
      "141/141 [==============================] - 0s 1ms/step - loss: 0.4459 - val_loss: 0.4419\n",
      "Epoch 41/300\n",
      "141/141 [==============================] - 0s 1ms/step - loss: 0.4452 - val_loss: 0.4412\n",
      "Epoch 42/300\n",
      "141/141 [==============================] - 0s 1ms/step - loss: 0.4444 - val_loss: 0.4406\n",
      "Epoch 43/300\n",
      "141/141 [==============================] - 0s 1ms/step - loss: 0.4437 - val_loss: 0.4400\n",
      "Epoch 44/300\n",
      "141/141 [==============================] - 0s 1ms/step - loss: 0.4431 - val_loss: 0.4394\n",
      "Epoch 45/300\n",
      "141/141 [==============================] - 0s 1ms/step - loss: 0.4424 - val_loss: 0.4389\n",
      "Epoch 46/300\n",
      "141/141 [==============================] - 0s 1ms/step - loss: 0.4418 - val_loss: 0.4383\n",
      "Epoch 47/300\n",
      "141/141 [==============================] - 0s 1ms/step - loss: 0.4412 - val_loss: 0.4379\n",
      "Epoch 48/300\n",
      "141/141 [==============================] - 0s 1ms/step - loss: 0.4407 - val_loss: 0.4374\n",
      "Epoch 49/300\n",
      "141/141 [==============================] - 0s 1ms/step - loss: 0.4401 - val_loss: 0.4369\n",
      "Epoch 50/300\n",
      "141/141 [==============================] - 0s 1ms/step - loss: 0.4396 - val_loss: 0.4365\n",
      "Epoch 51/300\n",
      "141/141 [==============================] - 0s 1ms/step - loss: 0.4391 - val_loss: 0.4360\n",
      "Epoch 52/300\n",
      "141/141 [==============================] - 0s 1ms/step - loss: 0.4386 - val_loss: 0.4356\n",
      "Epoch 53/300\n",
      "141/141 [==============================] - 0s 1ms/step - loss: 0.4382 - val_loss: 0.4352\n",
      "Epoch 54/300\n",
      "141/141 [==============================] - 0s 1ms/step - loss: 0.4377 - val_loss: 0.4349\n",
      "Epoch 55/300\n",
      "141/141 [==============================] - 0s 1ms/step - loss: 0.4373 - val_loss: 0.4345\n",
      "Epoch 56/300\n",
      "141/141 [==============================] - 0s 2ms/step - loss: 0.4369 - val_loss: 0.4342\n",
      "Epoch 57/300\n",
      "141/141 [==============================] - 0s 1ms/step - loss: 0.4365 - val_loss: 0.4338\n",
      "Epoch 58/300\n",
      "141/141 [==============================] - 0s 1ms/step - loss: 0.4361 - val_loss: 0.4335\n",
      "Epoch 59/300\n",
      "141/141 [==============================] - 0s 2ms/step - loss: 0.4357 - val_loss: 0.4332\n",
      "Epoch 60/300\n",
      "141/141 [==============================] - 0s 1ms/step - loss: 0.4354 - val_loss: 0.4329\n",
      "Epoch 61/300\n",
      "141/141 [==============================] - 0s 1ms/step - loss: 0.4350 - val_loss: 0.4326\n",
      "Epoch 62/300\n",
      "141/141 [==============================] - 0s 1ms/step - loss: 0.4347 - val_loss: 0.4323\n",
      "Epoch 63/300\n",
      "141/141 [==============================] - 0s 1ms/step - loss: 0.4344 - val_loss: 0.4320\n",
      "Epoch 64/300\n",
      "141/141 [==============================] - 0s 1ms/step - loss: 0.4341 - val_loss: 0.4317\n",
      "Epoch 65/300\n",
      "141/141 [==============================] - 0s 1ms/step - loss: 0.4338 - val_loss: 0.4315\n",
      "Epoch 66/300\n",
      "141/141 [==============================] - 0s 1ms/step - loss: 0.4335 - val_loss: 0.4312\n",
      "Epoch 67/300\n",
      "141/141 [==============================] - 0s 1ms/step - loss: 0.4332 - val_loss: 0.4310\n",
      "Epoch 68/300\n",
      "141/141 [==============================] - 0s 1ms/step - loss: 0.4329 - val_loss: 0.4308\n",
      "Epoch 69/300\n",
      "141/141 [==============================] - 0s 1ms/step - loss: 0.4327 - val_loss: 0.4306\n",
      "Epoch 70/300\n",
      "141/141 [==============================] - 0s 1ms/step - loss: 0.4324 - val_loss: 0.4304\n",
      "Epoch 71/300\n",
      "141/141 [==============================] - 0s 1ms/step - loss: 0.4322 - val_loss: 0.4301\n",
      "Epoch 72/300\n",
      "141/141 [==============================] - 0s 1ms/step - loss: 0.4319 - val_loss: 0.4299\n",
      "Epoch 73/300\n",
      "141/141 [==============================] - 0s 1ms/step - loss: 0.4317 - val_loss: 0.4298\n",
      "Epoch 74/300\n",
      "141/141 [==============================] - 0s 1ms/step - loss: 0.4314 - val_loss: 0.4296\n",
      "Epoch 75/300\n",
      "141/141 [==============================] - 0s 1ms/step - loss: 0.4312 - val_loss: 0.4294\n",
      "Epoch 76/300\n",
      "141/141 [==============================] - 0s 1ms/step - loss: 0.4310 - val_loss: 0.4292\n",
      "Epoch 77/300\n",
      "141/141 [==============================] - 0s 1ms/step - loss: 0.4308 - val_loss: 0.4290\n",
      "Epoch 78/300\n",
      "141/141 [==============================] - 0s 1ms/step - loss: 0.4306 - val_loss: 0.4289\n",
      "Epoch 79/300\n",
      "141/141 [==============================] - 0s 1ms/step - loss: 0.4304 - val_loss: 0.4287\n",
      "Epoch 80/300\n",
      "141/141 [==============================] - 0s 1ms/step - loss: 0.4302 - val_loss: 0.4286\n",
      "Epoch 81/300\n",
      "141/141 [==============================] - 0s 1ms/step - loss: 0.4300 - val_loss: 0.4284\n",
      "Epoch 82/300\n",
      "141/141 [==============================] - 0s 1ms/step - loss: 0.4298 - val_loss: 0.4283\n",
      "Epoch 83/300\n",
      "141/141 [==============================] - 0s 1ms/step - loss: 0.4296 - val_loss: 0.4281\n",
      "Epoch 84/300\n",
      "141/141 [==============================] - 0s 1ms/step - loss: 0.4294 - val_loss: 0.4280\n",
      "Epoch 85/300\n",
      "141/141 [==============================] - 0s 1ms/step - loss: 0.4292 - val_loss: 0.4278\n",
      "Epoch 86/300\n",
      "141/141 [==============================] - 0s 1ms/step - loss: 0.4291 - val_loss: 0.4277\n",
      "Epoch 87/300\n",
      "141/141 [==============================] - 0s 1ms/step - loss: 0.4289 - val_loss: 0.4276\n",
      "Epoch 88/300\n",
      "141/141 [==============================] - 0s 1ms/step - loss: 0.4287 - val_loss: 0.4274\n",
      "Epoch 89/300\n",
      "141/141 [==============================] - 0s 1ms/step - loss: 0.4286 - val_loss: 0.4273\n",
      "Epoch 90/300\n",
      "141/141 [==============================] - 0s 1ms/step - loss: 0.4284 - val_loss: 0.4272\n",
      "Epoch 91/300\n",
      "141/141 [==============================] - 0s 1ms/step - loss: 0.4282 - val_loss: 0.4270\n",
      "Epoch 92/300\n",
      "141/141 [==============================] - 0s 1ms/step - loss: 0.4281 - val_loss: 0.4269\n",
      "Epoch 93/300\n",
      "141/141 [==============================] - 0s 1ms/step - loss: 0.4279 - val_loss: 0.4268\n",
      "Epoch 94/300\n",
      "141/141 [==============================] - 0s 1ms/step - loss: 0.4278 - val_loss: 0.4267\n",
      "Epoch 95/300\n",
      "141/141 [==============================] - 0s 1ms/step - loss: 0.4276 - val_loss: 0.4266\n",
      "Epoch 96/300\n",
      "141/141 [==============================] - 0s 1ms/step - loss: 0.4275 - val_loss: 0.4264\n",
      "Epoch 97/300\n",
      "141/141 [==============================] - 0s 2ms/step - loss: 0.4274 - val_loss: 0.4263\n",
      "Epoch 98/300\n",
      "141/141 [==============================] - 0s 1ms/step - loss: 0.4272 - val_loss: 0.4262\n",
      "Epoch 99/300\n",
      "141/141 [==============================] - 0s 1ms/step - loss: 0.4271 - val_loss: 0.4261\n",
      "Epoch 100/300\n",
      "141/141 [==============================] - 0s 1ms/step - loss: 0.4270 - val_loss: 0.4260\n",
      "Epoch 101/300\n",
      "141/141 [==============================] - 0s 1ms/step - loss: 0.4268 - val_loss: 0.4259\n",
      "Epoch 102/300\n",
      "141/141 [==============================] - 0s 1ms/step - loss: 0.4267 - val_loss: 0.4258\n",
      "Epoch 103/300\n",
      "141/141 [==============================] - 0s 1ms/step - loss: 0.4266 - val_loss: 0.4257\n",
      "Epoch 104/300\n",
      "141/141 [==============================] - 0s 1ms/step - loss: 0.4265 - val_loss: 0.4256\n",
      "Epoch 105/300\n",
      "141/141 [==============================] - 0s 1ms/step - loss: 0.4263 - val_loss: 0.4255\n",
      "Epoch 106/300\n",
      "141/141 [==============================] - 0s 1ms/step - loss: 0.4262 - val_loss: 0.4254\n",
      "Epoch 107/300\n",
      "141/141 [==============================] - 0s 1ms/step - loss: 0.4261 - val_loss: 0.4253\n",
      "Epoch 108/300\n",
      "141/141 [==============================] - 0s 1ms/step - loss: 0.4260 - val_loss: 0.4253\n",
      "Epoch 109/300\n",
      "141/141 [==============================] - 0s 1ms/step - loss: 0.4259 - val_loss: 0.4252\n",
      "Epoch 110/300\n",
      "141/141 [==============================] - 0s 1ms/step - loss: 0.4257 - val_loss: 0.4251\n",
      "Epoch 111/300\n",
      "141/141 [==============================] - 0s 1ms/step - loss: 0.4256 - val_loss: 0.4250\n",
      "Epoch 112/300\n",
      "141/141 [==============================] - 0s 1ms/step - loss: 0.4255 - val_loss: 0.4249\n",
      "Epoch 113/300\n",
      "141/141 [==============================] - 0s 1ms/step - loss: 0.4254 - val_loss: 0.4248\n",
      "Epoch 114/300\n",
      "141/141 [==============================] - 0s 1ms/step - loss: 0.4253 - val_loss: 0.4248\n",
      "Epoch 115/300\n",
      "141/141 [==============================] - 0s 2ms/step - loss: 0.4252 - val_loss: 0.4247\n",
      "Epoch 116/300\n",
      "141/141 [==============================] - 0s 2ms/step - loss: 0.4251 - val_loss: 0.4246\n",
      "Epoch 117/300\n",
      "141/141 [==============================] - 0s 2ms/step - loss: 0.4250 - val_loss: 0.4245\n",
      "Epoch 118/300\n",
      "141/141 [==============================] - 0s 2ms/step - loss: 0.4249 - val_loss: 0.4245\n",
      "Epoch 119/300\n",
      "141/141 [==============================] - 0s 1ms/step - loss: 0.4248 - val_loss: 0.4244\n",
      "Epoch 120/300\n",
      "141/141 [==============================] - 0s 2ms/step - loss: 0.4247 - val_loss: 0.4243\n",
      "Epoch 121/300\n",
      "141/141 [==============================] - 0s 1ms/step - loss: 0.4246 - val_loss: 0.4242\n",
      "Epoch 122/300\n",
      "141/141 [==============================] - 0s 1ms/step - loss: 0.4245 - val_loss: 0.4242\n",
      "Epoch 123/300\n",
      "141/141 [==============================] - 0s 1ms/step - loss: 0.4244 - val_loss: 0.4241\n",
      "Epoch 124/300\n",
      "141/141 [==============================] - 0s 1ms/step - loss: 0.4243 - val_loss: 0.4240\n",
      "Epoch 125/300\n",
      "141/141 [==============================] - 0s 1ms/step - loss: 0.4242 - val_loss: 0.4239\n",
      "Epoch 126/300\n",
      "141/141 [==============================] - 0s 1ms/step - loss: 0.4241 - val_loss: 0.4239\n",
      "Epoch 127/300\n",
      "141/141 [==============================] - 0s 1ms/step - loss: 0.4240 - val_loss: 0.4238\n",
      "Epoch 128/300\n",
      "141/141 [==============================] - 0s 1ms/step - loss: 0.4239 - val_loss: 0.4237\n",
      "Epoch 129/300\n",
      "141/141 [==============================] - 0s 1ms/step - loss: 0.4238 - val_loss: 0.4237\n",
      "Epoch 130/300\n",
      "141/141 [==============================] - 0s 1ms/step - loss: 0.4237 - val_loss: 0.4236\n",
      "Epoch 131/300\n",
      "141/141 [==============================] - 0s 1ms/step - loss: 0.4237 - val_loss: 0.4235\n",
      "Epoch 132/300\n",
      "141/141 [==============================] - 0s 1ms/step - loss: 0.4236 - val_loss: 0.4234\n",
      "Epoch 133/300\n",
      "141/141 [==============================] - 0s 1ms/step - loss: 0.4235 - val_loss: 0.4234\n",
      "Epoch 134/300\n",
      "141/141 [==============================] - 0s 1ms/step - loss: 0.4234 - val_loss: 0.4233\n",
      "Epoch 135/300\n",
      "141/141 [==============================] - 0s 1ms/step - loss: 0.4233 - val_loss: 0.4233\n",
      "Epoch 136/300\n",
      "141/141 [==============================] - 0s 1ms/step - loss: 0.4232 - val_loss: 0.4232\n",
      "Epoch 137/300\n",
      "141/141 [==============================] - 0s 1ms/step - loss: 0.4232 - val_loss: 0.4231\n",
      "Epoch 138/300\n",
      "141/141 [==============================] - 0s 1ms/step - loss: 0.4231 - val_loss: 0.4231\n",
      "Epoch 139/300\n",
      "141/141 [==============================] - 0s 1ms/step - loss: 0.4230 - val_loss: 0.4230\n",
      "Epoch 140/300\n",
      "141/141 [==============================] - 0s 1ms/step - loss: 0.4229 - val_loss: 0.4230\n",
      "Epoch 141/300\n",
      "141/141 [==============================] - 0s 1ms/step - loss: 0.4229 - val_loss: 0.4229\n",
      "Epoch 142/300\n",
      "141/141 [==============================] - 0s 1ms/step - loss: 0.4228 - val_loss: 0.4229\n",
      "Epoch 143/300\n",
      "141/141 [==============================] - 0s 1ms/step - loss: 0.4227 - val_loss: 0.4228\n",
      "Epoch 144/300\n",
      "141/141 [==============================] - 0s 1ms/step - loss: 0.4227 - val_loss: 0.4228\n",
      "Epoch 145/300\n",
      "141/141 [==============================] - 0s 1ms/step - loss: 0.4226 - val_loss: 0.4227\n",
      "Epoch 146/300\n",
      "141/141 [==============================] - 0s 1ms/step - loss: 0.4225 - val_loss: 0.4227\n",
      "Epoch 147/300\n",
      "141/141 [==============================] - 0s 1ms/step - loss: 0.4224 - val_loss: 0.4226\n",
      "Epoch 148/300\n",
      "141/141 [==============================] - 0s 1ms/step - loss: 0.4224 - val_loss: 0.4226\n",
      "Epoch 149/300\n",
      "141/141 [==============================] - 0s 2ms/step - loss: 0.4223 - val_loss: 0.4225\n",
      "Epoch 150/300\n",
      "141/141 [==============================] - 0s 1ms/step - loss: 0.4222 - val_loss: 0.4225\n",
      "Epoch 151/300\n",
      "141/141 [==============================] - 0s 1ms/step - loss: 0.4222 - val_loss: 0.4224\n",
      "Epoch 152/300\n",
      "141/141 [==============================] - 0s 1ms/step - loss: 0.4221 - val_loss: 0.4224\n",
      "Epoch 153/300\n",
      "141/141 [==============================] - 0s 1ms/step - loss: 0.4220 - val_loss: 0.4223\n",
      "Epoch 154/300\n",
      "141/141 [==============================] - 0s 1ms/step - loss: 0.4220 - val_loss: 0.4223\n",
      "Epoch 155/300\n",
      "141/141 [==============================] - 0s 1ms/step - loss: 0.4219 - val_loss: 0.4222\n",
      "Epoch 156/300\n",
      "141/141 [==============================] - 0s 1ms/step - loss: 0.4219 - val_loss: 0.4222\n",
      "Epoch 157/300\n",
      "141/141 [==============================] - 0s 1ms/step - loss: 0.4218 - val_loss: 0.4221\n",
      "Epoch 158/300\n",
      "141/141 [==============================] - 0s 1ms/step - loss: 0.4217 - val_loss: 0.4221\n",
      "Epoch 159/300\n",
      "141/141 [==============================] - 0s 1ms/step - loss: 0.4217 - val_loss: 0.4220\n",
      "Epoch 160/300\n",
      "141/141 [==============================] - 0s 1ms/step - loss: 0.4216 - val_loss: 0.4220\n",
      "Epoch 161/300\n",
      "141/141 [==============================] - 0s 1ms/step - loss: 0.4216 - val_loss: 0.4220\n",
      "Epoch 162/300\n",
      "141/141 [==============================] - 0s 1ms/step - loss: 0.4215 - val_loss: 0.4219\n",
      "Epoch 163/300\n",
      "141/141 [==============================] - 0s 1ms/step - loss: 0.4214 - val_loss: 0.4219\n",
      "Epoch 164/300\n",
      "141/141 [==============================] - 0s 1ms/step - loss: 0.4214 - val_loss: 0.4218\n",
      "Epoch 165/300\n",
      "141/141 [==============================] - 0s 1ms/step - loss: 0.4213 - val_loss: 0.4218\n",
      "Epoch 166/300\n",
      "141/141 [==============================] - 0s 1ms/step - loss: 0.4213 - val_loss: 0.4218\n",
      "Epoch 167/300\n",
      "141/141 [==============================] - 0s 2ms/step - loss: 0.4212 - val_loss: 0.4217\n",
      "Epoch 168/300\n",
      "141/141 [==============================] - 0s 1ms/step - loss: 0.4212 - val_loss: 0.4217\n",
      "Epoch 169/300\n",
      "141/141 [==============================] - 0s 1ms/step - loss: 0.4211 - val_loss: 0.4217\n",
      "Epoch 170/300\n",
      "141/141 [==============================] - 0s 2ms/step - loss: 0.4211 - val_loss: 0.4216\n",
      "Epoch 171/300\n",
      "141/141 [==============================] - 0s 2ms/step - loss: 0.4210 - val_loss: 0.4216\n",
      "Epoch 172/300\n",
      "141/141 [==============================] - 0s 2ms/step - loss: 0.4210 - val_loss: 0.4216\n",
      "Epoch 173/300\n",
      "141/141 [==============================] - 0s 1ms/step - loss: 0.4209 - val_loss: 0.4215\n",
      "Epoch 174/300\n",
      "141/141 [==============================] - 0s 1ms/step - loss: 0.4209 - val_loss: 0.4215\n",
      "Epoch 175/300\n",
      "141/141 [==============================] - 0s 1ms/step - loss: 0.4208 - val_loss: 0.4215\n",
      "Epoch 176/300\n",
      "141/141 [==============================] - 0s 1ms/step - loss: 0.4208 - val_loss: 0.4214\n",
      "Epoch 177/300\n",
      "141/141 [==============================] - 0s 1ms/step - loss: 0.4207 - val_loss: 0.4214\n",
      "Epoch 178/300\n",
      "141/141 [==============================] - 0s 1ms/step - loss: 0.4207 - val_loss: 0.4214\n",
      "Epoch 179/300\n",
      "141/141 [==============================] - 0s 1ms/step - loss: 0.4206 - val_loss: 0.4213\n",
      "Epoch 180/300\n",
      "141/141 [==============================] - 0s 1ms/step - loss: 0.4206 - val_loss: 0.4213\n",
      "Epoch 181/300\n",
      "141/141 [==============================] - 0s 1ms/step - loss: 0.4205 - val_loss: 0.4212\n",
      "Epoch 182/300\n",
      "141/141 [==============================] - 0s 1ms/step - loss: 0.4205 - val_loss: 0.4212\n",
      "Epoch 183/300\n",
      "141/141 [==============================] - 0s 1ms/step - loss: 0.4204 - val_loss: 0.4212\n",
      "Epoch 184/300\n",
      "141/141 [==============================] - 0s 1ms/step - loss: 0.4204 - val_loss: 0.4212\n",
      "Epoch 185/300\n",
      "141/141 [==============================] - 0s 1ms/step - loss: 0.4203 - val_loss: 0.4211\n",
      "Epoch 186/300\n",
      "141/141 [==============================] - 0s 1ms/step - loss: 0.4203 - val_loss: 0.4211\n",
      "Epoch 187/300\n",
      "141/141 [==============================] - 0s 1ms/step - loss: 0.4202 - val_loss: 0.4211\n",
      "Epoch 188/300\n",
      "141/141 [==============================] - 0s 1ms/step - loss: 0.4202 - val_loss: 0.4211\n",
      "Epoch 189/300\n",
      "141/141 [==============================] - 0s 1ms/step - loss: 0.4201 - val_loss: 0.4210\n",
      "Epoch 190/300\n",
      "141/141 [==============================] - 0s 1ms/step - loss: 0.4201 - val_loss: 0.4210\n",
      "Epoch 191/300\n",
      "141/141 [==============================] - 0s 2ms/step - loss: 0.4200 - val_loss: 0.4210\n",
      "Epoch 192/300\n",
      "141/141 [==============================] - 0s 2ms/step - loss: 0.4200 - val_loss: 0.4209\n",
      "Epoch 193/300\n",
      "141/141 [==============================] - 0s 1ms/step - loss: 0.4200 - val_loss: 0.4209\n",
      "Epoch 194/300\n",
      "141/141 [==============================] - 0s 1ms/step - loss: 0.4199 - val_loss: 0.4209\n",
      "Epoch 195/300\n",
      "141/141 [==============================] - 0s 1ms/step - loss: 0.4199 - val_loss: 0.4209\n",
      "Epoch 196/300\n",
      "141/141 [==============================] - 0s 1ms/step - loss: 0.4198 - val_loss: 0.4208\n",
      "Epoch 197/300\n",
      "141/141 [==============================] - 0s 1ms/step - loss: 0.4198 - val_loss: 0.4208\n",
      "Epoch 198/300\n",
      "141/141 [==============================] - 0s 1ms/step - loss: 0.4197 - val_loss: 0.4208\n",
      "Epoch 199/300\n",
      "141/141 [==============================] - 0s 1ms/step - loss: 0.4197 - val_loss: 0.4207\n",
      "Epoch 200/300\n",
      "141/141 [==============================] - 0s 1ms/step - loss: 0.4196 - val_loss: 0.4207\n",
      "Epoch 201/300\n",
      "141/141 [==============================] - 0s 2ms/step - loss: 0.4196 - val_loss: 0.4207\n",
      "Epoch 202/300\n",
      "141/141 [==============================] - 0s 2ms/step - loss: 0.4196 - val_loss: 0.4207\n",
      "Epoch 203/300\n",
      "141/141 [==============================] - 0s 2ms/step - loss: 0.4195 - val_loss: 0.4207\n",
      "Epoch 204/300\n",
      "141/141 [==============================] - 0s 2ms/step - loss: 0.4195 - val_loss: 0.4206\n",
      "Epoch 205/300\n",
      "141/141 [==============================] - 0s 2ms/step - loss: 0.4194 - val_loss: 0.4206\n",
      "Epoch 206/300\n",
      "141/141 [==============================] - 0s 1ms/step - loss: 0.4194 - val_loss: 0.4206\n",
      "Epoch 207/300\n",
      "141/141 [==============================] - 0s 1ms/step - loss: 0.4194 - val_loss: 0.4205\n",
      "Epoch 208/300\n",
      "141/141 [==============================] - 0s 1ms/step - loss: 0.4193 - val_loss: 0.4205\n",
      "Epoch 209/300\n",
      "141/141 [==============================] - 0s 1ms/step - loss: 0.4193 - val_loss: 0.4205\n",
      "Epoch 210/300\n",
      "141/141 [==============================] - 0s 1ms/step - loss: 0.4192 - val_loss: 0.4204\n",
      "Epoch 211/300\n",
      "141/141 [==============================] - 0s 1ms/step - loss: 0.4192 - val_loss: 0.4204\n",
      "Epoch 212/300\n",
      "141/141 [==============================] - 0s 1ms/step - loss: 0.4192 - val_loss: 0.4204\n",
      "Epoch 213/300\n",
      "141/141 [==============================] - 0s 1ms/step - loss: 0.4191 - val_loss: 0.4204\n",
      "Epoch 214/300\n",
      "141/141 [==============================] - 0s 1ms/step - loss: 0.4191 - val_loss: 0.4203\n",
      "Epoch 215/300\n",
      "141/141 [==============================] - 0s 1ms/step - loss: 0.4190 - val_loss: 0.4203\n",
      "Epoch 216/300\n",
      "141/141 [==============================] - 0s 1ms/step - loss: 0.4190 - val_loss: 0.4203\n",
      "Epoch 217/300\n",
      "141/141 [==============================] - 0s 1ms/step - loss: 0.4190 - val_loss: 0.4202\n",
      "Epoch 218/300\n",
      "141/141 [==============================] - 0s 1ms/step - loss: 0.4189 - val_loss: 0.4202\n",
      "Epoch 219/300\n",
      "141/141 [==============================] - 0s 2ms/step - loss: 0.4189 - val_loss: 0.4202\n",
      "Epoch 220/300\n",
      "141/141 [==============================] - 0s 1ms/step - loss: 0.4189 - val_loss: 0.4202\n",
      "Epoch 221/300\n",
      "141/141 [==============================] - 0s 1ms/step - loss: 0.4188 - val_loss: 0.4201\n",
      "Epoch 222/300\n",
      "141/141 [==============================] - 0s 1ms/step - loss: 0.4188 - val_loss: 0.4201\n",
      "Epoch 223/300\n",
      "141/141 [==============================] - 0s 1ms/step - loss: 0.4187 - val_loss: 0.4201\n",
      "Epoch 224/300\n",
      "141/141 [==============================] - 0s 1ms/step - loss: 0.4187 - val_loss: 0.4201\n",
      "Epoch 225/300\n",
      "141/141 [==============================] - 0s 1ms/step - loss: 0.4187 - val_loss: 0.4200\n",
      "Epoch 226/300\n",
      "141/141 [==============================] - 0s 1ms/step - loss: 0.4186 - val_loss: 0.4200\n",
      "Epoch 227/300\n",
      "141/141 [==============================] - 0s 1ms/step - loss: 0.4186 - val_loss: 0.4200\n",
      "Epoch 228/300\n",
      "141/141 [==============================] - 0s 1ms/step - loss: 0.4186 - val_loss: 0.4200\n",
      "Epoch 229/300\n",
      "141/141 [==============================] - 0s 1ms/step - loss: 0.4185 - val_loss: 0.4200\n",
      "Epoch 230/300\n",
      "141/141 [==============================] - 0s 1ms/step - loss: 0.4185 - val_loss: 0.4200\n",
      "Epoch 231/300\n",
      "141/141 [==============================] - 0s 1ms/step - loss: 0.4185 - val_loss: 0.4199\n",
      "Epoch 232/300\n",
      "141/141 [==============================] - 0s 1ms/step - loss: 0.4184 - val_loss: 0.4199\n",
      "Epoch 233/300\n",
      "141/141 [==============================] - 0s 1ms/step - loss: 0.4184 - val_loss: 0.4199\n",
      "Epoch 234/300\n",
      "141/141 [==============================] - 0s 1ms/step - loss: 0.4184 - val_loss: 0.4199\n",
      "Epoch 235/300\n",
      "141/141 [==============================] - 0s 1ms/step - loss: 0.4183 - val_loss: 0.4198\n",
      "Epoch 236/300\n",
      "141/141 [==============================] - 0s 1ms/step - loss: 0.4183 - val_loss: 0.4198\n",
      "Epoch 237/300\n",
      "141/141 [==============================] - 0s 1ms/step - loss: 0.4183 - val_loss: 0.4198\n",
      "Epoch 238/300\n",
      "141/141 [==============================] - 0s 1ms/step - loss: 0.4182 - val_loss: 0.4198\n",
      "Epoch 239/300\n",
      "141/141 [==============================] - 0s 1ms/step - loss: 0.4182 - val_loss: 0.4197\n",
      "Epoch 240/300\n",
      "141/141 [==============================] - 0s 1ms/step - loss: 0.4182 - val_loss: 0.4197\n",
      "Epoch 241/300\n",
      "141/141 [==============================] - 0s 1ms/step - loss: 0.4181 - val_loss: 0.4197\n",
      "Epoch 242/300\n",
      "141/141 [==============================] - 0s 1ms/step - loss: 0.4181 - val_loss: 0.4197\n",
      "Epoch 243/300\n",
      "141/141 [==============================] - 0s 1ms/step - loss: 0.4181 - val_loss: 0.4197\n",
      "Epoch 244/300\n",
      "141/141 [==============================] - 0s 2ms/step - loss: 0.4180 - val_loss: 0.4196\n",
      "Epoch 245/300\n",
      "141/141 [==============================] - 0s 2ms/step - loss: 0.4180 - val_loss: 0.4196\n",
      "Epoch 246/300\n",
      "141/141 [==============================] - 0s 2ms/step - loss: 0.4180 - val_loss: 0.4196\n",
      "Epoch 247/300\n",
      "141/141 [==============================] - 0s 2ms/step - loss: 0.4179 - val_loss: 0.4196\n",
      "Epoch 248/300\n",
      "141/141 [==============================] - 0s 1ms/step - loss: 0.4179 - val_loss: 0.4196\n",
      "Epoch 249/300\n",
      "141/141 [==============================] - 0s 1ms/step - loss: 0.4179 - val_loss: 0.4195\n",
      "Epoch 250/300\n",
      "141/141 [==============================] - 0s 2ms/step - loss: 0.4178 - val_loss: 0.4195\n",
      "Epoch 251/300\n",
      "141/141 [==============================] - 0s 2ms/step - loss: 0.4178 - val_loss: 0.4195\n",
      "Epoch 252/300\n",
      "141/141 [==============================] - 0s 2ms/step - loss: 0.4178 - val_loss: 0.4195\n",
      "Epoch 253/300\n",
      "141/141 [==============================] - 0s 1ms/step - loss: 0.4178 - val_loss: 0.4195\n",
      "Epoch 254/300\n",
      "141/141 [==============================] - 0s 1ms/step - loss: 0.4177 - val_loss: 0.4194\n",
      "Epoch 255/300\n",
      "141/141 [==============================] - 0s 1ms/step - loss: 0.4177 - val_loss: 0.4194\n",
      "Epoch 256/300\n",
      "141/141 [==============================] - 0s 1ms/step - loss: 0.4177 - val_loss: 0.4194\n",
      "Epoch 257/300\n",
      "141/141 [==============================] - 0s 1ms/step - loss: 0.4176 - val_loss: 0.4194\n",
      "Epoch 258/300\n",
      "141/141 [==============================] - 0s 1ms/step - loss: 0.4176 - val_loss: 0.4194\n",
      "Epoch 259/300\n",
      "141/141 [==============================] - 0s 1ms/step - loss: 0.4176 - val_loss: 0.4194\n",
      "Epoch 260/300\n",
      "141/141 [==============================] - 0s 1ms/step - loss: 0.4176 - val_loss: 0.4194\n",
      "Epoch 261/300\n",
      "141/141 [==============================] - 0s 1ms/step - loss: 0.4175 - val_loss: 0.4193\n",
      "Epoch 262/300\n",
      "141/141 [==============================] - 0s 1ms/step - loss: 0.4175 - val_loss: 0.4193\n",
      "Epoch 263/300\n",
      "141/141 [==============================] - 0s 1ms/step - loss: 0.4175 - val_loss: 0.4193\n",
      "Epoch 264/300\n",
      "141/141 [==============================] - 0s 1ms/step - loss: 0.4174 - val_loss: 0.4193\n",
      "Epoch 265/300\n",
      "141/141 [==============================] - 0s 1ms/step - loss: 0.4174 - val_loss: 0.4193\n",
      "Epoch 266/300\n",
      "141/141 [==============================] - 0s 2ms/step - loss: 0.4174 - val_loss: 0.4193\n",
      "Epoch 267/300\n",
      "141/141 [==============================] - 0s 2ms/step - loss: 0.4174 - val_loss: 0.4193\n",
      "Epoch 268/300\n",
      "141/141 [==============================] - 0s 2ms/step - loss: 0.4173 - val_loss: 0.4192\n",
      "Epoch 269/300\n",
      "141/141 [==============================] - 0s 2ms/step - loss: 0.4173 - val_loss: 0.4192\n",
      "Epoch 270/300\n",
      "141/141 [==============================] - 0s 2ms/step - loss: 0.4173 - val_loss: 0.4192\n",
      "Epoch 271/300\n",
      "141/141 [==============================] - 0s 2ms/step - loss: 0.4172 - val_loss: 0.4192\n",
      "Epoch 272/300\n",
      "141/141 [==============================] - 0s 2ms/step - loss: 0.4172 - val_loss: 0.4192\n",
      "Epoch 273/300\n",
      "141/141 [==============================] - 0s 2ms/step - loss: 0.4172 - val_loss: 0.4192\n",
      "Epoch 274/300\n",
      "141/141 [==============================] - 0s 2ms/step - loss: 0.4172 - val_loss: 0.4192\n",
      "Epoch 275/300\n",
      "141/141 [==============================] - 0s 2ms/step - loss: 0.4171 - val_loss: 0.4191\n",
      "Epoch 276/300\n",
      "141/141 [==============================] - 0s 2ms/step - loss: 0.4171 - val_loss: 0.4191\n",
      "Epoch 277/300\n",
      "141/141 [==============================] - 0s 2ms/step - loss: 0.4171 - val_loss: 0.4191\n",
      "Epoch 278/300\n",
      "141/141 [==============================] - 0s 2ms/step - loss: 0.4170 - val_loss: 0.4191\n",
      "Epoch 279/300\n",
      "141/141 [==============================] - 0s 2ms/step - loss: 0.4170 - val_loss: 0.4191\n",
      "Epoch 280/300\n",
      "141/141 [==============================] - 0s 2ms/step - loss: 0.4170 - val_loss: 0.4191\n",
      "Epoch 281/300\n",
      "141/141 [==============================] - 0s 2ms/step - loss: 0.4170 - val_loss: 0.4191\n",
      "Epoch 282/300\n",
      "141/141 [==============================] - 0s 2ms/step - loss: 0.4169 - val_loss: 0.4191\n",
      "Epoch 283/300\n",
      "141/141 [==============================] - 0s 2ms/step - loss: 0.4169 - val_loss: 0.4191\n",
      "Epoch 284/300\n",
      "141/141 [==============================] - 0s 2ms/step - loss: 0.4169 - val_loss: 0.4191\n",
      "Epoch 285/300\n",
      "141/141 [==============================] - 0s 2ms/step - loss: 0.4169 - val_loss: 0.4191\n",
      "Epoch 286/300\n",
      "141/141 [==============================] - 0s 2ms/step - loss: 0.4168 - val_loss: 0.4191\n",
      "Epoch 287/300\n",
      "141/141 [==============================] - 0s 2ms/step - loss: 0.4168 - val_loss: 0.4190\n",
      "Epoch 288/300\n",
      "141/141 [==============================] - 0s 2ms/step - loss: 0.4168 - val_loss: 0.4190\n",
      "Epoch 289/300\n",
      "141/141 [==============================] - 0s 2ms/step - loss: 0.4168 - val_loss: 0.4190\n",
      "Epoch 290/300\n",
      "141/141 [==============================] - 0s 2ms/step - loss: 0.4167 - val_loss: 0.4190\n",
      "Epoch 291/300\n",
      "141/141 [==============================] - 0s 2ms/step - loss: 0.4167 - val_loss: 0.4190\n",
      "Epoch 292/300\n",
      "141/141 [==============================] - 0s 2ms/step - loss: 0.4167 - val_loss: 0.4189\n",
      "Epoch 293/300\n",
      "141/141 [==============================] - 0s 2ms/step - loss: 0.4166 - val_loss: 0.4189\n",
      "Epoch 294/300\n",
      "141/141 [==============================] - 0s 2ms/step - loss: 0.4166 - val_loss: 0.4189\n",
      "Epoch 295/300\n",
      "141/141 [==============================] - 0s 2ms/step - loss: 0.4166 - val_loss: 0.4189\n",
      "Epoch 296/300\n",
      "141/141 [==============================] - 0s 2ms/step - loss: 0.4166 - val_loss: 0.4189\n",
      "Epoch 297/300\n",
      "141/141 [==============================] - 0s 2ms/step - loss: 0.4165 - val_loss: 0.4189\n",
      "Epoch 298/300\n",
      "141/141 [==============================] - 0s 2ms/step - loss: 0.4165 - val_loss: 0.4189\n",
      "Epoch 299/300\n",
      "141/141 [==============================] - 0s 2ms/step - loss: 0.4165 - val_loss: 0.4188\n",
      "Epoch 300/300\n",
      "141/141 [==============================] - 0s 2ms/step - loss: 0.4165 - val_loss: 0.4188\n",
      "44/44 [==============================] - 0s 1ms/step - loss: 0.4304\n"
     ]
    }
   ],
   "source": [
    "model_2.compile(loss=\"binary_crossentropy\", optimizer=keras.optimizers.SGD(lr=1e-3))\n",
    "history_2 = model_2.fit(X_train_ok, y_train, epochs=300,\n",
    "                    validation_data=(X_val_ok, y_val))\n",
    "eval_test = model_2.evaluate(X_test_ok, y_test)\n",
    "y_pred2 = model_2.predict(X_test_ok)"
   ]
  },
  {
   "cell_type": "markdown",
   "id": "6OJftzRJ6Cg-",
   "metadata": {
    "id": "6OJftzRJ6Cg-"
   },
   "source": [
    "After that, we will print the metrics graph to see it's performance:"
   ]
  },
  {
   "cell_type": "code",
   "execution_count": 65,
   "id": "MEDgd3lQ4Zm8",
   "metadata": {
    "colab": {
     "base_uri": "https://localhost:8080/",
     "height": 267
    },
    "id": "MEDgd3lQ4Zm8",
    "outputId": "8d182a6f-e2cd-49a3-9663-bff959375a31"
   },
   "outputs": [
    {
     "data": {
      "image/png": "[encoded data removed]",
      "text/plain": [
       "<Figure size 432x288 with 1 Axes>"
      ]
     },
     "metadata": {
      "needs_background": "light"
     },
     "output_type": "display_data"
    }
   ],
   "source": [
    "metrics = pd.DataFrame(history_2.history)\n",
    "metrics[['loss', 'val_loss']].plot();"
   ]
  },
  {
   "cell_type": "code",
   "execution_count": 66,
   "id": "bsT_zKb35S-g",
   "metadata": {
    "id": "bsT_zKb35S-g"
   },
   "outputs": [],
   "source": [
    "y_pred2 = np.where(y_pred2 < 0.5, 0, 1).squeeze()"
   ]
  },
  {
   "cell_type": "code",
   "execution_count": 67,
   "id": "J0tLsAwN5Wj_",
   "metadata": {
    "id": "J0tLsAwN5Wj_"
   },
   "outputs": [],
   "source": [
    "from sklearn.metrics import classification_report"
   ]
  },
  {
   "cell_type": "code",
   "execution_count": 68,
   "id": "vEiS0Z4a5afe",
   "metadata": {
    "colab": {
     "base_uri": "https://localhost:8080/"
    },
    "id": "vEiS0Z4a5afe",
    "outputId": "fa40a3cd-7997-456b-e1d9-c1c22d323653"
   },
   "outputs": [
    {
     "name": "stdout",
     "output_type": "stream",
     "text": [
      "              precision    recall  f1-score   support\n",
      "\n",
      "           0       0.83      0.88      0.86      1031\n",
      "           1       0.61      0.52      0.56       374\n",
      "\n",
      "    accuracy                           0.78      1405\n",
      "   macro avg       0.72      0.70      0.71      1405\n",
      "weighted avg       0.77      0.78      0.78      1405\n",
      "\n"
     ]
    }
   ],
   "source": [
    "print(classification_report(y_test, y_pred2))"
   ]
  },
  {
   "cell_type": "markdown",
   "id": "Jv_54MDD4jjK",
   "metadata": {
    "id": "Jv_54MDD4jjK"
   },
   "source": [
    "### Sequential API"
   ]
  },
  {
   "cell_type": "markdown",
   "id": "QVTWpYEF9ltH",
   "metadata": {
    "id": "QVTWpYEF9ltH"
   },
   "source": [
    "Next, we are going to use the sequential API"
   ]
  },
  {
   "cell_type": "code",
   "execution_count": 69,
   "id": "2d282933",
   "metadata": {},
   "outputs": [
    {
     "data": {
      "text/plain": [
       "(4493, 19)"
      ]
     },
     "execution_count": 69,
     "metadata": {},
     "output_type": "execute_result"
    }
   ],
   "source": [
    "X_train_ok.shape"
   ]
  },
  {
   "cell_type": "code",
   "execution_count": 70,
   "id": "OfG7P6FxKa-x",
   "metadata": {
    "id": "OfG7P6FxKa-x"
   },
   "outputs": [],
   "source": [
    "from keras.models import Sequential\n",
    "from keras.layers import Dense\n",
    "from keras.layers import Dropout"
   ]
  },
  {
   "cell_type": "code",
   "execution_count": 71,
   "id": "V1q_PaQA-xcq",
   "metadata": {
    "colab": {
     "base_uri": "https://localhost:8080/"
    },
    "id": "V1q_PaQA-xcq",
    "outputId": "a5ae9e7e-6223-4e36-be39-dae7846521e4"
   },
   "outputs": [
    {
     "name": "stdout",
     "output_type": "stream",
     "text": [
      "Epoch 1/300\n",
      "450/450 [==============================] - 1s 2ms/step - loss: 0.6397 - accuracy: 0.6793 - val_loss: 0.5067 - val_accuracy: 0.7464\n",
      "Epoch 2/300\n",
      "450/450 [==============================] - 1s 1ms/step - loss: 0.5531 - accuracy: 0.7282 - val_loss: 0.4759 - val_accuracy: 0.7464\n",
      "Epoch 3/300\n",
      "450/450 [==============================] - 1s 2ms/step - loss: 0.5182 - accuracy: 0.7343 - val_loss: 0.4613 - val_accuracy: 0.7464\n",
      "Epoch 4/300\n",
      "450/450 [==============================] - 1s 2ms/step - loss: 0.5198 - accuracy: 0.7369 - val_loss: 0.4630 - val_accuracy: 0.7464\n",
      "Epoch 5/300\n",
      "450/450 [==============================] - 1s 2ms/step - loss: 0.4996 - accuracy: 0.7418 - val_loss: 0.4548 - val_accuracy: 0.7464\n",
      "Epoch 6/300\n",
      "450/450 [==============================] - 1s 2ms/step - loss: 0.4946 - accuracy: 0.7447 - val_loss: 0.4544 - val_accuracy: 0.7509\n",
      "Epoch 7/300\n",
      "450/450 [==============================] - 1s 2ms/step - loss: 0.4804 - accuracy: 0.7529 - val_loss: 0.4451 - val_accuracy: 0.7580\n",
      "Epoch 8/300\n",
      "450/450 [==============================] - 1s 2ms/step - loss: 0.4827 - accuracy: 0.7594 - val_loss: 0.4466 - val_accuracy: 0.7642\n",
      "Epoch 9/300\n",
      "450/450 [==============================] - 1s 2ms/step - loss: 0.4705 - accuracy: 0.7529 - val_loss: 0.4424 - val_accuracy: 0.7687\n",
      "Epoch 10/300\n",
      "450/450 [==============================] - 1s 2ms/step - loss: 0.4706 - accuracy: 0.7550 - val_loss: 0.4404 - val_accuracy: 0.7883\n",
      "Epoch 11/300\n",
      "450/450 [==============================] - 1s 2ms/step - loss: 0.4768 - accuracy: 0.7565 - val_loss: 0.4429 - val_accuracy: 0.7794\n",
      "Epoch 12/300\n",
      "450/450 [==============================] - 1s 2ms/step - loss: 0.4804 - accuracy: 0.7478 - val_loss: 0.4408 - val_accuracy: 0.7758\n",
      "Epoch 13/300\n",
      "450/450 [==============================] - 1s 2ms/step - loss: 0.4779 - accuracy: 0.7518 - val_loss: 0.4395 - val_accuracy: 0.7820\n",
      "Epoch 14/300\n",
      "450/450 [==============================] - 1s 1ms/step - loss: 0.4655 - accuracy: 0.7632 - val_loss: 0.4333 - val_accuracy: 0.7891\n",
      "Epoch 15/300\n",
      "450/450 [==============================] - 1s 1ms/step - loss: 0.4650 - accuracy: 0.7670 - val_loss: 0.4318 - val_accuracy: 0.8034\n",
      "Epoch 16/300\n",
      "450/450 [==============================] - 1s 1ms/step - loss: 0.4715 - accuracy: 0.7654 - val_loss: 0.4346 - val_accuracy: 0.7954\n",
      "Epoch 17/300\n",
      "450/450 [==============================] - 1s 2ms/step - loss: 0.4579 - accuracy: 0.7661 - val_loss: 0.4295 - val_accuracy: 0.8105\n",
      "Epoch 18/300\n",
      "450/450 [==============================] - 1s 3ms/step - loss: 0.4624 - accuracy: 0.7710 - val_loss: 0.4298 - val_accuracy: 0.8132\n",
      "Epoch 19/300\n",
      "450/450 [==============================] - 1s 3ms/step - loss: 0.4551 - accuracy: 0.7761 - val_loss: 0.4251 - val_accuracy: 0.8078\n",
      "Epoch 20/300\n",
      "450/450 [==============================] - 1s 3ms/step - loss: 0.4593 - accuracy: 0.7690 - val_loss: 0.4222 - val_accuracy: 0.8158\n",
      "Epoch 21/300\n",
      "450/450 [==============================] - 1s 3ms/step - loss: 0.4511 - accuracy: 0.7745 - val_loss: 0.4225 - val_accuracy: 0.8123\n",
      "Epoch 22/300\n",
      "450/450 [==============================] - 2s 3ms/step - loss: 0.4539 - accuracy: 0.7721 - val_loss: 0.4255 - val_accuracy: 0.8052\n",
      "Epoch 23/300\n",
      "450/450 [==============================] - 1s 3ms/step - loss: 0.4532 - accuracy: 0.7772 - val_loss: 0.4231 - val_accuracy: 0.8105\n",
      "Epoch 24/300\n",
      "450/450 [==============================] - 1s 3ms/step - loss: 0.4577 - accuracy: 0.7743 - val_loss: 0.4239 - val_accuracy: 0.8123\n",
      "Epoch 25/300\n",
      "450/450 [==============================] - 1s 3ms/step - loss: 0.4475 - accuracy: 0.7736 - val_loss: 0.4226 - val_accuracy: 0.8141\n",
      "Epoch 26/300\n",
      "450/450 [==============================] - 1s 2ms/step - loss: 0.4534 - accuracy: 0.7736 - val_loss: 0.4207 - val_accuracy: 0.8114\n",
      "Epoch 27/300\n",
      "450/450 [==============================] - 1s 3ms/step - loss: 0.4528 - accuracy: 0.7783 - val_loss: 0.4218 - val_accuracy: 0.8105\n",
      "Epoch 28/300\n",
      "450/450 [==============================] - 1s 1ms/step - loss: 0.4479 - accuracy: 0.7752 - val_loss: 0.4208 - val_accuracy: 0.8078\n",
      "Epoch 29/300\n",
      "450/450 [==============================] - 1s 1ms/step - loss: 0.4511 - accuracy: 0.7814 - val_loss: 0.4194 - val_accuracy: 0.8096\n",
      "Epoch 30/300\n",
      "450/450 [==============================] - 1s 1ms/step - loss: 0.4453 - accuracy: 0.7819 - val_loss: 0.4197 - val_accuracy: 0.8123\n",
      "Epoch 31/300\n",
      "450/450 [==============================] - 1s 1ms/step - loss: 0.4401 - accuracy: 0.7826 - val_loss: 0.4216 - val_accuracy: 0.8141\n",
      "Epoch 32/300\n",
      "450/450 [==============================] - 1s 2ms/step - loss: 0.4458 - accuracy: 0.7812 - val_loss: 0.4224 - val_accuracy: 0.8123\n",
      "Epoch 33/300\n",
      "450/450 [==============================] - 1s 1ms/step - loss: 0.4497 - accuracy: 0.7814 - val_loss: 0.4204 - val_accuracy: 0.8158\n",
      "Epoch 34/300\n",
      "450/450 [==============================] - 1s 1ms/step - loss: 0.4408 - accuracy: 0.7823 - val_loss: 0.4198 - val_accuracy: 0.8141\n",
      "Epoch 35/300\n",
      "450/450 [==============================] - 1s 3ms/step - loss: 0.4411 - accuracy: 0.7828 - val_loss: 0.4185 - val_accuracy: 0.8123\n",
      "Epoch 36/300\n",
      "450/450 [==============================] - 2s 3ms/step - loss: 0.4516 - accuracy: 0.7810 - val_loss: 0.4175 - val_accuracy: 0.8105\n",
      "Epoch 37/300\n",
      "450/450 [==============================] - 1s 3ms/step - loss: 0.4439 - accuracy: 0.7819 - val_loss: 0.4200 - val_accuracy: 0.8123\n",
      "Epoch 38/300\n",
      "450/450 [==============================] - 1s 3ms/step - loss: 0.4430 - accuracy: 0.7774 - val_loss: 0.4188 - val_accuracy: 0.8114\n",
      "Epoch 39/300\n",
      "450/450 [==============================] - 1s 3ms/step - loss: 0.4439 - accuracy: 0.7799 - val_loss: 0.4200 - val_accuracy: 0.8132\n",
      "Epoch 40/300\n",
      "450/450 [==============================] - 1s 3ms/step - loss: 0.4456 - accuracy: 0.7794 - val_loss: 0.4211 - val_accuracy: 0.8105\n",
      "Epoch 41/300\n",
      "450/450 [==============================] - 1s 1ms/step - loss: 0.4414 - accuracy: 0.7866 - val_loss: 0.4179 - val_accuracy: 0.8105\n",
      "Epoch 42/300\n",
      "450/450 [==============================] - 1s 2ms/step - loss: 0.4392 - accuracy: 0.7843 - val_loss: 0.4171 - val_accuracy: 0.8132\n",
      "Epoch 43/300\n",
      "450/450 [==============================] - 1s 2ms/step - loss: 0.4409 - accuracy: 0.7823 - val_loss: 0.4206 - val_accuracy: 0.8078\n",
      "Epoch 44/300\n",
      "450/450 [==============================] - 1s 1ms/step - loss: 0.4378 - accuracy: 0.7892 - val_loss: 0.4202 - val_accuracy: 0.8087\n",
      "Epoch 45/300\n",
      "450/450 [==============================] - 1s 1ms/step - loss: 0.4428 - accuracy: 0.7772 - val_loss: 0.4193 - val_accuracy: 0.8114\n",
      "Epoch 46/300\n",
      "450/450 [==============================] - 1s 1ms/step - loss: 0.4414 - accuracy: 0.7899 - val_loss: 0.4198 - val_accuracy: 0.8132\n",
      "Epoch 47/300\n",
      "450/450 [==============================] - 1s 2ms/step - loss: 0.4398 - accuracy: 0.7937 - val_loss: 0.4195 - val_accuracy: 0.8114\n",
      "Epoch 48/300\n",
      "450/450 [==============================] - 1s 1ms/step - loss: 0.4345 - accuracy: 0.7921 - val_loss: 0.4204 - val_accuracy: 0.8132\n",
      "Epoch 49/300\n",
      "450/450 [==============================] - 1s 1ms/step - loss: 0.4395 - accuracy: 0.7926 - val_loss: 0.4164 - val_accuracy: 0.8114\n",
      "Epoch 50/300\n",
      "450/450 [==============================] - 1s 1ms/step - loss: 0.4387 - accuracy: 0.7837 - val_loss: 0.4200 - val_accuracy: 0.8123\n",
      "Epoch 51/300\n",
      "450/450 [==============================] - 1s 2ms/step - loss: 0.4394 - accuracy: 0.7821 - val_loss: 0.4190 - val_accuracy: 0.8123\n",
      "Epoch 52/300\n",
      "450/450 [==============================] - 1s 1ms/step - loss: 0.4412 - accuracy: 0.7846 - val_loss: 0.4206 - val_accuracy: 0.8132\n",
      "Epoch 53/300\n",
      "450/450 [==============================] - 1s 1ms/step - loss: 0.4409 - accuracy: 0.7863 - val_loss: 0.4199 - val_accuracy: 0.8141\n",
      "Epoch 54/300\n",
      "450/450 [==============================] - 1s 1ms/step - loss: 0.4406 - accuracy: 0.7877 - val_loss: 0.4194 - val_accuracy: 0.8114\n",
      "Epoch 55/300\n",
      "450/450 [==============================] - 1s 1ms/step - loss: 0.4453 - accuracy: 0.7843 - val_loss: 0.4175 - val_accuracy: 0.8176\n",
      "Epoch 56/300\n",
      "450/450 [==============================] - 1s 1ms/step - loss: 0.4363 - accuracy: 0.7939 - val_loss: 0.4169 - val_accuracy: 0.8149\n",
      "Epoch 57/300\n",
      "450/450 [==============================] - 1s 1ms/step - loss: 0.4419 - accuracy: 0.7932 - val_loss: 0.4158 - val_accuracy: 0.8096\n",
      "Epoch 58/300\n",
      "450/450 [==============================] - 1s 1ms/step - loss: 0.4385 - accuracy: 0.7854 - val_loss: 0.4174 - val_accuracy: 0.8141\n",
      "Epoch 59/300\n",
      "450/450 [==============================] - 1s 1ms/step - loss: 0.4384 - accuracy: 0.7923 - val_loss: 0.4157 - val_accuracy: 0.8114\n",
      "Epoch 60/300\n",
      "450/450 [==============================] - 1s 1ms/step - loss: 0.4311 - accuracy: 0.7984 - val_loss: 0.4166 - val_accuracy: 0.8141\n",
      "Epoch 61/300\n",
      "450/450 [==============================] - 1s 1ms/step - loss: 0.4427 - accuracy: 0.7906 - val_loss: 0.4190 - val_accuracy: 0.8149\n",
      "Epoch 62/300\n",
      "450/450 [==============================] - 1s 1ms/step - loss: 0.4406 - accuracy: 0.7874 - val_loss: 0.4193 - val_accuracy: 0.8167\n",
      "Epoch 63/300\n",
      "450/450 [==============================] - 1s 1ms/step - loss: 0.4377 - accuracy: 0.7848 - val_loss: 0.4178 - val_accuracy: 0.8149\n",
      "Epoch 64/300\n",
      "450/450 [==============================] - 1s 3ms/step - loss: 0.4406 - accuracy: 0.7895 - val_loss: 0.4175 - val_accuracy: 0.8114\n",
      "Epoch 65/300\n",
      "450/450 [==============================] - 1s 3ms/step - loss: 0.4466 - accuracy: 0.7899 - val_loss: 0.4186 - val_accuracy: 0.8105\n",
      "Epoch 66/300\n",
      "450/450 [==============================] - 1s 3ms/step - loss: 0.4385 - accuracy: 0.7895 - val_loss: 0.4204 - val_accuracy: 0.8069\n",
      "Epoch 67/300\n",
      "450/450 [==============================] - 2s 3ms/step - loss: 0.4448 - accuracy: 0.7834 - val_loss: 0.4166 - val_accuracy: 0.8105\n",
      "Epoch 68/300\n",
      "450/450 [==============================] - 2s 3ms/step - loss: 0.4441 - accuracy: 0.7821 - val_loss: 0.4177 - val_accuracy: 0.8087\n",
      "Epoch 69/300\n",
      "450/450 [==============================] - 1s 3ms/step - loss: 0.4379 - accuracy: 0.7874 - val_loss: 0.4190 - val_accuracy: 0.8078\n",
      "Epoch 70/300\n",
      "450/450 [==============================] - 2s 4ms/step - loss: 0.4362 - accuracy: 0.7906 - val_loss: 0.4208 - val_accuracy: 0.8043\n",
      "Epoch 71/300\n",
      "450/450 [==============================] - 2s 3ms/step - loss: 0.4363 - accuracy: 0.7881 - val_loss: 0.4191 - val_accuracy: 0.8141\n",
      "Epoch 72/300\n",
      "450/450 [==============================] - 2s 4ms/step - loss: 0.4350 - accuracy: 0.7890 - val_loss: 0.4196 - val_accuracy: 0.8069\n",
      "Epoch 73/300\n",
      "450/450 [==============================] - 2s 4ms/step - loss: 0.4412 - accuracy: 0.7895 - val_loss: 0.4201 - val_accuracy: 0.8096\n",
      "Epoch 74/300\n",
      "450/450 [==============================] - 1s 2ms/step - loss: 0.4434 - accuracy: 0.7906 - val_loss: 0.4203 - val_accuracy: 0.8087\n",
      "Epoch 75/300\n",
      "450/450 [==============================] - 1s 2ms/step - loss: 0.4334 - accuracy: 0.7932 - val_loss: 0.4188 - val_accuracy: 0.8105\n",
      "Epoch 76/300\n",
      "450/450 [==============================] - 1s 2ms/step - loss: 0.4420 - accuracy: 0.7908 - val_loss: 0.4178 - val_accuracy: 0.8114\n",
      "Epoch 77/300\n",
      "450/450 [==============================] - 1s 2ms/step - loss: 0.4421 - accuracy: 0.7839 - val_loss: 0.4211 - val_accuracy: 0.8078\n",
      "Epoch 78/300\n",
      "450/450 [==============================] - 1s 2ms/step - loss: 0.4345 - accuracy: 0.7877 - val_loss: 0.4208 - val_accuracy: 0.8078\n",
      "Epoch 79/300\n",
      "450/450 [==============================] - 1s 1ms/step - loss: 0.4366 - accuracy: 0.7857 - val_loss: 0.4205 - val_accuracy: 0.8069\n",
      "Epoch 80/300\n",
      "450/450 [==============================] - 1s 2ms/step - loss: 0.4378 - accuracy: 0.7890 - val_loss: 0.4201 - val_accuracy: 0.8087\n",
      "Epoch 81/300\n",
      "450/450 [==============================] - 1s 1ms/step - loss: 0.4501 - accuracy: 0.7837 - val_loss: 0.4215 - val_accuracy: 0.8078\n",
      "Epoch 82/300\n",
      "450/450 [==============================] - 1s 1ms/step - loss: 0.4367 - accuracy: 0.7921 - val_loss: 0.4186 - val_accuracy: 0.8132\n",
      "Epoch 83/300\n",
      "450/450 [==============================] - 1s 1ms/step - loss: 0.4402 - accuracy: 0.7903 - val_loss: 0.4179 - val_accuracy: 0.8078\n",
      "Epoch 84/300\n",
      "450/450 [==============================] - 1s 1ms/step - loss: 0.4388 - accuracy: 0.7921 - val_loss: 0.4226 - val_accuracy: 0.8034\n",
      "Epoch 85/300\n",
      "450/450 [==============================] - 1s 1ms/step - loss: 0.4429 - accuracy: 0.7785 - val_loss: 0.4231 - val_accuracy: 0.8043\n",
      "Epoch 86/300\n",
      "450/450 [==============================] - 1s 2ms/step - loss: 0.4323 - accuracy: 0.7946 - val_loss: 0.4245 - val_accuracy: 0.8052\n",
      "Epoch 87/300\n",
      "450/450 [==============================] - 1s 1ms/step - loss: 0.4321 - accuracy: 0.7895 - val_loss: 0.4218 - val_accuracy: 0.8007\n",
      "Epoch 88/300\n",
      "450/450 [==============================] - 1s 1ms/step - loss: 0.4403 - accuracy: 0.7783 - val_loss: 0.4221 - val_accuracy: 0.8043\n",
      "Epoch 89/300\n",
      "450/450 [==============================] - 1s 1ms/step - loss: 0.4342 - accuracy: 0.7874 - val_loss: 0.4219 - val_accuracy: 0.8123\n",
      "Epoch 90/300\n",
      "450/450 [==============================] - 1s 2ms/step - loss: 0.4371 - accuracy: 0.7890 - val_loss: 0.4196 - val_accuracy: 0.8087\n",
      "Epoch 91/300\n",
      "450/450 [==============================] - 1s 2ms/step - loss: 0.4398 - accuracy: 0.7872 - val_loss: 0.4229 - val_accuracy: 0.8132\n",
      "Epoch 92/300\n",
      "450/450 [==============================] - 1s 2ms/step - loss: 0.4312 - accuracy: 0.7828 - val_loss: 0.4226 - val_accuracy: 0.8069\n",
      "Epoch 93/300\n",
      "450/450 [==============================] - 1s 1ms/step - loss: 0.4310 - accuracy: 0.7937 - val_loss: 0.4250 - val_accuracy: 0.7972\n",
      "Epoch 94/300\n",
      "450/450 [==============================] - 1s 2ms/step - loss: 0.4366 - accuracy: 0.7943 - val_loss: 0.4250 - val_accuracy: 0.7998\n",
      "Epoch 95/300\n",
      "450/450 [==============================] - 1s 2ms/step - loss: 0.4357 - accuracy: 0.7895 - val_loss: 0.4209 - val_accuracy: 0.8025\n",
      "Epoch 96/300\n",
      "450/450 [==============================] - 1s 2ms/step - loss: 0.4345 - accuracy: 0.7877 - val_loss: 0.4223 - val_accuracy: 0.8078\n",
      "Epoch 97/300\n",
      "450/450 [==============================] - 1s 2ms/step - loss: 0.4394 - accuracy: 0.7937 - val_loss: 0.4212 - val_accuracy: 0.8114\n",
      "Epoch 98/300\n",
      "450/450 [==============================] - 2s 3ms/step - loss: 0.4424 - accuracy: 0.7892 - val_loss: 0.4229 - val_accuracy: 0.8060\n",
      "Epoch 99/300\n",
      "450/450 [==============================] - 1s 3ms/step - loss: 0.4319 - accuracy: 0.7921 - val_loss: 0.4197 - val_accuracy: 0.8114\n",
      "Epoch 100/300\n",
      "450/450 [==============================] - 1s 2ms/step - loss: 0.4330 - accuracy: 0.7930 - val_loss: 0.4210 - val_accuracy: 0.8078\n",
      "Epoch 101/300\n",
      "450/450 [==============================] - 1s 3ms/step - loss: 0.4359 - accuracy: 0.7877 - val_loss: 0.4228 - val_accuracy: 0.8078\n",
      "Epoch 102/300\n",
      "450/450 [==============================] - 1s 3ms/step - loss: 0.4353 - accuracy: 0.7903 - val_loss: 0.4229 - val_accuracy: 0.8069\n",
      "Epoch 103/300\n",
      "450/450 [==============================] - 1s 2ms/step - loss: 0.4309 - accuracy: 0.7952 - val_loss: 0.4213 - val_accuracy: 0.8052\n",
      "Epoch 104/300\n",
      "450/450 [==============================] - 1s 2ms/step - loss: 0.4390 - accuracy: 0.7892 - val_loss: 0.4259 - val_accuracy: 0.8105\n",
      "Epoch 105/300\n",
      "450/450 [==============================] - 1s 2ms/step - loss: 0.4367 - accuracy: 0.7859 - val_loss: 0.4243 - val_accuracy: 0.8069\n",
      "Epoch 106/300\n",
      "450/450 [==============================] - 1s 2ms/step - loss: 0.4408 - accuracy: 0.7868 - val_loss: 0.4212 - val_accuracy: 0.8087\n",
      "Epoch 107/300\n",
      "450/450 [==============================] - 1s 2ms/step - loss: 0.4321 - accuracy: 0.7919 - val_loss: 0.4192 - val_accuracy: 0.8123\n",
      "Epoch 108/300\n",
      "450/450 [==============================] - 1s 2ms/step - loss: 0.4363 - accuracy: 0.7892 - val_loss: 0.4216 - val_accuracy: 0.8132\n",
      "Epoch 109/300\n",
      "450/450 [==============================] - 1s 1ms/step - loss: 0.4350 - accuracy: 0.7888 - val_loss: 0.4230 - val_accuracy: 0.8007\n",
      "Epoch 110/300\n",
      "450/450 [==============================] - 1s 1ms/step - loss: 0.4366 - accuracy: 0.7899 - val_loss: 0.4266 - val_accuracy: 0.7936\n",
      "Epoch 111/300\n",
      "450/450 [==============================] - 1s 1ms/step - loss: 0.4363 - accuracy: 0.7926 - val_loss: 0.4218 - val_accuracy: 0.7980\n",
      "Epoch 112/300\n",
      "450/450 [==============================] - 1s 1ms/step - loss: 0.4350 - accuracy: 0.7872 - val_loss: 0.4202 - val_accuracy: 0.8034\n",
      "Epoch 113/300\n",
      "450/450 [==============================] - 1s 1ms/step - loss: 0.4386 - accuracy: 0.7939 - val_loss: 0.4235 - val_accuracy: 0.8034\n",
      "Epoch 114/300\n",
      "450/450 [==============================] - 1s 1ms/step - loss: 0.4307 - accuracy: 0.7928 - val_loss: 0.4254 - val_accuracy: 0.7998\n",
      "Epoch 115/300\n",
      "450/450 [==============================] - 1s 1ms/step - loss: 0.4357 - accuracy: 0.7921 - val_loss: 0.4228 - val_accuracy: 0.8016\n",
      "Epoch 116/300\n",
      "450/450 [==============================] - 1s 1ms/step - loss: 0.4414 - accuracy: 0.7832 - val_loss: 0.4225 - val_accuracy: 0.7972\n",
      "Epoch 117/300\n",
      "450/450 [==============================] - 1s 1ms/step - loss: 0.4411 - accuracy: 0.7890 - val_loss: 0.4204 - val_accuracy: 0.8105\n",
      "Epoch 118/300\n",
      "450/450 [==============================] - 1s 1ms/step - loss: 0.4355 - accuracy: 0.7899 - val_loss: 0.4195 - val_accuracy: 0.8105\n",
      "Epoch 119/300\n",
      "450/450 [==============================] - 1s 1ms/step - loss: 0.4395 - accuracy: 0.7866 - val_loss: 0.4190 - val_accuracy: 0.8123\n",
      "Epoch 120/300\n",
      "450/450 [==============================] - 1s 2ms/step - loss: 0.4393 - accuracy: 0.7861 - val_loss: 0.4229 - val_accuracy: 0.8078\n",
      "Epoch 121/300\n",
      "450/450 [==============================] - 1s 2ms/step - loss: 0.4339 - accuracy: 0.7874 - val_loss: 0.4212 - val_accuracy: 0.7980\n",
      "Epoch 122/300\n",
      "450/450 [==============================] - 1s 3ms/step - loss: 0.4359 - accuracy: 0.7906 - val_loss: 0.4218 - val_accuracy: 0.8016\n",
      "Epoch 123/300\n",
      "450/450 [==============================] - 1s 3ms/step - loss: 0.4320 - accuracy: 0.7999 - val_loss: 0.4172 - val_accuracy: 0.8114\n",
      "Epoch 124/300\n",
      "450/450 [==============================] - 1s 3ms/step - loss: 0.4349 - accuracy: 0.7943 - val_loss: 0.4153 - val_accuracy: 0.8149\n",
      "Epoch 125/300\n",
      "450/450 [==============================] - 1s 3ms/step - loss: 0.4377 - accuracy: 0.7877 - val_loss: 0.4174 - val_accuracy: 0.8105\n",
      "Epoch 126/300\n",
      "450/450 [==============================] - 1s 3ms/step - loss: 0.4326 - accuracy: 0.7861 - val_loss: 0.4211 - val_accuracy: 0.8087\n",
      "Epoch 127/300\n",
      "450/450 [==============================] - 1s 3ms/step - loss: 0.4364 - accuracy: 0.7908 - val_loss: 0.4243 - val_accuracy: 0.7989\n",
      "Epoch 128/300\n",
      "450/450 [==============================] - 1s 3ms/step - loss: 0.4324 - accuracy: 0.7961 - val_loss: 0.4197 - val_accuracy: 0.8096\n",
      "Epoch 129/300\n",
      "450/450 [==============================] - 2s 4ms/step - loss: 0.4337 - accuracy: 0.7832 - val_loss: 0.4208 - val_accuracy: 0.8034\n",
      "Epoch 130/300\n",
      "450/450 [==============================] - 2s 4ms/step - loss: 0.4332 - accuracy: 0.7915 - val_loss: 0.4190 - val_accuracy: 0.8060\n",
      "Epoch 131/300\n",
      "450/450 [==============================] - 2s 4ms/step - loss: 0.4376 - accuracy: 0.7857 - val_loss: 0.4229 - val_accuracy: 0.8007\n",
      "Epoch 132/300\n",
      "450/450 [==============================] - 1s 3ms/step - loss: 0.4334 - accuracy: 0.7850 - val_loss: 0.4224 - val_accuracy: 0.8060\n",
      "Epoch 133/300\n",
      "450/450 [==============================] - 1s 3ms/step - loss: 0.4402 - accuracy: 0.7817 - val_loss: 0.4181 - val_accuracy: 0.8096\n",
      "Epoch 134/300\n",
      "450/450 [==============================] - 2s 3ms/step - loss: 0.4351 - accuracy: 0.7897 - val_loss: 0.4231 - val_accuracy: 0.7936\n",
      "Epoch 135/300\n",
      "450/450 [==============================] - 2s 4ms/step - loss: 0.4384 - accuracy: 0.7859 - val_loss: 0.4207 - val_accuracy: 0.8078\n",
      "Epoch 136/300\n",
      "450/450 [==============================] - 1s 3ms/step - loss: 0.4369 - accuracy: 0.7941 - val_loss: 0.4228 - val_accuracy: 0.8034\n",
      "Epoch 137/300\n",
      "450/450 [==============================] - 2s 3ms/step - loss: 0.4273 - accuracy: 0.7943 - val_loss: 0.4216 - val_accuracy: 0.8069\n",
      "Epoch 138/300\n",
      "450/450 [==============================] - 2s 4ms/step - loss: 0.4328 - accuracy: 0.7901 - val_loss: 0.4184 - val_accuracy: 0.8114\n",
      "Epoch 139/300\n",
      "450/450 [==============================] - 2s 4ms/step - loss: 0.4324 - accuracy: 0.7930 - val_loss: 0.4197 - val_accuracy: 0.8087\n",
      "Epoch 140/300\n",
      "450/450 [==============================] - 2s 3ms/step - loss: 0.4370 - accuracy: 0.7848 - val_loss: 0.4185 - val_accuracy: 0.8114\n",
      "Epoch 141/300\n",
      "450/450 [==============================] - 2s 4ms/step - loss: 0.4304 - accuracy: 0.7888 - val_loss: 0.4198 - val_accuracy: 0.8069\n",
      "Epoch 142/300\n",
      "450/450 [==============================] - 2s 3ms/step - loss: 0.4343 - accuracy: 0.7877 - val_loss: 0.4228 - val_accuracy: 0.8052\n",
      "Epoch 143/300\n",
      "450/450 [==============================] - 1s 2ms/step - loss: 0.4295 - accuracy: 0.7979 - val_loss: 0.4209 - val_accuracy: 0.8060\n",
      "Epoch 144/300\n",
      "450/450 [==============================] - 1s 2ms/step - loss: 0.4309 - accuracy: 0.7961 - val_loss: 0.4210 - val_accuracy: 0.8016\n",
      "Epoch 145/300\n",
      "450/450 [==============================] - 1s 2ms/step - loss: 0.4266 - accuracy: 0.7979 - val_loss: 0.4226 - val_accuracy: 0.8007\n",
      "Epoch 146/300\n",
      "450/450 [==============================] - 1s 2ms/step - loss: 0.4346 - accuracy: 0.7903 - val_loss: 0.4240 - val_accuracy: 0.8034\n",
      "Epoch 147/300\n",
      "450/450 [==============================] - 1s 2ms/step - loss: 0.4364 - accuracy: 0.7906 - val_loss: 0.4273 - val_accuracy: 0.7927\n",
      "Epoch 148/300\n",
      "450/450 [==============================] - 1s 2ms/step - loss: 0.4298 - accuracy: 0.7968 - val_loss: 0.4280 - val_accuracy: 0.7918\n",
      "Epoch 149/300\n",
      "450/450 [==============================] - 1s 2ms/step - loss: 0.4385 - accuracy: 0.7919 - val_loss: 0.4253 - val_accuracy: 0.7945\n",
      "Epoch 150/300\n",
      "450/450 [==============================] - 1s 1ms/step - loss: 0.4314 - accuracy: 0.7919 - val_loss: 0.4245 - val_accuracy: 0.7945\n",
      "Epoch 151/300\n",
      "450/450 [==============================] - 1s 1ms/step - loss: 0.4282 - accuracy: 0.8021 - val_loss: 0.4249 - val_accuracy: 0.7945\n",
      "Epoch 152/300\n",
      "450/450 [==============================] - 1s 1ms/step - loss: 0.4292 - accuracy: 0.7935 - val_loss: 0.4249 - val_accuracy: 0.7989\n",
      "Epoch 153/300\n",
      "450/450 [==============================] - 1s 1ms/step - loss: 0.4389 - accuracy: 0.7868 - val_loss: 0.4214 - val_accuracy: 0.7998\n",
      "Epoch 154/300\n",
      "450/450 [==============================] - 1s 1ms/step - loss: 0.4333 - accuracy: 0.7926 - val_loss: 0.4239 - val_accuracy: 0.8078\n",
      "Epoch 155/300\n",
      "450/450 [==============================] - 1s 1ms/step - loss: 0.4305 - accuracy: 0.7935 - val_loss: 0.4203 - val_accuracy: 0.8025\n",
      "Epoch 156/300\n",
      "450/450 [==============================] - 1s 1ms/step - loss: 0.4261 - accuracy: 0.8001 - val_loss: 0.4214 - val_accuracy: 0.8060\n",
      "Epoch 157/300\n",
      "450/450 [==============================] - 1s 1ms/step - loss: 0.4404 - accuracy: 0.7943 - val_loss: 0.4219 - val_accuracy: 0.8069\n",
      "Epoch 158/300\n",
      "450/450 [==============================] - 1s 2ms/step - loss: 0.4369 - accuracy: 0.7895 - val_loss: 0.4253 - val_accuracy: 0.8034\n",
      "Epoch 159/300\n",
      "450/450 [==============================] - 1s 3ms/step - loss: 0.4326 - accuracy: 0.7984 - val_loss: 0.4240 - val_accuracy: 0.7989\n",
      "Epoch 160/300\n",
      "450/450 [==============================] - 1s 3ms/step - loss: 0.4300 - accuracy: 0.7941 - val_loss: 0.4223 - val_accuracy: 0.8025\n",
      "Epoch 161/300\n",
      "450/450 [==============================] - 1s 3ms/step - loss: 0.4314 - accuracy: 0.7937 - val_loss: 0.4219 - val_accuracy: 0.8025\n",
      "Epoch 162/300\n",
      "450/450 [==============================] - 1s 3ms/step - loss: 0.4341 - accuracy: 0.7888 - val_loss: 0.4215 - val_accuracy: 0.8052\n",
      "Epoch 163/300\n",
      "450/450 [==============================] - 1s 2ms/step - loss: 0.4399 - accuracy: 0.7939 - val_loss: 0.4205 - val_accuracy: 0.8096\n",
      "Epoch 164/300\n",
      "450/450 [==============================] - 1s 3ms/step - loss: 0.4338 - accuracy: 0.7921 - val_loss: 0.4186 - val_accuracy: 0.8096\n",
      "Epoch 165/300\n",
      "450/450 [==============================] - 1s 3ms/step - loss: 0.4343 - accuracy: 0.7950 - val_loss: 0.4248 - val_accuracy: 0.8007\n",
      "Epoch 166/300\n",
      "450/450 [==============================] - 1s 3ms/step - loss: 0.4376 - accuracy: 0.7877 - val_loss: 0.4243 - val_accuracy: 0.8034\n",
      "Epoch 167/300\n",
      "450/450 [==============================] - 1s 3ms/step - loss: 0.4422 - accuracy: 0.7883 - val_loss: 0.4207 - val_accuracy: 0.8043\n",
      "Epoch 168/300\n",
      "450/450 [==============================] - 1s 3ms/step - loss: 0.4302 - accuracy: 0.7968 - val_loss: 0.4212 - val_accuracy: 0.8087\n",
      "Epoch 169/300\n",
      "450/450 [==============================] - 2s 3ms/step - loss: 0.4375 - accuracy: 0.7870 - val_loss: 0.4221 - val_accuracy: 0.8034\n",
      "Epoch 170/300\n",
      "450/450 [==============================] - 2s 3ms/step - loss: 0.4280 - accuracy: 0.7995 - val_loss: 0.4267 - val_accuracy: 0.7954\n",
      "Epoch 171/300\n",
      "450/450 [==============================] - 1s 3ms/step - loss: 0.4391 - accuracy: 0.7883 - val_loss: 0.4271 - val_accuracy: 0.7963\n",
      "Epoch 172/300\n",
      "450/450 [==============================] - 1s 1ms/step - loss: 0.4271 - accuracy: 0.7988 - val_loss: 0.4250 - val_accuracy: 0.8034\n",
      "Epoch 173/300\n",
      "450/450 [==============================] - 1s 1ms/step - loss: 0.4283 - accuracy: 0.7923 - val_loss: 0.4230 - val_accuracy: 0.8052\n",
      "Epoch 174/300\n",
      "450/450 [==============================] - 1s 1ms/step - loss: 0.4303 - accuracy: 0.7937 - val_loss: 0.4255 - val_accuracy: 0.7963\n",
      "Epoch 175/300\n",
      "450/450 [==============================] - 1s 2ms/step - loss: 0.4437 - accuracy: 0.7910 - val_loss: 0.4227 - val_accuracy: 0.8016\n",
      "Epoch 176/300\n",
      "450/450 [==============================] - 1s 1ms/step - loss: 0.4319 - accuracy: 0.7988 - val_loss: 0.4224 - val_accuracy: 0.8043\n",
      "Epoch 177/300\n",
      "450/450 [==============================] - 1s 1ms/step - loss: 0.4291 - accuracy: 0.7928 - val_loss: 0.4267 - val_accuracy: 0.7936\n",
      "Epoch 178/300\n",
      "450/450 [==============================] - 1s 2ms/step - loss: 0.4366 - accuracy: 0.7915 - val_loss: 0.4214 - val_accuracy: 0.8060\n",
      "Epoch 179/300\n",
      "450/450 [==============================] - 1s 2ms/step - loss: 0.4306 - accuracy: 0.7946 - val_loss: 0.4244 - val_accuracy: 0.7989\n",
      "Epoch 180/300\n",
      "450/450 [==============================] - 1s 1ms/step - loss: 0.4402 - accuracy: 0.7950 - val_loss: 0.4236 - val_accuracy: 0.7989\n",
      "Epoch 181/300\n",
      "450/450 [==============================] - 1s 1ms/step - loss: 0.4322 - accuracy: 0.7963 - val_loss: 0.4254 - val_accuracy: 0.7989\n",
      "Epoch 182/300\n",
      "450/450 [==============================] - 1s 1ms/step - loss: 0.4288 - accuracy: 0.8004 - val_loss: 0.4245 - val_accuracy: 0.8025\n",
      "Epoch 183/300\n",
      "450/450 [==============================] - 1s 1ms/step - loss: 0.4379 - accuracy: 0.7999 - val_loss: 0.4272 - val_accuracy: 0.7936\n",
      "Epoch 184/300\n",
      "450/450 [==============================] - 1s 1ms/step - loss: 0.4296 - accuracy: 0.7926 - val_loss: 0.4258 - val_accuracy: 0.7998\n",
      "Epoch 185/300\n",
      "450/450 [==============================] - 1s 1ms/step - loss: 0.4331 - accuracy: 0.7921 - val_loss: 0.4211 - val_accuracy: 0.8043\n",
      "Epoch 186/300\n",
      "450/450 [==============================] - 1s 1ms/step - loss: 0.4395 - accuracy: 0.7823 - val_loss: 0.4180 - val_accuracy: 0.8096\n",
      "Epoch 187/300\n",
      "450/450 [==============================] - 1s 1ms/step - loss: 0.4378 - accuracy: 0.7874 - val_loss: 0.4241 - val_accuracy: 0.7954\n",
      "Epoch 188/300\n",
      "450/450 [==============================] - 1s 1ms/step - loss: 0.4327 - accuracy: 0.7839 - val_loss: 0.4267 - val_accuracy: 0.7963\n",
      "Epoch 189/300\n",
      "450/450 [==============================] - 1s 1ms/step - loss: 0.4374 - accuracy: 0.7861 - val_loss: 0.4235 - val_accuracy: 0.8016\n",
      "Epoch 190/300\n",
      "450/450 [==============================] - 1s 1ms/step - loss: 0.4282 - accuracy: 0.8030 - val_loss: 0.4250 - val_accuracy: 0.7998\n",
      "Epoch 191/300\n",
      "450/450 [==============================] - 1s 1ms/step - loss: 0.4340 - accuracy: 0.7899 - val_loss: 0.4263 - val_accuracy: 0.7998\n",
      "Epoch 192/300\n",
      "450/450 [==============================] - 1s 1ms/step - loss: 0.4322 - accuracy: 0.7941 - val_loss: 0.4244 - val_accuracy: 0.8007\n",
      "Epoch 193/300\n",
      "450/450 [==============================] - 1s 1ms/step - loss: 0.4311 - accuracy: 0.7972 - val_loss: 0.4231 - val_accuracy: 0.8060\n",
      "Epoch 194/300\n",
      "450/450 [==============================] - 1s 1ms/step - loss: 0.4364 - accuracy: 0.7899 - val_loss: 0.4229 - val_accuracy: 0.8016\n",
      "Epoch 195/300\n",
      "450/450 [==============================] - 1s 1ms/step - loss: 0.4389 - accuracy: 0.7843 - val_loss: 0.4206 - val_accuracy: 0.8078\n",
      "Epoch 196/300\n",
      "450/450 [==============================] - 1s 1ms/step - loss: 0.4390 - accuracy: 0.7926 - val_loss: 0.4213 - val_accuracy: 0.8034\n",
      "Epoch 197/300\n",
      "450/450 [==============================] - 1s 1ms/step - loss: 0.4284 - accuracy: 0.7959 - val_loss: 0.4219 - val_accuracy: 0.8034\n",
      "Epoch 198/300\n",
      "450/450 [==============================] - 1s 1ms/step - loss: 0.4349 - accuracy: 0.7946 - val_loss: 0.4257 - val_accuracy: 0.7963\n",
      "Epoch 199/300\n",
      "450/450 [==============================] - 1s 1ms/step - loss: 0.4397 - accuracy: 0.7859 - val_loss: 0.4285 - val_accuracy: 0.7918\n",
      "Epoch 200/300\n",
      "450/450 [==============================] - 1s 1ms/step - loss: 0.4314 - accuracy: 0.7943 - val_loss: 0.4272 - val_accuracy: 0.7936\n",
      "Epoch 201/300\n",
      "450/450 [==============================] - 1s 1ms/step - loss: 0.4327 - accuracy: 0.7901 - val_loss: 0.4256 - val_accuracy: 0.8007\n",
      "Epoch 202/300\n",
      "450/450 [==============================] - 1s 1ms/step - loss: 0.4307 - accuracy: 0.7999 - val_loss: 0.4241 - val_accuracy: 0.8007\n",
      "Epoch 203/300\n",
      "450/450 [==============================] - 1s 1ms/step - loss: 0.4400 - accuracy: 0.7926 - val_loss: 0.4260 - val_accuracy: 0.7980\n",
      "Epoch 204/300\n",
      "450/450 [==============================] - 1s 1ms/step - loss: 0.4305 - accuracy: 0.7957 - val_loss: 0.4272 - val_accuracy: 0.7909\n",
      "Epoch 205/300\n",
      "450/450 [==============================] - 1s 2ms/step - loss: 0.4379 - accuracy: 0.7923 - val_loss: 0.4253 - val_accuracy: 0.7972\n",
      "Epoch 206/300\n",
      "450/450 [==============================] - 1s 2ms/step - loss: 0.4333 - accuracy: 0.7839 - val_loss: 0.4287 - val_accuracy: 0.7909\n",
      "Epoch 207/300\n",
      "450/450 [==============================] - 1s 2ms/step - loss: 0.4269 - accuracy: 0.7950 - val_loss: 0.4280 - val_accuracy: 0.7945\n",
      "Epoch 208/300\n",
      "450/450 [==============================] - 1s 2ms/step - loss: 0.4274 - accuracy: 0.7952 - val_loss: 0.4234 - val_accuracy: 0.8016\n",
      "Epoch 209/300\n",
      "450/450 [==============================] - 1s 2ms/step - loss: 0.4302 - accuracy: 0.7972 - val_loss: 0.4304 - val_accuracy: 0.7936\n",
      "Epoch 210/300\n",
      "450/450 [==============================] - 1s 2ms/step - loss: 0.4319 - accuracy: 0.7917 - val_loss: 0.4277 - val_accuracy: 0.7936\n",
      "Epoch 211/300\n",
      "450/450 [==============================] - 1s 2ms/step - loss: 0.4372 - accuracy: 0.7897 - val_loss: 0.4232 - val_accuracy: 0.8025\n",
      "Epoch 212/300\n",
      "450/450 [==============================] - 1s 2ms/step - loss: 0.4273 - accuracy: 0.7937 - val_loss: 0.4266 - val_accuracy: 0.8025\n",
      "Epoch 213/300\n",
      "450/450 [==============================] - 1s 2ms/step - loss: 0.4310 - accuracy: 0.7963 - val_loss: 0.4224 - val_accuracy: 0.8069\n",
      "Epoch 214/300\n",
      "450/450 [==============================] - 1s 2ms/step - loss: 0.4275 - accuracy: 0.7948 - val_loss: 0.4269 - val_accuracy: 0.8016\n",
      "Epoch 215/300\n",
      "450/450 [==============================] - 1s 2ms/step - loss: 0.4397 - accuracy: 0.7926 - val_loss: 0.4262 - val_accuracy: 0.7998\n",
      "Epoch 216/300\n",
      "450/450 [==============================] - 1s 2ms/step - loss: 0.4251 - accuracy: 0.7979 - val_loss: 0.4290 - val_accuracy: 0.7918\n",
      "Epoch 217/300\n",
      "450/450 [==============================] - 1s 1ms/step - loss: 0.4394 - accuracy: 0.7854 - val_loss: 0.4269 - val_accuracy: 0.7945\n",
      "Epoch 218/300\n",
      "450/450 [==============================] - 1s 1ms/step - loss: 0.4332 - accuracy: 0.7968 - val_loss: 0.4257 - val_accuracy: 0.8034\n",
      "Epoch 219/300\n",
      "450/450 [==============================] - 1s 2ms/step - loss: 0.4373 - accuracy: 0.7906 - val_loss: 0.4269 - val_accuracy: 0.8007\n",
      "Epoch 220/300\n",
      "450/450 [==============================] - 1s 1ms/step - loss: 0.4285 - accuracy: 0.7935 - val_loss: 0.4252 - val_accuracy: 0.8087\n",
      "Epoch 221/300\n",
      "450/450 [==============================] - 1s 1ms/step - loss: 0.4321 - accuracy: 0.7935 - val_loss: 0.4287 - val_accuracy: 0.7963\n",
      "Epoch 222/300\n",
      "450/450 [==============================] - 1s 1ms/step - loss: 0.4326 - accuracy: 0.7915 - val_loss: 0.4246 - val_accuracy: 0.7963\n",
      "Epoch 223/300\n",
      "450/450 [==============================] - 1s 2ms/step - loss: 0.4274 - accuracy: 0.8030 - val_loss: 0.4268 - val_accuracy: 0.7945\n",
      "Epoch 224/300\n",
      "450/450 [==============================] - 1s 2ms/step - loss: 0.4283 - accuracy: 0.8010 - val_loss: 0.4224 - val_accuracy: 0.8016\n",
      "Epoch 225/300\n",
      "450/450 [==============================] - 1s 2ms/step - loss: 0.4307 - accuracy: 0.7939 - val_loss: 0.4276 - val_accuracy: 0.7945\n",
      "Epoch 226/300\n",
      "450/450 [==============================] - 1s 1ms/step - loss: 0.4344 - accuracy: 0.7901 - val_loss: 0.4270 - val_accuracy: 0.7918\n",
      "Epoch 227/300\n",
      "450/450 [==============================] - 1s 2ms/step - loss: 0.4277 - accuracy: 0.7977 - val_loss: 0.4257 - val_accuracy: 0.7909\n",
      "Epoch 228/300\n",
      "450/450 [==============================] - 1s 2ms/step - loss: 0.4271 - accuracy: 0.8017 - val_loss: 0.4253 - val_accuracy: 0.7927\n",
      "Epoch 229/300\n",
      "450/450 [==============================] - 1s 2ms/step - loss: 0.4268 - accuracy: 0.7899 - val_loss: 0.4254 - val_accuracy: 0.7909\n",
      "Epoch 230/300\n",
      "450/450 [==============================] - 1s 1ms/step - loss: 0.4326 - accuracy: 0.7883 - val_loss: 0.4243 - val_accuracy: 0.7972\n",
      "Epoch 231/300\n",
      "450/450 [==============================] - 1s 2ms/step - loss: 0.4368 - accuracy: 0.7923 - val_loss: 0.4234 - val_accuracy: 0.7936\n",
      "Epoch 232/300\n",
      "450/450 [==============================] - 1s 1ms/step - loss: 0.4298 - accuracy: 0.7879 - val_loss: 0.4281 - val_accuracy: 0.7963\n",
      "Epoch 233/300\n",
      "450/450 [==============================] - 1s 1ms/step - loss: 0.4289 - accuracy: 0.7877 - val_loss: 0.4305 - val_accuracy: 0.7936\n",
      "Epoch 234/300\n",
      "450/450 [==============================] - 1s 1ms/step - loss: 0.4317 - accuracy: 0.7963 - val_loss: 0.4320 - val_accuracy: 0.7865\n",
      "Epoch 235/300\n",
      "450/450 [==============================] - 1s 1ms/step - loss: 0.4244 - accuracy: 0.7995 - val_loss: 0.4308 - val_accuracy: 0.7909\n",
      "Epoch 236/300\n",
      "450/450 [==============================] - 1s 1ms/step - loss: 0.4259 - accuracy: 0.7997 - val_loss: 0.4294 - val_accuracy: 0.7936\n",
      "Epoch 237/300\n",
      "450/450 [==============================] - 1s 1ms/step - loss: 0.4321 - accuracy: 0.7950 - val_loss: 0.4269 - val_accuracy: 0.7980\n",
      "Epoch 238/300\n",
      "450/450 [==============================] - 1s 1ms/step - loss: 0.4202 - accuracy: 0.8079 - val_loss: 0.4333 - val_accuracy: 0.7883\n",
      "Epoch 239/300\n",
      "450/450 [==============================] - 1s 1ms/step - loss: 0.4343 - accuracy: 0.7952 - val_loss: 0.4248 - val_accuracy: 0.7980\n",
      "Epoch 240/300\n",
      "450/450 [==============================] - 1s 2ms/step - loss: 0.4278 - accuracy: 0.7997 - val_loss: 0.4262 - val_accuracy: 0.7980\n",
      "Epoch 241/300\n",
      "450/450 [==============================] - 1s 2ms/step - loss: 0.4298 - accuracy: 0.7997 - val_loss: 0.4265 - val_accuracy: 0.7972\n",
      "Epoch 242/300\n",
      "450/450 [==============================] - 1s 1ms/step - loss: 0.4354 - accuracy: 0.8021 - val_loss: 0.4237 - val_accuracy: 0.8043\n",
      "Epoch 243/300\n",
      "450/450 [==============================] - 1s 1ms/step - loss: 0.4382 - accuracy: 0.7892 - val_loss: 0.4243 - val_accuracy: 0.8069\n",
      "Epoch 244/300\n",
      "450/450 [==============================] - 1s 1ms/step - loss: 0.4397 - accuracy: 0.7950 - val_loss: 0.4268 - val_accuracy: 0.7954\n",
      "Epoch 245/300\n",
      "450/450 [==============================] - 1s 1ms/step - loss: 0.4316 - accuracy: 0.7961 - val_loss: 0.4288 - val_accuracy: 0.7972\n",
      "Epoch 246/300\n",
      "450/450 [==============================] - 1s 1ms/step - loss: 0.4370 - accuracy: 0.7906 - val_loss: 0.4253 - val_accuracy: 0.8016\n",
      "Epoch 247/300\n",
      "450/450 [==============================] - 1s 2ms/step - loss: 0.4202 - accuracy: 0.7963 - val_loss: 0.4263 - val_accuracy: 0.8025\n",
      "Epoch 248/300\n",
      "450/450 [==============================] - 1s 2ms/step - loss: 0.4377 - accuracy: 0.7935 - val_loss: 0.4244 - val_accuracy: 0.8016\n",
      "Epoch 249/300\n",
      "450/450 [==============================] - 1s 2ms/step - loss: 0.4307 - accuracy: 0.7952 - val_loss: 0.4231 - val_accuracy: 0.8025\n",
      "Epoch 250/300\n",
      "450/450 [==============================] - 1s 2ms/step - loss: 0.4336 - accuracy: 0.7941 - val_loss: 0.4242 - val_accuracy: 0.8060\n",
      "Epoch 251/300\n",
      "450/450 [==============================] - 1s 1ms/step - loss: 0.4384 - accuracy: 0.7912 - val_loss: 0.4302 - val_accuracy: 0.7936\n",
      "Epoch 252/300\n",
      "450/450 [==============================] - 1s 2ms/step - loss: 0.4364 - accuracy: 0.7897 - val_loss: 0.4291 - val_accuracy: 0.7954\n",
      "Epoch 253/300\n",
      "450/450 [==============================] - 1s 2ms/step - loss: 0.4287 - accuracy: 0.7999 - val_loss: 0.4284 - val_accuracy: 0.7918\n",
      "Epoch 254/300\n",
      "450/450 [==============================] - 1s 2ms/step - loss: 0.4235 - accuracy: 0.8077 - val_loss: 0.4246 - val_accuracy: 0.7998\n",
      "Epoch 255/300\n",
      "450/450 [==============================] - 1s 2ms/step - loss: 0.4346 - accuracy: 0.7923 - val_loss: 0.4241 - val_accuracy: 0.8016\n",
      "Epoch 256/300\n",
      "450/450 [==============================] - 1s 1ms/step - loss: 0.4341 - accuracy: 0.7868 - val_loss: 0.4269 - val_accuracy: 0.7963\n",
      "Epoch 257/300\n",
      "450/450 [==============================] - 1s 1ms/step - loss: 0.4272 - accuracy: 0.7961 - val_loss: 0.4297 - val_accuracy: 0.7918\n",
      "Epoch 258/300\n",
      "450/450 [==============================] - 1s 1ms/step - loss: 0.4315 - accuracy: 0.7932 - val_loss: 0.4295 - val_accuracy: 0.7945\n",
      "Epoch 259/300\n",
      "450/450 [==============================] - 1s 2ms/step - loss: 0.4258 - accuracy: 0.7975 - val_loss: 0.4285 - val_accuracy: 0.7963\n",
      "Epoch 260/300\n",
      "450/450 [==============================] - 1s 1ms/step - loss: 0.4303 - accuracy: 0.7986 - val_loss: 0.4293 - val_accuracy: 0.7945\n",
      "Epoch 261/300\n",
      "450/450 [==============================] - 1s 1ms/step - loss: 0.4325 - accuracy: 0.8004 - val_loss: 0.4303 - val_accuracy: 0.7954\n",
      "Epoch 262/300\n",
      "450/450 [==============================] - 1s 1ms/step - loss: 0.4305 - accuracy: 0.7939 - val_loss: 0.4287 - val_accuracy: 0.8007\n",
      "Epoch 263/300\n",
      "450/450 [==============================] - 1s 2ms/step - loss: 0.4278 - accuracy: 0.8010 - val_loss: 0.4291 - val_accuracy: 0.7927\n",
      "Epoch 264/300\n",
      "450/450 [==============================] - 1s 2ms/step - loss: 0.4354 - accuracy: 0.7901 - val_loss: 0.4318 - val_accuracy: 0.7883\n",
      "Epoch 265/300\n",
      "450/450 [==============================] - 1s 1ms/step - loss: 0.4328 - accuracy: 0.7986 - val_loss: 0.4292 - val_accuracy: 0.7909\n",
      "Epoch 266/300\n",
      "450/450 [==============================] - 1s 1ms/step - loss: 0.4292 - accuracy: 0.7897 - val_loss: 0.4284 - val_accuracy: 0.7963\n",
      "Epoch 267/300\n",
      "450/450 [==============================] - 1s 2ms/step - loss: 0.4282 - accuracy: 0.7919 - val_loss: 0.4270 - val_accuracy: 0.7998\n",
      "Epoch 268/300\n",
      "450/450 [==============================] - 1s 1ms/step - loss: 0.4247 - accuracy: 0.8019 - val_loss: 0.4270 - val_accuracy: 0.7954\n",
      "Epoch 269/300\n",
      "450/450 [==============================] - 1s 1ms/step - loss: 0.4256 - accuracy: 0.8008 - val_loss: 0.4254 - val_accuracy: 0.8016\n",
      "Epoch 270/300\n",
      "450/450 [==============================] - 1s 1ms/step - loss: 0.4265 - accuracy: 0.8017 - val_loss: 0.4270 - val_accuracy: 0.7989\n",
      "Epoch 271/300\n",
      "450/450 [==============================] - 1s 1ms/step - loss: 0.4247 - accuracy: 0.7997 - val_loss: 0.4268 - val_accuracy: 0.8034\n",
      "Epoch 272/300\n",
      "450/450 [==============================] - 1s 1ms/step - loss: 0.4421 - accuracy: 0.7839 - val_loss: 0.4268 - val_accuracy: 0.8043\n",
      "Epoch 273/300\n",
      "450/450 [==============================] - 1s 1ms/step - loss: 0.4264 - accuracy: 0.7939 - val_loss: 0.4311 - val_accuracy: 0.7972\n",
      "Epoch 274/300\n",
      "450/450 [==============================] - 1s 1ms/step - loss: 0.4283 - accuracy: 0.7937 - val_loss: 0.4287 - val_accuracy: 0.7989\n",
      "Epoch 275/300\n",
      "450/450 [==============================] - 1s 1ms/step - loss: 0.4303 - accuracy: 0.7959 - val_loss: 0.4271 - val_accuracy: 0.8016\n",
      "Epoch 276/300\n",
      "450/450 [==============================] - 1s 2ms/step - loss: 0.4330 - accuracy: 0.7955 - val_loss: 0.4296 - val_accuracy: 0.7998\n",
      "Epoch 277/300\n",
      "450/450 [==============================] - 1s 2ms/step - loss: 0.4314 - accuracy: 0.7995 - val_loss: 0.4290 - val_accuracy: 0.7989\n",
      "Epoch 278/300\n",
      "450/450 [==============================] - 1s 1ms/step - loss: 0.4287 - accuracy: 0.7975 - val_loss: 0.4279 - val_accuracy: 0.8016\n",
      "Epoch 279/300\n",
      "450/450 [==============================] - 1s 1ms/step - loss: 0.4293 - accuracy: 0.8008 - val_loss: 0.4305 - val_accuracy: 0.7963\n",
      "Epoch 280/300\n",
      "450/450 [==============================] - 1s 1ms/step - loss: 0.4301 - accuracy: 0.7948 - val_loss: 0.4244 - val_accuracy: 0.8069\n",
      "Epoch 281/300\n",
      "450/450 [==============================] - 1s 1ms/step - loss: 0.4358 - accuracy: 0.7886 - val_loss: 0.4286 - val_accuracy: 0.7989\n",
      "Epoch 282/300\n",
      "450/450 [==============================] - 1s 2ms/step - loss: 0.4353 - accuracy: 0.7977 - val_loss: 0.4262 - val_accuracy: 0.8025\n",
      "Epoch 283/300\n",
      "450/450 [==============================] - 1s 1ms/step - loss: 0.4314 - accuracy: 0.8044 - val_loss: 0.4295 - val_accuracy: 0.7954\n",
      "Epoch 284/300\n",
      "450/450 [==============================] - 1s 2ms/step - loss: 0.4260 - accuracy: 0.7935 - val_loss: 0.4294 - val_accuracy: 0.7963\n",
      "Epoch 285/300\n",
      "450/450 [==============================] - 1s 1ms/step - loss: 0.4304 - accuracy: 0.7963 - val_loss: 0.4322 - val_accuracy: 0.7945\n",
      "Epoch 286/300\n",
      "450/450 [==============================] - 1s 1ms/step - loss: 0.4321 - accuracy: 0.7950 - val_loss: 0.4323 - val_accuracy: 0.7883\n",
      "Epoch 287/300\n",
      "450/450 [==============================] - 1s 2ms/step - loss: 0.4322 - accuracy: 0.7910 - val_loss: 0.4357 - val_accuracy: 0.7980\n",
      "Epoch 288/300\n",
      "450/450 [==============================] - 1s 2ms/step - loss: 0.4289 - accuracy: 0.8015 - val_loss: 0.4291 - val_accuracy: 0.7972\n",
      "Epoch 289/300\n",
      "450/450 [==============================] - 1s 1ms/step - loss: 0.4379 - accuracy: 0.7888 - val_loss: 0.4320 - val_accuracy: 0.7918\n",
      "Epoch 290/300\n",
      "450/450 [==============================] - 1s 1ms/step - loss: 0.4350 - accuracy: 0.7981 - val_loss: 0.4320 - val_accuracy: 0.7900\n",
      "Epoch 291/300\n",
      "450/450 [==============================] - 1s 1ms/step - loss: 0.4213 - accuracy: 0.8068 - val_loss: 0.4310 - val_accuracy: 0.7954\n",
      "Epoch 292/300\n",
      "450/450 [==============================] - 1s 1ms/step - loss: 0.4404 - accuracy: 0.7963 - val_loss: 0.4341 - val_accuracy: 0.7891\n",
      "Epoch 293/300\n",
      "450/450 [==============================] - 1s 1ms/step - loss: 0.4379 - accuracy: 0.7921 - val_loss: 0.4329 - val_accuracy: 0.7945\n",
      "Epoch 294/300\n",
      "450/450 [==============================] - 1s 1ms/step - loss: 0.4287 - accuracy: 0.7966 - val_loss: 0.4282 - val_accuracy: 0.7998\n",
      "Epoch 295/300\n",
      "450/450 [==============================] - 1s 1ms/step - loss: 0.4327 - accuracy: 0.7975 - val_loss: 0.4304 - val_accuracy: 0.7972\n",
      "Epoch 296/300\n",
      "450/450 [==============================] - 1s 2ms/step - loss: 0.4297 - accuracy: 0.8039 - val_loss: 0.4293 - val_accuracy: 0.7980\n",
      "Epoch 297/300\n",
      "450/450 [==============================] - 1s 1ms/step - loss: 0.4322 - accuracy: 0.7928 - val_loss: 0.4294 - val_accuracy: 0.8016\n",
      "Epoch 298/300\n",
      "450/450 [==============================] - 1s 1ms/step - loss: 0.4242 - accuracy: 0.8050 - val_loss: 0.4313 - val_accuracy: 0.7972\n",
      "Epoch 299/300\n",
      "450/450 [==============================] - 1s 2ms/step - loss: 0.4270 - accuracy: 0.7950 - val_loss: 0.4330 - val_accuracy: 0.7980\n",
      "Epoch 300/300\n",
      "450/450 [==============================] - 1s 2ms/step - loss: 0.4298 - accuracy: 0.7943 - val_loss: 0.4295 - val_accuracy: 0.8007\n"
     ]
    }
   ],
   "source": [
    "model = Sequential()\n",
    "model.add(Dense(20, input_shape=(19,), activation=\"relu\"))\n",
    "model.add(Dropout(0.5))\n",
    "model.add(Dense(20, activation=\"relu\"))\n",
    "model.add(Dropout(0.5))\n",
    "model.add(Dense(10, activation=\"relu\"))\n",
    "model.add(Dropout(0.5))\n",
    "model.add(Dense(1, activation=\"sigmoid\"))\n",
    "model.compile(optimizer = 'adam',\n",
    "              loss = 'binary_crossentropy',\n",
    "              metrics = ['accuracy']\n",
    ")\n",
    "\n",
    "history = model.fit(X_train_ok,y_train,epochs=300, batch_size=10, validation_data=(X_val_ok, y_val))"
   ]
  },
  {
   "cell_type": "code",
   "execution_count": 72,
   "id": "dc5a6jM1FHkw",
   "metadata": {
    "colab": {
     "base_uri": "https://localhost:8080/",
     "height": 267
    },
    "id": "dc5a6jM1FHkw",
    "outputId": "e7e91f41-4de4-4d76-b89a-edabcf80e985"
   },
   "outputs": [
    {
     "data": {
      "image/png": "[encoded data removed]",
      "text/plain": [
       "<Figure size 432x288 with 1 Axes>"
      ]
     },
     "metadata": {
      "needs_background": "light"
     },
     "output_type": "display_data"
    }
   ],
   "source": [
    "metrics = pd.DataFrame(history.history)\n",
    "metrics[['loss', 'val_loss']].plot();"
   ]
  },
  {
   "cell_type": "markdown",
   "id": "o-RqL1Cb9qUp",
   "metadata": {
    "id": "o-RqL1Cb9qUp"
   },
   "source": [
    "We can see from the graph that the performance is way better than the previous Functional API"
   ]
  },
  {
   "cell_type": "code",
   "execution_count": 73,
   "id": "D0tKSs0Erql_",
   "metadata": {
    "id": "D0tKSs0Erql_"
   },
   "outputs": [],
   "source": [
    "y_pred = model.predict(X_test_ok)\n",
    "y_pred = np.where(y_pred < 0.5, 0, 1).squeeze()"
   ]
  },
  {
   "cell_type": "code",
   "execution_count": 74,
   "id": "rCjVmx53thnT",
   "metadata": {
    "id": "rCjVmx53thnT"
   },
   "outputs": [],
   "source": [
    "from sklearn.metrics import classification_report"
   ]
  },
  {
   "cell_type": "code",
   "execution_count": 75,
   "id": "_xIk_m6vtclc",
   "metadata": {
    "colab": {
     "base_uri": "https://localhost:8080/"
    },
    "id": "_xIk_m6vtclc",
    "outputId": "0318ccb1-e10d-4317-cdea-abd6e704b80f"
   },
   "outputs": [
    {
     "name": "stdout",
     "output_type": "stream",
     "text": [
      "              precision    recall  f1-score   support\n",
      "\n",
      "           0       0.82      0.88      0.85      1031\n",
      "           1       0.58      0.47      0.52       374\n",
      "\n",
      "    accuracy                           0.77      1405\n",
      "   macro avg       0.70      0.67      0.69      1405\n",
      "weighted avg       0.76      0.77      0.76      1405\n",
      "\n"
     ]
    }
   ],
   "source": [
    "print(classification_report(y_test, y_pred))"
   ]
  },
  {
   "cell_type": "markdown",
   "id": "6HwzwYpsYZpS",
   "metadata": {
    "id": "6HwzwYpsYZpS"
   },
   "source": [
    "### Using Pipeline"
   ]
  },
  {
   "cell_type": "code",
   "execution_count": 76,
   "id": "2d83258a",
   "metadata": {},
   "outputs": [],
   "source": [
    "import tensorflow as tf\n",
    "from tensorflow import keras"
   ]
  },
  {
   "cell_type": "code",
   "execution_count": 77,
   "id": "HOwA9NUiSoaG",
   "metadata": {
    "colab": {
     "base_uri": "https://localhost:8080/"
    },
    "id": "HOwA9NUiSoaG",
    "outputId": "382a3945-7299-4e0c-d6ad-fdf38d2013e9"
   },
   "outputs": [
    {
     "name": "stdout",
     "output_type": "stream",
     "text": [
      "Epoch 1/300\n",
      "45/45 [==============================] - 1s 4ms/step - loss: 0.6792 - accuracy: 0.5916 - val_loss: 0.6040 - val_accuracy: 0.7571\n",
      "Epoch 2/300\n",
      "45/45 [==============================] - 0s 2ms/step - loss: 0.6333 - accuracy: 0.6844 - val_loss: 0.5624 - val_accuracy: 0.7527\n",
      "Epoch 3/300\n",
      "45/45 [==============================] - 0s 2ms/step - loss: 0.6017 - accuracy: 0.7153 - val_loss: 0.5304 - val_accuracy: 0.7518\n",
      "Epoch 4/300\n",
      "45/45 [==============================] - 0s 2ms/step - loss: 0.5794 - accuracy: 0.7169 - val_loss: 0.5101 - val_accuracy: 0.7464\n",
      "Epoch 5/300\n",
      "45/45 [==============================] - 0s 2ms/step - loss: 0.5672 - accuracy: 0.7258 - val_loss: 0.4962 - val_accuracy: 0.7456\n",
      "Epoch 6/300\n",
      "45/45 [==============================] - 0s 2ms/step - loss: 0.5467 - accuracy: 0.7282 - val_loss: 0.4796 - val_accuracy: 0.7464\n",
      "Epoch 7/300\n",
      "45/45 [==============================] - 0s 2ms/step - loss: 0.5469 - accuracy: 0.7325 - val_loss: 0.4748 - val_accuracy: 0.7464\n",
      "Epoch 8/300\n",
      "45/45 [==============================] - 0s 2ms/step - loss: 0.5345 - accuracy: 0.7327 - val_loss: 0.4680 - val_accuracy: 0.7464\n",
      "Epoch 9/300\n",
      "45/45 [==============================] - 0s 3ms/step - loss: 0.5249 - accuracy: 0.7378 - val_loss: 0.4617 - val_accuracy: 0.7447\n",
      "Epoch 10/300\n",
      "45/45 [==============================] - 0s 3ms/step - loss: 0.5205 - accuracy: 0.7316 - val_loss: 0.4584 - val_accuracy: 0.7447\n",
      "Epoch 11/300\n",
      "45/45 [==============================] - 0s 2ms/step - loss: 0.5278 - accuracy: 0.7434 - val_loss: 0.4587 - val_accuracy: 0.7527\n",
      "Epoch 12/300\n",
      "45/45 [==============================] - 0s 2ms/step - loss: 0.5112 - accuracy: 0.7481 - val_loss: 0.4548 - val_accuracy: 0.7571\n",
      "Epoch 13/300\n",
      "45/45 [==============================] - 0s 2ms/step - loss: 0.5119 - accuracy: 0.7420 - val_loss: 0.4506 - val_accuracy: 0.7589\n",
      "Epoch 14/300\n",
      "45/45 [==============================] - 0s 2ms/step - loss: 0.5085 - accuracy: 0.7478 - val_loss: 0.4508 - val_accuracy: 0.7633\n",
      "Epoch 15/300\n",
      "45/45 [==============================] - 0s 2ms/step - loss: 0.5075 - accuracy: 0.7456 - val_loss: 0.4500 - val_accuracy: 0.7669\n",
      "Epoch 16/300\n",
      "45/45 [==============================] - 0s 2ms/step - loss: 0.4852 - accuracy: 0.7481 - val_loss: 0.4451 - val_accuracy: 0.7740\n",
      "Epoch 17/300\n",
      "45/45 [==============================] - 0s 2ms/step - loss: 0.4943 - accuracy: 0.7492 - val_loss: 0.4448 - val_accuracy: 0.7722\n",
      "Epoch 18/300\n",
      "45/45 [==============================] - 0s 2ms/step - loss: 0.4924 - accuracy: 0.7550 - val_loss: 0.4447 - val_accuracy: 0.7838\n",
      "Epoch 19/300\n",
      "45/45 [==============================] - 0s 2ms/step - loss: 0.4946 - accuracy: 0.7532 - val_loss: 0.4443 - val_accuracy: 0.7811\n",
      "Epoch 20/300\n",
      "45/45 [==============================] - 0s 2ms/step - loss: 0.4870 - accuracy: 0.7501 - val_loss: 0.4432 - val_accuracy: 0.7740\n",
      "Epoch 21/300\n",
      "45/45 [==============================] - 0s 2ms/step - loss: 0.4932 - accuracy: 0.7529 - val_loss: 0.4453 - val_accuracy: 0.7811\n",
      "Epoch 22/300\n",
      "45/45 [==============================] - 0s 2ms/step - loss: 0.4752 - accuracy: 0.7581 - val_loss: 0.4422 - val_accuracy: 0.7883\n",
      "Epoch 23/300\n",
      "45/45 [==============================] - 0s 2ms/step - loss: 0.4784 - accuracy: 0.7621 - val_loss: 0.4402 - val_accuracy: 0.7918\n",
      "Epoch 24/300\n",
      "45/45 [==============================] - 0s 2ms/step - loss: 0.4880 - accuracy: 0.7590 - val_loss: 0.4408 - val_accuracy: 0.7883\n",
      "Epoch 25/300\n",
      "45/45 [==============================] - 0s 2ms/step - loss: 0.4743 - accuracy: 0.7614 - val_loss: 0.4390 - val_accuracy: 0.7909\n",
      "Epoch 26/300\n",
      "45/45 [==============================] - 0s 2ms/step - loss: 0.4694 - accuracy: 0.7596 - val_loss: 0.4390 - val_accuracy: 0.7883\n",
      "Epoch 27/300\n",
      "45/45 [==============================] - 0s 2ms/step - loss: 0.4823 - accuracy: 0.7576 - val_loss: 0.4398 - val_accuracy: 0.7918\n",
      "Epoch 28/300\n",
      "45/45 [==============================] - 0s 2ms/step - loss: 0.4734 - accuracy: 0.7603 - val_loss: 0.4384 - val_accuracy: 0.7918\n",
      "Epoch 29/300\n",
      "45/45 [==============================] - 0s 2ms/step - loss: 0.4808 - accuracy: 0.7570 - val_loss: 0.4393 - val_accuracy: 0.7865\n",
      "Epoch 30/300\n",
      "45/45 [==============================] - 0s 2ms/step - loss: 0.4727 - accuracy: 0.7665 - val_loss: 0.4378 - val_accuracy: 0.7945\n",
      "Epoch 31/300\n",
      "45/45 [==============================] - 0s 3ms/step - loss: 0.4780 - accuracy: 0.7656 - val_loss: 0.4380 - val_accuracy: 0.7945\n",
      "Epoch 32/300\n",
      "45/45 [==============================] - 0s 2ms/step - loss: 0.4667 - accuracy: 0.7699 - val_loss: 0.4366 - val_accuracy: 0.7945\n",
      "Epoch 33/300\n",
      "45/45 [==============================] - 0s 2ms/step - loss: 0.4742 - accuracy: 0.7616 - val_loss: 0.4369 - val_accuracy: 0.7980\n",
      "Epoch 34/300\n",
      "45/45 [==============================] - 0s 2ms/step - loss: 0.4652 - accuracy: 0.7632 - val_loss: 0.4362 - val_accuracy: 0.7936\n",
      "Epoch 35/300\n",
      "45/45 [==============================] - 0s 2ms/step - loss: 0.4658 - accuracy: 0.7596 - val_loss: 0.4350 - val_accuracy: 0.8034\n",
      "Epoch 36/300\n",
      "45/45 [==============================] - 0s 2ms/step - loss: 0.4701 - accuracy: 0.7630 - val_loss: 0.4352 - val_accuracy: 0.7998\n",
      "Epoch 37/300\n",
      "45/45 [==============================] - 0s 2ms/step - loss: 0.4602 - accuracy: 0.7645 - val_loss: 0.4338 - val_accuracy: 0.8025\n",
      "Epoch 38/300\n",
      "45/45 [==============================] - 0s 2ms/step - loss: 0.4664 - accuracy: 0.7667 - val_loss: 0.4340 - val_accuracy: 0.8087\n",
      "Epoch 39/300\n",
      "45/45 [==============================] - 0s 2ms/step - loss: 0.4654 - accuracy: 0.7650 - val_loss: 0.4339 - val_accuracy: 0.8078\n",
      "Epoch 40/300\n",
      "45/45 [==============================] - 0s 2ms/step - loss: 0.4686 - accuracy: 0.7748 - val_loss: 0.4339 - val_accuracy: 0.8096\n",
      "Epoch 41/300\n",
      "45/45 [==============================] - 0s 2ms/step - loss: 0.4690 - accuracy: 0.7614 - val_loss: 0.4343 - val_accuracy: 0.8052\n",
      "Epoch 42/300\n",
      "45/45 [==============================] - 0s 2ms/step - loss: 0.4661 - accuracy: 0.7661 - val_loss: 0.4338 - val_accuracy: 0.8025\n",
      "Epoch 43/300\n",
      "45/45 [==============================] - 0s 2ms/step - loss: 0.4676 - accuracy: 0.7654 - val_loss: 0.4336 - val_accuracy: 0.8025\n",
      "Epoch 44/300\n",
      "45/45 [==============================] - 0s 2ms/step - loss: 0.4642 - accuracy: 0.7723 - val_loss: 0.4323 - val_accuracy: 0.8096\n",
      "Epoch 45/300\n",
      "45/45 [==============================] - 0s 3ms/step - loss: 0.4604 - accuracy: 0.7701 - val_loss: 0.4321 - val_accuracy: 0.8069\n",
      "Epoch 46/300\n",
      "45/45 [==============================] - 0s 3ms/step - loss: 0.4609 - accuracy: 0.7761 - val_loss: 0.4312 - val_accuracy: 0.8052\n",
      "Epoch 47/300\n",
      "45/45 [==============================] - 0s 3ms/step - loss: 0.4590 - accuracy: 0.7745 - val_loss: 0.4297 - val_accuracy: 0.8078\n",
      "Epoch 48/300\n",
      "45/45 [==============================] - 0s 3ms/step - loss: 0.4597 - accuracy: 0.7759 - val_loss: 0.4312 - val_accuracy: 0.8069\n",
      "Epoch 49/300\n",
      "45/45 [==============================] - 0s 3ms/step - loss: 0.4603 - accuracy: 0.7663 - val_loss: 0.4319 - val_accuracy: 0.8052\n",
      "Epoch 50/300\n",
      "45/45 [==============================] - 0s 3ms/step - loss: 0.4548 - accuracy: 0.7752 - val_loss: 0.4304 - val_accuracy: 0.8087\n",
      "Epoch 51/300\n",
      "45/45 [==============================] - 0s 3ms/step - loss: 0.4603 - accuracy: 0.7721 - val_loss: 0.4299 - val_accuracy: 0.8105\n",
      "Epoch 52/300\n",
      "45/45 [==============================] - 0s 2ms/step - loss: 0.4631 - accuracy: 0.7643 - val_loss: 0.4303 - val_accuracy: 0.8043\n",
      "Epoch 53/300\n",
      "45/45 [==============================] - 0s 2ms/step - loss: 0.4584 - accuracy: 0.7701 - val_loss: 0.4302 - val_accuracy: 0.8096\n",
      "Epoch 54/300\n",
      "45/45 [==============================] - 0s 2ms/step - loss: 0.4570 - accuracy: 0.7752 - val_loss: 0.4292 - val_accuracy: 0.8096\n",
      "Epoch 55/300\n",
      "45/45 [==============================] - 0s 2ms/step - loss: 0.4562 - accuracy: 0.7770 - val_loss: 0.4290 - val_accuracy: 0.8114\n",
      "Epoch 56/300\n",
      "45/45 [==============================] - 0s 3ms/step - loss: 0.4536 - accuracy: 0.7830 - val_loss: 0.4289 - val_accuracy: 0.8078\n",
      "Epoch 57/300\n",
      "45/45 [==============================] - 0s 2ms/step - loss: 0.4511 - accuracy: 0.7777 - val_loss: 0.4277 - val_accuracy: 0.8087\n",
      "Epoch 58/300\n",
      "45/45 [==============================] - 0s 2ms/step - loss: 0.4417 - accuracy: 0.7754 - val_loss: 0.4275 - val_accuracy: 0.8069\n",
      "Epoch 59/300\n",
      "45/45 [==============================] - 0s 2ms/step - loss: 0.4516 - accuracy: 0.7757 - val_loss: 0.4279 - val_accuracy: 0.8069\n",
      "Epoch 60/300\n",
      "45/45 [==============================] - 0s 3ms/step - loss: 0.4561 - accuracy: 0.7757 - val_loss: 0.4293 - val_accuracy: 0.8069\n",
      "Epoch 61/300\n",
      "45/45 [==============================] - 0s 2ms/step - loss: 0.4507 - accuracy: 0.7794 - val_loss: 0.4289 - val_accuracy: 0.8096\n",
      "Epoch 62/300\n",
      "45/45 [==============================] - 0s 2ms/step - loss: 0.4563 - accuracy: 0.7708 - val_loss: 0.4311 - val_accuracy: 0.8087\n",
      "Epoch 63/300\n",
      "45/45 [==============================] - 0s 2ms/step - loss: 0.4494 - accuracy: 0.7705 - val_loss: 0.4294 - val_accuracy: 0.8096\n",
      "Epoch 64/300\n",
      "45/45 [==============================] - 0s 2ms/step - loss: 0.4443 - accuracy: 0.7852 - val_loss: 0.4280 - val_accuracy: 0.8096\n",
      "Epoch 65/300\n",
      "45/45 [==============================] - 0s 2ms/step - loss: 0.4493 - accuracy: 0.7814 - val_loss: 0.4278 - val_accuracy: 0.8096\n",
      "Epoch 66/300\n",
      "45/45 [==============================] - 0s 2ms/step - loss: 0.4523 - accuracy: 0.7794 - val_loss: 0.4273 - val_accuracy: 0.8087\n",
      "Epoch 67/300\n",
      "45/45 [==============================] - 0s 2ms/step - loss: 0.4515 - accuracy: 0.7846 - val_loss: 0.4274 - val_accuracy: 0.8096\n",
      "Epoch 68/300\n",
      "45/45 [==============================] - 0s 2ms/step - loss: 0.4501 - accuracy: 0.7803 - val_loss: 0.4279 - val_accuracy: 0.8087\n",
      "Epoch 69/300\n",
      "45/45 [==============================] - 0s 3ms/step - loss: 0.4501 - accuracy: 0.7792 - val_loss: 0.4273 - val_accuracy: 0.8078\n",
      "Epoch 70/300\n",
      "45/45 [==============================] - 0s 3ms/step - loss: 0.4443 - accuracy: 0.7808 - val_loss: 0.4265 - val_accuracy: 0.8087\n",
      "Epoch 71/300\n",
      "45/45 [==============================] - 0s 3ms/step - loss: 0.4512 - accuracy: 0.7808 - val_loss: 0.4267 - val_accuracy: 0.8087\n",
      "Epoch 72/300\n",
      "45/45 [==============================] - 0s 3ms/step - loss: 0.4454 - accuracy: 0.7868 - val_loss: 0.4266 - val_accuracy: 0.8069\n",
      "Epoch 73/300\n",
      "45/45 [==============================] - 0s 3ms/step - loss: 0.4512 - accuracy: 0.7830 - val_loss: 0.4270 - val_accuracy: 0.8060\n",
      "Epoch 74/300\n",
      "45/45 [==============================] - 0s 3ms/step - loss: 0.4526 - accuracy: 0.7803 - val_loss: 0.4274 - val_accuracy: 0.8052\n",
      "Epoch 75/300\n",
      "45/45 [==============================] - 0s 3ms/step - loss: 0.4447 - accuracy: 0.7757 - val_loss: 0.4277 - val_accuracy: 0.8052\n",
      "Epoch 76/300\n",
      "45/45 [==============================] - 0s 3ms/step - loss: 0.4479 - accuracy: 0.7810 - val_loss: 0.4271 - val_accuracy: 0.8060\n",
      "Epoch 77/300\n",
      "45/45 [==============================] - 0s 3ms/step - loss: 0.4421 - accuracy: 0.7812 - val_loss: 0.4280 - val_accuracy: 0.8043\n",
      "Epoch 78/300\n",
      "45/45 [==============================] - 0s 3ms/step - loss: 0.4518 - accuracy: 0.7761 - val_loss: 0.4280 - val_accuracy: 0.8025\n",
      "Epoch 79/300\n",
      "45/45 [==============================] - 0s 3ms/step - loss: 0.4466 - accuracy: 0.7748 - val_loss: 0.4275 - val_accuracy: 0.8025\n",
      "Epoch 80/300\n",
      "45/45 [==============================] - 0s 3ms/step - loss: 0.4406 - accuracy: 0.7874 - val_loss: 0.4261 - val_accuracy: 0.8060\n",
      "Epoch 81/300\n",
      "45/45 [==============================] - 0s 3ms/step - loss: 0.4538 - accuracy: 0.7812 - val_loss: 0.4259 - val_accuracy: 0.8078\n",
      "Epoch 82/300\n",
      "45/45 [==============================] - 0s 3ms/step - loss: 0.4479 - accuracy: 0.7852 - val_loss: 0.4266 - val_accuracy: 0.8043\n",
      "Epoch 83/300\n",
      "45/45 [==============================] - 0s 3ms/step - loss: 0.4450 - accuracy: 0.7779 - val_loss: 0.4261 - val_accuracy: 0.8043\n",
      "Epoch 84/300\n",
      "45/45 [==============================] - 0s 3ms/step - loss: 0.4416 - accuracy: 0.7859 - val_loss: 0.4263 - val_accuracy: 0.8060\n",
      "Epoch 85/300\n",
      "45/45 [==============================] - 0s 3ms/step - loss: 0.4453 - accuracy: 0.7777 - val_loss: 0.4271 - val_accuracy: 0.8043\n",
      "Epoch 86/300\n",
      "45/45 [==============================] - 0s 3ms/step - loss: 0.4434 - accuracy: 0.7892 - val_loss: 0.4271 - val_accuracy: 0.8087\n",
      "Epoch 87/300\n",
      "45/45 [==============================] - 0s 3ms/step - loss: 0.4361 - accuracy: 0.7928 - val_loss: 0.4253 - val_accuracy: 0.8069\n",
      "Epoch 88/300\n",
      "45/45 [==============================] - 0s 3ms/step - loss: 0.4368 - accuracy: 0.7888 - val_loss: 0.4265 - val_accuracy: 0.8078\n",
      "Epoch 89/300\n",
      "45/45 [==============================] - 0s 3ms/step - loss: 0.4431 - accuracy: 0.7781 - val_loss: 0.4255 - val_accuracy: 0.8096\n",
      "Epoch 90/300\n",
      "45/45 [==============================] - 0s 3ms/step - loss: 0.4442 - accuracy: 0.7832 - val_loss: 0.4254 - val_accuracy: 0.8105\n",
      "Epoch 91/300\n",
      "45/45 [==============================] - 0s 3ms/step - loss: 0.4517 - accuracy: 0.7814 - val_loss: 0.4267 - val_accuracy: 0.8096\n",
      "Epoch 92/300\n",
      "45/45 [==============================] - 0s 3ms/step - loss: 0.4491 - accuracy: 0.7846 - val_loss: 0.4264 - val_accuracy: 0.8052\n",
      "Epoch 93/300\n",
      "45/45 [==============================] - 0s 3ms/step - loss: 0.4417 - accuracy: 0.7817 - val_loss: 0.4260 - val_accuracy: 0.8060\n",
      "Epoch 94/300\n",
      "45/45 [==============================] - 0s 3ms/step - loss: 0.4465 - accuracy: 0.7819 - val_loss: 0.4250 - val_accuracy: 0.8078\n",
      "Epoch 95/300\n",
      "45/45 [==============================] - 0s 3ms/step - loss: 0.4460 - accuracy: 0.7812 - val_loss: 0.4249 - val_accuracy: 0.8069\n",
      "Epoch 96/300\n",
      "45/45 [==============================] - 0s 3ms/step - loss: 0.4455 - accuracy: 0.7821 - val_loss: 0.4248 - val_accuracy: 0.8052\n",
      "Epoch 97/300\n",
      "45/45 [==============================] - 0s 3ms/step - loss: 0.4470 - accuracy: 0.7763 - val_loss: 0.4258 - val_accuracy: 0.8043\n",
      "Epoch 98/300\n",
      "45/45 [==============================] - 0s 3ms/step - loss: 0.4493 - accuracy: 0.7863 - val_loss: 0.4262 - val_accuracy: 0.8052\n",
      "Epoch 99/300\n",
      "45/45 [==============================] - 0s 3ms/step - loss: 0.4422 - accuracy: 0.7839 - val_loss: 0.4258 - val_accuracy: 0.8096\n",
      "Epoch 100/300\n",
      "45/45 [==============================] - 0s 3ms/step - loss: 0.4504 - accuracy: 0.7772 - val_loss: 0.4263 - val_accuracy: 0.8060\n",
      "Epoch 101/300\n",
      "45/45 [==============================] - 0s 3ms/step - loss: 0.4439 - accuracy: 0.7872 - val_loss: 0.4247 - val_accuracy: 0.8087\n",
      "Epoch 102/300\n",
      "45/45 [==============================] - 0s 3ms/step - loss: 0.4424 - accuracy: 0.7821 - val_loss: 0.4267 - val_accuracy: 0.8025\n",
      "Epoch 103/300\n",
      "45/45 [==============================] - 0s 3ms/step - loss: 0.4412 - accuracy: 0.7846 - val_loss: 0.4256 - val_accuracy: 0.8025\n",
      "Epoch 104/300\n",
      "45/45 [==============================] - 0s 3ms/step - loss: 0.4433 - accuracy: 0.7859 - val_loss: 0.4245 - val_accuracy: 0.8025\n",
      "Epoch 105/300\n",
      "45/45 [==============================] - 0s 3ms/step - loss: 0.4344 - accuracy: 0.7883 - val_loss: 0.4245 - val_accuracy: 0.8025\n",
      "Epoch 106/300\n",
      "45/45 [==============================] - 0s 3ms/step - loss: 0.4415 - accuracy: 0.7821 - val_loss: 0.4263 - val_accuracy: 0.8034\n",
      "Epoch 107/300\n",
      "45/45 [==============================] - 0s 3ms/step - loss: 0.4283 - accuracy: 0.7952 - val_loss: 0.4265 - val_accuracy: 0.7989\n",
      "Epoch 108/300\n",
      "45/45 [==============================] - 0s 3ms/step - loss: 0.4431 - accuracy: 0.7819 - val_loss: 0.4250 - val_accuracy: 0.8052\n",
      "Epoch 109/300\n",
      "45/45 [==============================] - 0s 3ms/step - loss: 0.4390 - accuracy: 0.7883 - val_loss: 0.4251 - val_accuracy: 0.8025\n",
      "Epoch 110/300\n",
      "45/45 [==============================] - 0s 3ms/step - loss: 0.4473 - accuracy: 0.7779 - val_loss: 0.4241 - val_accuracy: 0.8078\n",
      "Epoch 111/300\n",
      "45/45 [==============================] - 0s 3ms/step - loss: 0.4382 - accuracy: 0.7857 - val_loss: 0.4234 - val_accuracy: 0.8096\n",
      "Epoch 112/300\n",
      "45/45 [==============================] - 0s 3ms/step - loss: 0.4369 - accuracy: 0.7877 - val_loss: 0.4253 - val_accuracy: 0.8078\n",
      "Epoch 113/300\n",
      "45/45 [==============================] - 0s 3ms/step - loss: 0.4399 - accuracy: 0.7852 - val_loss: 0.4258 - val_accuracy: 0.8069\n",
      "Epoch 114/300\n",
      "45/45 [==============================] - 0s 3ms/step - loss: 0.4407 - accuracy: 0.7837 - val_loss: 0.4252 - val_accuracy: 0.8025\n",
      "Epoch 115/300\n",
      "45/45 [==============================] - 0s 4ms/step - loss: 0.4403 - accuracy: 0.7850 - val_loss: 0.4259 - val_accuracy: 0.8052\n",
      "Epoch 116/300\n",
      "45/45 [==============================] - 0s 3ms/step - loss: 0.4427 - accuracy: 0.7859 - val_loss: 0.4249 - val_accuracy: 0.8007\n",
      "Epoch 117/300\n",
      "45/45 [==============================] - 0s 3ms/step - loss: 0.4401 - accuracy: 0.7886 - val_loss: 0.4256 - val_accuracy: 0.8007\n",
      "Epoch 118/300\n",
      "45/45 [==============================] - 0s 3ms/step - loss: 0.4392 - accuracy: 0.7863 - val_loss: 0.4247 - val_accuracy: 0.8069\n",
      "Epoch 119/300\n",
      "45/45 [==============================] - 0s 3ms/step - loss: 0.4408 - accuracy: 0.7826 - val_loss: 0.4247 - val_accuracy: 0.8052\n",
      "Epoch 120/300\n",
      "45/45 [==============================] - 0s 3ms/step - loss: 0.4317 - accuracy: 0.7872 - val_loss: 0.4263 - val_accuracy: 0.8025\n",
      "Epoch 121/300\n",
      "45/45 [==============================] - 0s 3ms/step - loss: 0.4289 - accuracy: 0.7912 - val_loss: 0.4267 - val_accuracy: 0.8025\n",
      "Epoch 122/300\n",
      "45/45 [==============================] - 0s 3ms/step - loss: 0.4365 - accuracy: 0.7892 - val_loss: 0.4258 - val_accuracy: 0.8016\n",
      "Epoch 123/300\n",
      "45/45 [==============================] - 0s 3ms/step - loss: 0.4410 - accuracy: 0.7890 - val_loss: 0.4256 - val_accuracy: 0.7980\n",
      "Epoch 124/300\n",
      "45/45 [==============================] - 0s 3ms/step - loss: 0.4392 - accuracy: 0.7841 - val_loss: 0.4263 - val_accuracy: 0.7980\n",
      "Epoch 125/300\n",
      "45/45 [==============================] - 0s 3ms/step - loss: 0.4315 - accuracy: 0.7863 - val_loss: 0.4255 - val_accuracy: 0.8025\n",
      "Epoch 126/300\n",
      "45/45 [==============================] - 0s 3ms/step - loss: 0.4351 - accuracy: 0.7890 - val_loss: 0.4259 - val_accuracy: 0.8007\n",
      "Epoch 127/300\n",
      "45/45 [==============================] - 0s 3ms/step - loss: 0.4343 - accuracy: 0.7903 - val_loss: 0.4260 - val_accuracy: 0.7972\n",
      "Epoch 128/300\n",
      "45/45 [==============================] - 0s 3ms/step - loss: 0.4342 - accuracy: 0.7941 - val_loss: 0.4267 - val_accuracy: 0.7954\n",
      "Epoch 129/300\n",
      "45/45 [==============================] - 0s 3ms/step - loss: 0.4494 - accuracy: 0.7801 - val_loss: 0.4245 - val_accuracy: 0.8016\n",
      "Epoch 130/300\n",
      "45/45 [==============================] - 0s 3ms/step - loss: 0.4393 - accuracy: 0.7854 - val_loss: 0.4263 - val_accuracy: 0.7980\n",
      "Epoch 131/300\n",
      "45/45 [==============================] - 0s 3ms/step - loss: 0.4397 - accuracy: 0.7895 - val_loss: 0.4254 - val_accuracy: 0.8025\n",
      "Epoch 132/300\n",
      "45/45 [==============================] - 0s 3ms/step - loss: 0.4382 - accuracy: 0.7877 - val_loss: 0.4261 - val_accuracy: 0.7963\n",
      "Epoch 133/300\n",
      "45/45 [==============================] - 0s 3ms/step - loss: 0.4379 - accuracy: 0.7866 - val_loss: 0.4265 - val_accuracy: 0.7945\n",
      "Epoch 134/300\n",
      "45/45 [==============================] - 0s 3ms/step - loss: 0.4350 - accuracy: 0.7901 - val_loss: 0.4262 - val_accuracy: 0.7998\n",
      "Epoch 135/300\n",
      "45/45 [==============================] - 0s 3ms/step - loss: 0.4379 - accuracy: 0.7895 - val_loss: 0.4263 - val_accuracy: 0.7972\n",
      "Epoch 136/300\n",
      "45/45 [==============================] - 0s 3ms/step - loss: 0.4301 - accuracy: 0.7901 - val_loss: 0.4265 - val_accuracy: 0.8034\n",
      "Epoch 137/300\n",
      "45/45 [==============================] - 0s 4ms/step - loss: 0.4384 - accuracy: 0.7874 - val_loss: 0.4257 - val_accuracy: 0.7980\n",
      "Epoch 138/300\n",
      "45/45 [==============================] - 0s 3ms/step - loss: 0.4352 - accuracy: 0.7921 - val_loss: 0.4260 - val_accuracy: 0.7945\n",
      "Epoch 139/300\n",
      "45/45 [==============================] - 0s 3ms/step - loss: 0.4392 - accuracy: 0.7883 - val_loss: 0.4246 - val_accuracy: 0.7998\n",
      "Epoch 140/300\n",
      "45/45 [==============================] - 0s 3ms/step - loss: 0.4377 - accuracy: 0.7870 - val_loss: 0.4237 - val_accuracy: 0.8025\n",
      "Epoch 141/300\n",
      "45/45 [==============================] - 0s 3ms/step - loss: 0.4401 - accuracy: 0.7843 - val_loss: 0.4257 - val_accuracy: 0.7963\n",
      "Epoch 142/300\n",
      "45/45 [==============================] - 0s 3ms/step - loss: 0.4405 - accuracy: 0.7846 - val_loss: 0.4252 - val_accuracy: 0.7954\n",
      "Epoch 143/300\n",
      "45/45 [==============================] - 0s 3ms/step - loss: 0.4332 - accuracy: 0.7854 - val_loss: 0.4256 - val_accuracy: 0.7963\n",
      "Epoch 144/300\n",
      "45/45 [==============================] - 0s 2ms/step - loss: 0.4345 - accuracy: 0.7852 - val_loss: 0.4268 - val_accuracy: 0.7963\n",
      "Epoch 145/300\n",
      "45/45 [==============================] - 0s 3ms/step - loss: 0.4391 - accuracy: 0.7955 - val_loss: 0.4250 - val_accuracy: 0.7998\n",
      "Epoch 146/300\n",
      "45/45 [==============================] - 0s 3ms/step - loss: 0.4324 - accuracy: 0.7883 - val_loss: 0.4246 - val_accuracy: 0.8043\n",
      "Epoch 147/300\n",
      "45/45 [==============================] - 0s 3ms/step - loss: 0.4301 - accuracy: 0.7957 - val_loss: 0.4245 - val_accuracy: 0.8025\n",
      "Epoch 148/300\n",
      "45/45 [==============================] - 0s 2ms/step - loss: 0.4380 - accuracy: 0.7899 - val_loss: 0.4254 - val_accuracy: 0.7989\n",
      "Epoch 149/300\n",
      "45/45 [==============================] - 0s 2ms/step - loss: 0.4340 - accuracy: 0.7906 - val_loss: 0.4249 - val_accuracy: 0.7998\n",
      "Epoch 150/300\n",
      "45/45 [==============================] - 0s 3ms/step - loss: 0.4296 - accuracy: 0.7892 - val_loss: 0.4268 - val_accuracy: 0.7998\n",
      "Epoch 151/300\n",
      "45/45 [==============================] - 0s 3ms/step - loss: 0.4296 - accuracy: 0.7883 - val_loss: 0.4263 - val_accuracy: 0.7945\n",
      "Epoch 152/300\n",
      "45/45 [==============================] - 0s 2ms/step - loss: 0.4390 - accuracy: 0.7963 - val_loss: 0.4240 - val_accuracy: 0.7954\n",
      "Epoch 153/300\n",
      "45/45 [==============================] - 0s 2ms/step - loss: 0.4252 - accuracy: 0.7959 - val_loss: 0.4235 - val_accuracy: 0.7989\n",
      "Epoch 154/300\n",
      "45/45 [==============================] - 0s 3ms/step - loss: 0.4324 - accuracy: 0.7915 - val_loss: 0.4237 - val_accuracy: 0.8069\n",
      "Epoch 155/300\n",
      "45/45 [==============================] - 0s 2ms/step - loss: 0.4315 - accuracy: 0.7923 - val_loss: 0.4241 - val_accuracy: 0.8025\n",
      "Epoch 156/300\n",
      "45/45 [==============================] - 0s 3ms/step - loss: 0.4314 - accuracy: 0.7946 - val_loss: 0.4261 - val_accuracy: 0.7954\n",
      "Epoch 157/300\n",
      "45/45 [==============================] - 0s 3ms/step - loss: 0.4366 - accuracy: 0.7915 - val_loss: 0.4243 - val_accuracy: 0.7980\n",
      "Epoch 158/300\n",
      "45/45 [==============================] - 0s 3ms/step - loss: 0.4427 - accuracy: 0.7823 - val_loss: 0.4251 - val_accuracy: 0.7954\n",
      "Epoch 159/300\n",
      "45/45 [==============================] - 0s 3ms/step - loss: 0.4309 - accuracy: 0.7903 - val_loss: 0.4236 - val_accuracy: 0.8025\n",
      "Epoch 160/300\n",
      "45/45 [==============================] - 0s 3ms/step - loss: 0.4402 - accuracy: 0.7892 - val_loss: 0.4244 - val_accuracy: 0.7989\n",
      "Epoch 161/300\n",
      "45/45 [==============================] - 0s 3ms/step - loss: 0.4271 - accuracy: 0.7946 - val_loss: 0.4250 - val_accuracy: 0.7972\n",
      "Epoch 162/300\n",
      "45/45 [==============================] - 0s 3ms/step - loss: 0.4409 - accuracy: 0.7850 - val_loss: 0.4259 - val_accuracy: 0.7954\n",
      "Epoch 163/300\n",
      "45/45 [==============================] - 0s 3ms/step - loss: 0.4331 - accuracy: 0.7854 - val_loss: 0.4262 - val_accuracy: 0.7963\n",
      "Epoch 164/300\n",
      "45/45 [==============================] - 0s 3ms/step - loss: 0.4295 - accuracy: 0.7888 - val_loss: 0.4266 - val_accuracy: 0.7972\n",
      "Epoch 165/300\n",
      "45/45 [==============================] - 0s 3ms/step - loss: 0.4347 - accuracy: 0.7919 - val_loss: 0.4245 - val_accuracy: 0.7927\n",
      "Epoch 166/300\n",
      "45/45 [==============================] - 0s 3ms/step - loss: 0.4286 - accuracy: 0.7950 - val_loss: 0.4247 - val_accuracy: 0.7954\n",
      "Epoch 167/300\n",
      "45/45 [==============================] - 0s 3ms/step - loss: 0.4324 - accuracy: 0.7908 - val_loss: 0.4242 - val_accuracy: 0.7980\n",
      "Epoch 168/300\n",
      "45/45 [==============================] - 0s 3ms/step - loss: 0.4340 - accuracy: 0.7917 - val_loss: 0.4244 - val_accuracy: 0.7963\n",
      "Epoch 169/300\n",
      "45/45 [==============================] - 0s 3ms/step - loss: 0.4305 - accuracy: 0.7910 - val_loss: 0.4240 - val_accuracy: 0.8007\n",
      "Epoch 170/300\n",
      "45/45 [==============================] - 0s 3ms/step - loss: 0.4326 - accuracy: 0.7923 - val_loss: 0.4255 - val_accuracy: 0.7954\n",
      "Epoch 171/300\n",
      "45/45 [==============================] - 0s 3ms/step - loss: 0.4308 - accuracy: 0.7915 - val_loss: 0.4265 - val_accuracy: 0.7963\n",
      "Epoch 172/300\n",
      "45/45 [==============================] - 0s 3ms/step - loss: 0.4356 - accuracy: 0.7870 - val_loss: 0.4257 - val_accuracy: 0.7989\n",
      "Epoch 173/300\n",
      "45/45 [==============================] - 0s 3ms/step - loss: 0.4392 - accuracy: 0.7852 - val_loss: 0.4246 - val_accuracy: 0.8007\n",
      "Epoch 174/300\n",
      "45/45 [==============================] - 0s 3ms/step - loss: 0.4267 - accuracy: 0.7923 - val_loss: 0.4256 - val_accuracy: 0.7998\n",
      "Epoch 175/300\n",
      "45/45 [==============================] - 0s 3ms/step - loss: 0.4360 - accuracy: 0.7897 - val_loss: 0.4244 - val_accuracy: 0.7998\n",
      "Epoch 176/300\n",
      "45/45 [==============================] - 0s 3ms/step - loss: 0.4329 - accuracy: 0.7886 - val_loss: 0.4252 - val_accuracy: 0.8007\n",
      "Epoch 177/300\n",
      "45/45 [==============================] - 0s 3ms/step - loss: 0.4347 - accuracy: 0.7872 - val_loss: 0.4248 - val_accuracy: 0.7989\n",
      "Epoch 178/300\n",
      "45/45 [==============================] - 0s 3ms/step - loss: 0.4402 - accuracy: 0.7841 - val_loss: 0.4250 - val_accuracy: 0.8007\n",
      "Epoch 179/300\n",
      "45/45 [==============================] - 0s 3ms/step - loss: 0.4352 - accuracy: 0.7881 - val_loss: 0.4247 - val_accuracy: 0.8016\n",
      "Epoch 180/300\n",
      "45/45 [==============================] - 0s 3ms/step - loss: 0.4333 - accuracy: 0.7859 - val_loss: 0.4256 - val_accuracy: 0.8034\n",
      "Epoch 181/300\n",
      "45/45 [==============================] - 0s 2ms/step - loss: 0.4299 - accuracy: 0.7897 - val_loss: 0.4254 - val_accuracy: 0.7998\n",
      "Epoch 182/300\n",
      "45/45 [==============================] - 0s 2ms/step - loss: 0.4313 - accuracy: 0.7950 - val_loss: 0.4247 - val_accuracy: 0.7945\n",
      "Epoch 183/300\n",
      "45/45 [==============================] - 0s 3ms/step - loss: 0.4370 - accuracy: 0.7866 - val_loss: 0.4253 - val_accuracy: 0.7998\n",
      "Epoch 184/300\n",
      "45/45 [==============================] - 0s 3ms/step - loss: 0.4379 - accuracy: 0.7890 - val_loss: 0.4256 - val_accuracy: 0.7963\n",
      "Epoch 185/300\n",
      "45/45 [==============================] - 0s 2ms/step - loss: 0.4298 - accuracy: 0.7935 - val_loss: 0.4268 - val_accuracy: 0.7936\n",
      "Epoch 186/300\n",
      "45/45 [==============================] - 0s 2ms/step - loss: 0.4335 - accuracy: 0.7950 - val_loss: 0.4255 - val_accuracy: 0.7963\n",
      "Epoch 187/300\n",
      "45/45 [==============================] - 0s 2ms/step - loss: 0.4337 - accuracy: 0.7879 - val_loss: 0.4248 - val_accuracy: 0.7945\n",
      "Epoch 188/300\n",
      "45/45 [==============================] - 0s 3ms/step - loss: 0.4301 - accuracy: 0.7948 - val_loss: 0.4241 - val_accuracy: 0.7980\n",
      "Epoch 189/300\n",
      "45/45 [==============================] - 0s 3ms/step - loss: 0.4365 - accuracy: 0.7881 - val_loss: 0.4250 - val_accuracy: 0.7963\n",
      "Epoch 190/300\n",
      "45/45 [==============================] - 0s 3ms/step - loss: 0.4327 - accuracy: 0.7901 - val_loss: 0.4252 - val_accuracy: 0.7972\n",
      "Epoch 191/300\n",
      "45/45 [==============================] - 0s 3ms/step - loss: 0.4287 - accuracy: 0.7861 - val_loss: 0.4251 - val_accuracy: 0.7989\n",
      "Epoch 192/300\n",
      "45/45 [==============================] - 0s 3ms/step - loss: 0.4317 - accuracy: 0.7892 - val_loss: 0.4258 - val_accuracy: 0.7980\n",
      "Epoch 193/300\n",
      "45/45 [==============================] - 0s 3ms/step - loss: 0.4321 - accuracy: 0.7883 - val_loss: 0.4251 - val_accuracy: 0.7972\n",
      "Epoch 194/300\n",
      "45/45 [==============================] - 0s 3ms/step - loss: 0.4271 - accuracy: 0.7979 - val_loss: 0.4270 - val_accuracy: 0.7936\n",
      "Epoch 195/300\n",
      "45/45 [==============================] - 0s 3ms/step - loss: 0.4283 - accuracy: 0.7932 - val_loss: 0.4258 - val_accuracy: 0.7945\n",
      "Epoch 196/300\n",
      "45/45 [==============================] - 0s 3ms/step - loss: 0.4340 - accuracy: 0.7908 - val_loss: 0.4240 - val_accuracy: 0.7972\n",
      "Epoch 197/300\n",
      "45/45 [==============================] - 0s 3ms/step - loss: 0.4347 - accuracy: 0.7919 - val_loss: 0.4240 - val_accuracy: 0.7972\n",
      "Epoch 198/300\n",
      "45/45 [==============================] - 0s 3ms/step - loss: 0.4328 - accuracy: 0.7935 - val_loss: 0.4256 - val_accuracy: 0.7945\n",
      "Epoch 199/300\n",
      "45/45 [==============================] - 0s 3ms/step - loss: 0.4319 - accuracy: 0.7890 - val_loss: 0.4247 - val_accuracy: 0.7972\n",
      "Epoch 200/300\n",
      "45/45 [==============================] - 0s 3ms/step - loss: 0.4328 - accuracy: 0.7881 - val_loss: 0.4268 - val_accuracy: 0.7918\n",
      "Epoch 201/300\n",
      "45/45 [==============================] - 0s 3ms/step - loss: 0.4210 - accuracy: 0.7943 - val_loss: 0.4287 - val_accuracy: 0.7972\n",
      "Epoch 202/300\n",
      "45/45 [==============================] - 0s 3ms/step - loss: 0.4362 - accuracy: 0.7883 - val_loss: 0.4267 - val_accuracy: 0.7918\n",
      "Epoch 203/300\n",
      "45/45 [==============================] - 0s 3ms/step - loss: 0.4323 - accuracy: 0.7841 - val_loss: 0.4258 - val_accuracy: 0.7998\n",
      "Epoch 204/300\n",
      "45/45 [==============================] - 0s 5ms/step - loss: 0.4330 - accuracy: 0.7952 - val_loss: 0.4257 - val_accuracy: 0.7954\n",
      "Epoch 205/300\n",
      "45/45 [==============================] - 0s 4ms/step - loss: 0.4291 - accuracy: 0.7917 - val_loss: 0.4251 - val_accuracy: 0.7980\n",
      "Epoch 206/300\n",
      "45/45 [==============================] - 0s 4ms/step - loss: 0.4317 - accuracy: 0.7903 - val_loss: 0.4268 - val_accuracy: 0.7963\n",
      "Epoch 207/300\n",
      "45/45 [==============================] - 0s 3ms/step - loss: 0.4304 - accuracy: 0.7903 - val_loss: 0.4260 - val_accuracy: 0.7980\n",
      "Epoch 208/300\n",
      "45/45 [==============================] - 0s 5ms/step - loss: 0.4272 - accuracy: 0.7930 - val_loss: 0.4272 - val_accuracy: 0.7927\n",
      "Epoch 209/300\n",
      "45/45 [==============================] - 0s 5ms/step - loss: 0.4273 - accuracy: 0.7888 - val_loss: 0.4287 - val_accuracy: 0.7945\n",
      "Epoch 210/300\n",
      "45/45 [==============================] - 0s 3ms/step - loss: 0.4312 - accuracy: 0.7937 - val_loss: 0.4271 - val_accuracy: 0.7927\n",
      "Epoch 211/300\n",
      "45/45 [==============================] - 0s 5ms/step - loss: 0.4316 - accuracy: 0.7915 - val_loss: 0.4280 - val_accuracy: 0.7945\n",
      "Epoch 212/300\n",
      "45/45 [==============================] - 0s 4ms/step - loss: 0.4393 - accuracy: 0.7821 - val_loss: 0.4286 - val_accuracy: 0.7954\n",
      "Epoch 213/300\n",
      "45/45 [==============================] - 0s 4ms/step - loss: 0.4353 - accuracy: 0.7903 - val_loss: 0.4281 - val_accuracy: 0.7963\n",
      "Epoch 214/300\n",
      "45/45 [==============================] - 0s 4ms/step - loss: 0.4329 - accuracy: 0.7895 - val_loss: 0.4274 - val_accuracy: 0.7945\n",
      "Epoch 215/300\n",
      "45/45 [==============================] - 0s 4ms/step - loss: 0.4328 - accuracy: 0.7906 - val_loss: 0.4262 - val_accuracy: 0.7980\n",
      "Epoch 216/300\n",
      "45/45 [==============================] - 0s 5ms/step - loss: 0.4286 - accuracy: 0.7901 - val_loss: 0.4277 - val_accuracy: 0.7980\n",
      "Epoch 217/300\n",
      "45/45 [==============================] - 0s 4ms/step - loss: 0.4305 - accuracy: 0.7928 - val_loss: 0.4280 - val_accuracy: 0.7963\n",
      "Epoch 218/300\n",
      "45/45 [==============================] - 0s 4ms/step - loss: 0.4310 - accuracy: 0.7923 - val_loss: 0.4281 - val_accuracy: 0.7963\n",
      "Epoch 219/300\n",
      "45/45 [==============================] - 0s 4ms/step - loss: 0.4351 - accuracy: 0.7926 - val_loss: 0.4242 - val_accuracy: 0.8016\n",
      "Epoch 220/300\n",
      "45/45 [==============================] - 0s 5ms/step - loss: 0.4319 - accuracy: 0.8006 - val_loss: 0.4255 - val_accuracy: 0.8007\n",
      "Epoch 221/300\n",
      "45/45 [==============================] - 0s 3ms/step - loss: 0.4310 - accuracy: 0.7901 - val_loss: 0.4239 - val_accuracy: 0.8043\n",
      "Epoch 222/300\n",
      "45/45 [==============================] - 0s 3ms/step - loss: 0.4298 - accuracy: 0.7932 - val_loss: 0.4268 - val_accuracy: 0.7927\n",
      "Epoch 223/300\n",
      "45/45 [==============================] - 0s 3ms/step - loss: 0.4341 - accuracy: 0.7866 - val_loss: 0.4280 - val_accuracy: 0.7954\n",
      "Epoch 224/300\n",
      "45/45 [==============================] - 0s 2ms/step - loss: 0.4267 - accuracy: 0.7963 - val_loss: 0.4279 - val_accuracy: 0.7927\n",
      "Epoch 225/300\n",
      "45/45 [==============================] - 0s 3ms/step - loss: 0.4366 - accuracy: 0.7890 - val_loss: 0.4277 - val_accuracy: 0.7891\n",
      "Epoch 226/300\n",
      "45/45 [==============================] - 0s 3ms/step - loss: 0.4315 - accuracy: 0.7981 - val_loss: 0.4266 - val_accuracy: 0.7945\n",
      "Epoch 227/300\n",
      "45/45 [==============================] - 0s 2ms/step - loss: 0.4293 - accuracy: 0.7919 - val_loss: 0.4267 - val_accuracy: 0.7927\n",
      "Epoch 228/300\n",
      "45/45 [==============================] - 0s 2ms/step - loss: 0.4349 - accuracy: 0.7923 - val_loss: 0.4265 - val_accuracy: 0.7945\n",
      "Epoch 229/300\n",
      "45/45 [==============================] - 0s 3ms/step - loss: 0.4262 - accuracy: 0.7975 - val_loss: 0.4260 - val_accuracy: 0.7998\n",
      "Epoch 230/300\n",
      "45/45 [==============================] - 0s 5ms/step - loss: 0.4249 - accuracy: 0.7899 - val_loss: 0.4282 - val_accuracy: 0.7945\n",
      "Epoch 231/300\n",
      "45/45 [==============================] - 0s 4ms/step - loss: 0.4257 - accuracy: 0.7966 - val_loss: 0.4288 - val_accuracy: 0.7927\n",
      "Epoch 232/300\n",
      "45/45 [==============================] - 0s 4ms/step - loss: 0.4310 - accuracy: 0.7930 - val_loss: 0.4283 - val_accuracy: 0.7972\n",
      "Epoch 233/300\n",
      "45/45 [==============================] - 0s 5ms/step - loss: 0.4277 - accuracy: 0.8006 - val_loss: 0.4287 - val_accuracy: 0.7954\n",
      "Epoch 234/300\n",
      "45/45 [==============================] - 0s 4ms/step - loss: 0.4308 - accuracy: 0.7955 - val_loss: 0.4284 - val_accuracy: 0.7945\n",
      "Epoch 235/300\n",
      "45/45 [==============================] - 0s 4ms/step - loss: 0.4284 - accuracy: 0.7932 - val_loss: 0.4271 - val_accuracy: 0.8007\n",
      "Epoch 236/300\n",
      "45/45 [==============================] - 0s 4ms/step - loss: 0.4280 - accuracy: 0.7939 - val_loss: 0.4292 - val_accuracy: 0.7945\n",
      "Epoch 237/300\n",
      "45/45 [==============================] - 0s 4ms/step - loss: 0.4303 - accuracy: 0.7917 - val_loss: 0.4277 - val_accuracy: 0.7945\n",
      "Epoch 238/300\n",
      "45/45 [==============================] - 0s 5ms/step - loss: 0.4288 - accuracy: 0.7972 - val_loss: 0.4269 - val_accuracy: 0.7972\n",
      "Epoch 239/300\n",
      "45/45 [==============================] - 0s 5ms/step - loss: 0.4340 - accuracy: 0.7937 - val_loss: 0.4288 - val_accuracy: 0.7963\n",
      "Epoch 240/300\n",
      "45/45 [==============================] - 0s 4ms/step - loss: 0.4305 - accuracy: 0.7957 - val_loss: 0.4282 - val_accuracy: 0.7980\n",
      "Epoch 241/300\n",
      "45/45 [==============================] - 0s 4ms/step - loss: 0.4237 - accuracy: 0.8028 - val_loss: 0.4285 - val_accuracy: 0.7954\n",
      "Epoch 242/300\n",
      "45/45 [==============================] - 0s 5ms/step - loss: 0.4264 - accuracy: 0.7841 - val_loss: 0.4304 - val_accuracy: 0.7963\n",
      "Epoch 243/300\n",
      "45/45 [==============================] - 0s 4ms/step - loss: 0.4334 - accuracy: 0.7857 - val_loss: 0.4301 - val_accuracy: 0.7936\n",
      "Epoch 244/300\n",
      "45/45 [==============================] - 0s 5ms/step - loss: 0.4341 - accuracy: 0.7839 - val_loss: 0.4284 - val_accuracy: 0.7936\n",
      "Epoch 245/300\n",
      "45/45 [==============================] - 0s 4ms/step - loss: 0.4259 - accuracy: 0.7979 - val_loss: 0.4276 - val_accuracy: 0.7927\n",
      "Epoch 246/300\n",
      "45/45 [==============================] - 0s 4ms/step - loss: 0.4290 - accuracy: 0.7957 - val_loss: 0.4256 - val_accuracy: 0.8016\n",
      "Epoch 247/300\n",
      "45/45 [==============================] - 0s 6ms/step - loss: 0.4256 - accuracy: 0.7963 - val_loss: 0.4279 - val_accuracy: 0.7963\n",
      "Epoch 248/300\n",
      "45/45 [==============================] - 0s 4ms/step - loss: 0.4340 - accuracy: 0.7935 - val_loss: 0.4280 - val_accuracy: 0.7954\n",
      "Epoch 249/300\n",
      "45/45 [==============================] - 0s 4ms/step - loss: 0.4345 - accuracy: 0.7903 - val_loss: 0.4276 - val_accuracy: 0.8007\n",
      "Epoch 250/300\n",
      "45/45 [==============================] - 0s 4ms/step - loss: 0.4344 - accuracy: 0.7899 - val_loss: 0.4276 - val_accuracy: 0.7963\n",
      "Epoch 251/300\n",
      "45/45 [==============================] - 0s 3ms/step - loss: 0.4346 - accuracy: 0.7966 - val_loss: 0.4285 - val_accuracy: 0.7936\n",
      "Epoch 252/300\n",
      "45/45 [==============================] - 0s 4ms/step - loss: 0.4256 - accuracy: 0.7968 - val_loss: 0.4278 - val_accuracy: 0.7945\n",
      "Epoch 253/300\n",
      "45/45 [==============================] - 0s 4ms/step - loss: 0.4337 - accuracy: 0.7899 - val_loss: 0.4294 - val_accuracy: 0.7909\n",
      "Epoch 254/300\n",
      "45/45 [==============================] - 0s 4ms/step - loss: 0.4273 - accuracy: 0.7928 - val_loss: 0.4290 - val_accuracy: 0.7945\n",
      "Epoch 255/300\n",
      "45/45 [==============================] - 0s 5ms/step - loss: 0.4281 - accuracy: 0.7866 - val_loss: 0.4285 - val_accuracy: 0.7980\n",
      "Epoch 256/300\n",
      "45/45 [==============================] - 0s 4ms/step - loss: 0.4287 - accuracy: 0.7906 - val_loss: 0.4255 - val_accuracy: 0.8034\n",
      "Epoch 257/300\n",
      "45/45 [==============================] - 0s 4ms/step - loss: 0.4283 - accuracy: 0.7966 - val_loss: 0.4249 - val_accuracy: 0.8043\n",
      "Epoch 258/300\n",
      "45/45 [==============================] - 0s 5ms/step - loss: 0.4290 - accuracy: 0.7932 - val_loss: 0.4289 - val_accuracy: 0.7945\n",
      "Epoch 259/300\n",
      "45/45 [==============================] - 0s 3ms/step - loss: 0.4269 - accuracy: 0.7930 - val_loss: 0.4291 - val_accuracy: 0.7963\n",
      "Epoch 260/300\n",
      "45/45 [==============================] - 0s 4ms/step - loss: 0.4306 - accuracy: 0.7912 - val_loss: 0.4296 - val_accuracy: 0.7945\n",
      "Epoch 261/300\n",
      "45/45 [==============================] - 0s 3ms/step - loss: 0.4236 - accuracy: 0.7990 - val_loss: 0.4285 - val_accuracy: 0.7945\n",
      "Epoch 262/300\n",
      "45/45 [==============================] - 0s 5ms/step - loss: 0.4361 - accuracy: 0.7883 - val_loss: 0.4278 - val_accuracy: 0.7945\n",
      "Epoch 263/300\n",
      "45/45 [==============================] - 0s 4ms/step - loss: 0.4260 - accuracy: 0.7941 - val_loss: 0.4268 - val_accuracy: 0.7972\n",
      "Epoch 264/300\n",
      "45/45 [==============================] - 0s 5ms/step - loss: 0.4291 - accuracy: 0.7981 - val_loss: 0.4273 - val_accuracy: 0.7989\n",
      "Epoch 265/300\n",
      "45/45 [==============================] - 0s 5ms/step - loss: 0.4308 - accuracy: 0.7961 - val_loss: 0.4273 - val_accuracy: 0.7972\n",
      "Epoch 266/300\n",
      "45/45 [==============================] - 0s 5ms/step - loss: 0.4313 - accuracy: 0.7959 - val_loss: 0.4286 - val_accuracy: 0.7963\n",
      "Epoch 267/300\n",
      "45/45 [==============================] - 0s 4ms/step - loss: 0.4331 - accuracy: 0.7899 - val_loss: 0.4291 - val_accuracy: 0.7972\n",
      "Epoch 268/300\n",
      "45/45 [==============================] - 0s 5ms/step - loss: 0.4317 - accuracy: 0.7899 - val_loss: 0.4299 - val_accuracy: 0.7945\n",
      "Epoch 269/300\n",
      "45/45 [==============================] - 0s 4ms/step - loss: 0.4273 - accuracy: 0.7977 - val_loss: 0.4295 - val_accuracy: 0.7936\n",
      "Epoch 270/300\n",
      "45/45 [==============================] - 0s 4ms/step - loss: 0.4267 - accuracy: 0.8032 - val_loss: 0.4310 - val_accuracy: 0.7909\n",
      "Epoch 271/300\n",
      "45/45 [==============================] - 0s 4ms/step - loss: 0.4235 - accuracy: 0.7955 - val_loss: 0.4295 - val_accuracy: 0.7936\n",
      "Epoch 272/300\n",
      "45/45 [==============================] - 0s 3ms/step - loss: 0.4267 - accuracy: 0.7932 - val_loss: 0.4288 - val_accuracy: 0.7963\n",
      "Epoch 273/300\n",
      "45/45 [==============================] - 0s 4ms/step - loss: 0.4351 - accuracy: 0.7903 - val_loss: 0.4266 - val_accuracy: 0.8016\n",
      "Epoch 274/300\n",
      "45/45 [==============================] - 0s 4ms/step - loss: 0.4355 - accuracy: 0.7877 - val_loss: 0.4291 - val_accuracy: 0.7945\n",
      "Epoch 275/300\n",
      "45/45 [==============================] - 0s 4ms/step - loss: 0.4254 - accuracy: 0.7941 - val_loss: 0.4294 - val_accuracy: 0.7927\n",
      "Epoch 276/300\n",
      "45/45 [==============================] - 0s 4ms/step - loss: 0.4299 - accuracy: 0.7897 - val_loss: 0.4292 - val_accuracy: 0.7936\n",
      "Epoch 277/300\n",
      "45/45 [==============================] - 0s 4ms/step - loss: 0.4349 - accuracy: 0.7903 - val_loss: 0.4261 - val_accuracy: 0.7998\n",
      "Epoch 278/300\n",
      "45/45 [==============================] - 0s 4ms/step - loss: 0.4309 - accuracy: 0.7899 - val_loss: 0.4246 - val_accuracy: 0.8034\n",
      "Epoch 279/300\n",
      "45/45 [==============================] - 0s 5ms/step - loss: 0.4292 - accuracy: 0.8004 - val_loss: 0.4268 - val_accuracy: 0.7936\n",
      "Epoch 280/300\n",
      "45/45 [==============================] - 0s 4ms/step - loss: 0.4276 - accuracy: 0.7892 - val_loss: 0.4275 - val_accuracy: 0.7972\n",
      "Epoch 281/300\n",
      "45/45 [==============================] - 0s 4ms/step - loss: 0.4322 - accuracy: 0.7921 - val_loss: 0.4272 - val_accuracy: 0.7972\n",
      "Epoch 282/300\n",
      "45/45 [==============================] - 0s 4ms/step - loss: 0.4286 - accuracy: 0.7881 - val_loss: 0.4287 - val_accuracy: 0.7927\n",
      "Epoch 283/300\n",
      "45/45 [==============================] - 0s 4ms/step - loss: 0.4390 - accuracy: 0.7819 - val_loss: 0.4295 - val_accuracy: 0.7918\n",
      "Epoch 284/300\n",
      "45/45 [==============================] - 0s 5ms/step - loss: 0.4309 - accuracy: 0.7943 - val_loss: 0.4282 - val_accuracy: 0.7945\n",
      "Epoch 285/300\n",
      "45/45 [==============================] - 0s 4ms/step - loss: 0.4233 - accuracy: 0.7984 - val_loss: 0.4251 - val_accuracy: 0.8025\n",
      "Epoch 286/300\n",
      "45/45 [==============================] - 0s 5ms/step - loss: 0.4285 - accuracy: 0.7897 - val_loss: 0.4280 - val_accuracy: 0.7980\n",
      "Epoch 287/300\n",
      "45/45 [==============================] - 0s 4ms/step - loss: 0.4256 - accuracy: 0.7957 - val_loss: 0.4278 - val_accuracy: 0.7972\n",
      "Epoch 288/300\n",
      "45/45 [==============================] - 0s 5ms/step - loss: 0.4336 - accuracy: 0.7881 - val_loss: 0.4264 - val_accuracy: 0.8007\n",
      "Epoch 289/300\n",
      "45/45 [==============================] - 0s 5ms/step - loss: 0.4263 - accuracy: 0.7923 - val_loss: 0.4284 - val_accuracy: 0.7918\n",
      "Epoch 290/300\n",
      "45/45 [==============================] - 0s 4ms/step - loss: 0.4223 - accuracy: 0.7959 - val_loss: 0.4296 - val_accuracy: 0.7891\n",
      "Epoch 291/300\n",
      "45/45 [==============================] - 0s 4ms/step - loss: 0.4320 - accuracy: 0.7872 - val_loss: 0.4298 - val_accuracy: 0.7936\n",
      "Epoch 292/300\n",
      "45/45 [==============================] - 0s 5ms/step - loss: 0.4270 - accuracy: 0.7990 - val_loss: 0.4282 - val_accuracy: 0.7963\n",
      "Epoch 293/300\n",
      "45/45 [==============================] - 0s 4ms/step - loss: 0.4299 - accuracy: 0.7908 - val_loss: 0.4268 - val_accuracy: 0.8025\n",
      "Epoch 294/300\n",
      "45/45 [==============================] - 0s 5ms/step - loss: 0.4322 - accuracy: 0.7986 - val_loss: 0.4287 - val_accuracy: 0.7927\n",
      "Epoch 295/300\n",
      "45/45 [==============================] - 0s 4ms/step - loss: 0.4342 - accuracy: 0.7966 - val_loss: 0.4289 - val_accuracy: 0.7918\n",
      "Epoch 296/300\n",
      "45/45 [==============================] - 0s 4ms/step - loss: 0.4280 - accuracy: 0.7961 - val_loss: 0.4282 - val_accuracy: 0.7945\n",
      "Epoch 297/300\n",
      "45/45 [==============================] - 0s 4ms/step - loss: 0.4282 - accuracy: 0.7926 - val_loss: 0.4285 - val_accuracy: 0.7954\n",
      "Epoch 298/300\n",
      "45/45 [==============================] - 0s 3ms/step - loss: 0.4218 - accuracy: 0.7930 - val_loss: 0.4289 - val_accuracy: 0.7989\n",
      "Epoch 299/300\n",
      "45/45 [==============================] - 0s 4ms/step - loss: 0.4307 - accuracy: 0.7890 - val_loss: 0.4280 - val_accuracy: 0.7945\n",
      "Epoch 300/300\n",
      "45/45 [==============================] - 0s 4ms/step - loss: 0.4294 - accuracy: 0.7854 - val_loss: 0.4297 - val_accuracy: 0.7927\n"
     ]
    },
    {
     "data": {
      "text/plain": [
       "<keras.callbacks.History at 0x2265f55d000>"
      ]
     },
     "execution_count": 77,
     "metadata": {},
     "output_type": "execute_result"
    }
   ],
   "source": [
    "#Train Dataset\n",
    "train_dataset = tf.data.Dataset.from_tensor_slices((X_train_ok, y_train))\n",
    "train_dataset = train_dataset.batch(100)\n",
    "\n",
    "#Validation Dataset\n",
    "val_dataset = tf.data.Dataset.from_tensor_slices((X_val_ok, y_val))\n",
    "val_dataset = val_dataset.batch(100)\n",
    "\n",
    "#Test Dataset\n",
    "test_dataset = tf.data.Dataset.from_tensor_slices((X_test_ok, y_test))\n",
    "test_dataset = test_dataset.batch(100)\n",
    "\n",
    "\n",
    "#Call Model\n",
    "modelp = Sequential()\n",
    "modelp.add(Dense(20, input_shape=(19,), activation=\"relu\"))\n",
    "modelp.add(Dropout(0.5))\n",
    "modelp.add(Dense(20, activation=\"relu\"))\n",
    "modelp.add(Dropout(0.5))\n",
    "modelp.add(Dense(10, activation=\"relu\"))\n",
    "modelp.add(Dropout(0.5))\n",
    "modelp.add(Dense(1, activation=\"sigmoid\"))\n",
    "modelp.compile(optimizer = 'adam',\n",
    "              loss = 'binary_crossentropy',\n",
    "              metrics = ['accuracy'])\n",
    "\n",
    "#Fit\n",
    "modelp.fit(train_dataset, epochs=300, validation_data=val_dataset)"
   ]
  },
  {
   "cell_type": "code",
   "execution_count": 78,
   "id": "AUNyGmp9_dWv",
   "metadata": {
    "colab": {
     "base_uri": "https://localhost:8080/"
    },
    "id": "AUNyGmp9_dWv",
    "outputId": "049131d3-507b-44a0-b30b-fcf9b61bfe0c"
   },
   "outputs": [
    {
     "name": "stdout",
     "output_type": "stream",
     "text": [
      "Model Saved!\n"
     ]
    }
   ],
   "source": [
    "modelp.save('gfgModel.h5')\n",
    "print('Model Saved!')"
   ]
  },
  {
   "cell_type": "code",
   "execution_count": 79,
   "id": "08cf8409",
   "metadata": {},
   "outputs": [],
   "source": [
    "import pickle"
   ]
  },
  {
   "cell_type": "code",
   "execution_count": 80,
   "id": "bd9f9d22",
   "metadata": {},
   "outputs": [],
   "source": [
    "with open(\"preprocessor.pkl\", \"wb\") as f:\n",
    "    pickle.dump(preprocessor, f)"
   ]
  },
  {
   "cell_type": "markdown",
   "id": "ekhW71dPpV-e",
   "metadata": {
    "id": "ekhW71dPpV-e"
   },
   "source": [
    "## Model Inference"
   ]
  },
  {
   "cell_type": "code",
   "execution_count": 81,
   "id": "dZjdL4kDpYBX",
   "metadata": {
    "colab": {
     "base_uri": "https://localhost:8080/",
     "height": 548
    },
    "id": "dZjdL4kDpYBX",
    "outputId": "081335c2-7444-4469-accc-60d24057a84f"
   },
   "outputs": [
    {
     "data": {
      "text/html": [
       "<div>\n",
       "<style scoped>\n",
       "    .dataframe tbody tr th:only-of-type {\n",
       "        vertical-align: middle;\n",
       "    }\n",
       "\n",
       "    .dataframe tbody tr th {\n",
       "        vertical-align: top;\n",
       "    }\n",
       "\n",
       "    .dataframe thead th {\n",
       "        text-align: right;\n",
       "    }\n",
       "</style>\n",
       "<table border=\"1\" class=\"dataframe\">\n",
       "  <thead>\n",
       "    <tr style=\"text-align: right;\">\n",
       "      <th></th>\n",
       "      <th>customerID</th>\n",
       "      <th>gender</th>\n",
       "      <th>SeniorCitizen</th>\n",
       "      <th>Partner</th>\n",
       "      <th>Dependents</th>\n",
       "      <th>tenure</th>\n",
       "      <th>PhoneService</th>\n",
       "      <th>MultipleLines</th>\n",
       "      <th>InternetService</th>\n",
       "      <th>OnlineSecurity</th>\n",
       "      <th>OnlineBackup</th>\n",
       "      <th>DeviceProtection</th>\n",
       "      <th>TechSupport</th>\n",
       "      <th>StreamingTV</th>\n",
       "      <th>StreamingMovies</th>\n",
       "      <th>Contract</th>\n",
       "      <th>PaperlessBilling</th>\n",
       "      <th>PaymentMethod</th>\n",
       "      <th>MonthlyCharges</th>\n",
       "      <th>TotalCharges</th>\n",
       "      <th>Churn</th>\n",
       "    </tr>\n",
       "  </thead>\n",
       "  <tbody>\n",
       "    <tr>\n",
       "      <th>0</th>\n",
       "      <td>8717-VCTXJ</td>\n",
       "      <td>Male</td>\n",
       "      <td>0</td>\n",
       "      <td>No</td>\n",
       "      <td>No</td>\n",
       "      <td>42</td>\n",
       "      <td>Yes</td>\n",
       "      <td>No</td>\n",
       "      <td>No</td>\n",
       "      <td>No internet service</td>\n",
       "      <td>No internet service</td>\n",
       "      <td>No internet service</td>\n",
       "      <td>No internet service</td>\n",
       "      <td>No internet service</td>\n",
       "      <td>No internet service</td>\n",
       "      <td>One year</td>\n",
       "      <td>Yes</td>\n",
       "      <td>Mailed check</td>\n",
       "      <td>19.55</td>\n",
       "      <td>839.40</td>\n",
       "      <td>No</td>\n",
       "    </tr>\n",
       "    <tr>\n",
       "      <th>1</th>\n",
       "      <td>3580-GICBM</td>\n",
       "      <td>Female</td>\n",
       "      <td>0</td>\n",
       "      <td>Yes</td>\n",
       "      <td>Yes</td>\n",
       "      <td>61</td>\n",
       "      <td>Yes</td>\n",
       "      <td>Yes</td>\n",
       "      <td>No</td>\n",
       "      <td>No internet service</td>\n",
       "      <td>No internet service</td>\n",
       "      <td>No internet service</td>\n",
       "      <td>No internet service</td>\n",
       "      <td>No internet service</td>\n",
       "      <td>No internet service</td>\n",
       "      <td>Two year</td>\n",
       "      <td>Yes</td>\n",
       "      <td>Mailed check</td>\n",
       "      <td>24.20</td>\n",
       "      <td>1445.20</td>\n",
       "      <td>No</td>\n",
       "    </tr>\n",
       "    <tr>\n",
       "      <th>2</th>\n",
       "      <td>4849-PYRLQ</td>\n",
       "      <td>Female</td>\n",
       "      <td>1</td>\n",
       "      <td>No</td>\n",
       "      <td>No</td>\n",
       "      <td>56</td>\n",
       "      <td>Yes</td>\n",
       "      <td>Yes</td>\n",
       "      <td>DSL</td>\n",
       "      <td>Yes</td>\n",
       "      <td>No</td>\n",
       "      <td>Yes</td>\n",
       "      <td>Yes</td>\n",
       "      <td>No</td>\n",
       "      <td>Yes</td>\n",
       "      <td>Two year</td>\n",
       "      <td>No</td>\n",
       "      <td>Bank transfer (automatic)</td>\n",
       "      <td>73.25</td>\n",
       "      <td>4054.20</td>\n",
       "      <td>No</td>\n",
       "    </tr>\n",
       "    <tr>\n",
       "      <th>3</th>\n",
       "      <td>0572-ZJKLT</td>\n",
       "      <td>Female</td>\n",
       "      <td>0</td>\n",
       "      <td>Yes</td>\n",
       "      <td>Yes</td>\n",
       "      <td>46</td>\n",
       "      <td>Yes</td>\n",
       "      <td>Yes</td>\n",
       "      <td>Fiber optic</td>\n",
       "      <td>Yes</td>\n",
       "      <td>No</td>\n",
       "      <td>Yes</td>\n",
       "      <td>Yes</td>\n",
       "      <td>No</td>\n",
       "      <td>Yes</td>\n",
       "      <td>Two year</td>\n",
       "      <td>No</td>\n",
       "      <td>Mailed check</td>\n",
       "      <td>99.65</td>\n",
       "      <td>4630.20</td>\n",
       "      <td>No</td>\n",
       "    </tr>\n",
       "    <tr>\n",
       "      <th>4</th>\n",
       "      <td>0961-ZWLVI</td>\n",
       "      <td>Male</td>\n",
       "      <td>0</td>\n",
       "      <td>No</td>\n",
       "      <td>Yes</td>\n",
       "      <td>49</td>\n",
       "      <td>Yes</td>\n",
       "      <td>Yes</td>\n",
       "      <td>Fiber optic</td>\n",
       "      <td>Yes</td>\n",
       "      <td>Yes</td>\n",
       "      <td>Yes</td>\n",
       "      <td>No</td>\n",
       "      <td>Yes</td>\n",
       "      <td>Yes</td>\n",
       "      <td>One year</td>\n",
       "      <td>Yes</td>\n",
       "      <td>Credit card (automatic)</td>\n",
       "      <td>109.20</td>\n",
       "      <td>5290.45</td>\n",
       "      <td>No</td>\n",
       "    </tr>\n",
       "    <tr>\n",
       "      <th>5</th>\n",
       "      <td>8414-MYSHR</td>\n",
       "      <td>Male</td>\n",
       "      <td>1</td>\n",
       "      <td>No</td>\n",
       "      <td>No</td>\n",
       "      <td>5</td>\n",
       "      <td>Yes</td>\n",
       "      <td>No</td>\n",
       "      <td>Fiber optic</td>\n",
       "      <td>No</td>\n",
       "      <td>No</td>\n",
       "      <td>No</td>\n",
       "      <td>No</td>\n",
       "      <td>Yes</td>\n",
       "      <td>Yes</td>\n",
       "      <td>Month-to-month</td>\n",
       "      <td>Yes</td>\n",
       "      <td>Electronic check</td>\n",
       "      <td>91.40</td>\n",
       "      <td>449.75</td>\n",
       "      <td>Yes</td>\n",
       "    </tr>\n",
       "    <tr>\n",
       "      <th>6</th>\n",
       "      <td>9489-JMTTN</td>\n",
       "      <td>Female</td>\n",
       "      <td>0</td>\n",
       "      <td>Yes</td>\n",
       "      <td>Yes</td>\n",
       "      <td>72</td>\n",
       "      <td>Yes</td>\n",
       "      <td>Yes</td>\n",
       "      <td>DSL</td>\n",
       "      <td>Yes</td>\n",
       "      <td>Yes</td>\n",
       "      <td>Yes</td>\n",
       "      <td>Yes</td>\n",
       "      <td>Yes</td>\n",
       "      <td>Yes</td>\n",
       "      <td>Two year</td>\n",
       "      <td>No</td>\n",
       "      <td>Credit card (automatic)</td>\n",
       "      <td>89.75</td>\n",
       "      <td>6595.90</td>\n",
       "      <td>No</td>\n",
       "    </tr>\n",
       "    <tr>\n",
       "      <th>7</th>\n",
       "      <td>3137-NYQQI</td>\n",
       "      <td>Male</td>\n",
       "      <td>0</td>\n",
       "      <td>Yes</td>\n",
       "      <td>No</td>\n",
       "      <td>17</td>\n",
       "      <td>Yes</td>\n",
       "      <td>No</td>\n",
       "      <td>DSL</td>\n",
       "      <td>Yes</td>\n",
       "      <td>Yes</td>\n",
       "      <td>No</td>\n",
       "      <td>No</td>\n",
       "      <td>No</td>\n",
       "      <td>Yes</td>\n",
       "      <td>One year</td>\n",
       "      <td>No</td>\n",
       "      <td>Mailed check</td>\n",
       "      <td>64.80</td>\n",
       "      <td>1175.60</td>\n",
       "      <td>No</td>\n",
       "    </tr>\n",
       "    <tr>\n",
       "      <th>8</th>\n",
       "      <td>6230-BSUXY</td>\n",
       "      <td>Female</td>\n",
       "      <td>1</td>\n",
       "      <td>No</td>\n",
       "      <td>No</td>\n",
       "      <td>1</td>\n",
       "      <td>Yes</td>\n",
       "      <td>No</td>\n",
       "      <td>Fiber optic</td>\n",
       "      <td>No</td>\n",
       "      <td>No</td>\n",
       "      <td>Yes</td>\n",
       "      <td>No</td>\n",
       "      <td>No</td>\n",
       "      <td>Yes</td>\n",
       "      <td>Month-to-month</td>\n",
       "      <td>Yes</td>\n",
       "      <td>Electronic check</td>\n",
       "      <td>85.00</td>\n",
       "      <td>85.00</td>\n",
       "      <td>Yes</td>\n",
       "    </tr>\n",
       "    <tr>\n",
       "      <th>9</th>\n",
       "      <td>5160-UXJED</td>\n",
       "      <td>Male</td>\n",
       "      <td>0</td>\n",
       "      <td>No</td>\n",
       "      <td>Yes</td>\n",
       "      <td>17</td>\n",
       "      <td>Yes</td>\n",
       "      <td>No</td>\n",
       "      <td>DSL</td>\n",
       "      <td>No</td>\n",
       "      <td>No</td>\n",
       "      <td>No</td>\n",
       "      <td>No</td>\n",
       "      <td>No</td>\n",
       "      <td>No</td>\n",
       "      <td>One year</td>\n",
       "      <td>No</td>\n",
       "      <td>Mailed check</td>\n",
       "      <td>44.60</td>\n",
       "      <td>681.40</td>\n",
       "      <td>No</td>\n",
       "    </tr>\n",
       "  </tbody>\n",
       "</table>\n",
       "</div>"
      ],
      "text/plain": [
       "   customerID  gender  SeniorCitizen Partner Dependents  tenure PhoneService  \\\n",
       "0  8717-VCTXJ    Male              0      No         No      42          Yes   \n",
       "1  3580-GICBM  Female              0     Yes        Yes      61          Yes   \n",
       "2  4849-PYRLQ  Female              1      No         No      56          Yes   \n",
       "3  0572-ZJKLT  Female              0     Yes        Yes      46          Yes   \n",
       "4  0961-ZWLVI    Male              0      No        Yes      49          Yes   \n",
       "5  8414-MYSHR    Male              1      No         No       5          Yes   \n",
       "6  9489-JMTTN  Female              0     Yes        Yes      72          Yes   \n",
       "7  3137-NYQQI    Male              0     Yes         No      17          Yes   \n",
       "8  6230-BSUXY  Female              1      No         No       1          Yes   \n",
       "9  5160-UXJED    Male              0      No        Yes      17          Yes   \n",
       "\n",
       "  MultipleLines InternetService       OnlineSecurity         OnlineBackup  \\\n",
       "0            No              No  No internet service  No internet service   \n",
       "1           Yes              No  No internet service  No internet service   \n",
       "2           Yes             DSL                  Yes                   No   \n",
       "3           Yes     Fiber optic                  Yes                   No   \n",
       "4           Yes     Fiber optic                  Yes                  Yes   \n",
       "5            No     Fiber optic                   No                   No   \n",
       "6           Yes             DSL                  Yes                  Yes   \n",
       "7            No             DSL                  Yes                  Yes   \n",
       "8            No     Fiber optic                   No                   No   \n",
       "9            No             DSL                   No                   No   \n",
       "\n",
       "      DeviceProtection          TechSupport          StreamingTV  \\\n",
       "0  No internet service  No internet service  No internet service   \n",
       "1  No internet service  No internet service  No internet service   \n",
       "2                  Yes                  Yes                   No   \n",
       "3                  Yes                  Yes                   No   \n",
       "4                  Yes                   No                  Yes   \n",
       "5                   No                   No                  Yes   \n",
       "6                  Yes                  Yes                  Yes   \n",
       "7                   No                   No                   No   \n",
       "8                  Yes                   No                   No   \n",
       "9                   No                   No                   No   \n",
       "\n",
       "       StreamingMovies        Contract PaperlessBilling  \\\n",
       "0  No internet service        One year              Yes   \n",
       "1  No internet service        Two year              Yes   \n",
       "2                  Yes        Two year               No   \n",
       "3                  Yes        Two year               No   \n",
       "4                  Yes        One year              Yes   \n",
       "5                  Yes  Month-to-month              Yes   \n",
       "6                  Yes        Two year               No   \n",
       "7                  Yes        One year               No   \n",
       "8                  Yes  Month-to-month              Yes   \n",
       "9                   No        One year               No   \n",
       "\n",
       "               PaymentMethod  MonthlyCharges  TotalCharges Churn  \n",
       "0               Mailed check           19.55        839.40    No  \n",
       "1               Mailed check           24.20       1445.20    No  \n",
       "2  Bank transfer (automatic)           73.25       4054.20    No  \n",
       "3               Mailed check           99.65       4630.20    No  \n",
       "4    Credit card (automatic)          109.20       5290.45    No  \n",
       "5           Electronic check           91.40        449.75   Yes  \n",
       "6    Credit card (automatic)           89.75       6595.90    No  \n",
       "7               Mailed check           64.80       1175.60    No  \n",
       "8           Electronic check           85.00         85.00   Yes  \n",
       "9               Mailed check           44.60        681.40    No  "
      ]
     },
     "execution_count": 81,
     "metadata": {},
     "output_type": "execute_result"
    }
   ],
   "source": [
    "data_inf"
   ]
  },
  {
   "cell_type": "code",
   "execution_count": 83,
   "id": "kw4BgjnXpc-Q",
   "metadata": {
    "colab": {
     "base_uri": "https://localhost:8080/"
    },
    "id": "kw4BgjnXpc-Q",
    "outputId": "61827bb5-f588-4572-dbcd-3356e0e5c8c9"
   },
   "outputs": [
    {
     "data": {
      "text/plain": [
       "customerID          0\n",
       "gender              0\n",
       "SeniorCitizen       0\n",
       "Partner             0\n",
       "Dependents          0\n",
       "tenure              0\n",
       "PhoneService        0\n",
       "MultipleLines       0\n",
       "InternetService     0\n",
       "OnlineSecurity      0\n",
       "OnlineBackup        0\n",
       "DeviceProtection    0\n",
       "TechSupport         0\n",
       "StreamingTV         0\n",
       "StreamingMovies     0\n",
       "Contract            0\n",
       "PaperlessBilling    0\n",
       "PaymentMethod       0\n",
       "MonthlyCharges      0\n",
       "TotalCharges        0\n",
       "Churn               0\n",
       "dtype: int64"
      ]
     },
     "execution_count": 83,
     "metadata": {},
     "output_type": "execute_result"
    }
   ],
   "source": [
    "data_inf.isna().sum()"
   ]
  },
  {
   "cell_type": "code",
   "execution_count": 84,
   "id": "ba071f3a",
   "metadata": {},
   "outputs": [],
   "source": [
    "data_infs = preprocessor.transform(data_inf)"
   ]
  },
  {
   "cell_type": "code",
   "execution_count": 85,
   "id": "8FGVwV7vAPrv",
   "metadata": {
    "colab": {
     "base_uri": "https://localhost:8080/"
    },
    "id": "8FGVwV7vAPrv",
    "outputId": "1147a7e2-28ea-4910-91c0-22b11d5e6d42"
   },
   "outputs": [
    {
     "name": "stdout",
     "output_type": "stream",
     "text": [
      "Model: \"sequential_1\"\n",
      "_________________________________________________________________\n",
      " Layer (type)                Output Shape              Param #   \n",
      "=================================================================\n",
      " dense_8 (Dense)             (None, 20)                400       \n",
      "                                                                 \n",
      " dropout_4 (Dropout)         (None, 20)                0         \n",
      "                                                                 \n",
      " dense_9 (Dense)             (None, 20)                420       \n",
      "                                                                 \n",
      " dropout_5 (Dropout)         (None, 20)                0         \n",
      "                                                                 \n",
      " dense_10 (Dense)            (None, 10)                210       \n",
      "                                                                 \n",
      " dropout_6 (Dropout)         (None, 10)                0         \n",
      "                                                                 \n",
      " dense_11 (Dense)            (None, 1)                 11        \n",
      "                                                                 \n",
      "=================================================================\n",
      "Total params: 1,041\n",
      "Trainable params: 1,041\n",
      "Non-trainable params: 0\n",
      "_________________________________________________________________\n"
     ]
    }
   ],
   "source": [
    "# load model\n",
    "from tensorflow.keras.models import load_model\n",
    "savedModel=load_model('gfgModel.h5')\n",
    "savedModel.summary()"
   ]
  },
  {
   "cell_type": "code",
   "execution_count": 86,
   "id": "Pgo2fBQgAUIn",
   "metadata": {
    "id": "Pgo2fBQgAUIn"
   },
   "outputs": [],
   "source": [
    "y_pred_inf = savedModel.predict(data_infs)"
   ]
  },
  {
   "cell_type": "code",
   "execution_count": 87,
   "id": "6pGQ63urAwPO",
   "metadata": {
    "id": "6pGQ63urAwPO"
   },
   "outputs": [],
   "source": [
    "y_pred_inf = pd.DataFrame(y_pred_inf, columns=['Churn-Prediction'])"
   ]
  },
  {
   "cell_type": "code",
   "execution_count": 88,
   "id": "uZnT96faPG1Z",
   "metadata": {
    "id": "uZnT96faPG1Z"
   },
   "outputs": [],
   "source": [
    "# Concate to Original Dataframe\n",
    "df_inf_result = pd.concat([data_inf, y_pred_inf], axis=1)"
   ]
  },
  {
   "cell_type": "code",
   "execution_count": 89,
   "id": "gPQYqueSPKS4",
   "metadata": {
    "colab": {
     "base_uri": "https://localhost:8080/",
     "height": 566
    },
    "id": "gPQYqueSPKS4",
    "outputId": "9aef7fa2-5639-4ce6-bb8a-af7a359a63e4"
   },
   "outputs": [
    {
     "data": {
      "text/html": [
       "<div>\n",
       "<style scoped>\n",
       "    .dataframe tbody tr th:only-of-type {\n",
       "        vertical-align: middle;\n",
       "    }\n",
       "\n",
       "    .dataframe tbody tr th {\n",
       "        vertical-align: top;\n",
       "    }\n",
       "\n",
       "    .dataframe thead th {\n",
       "        text-align: right;\n",
       "    }\n",
       "</style>\n",
       "<table border=\"1\" class=\"dataframe\">\n",
       "  <thead>\n",
       "    <tr style=\"text-align: right;\">\n",
       "      <th></th>\n",
       "      <th>customerID</th>\n",
       "      <th>gender</th>\n",
       "      <th>SeniorCitizen</th>\n",
       "      <th>Partner</th>\n",
       "      <th>Dependents</th>\n",
       "      <th>tenure</th>\n",
       "      <th>PhoneService</th>\n",
       "      <th>MultipleLines</th>\n",
       "      <th>InternetService</th>\n",
       "      <th>OnlineSecurity</th>\n",
       "      <th>OnlineBackup</th>\n",
       "      <th>DeviceProtection</th>\n",
       "      <th>TechSupport</th>\n",
       "      <th>StreamingTV</th>\n",
       "      <th>StreamingMovies</th>\n",
       "      <th>Contract</th>\n",
       "      <th>PaperlessBilling</th>\n",
       "      <th>PaymentMethod</th>\n",
       "      <th>MonthlyCharges</th>\n",
       "      <th>TotalCharges</th>\n",
       "      <th>Churn</th>\n",
       "      <th>Churn-Prediction</th>\n",
       "    </tr>\n",
       "  </thead>\n",
       "  <tbody>\n",
       "    <tr>\n",
       "      <th>0</th>\n",
       "      <td>8717-VCTXJ</td>\n",
       "      <td>Male</td>\n",
       "      <td>0</td>\n",
       "      <td>No</td>\n",
       "      <td>No</td>\n",
       "      <td>42</td>\n",
       "      <td>Yes</td>\n",
       "      <td>No</td>\n",
       "      <td>No</td>\n",
       "      <td>No internet service</td>\n",
       "      <td>No internet service</td>\n",
       "      <td>No internet service</td>\n",
       "      <td>No internet service</td>\n",
       "      <td>No internet service</td>\n",
       "      <td>No internet service</td>\n",
       "      <td>One year</td>\n",
       "      <td>Yes</td>\n",
       "      <td>Mailed check</td>\n",
       "      <td>19.55</td>\n",
       "      <td>839.40</td>\n",
       "      <td>No</td>\n",
       "      <td>0.012131</td>\n",
       "    </tr>\n",
       "    <tr>\n",
       "      <th>1</th>\n",
       "      <td>3580-GICBM</td>\n",
       "      <td>Female</td>\n",
       "      <td>0</td>\n",
       "      <td>Yes</td>\n",
       "      <td>Yes</td>\n",
       "      <td>61</td>\n",
       "      <td>Yes</td>\n",
       "      <td>Yes</td>\n",
       "      <td>No</td>\n",
       "      <td>No internet service</td>\n",
       "      <td>No internet service</td>\n",
       "      <td>No internet service</td>\n",
       "      <td>No internet service</td>\n",
       "      <td>No internet service</td>\n",
       "      <td>No internet service</td>\n",
       "      <td>Two year</td>\n",
       "      <td>Yes</td>\n",
       "      <td>Mailed check</td>\n",
       "      <td>24.20</td>\n",
       "      <td>1445.20</td>\n",
       "      <td>No</td>\n",
       "      <td>0.001199</td>\n",
       "    </tr>\n",
       "    <tr>\n",
       "      <th>2</th>\n",
       "      <td>4849-PYRLQ</td>\n",
       "      <td>Female</td>\n",
       "      <td>1</td>\n",
       "      <td>No</td>\n",
       "      <td>No</td>\n",
       "      <td>56</td>\n",
       "      <td>Yes</td>\n",
       "      <td>Yes</td>\n",
       "      <td>DSL</td>\n",
       "      <td>Yes</td>\n",
       "      <td>No</td>\n",
       "      <td>Yes</td>\n",
       "      <td>Yes</td>\n",
       "      <td>No</td>\n",
       "      <td>Yes</td>\n",
       "      <td>Two year</td>\n",
       "      <td>No</td>\n",
       "      <td>Bank transfer (automatic)</td>\n",
       "      <td>73.25</td>\n",
       "      <td>4054.20</td>\n",
       "      <td>No</td>\n",
       "      <td>0.020692</td>\n",
       "    </tr>\n",
       "    <tr>\n",
       "      <th>3</th>\n",
       "      <td>0572-ZJKLT</td>\n",
       "      <td>Female</td>\n",
       "      <td>0</td>\n",
       "      <td>Yes</td>\n",
       "      <td>Yes</td>\n",
       "      <td>46</td>\n",
       "      <td>Yes</td>\n",
       "      <td>Yes</td>\n",
       "      <td>Fiber optic</td>\n",
       "      <td>Yes</td>\n",
       "      <td>No</td>\n",
       "      <td>Yes</td>\n",
       "      <td>Yes</td>\n",
       "      <td>No</td>\n",
       "      <td>Yes</td>\n",
       "      <td>Two year</td>\n",
       "      <td>No</td>\n",
       "      <td>Mailed check</td>\n",
       "      <td>99.65</td>\n",
       "      <td>4630.20</td>\n",
       "      <td>No</td>\n",
       "      <td>0.023321</td>\n",
       "    </tr>\n",
       "    <tr>\n",
       "      <th>4</th>\n",
       "      <td>0961-ZWLVI</td>\n",
       "      <td>Male</td>\n",
       "      <td>0</td>\n",
       "      <td>No</td>\n",
       "      <td>Yes</td>\n",
       "      <td>49</td>\n",
       "      <td>Yes</td>\n",
       "      <td>Yes</td>\n",
       "      <td>Fiber optic</td>\n",
       "      <td>Yes</td>\n",
       "      <td>Yes</td>\n",
       "      <td>Yes</td>\n",
       "      <td>No</td>\n",
       "      <td>Yes</td>\n",
       "      <td>Yes</td>\n",
       "      <td>One year</td>\n",
       "      <td>Yes</td>\n",
       "      <td>Credit card (automatic)</td>\n",
       "      <td>109.20</td>\n",
       "      <td>5290.45</td>\n",
       "      <td>No</td>\n",
       "      <td>0.160578</td>\n",
       "    </tr>\n",
       "    <tr>\n",
       "      <th>5</th>\n",
       "      <td>8414-MYSHR</td>\n",
       "      <td>Male</td>\n",
       "      <td>1</td>\n",
       "      <td>No</td>\n",
       "      <td>No</td>\n",
       "      <td>5</td>\n",
       "      <td>Yes</td>\n",
       "      <td>No</td>\n",
       "      <td>Fiber optic</td>\n",
       "      <td>No</td>\n",
       "      <td>No</td>\n",
       "      <td>No</td>\n",
       "      <td>No</td>\n",
       "      <td>Yes</td>\n",
       "      <td>Yes</td>\n",
       "      <td>Month-to-month</td>\n",
       "      <td>Yes</td>\n",
       "      <td>Electronic check</td>\n",
       "      <td>91.40</td>\n",
       "      <td>449.75</td>\n",
       "      <td>Yes</td>\n",
       "      <td>0.684117</td>\n",
       "    </tr>\n",
       "    <tr>\n",
       "      <th>6</th>\n",
       "      <td>9489-JMTTN</td>\n",
       "      <td>Female</td>\n",
       "      <td>0</td>\n",
       "      <td>Yes</td>\n",
       "      <td>Yes</td>\n",
       "      <td>72</td>\n",
       "      <td>Yes</td>\n",
       "      <td>Yes</td>\n",
       "      <td>DSL</td>\n",
       "      <td>Yes</td>\n",
       "      <td>Yes</td>\n",
       "      <td>Yes</td>\n",
       "      <td>Yes</td>\n",
       "      <td>Yes</td>\n",
       "      <td>Yes</td>\n",
       "      <td>Two year</td>\n",
       "      <td>No</td>\n",
       "      <td>Credit card (automatic)</td>\n",
       "      <td>89.75</td>\n",
       "      <td>6595.90</td>\n",
       "      <td>No</td>\n",
       "      <td>0.011566</td>\n",
       "    </tr>\n",
       "    <tr>\n",
       "      <th>7</th>\n",
       "      <td>3137-NYQQI</td>\n",
       "      <td>Male</td>\n",
       "      <td>0</td>\n",
       "      <td>Yes</td>\n",
       "      <td>No</td>\n",
       "      <td>17</td>\n",
       "      <td>Yes</td>\n",
       "      <td>No</td>\n",
       "      <td>DSL</td>\n",
       "      <td>Yes</td>\n",
       "      <td>Yes</td>\n",
       "      <td>No</td>\n",
       "      <td>No</td>\n",
       "      <td>No</td>\n",
       "      <td>Yes</td>\n",
       "      <td>One year</td>\n",
       "      <td>No</td>\n",
       "      <td>Mailed check</td>\n",
       "      <td>64.80</td>\n",
       "      <td>1175.60</td>\n",
       "      <td>No</td>\n",
       "      <td>0.166941</td>\n",
       "    </tr>\n",
       "    <tr>\n",
       "      <th>8</th>\n",
       "      <td>6230-BSUXY</td>\n",
       "      <td>Female</td>\n",
       "      <td>1</td>\n",
       "      <td>No</td>\n",
       "      <td>No</td>\n",
       "      <td>1</td>\n",
       "      <td>Yes</td>\n",
       "      <td>No</td>\n",
       "      <td>Fiber optic</td>\n",
       "      <td>No</td>\n",
       "      <td>No</td>\n",
       "      <td>Yes</td>\n",
       "      <td>No</td>\n",
       "      <td>No</td>\n",
       "      <td>Yes</td>\n",
       "      <td>Month-to-month</td>\n",
       "      <td>Yes</td>\n",
       "      <td>Electronic check</td>\n",
       "      <td>85.00</td>\n",
       "      <td>85.00</td>\n",
       "      <td>Yes</td>\n",
       "      <td>0.714697</td>\n",
       "    </tr>\n",
       "    <tr>\n",
       "      <th>9</th>\n",
       "      <td>5160-UXJED</td>\n",
       "      <td>Male</td>\n",
       "      <td>0</td>\n",
       "      <td>No</td>\n",
       "      <td>Yes</td>\n",
       "      <td>17</td>\n",
       "      <td>Yes</td>\n",
       "      <td>No</td>\n",
       "      <td>DSL</td>\n",
       "      <td>No</td>\n",
       "      <td>No</td>\n",
       "      <td>No</td>\n",
       "      <td>No</td>\n",
       "      <td>No</td>\n",
       "      <td>No</td>\n",
       "      <td>One year</td>\n",
       "      <td>No</td>\n",
       "      <td>Mailed check</td>\n",
       "      <td>44.60</td>\n",
       "      <td>681.40</td>\n",
       "      <td>No</td>\n",
       "      <td>0.102767</td>\n",
       "    </tr>\n",
       "  </tbody>\n",
       "</table>\n",
       "</div>"
      ],
      "text/plain": [
       "   customerID  gender  SeniorCitizen Partner Dependents  tenure PhoneService  \\\n",
       "0  8717-VCTXJ    Male              0      No         No      42          Yes   \n",
       "1  3580-GICBM  Female              0     Yes        Yes      61          Yes   \n",
       "2  4849-PYRLQ  Female              1      No         No      56          Yes   \n",
       "3  0572-ZJKLT  Female              0     Yes        Yes      46          Yes   \n",
       "4  0961-ZWLVI    Male              0      No        Yes      49          Yes   \n",
       "5  8414-MYSHR    Male              1      No         No       5          Yes   \n",
       "6  9489-JMTTN  Female              0     Yes        Yes      72          Yes   \n",
       "7  3137-NYQQI    Male              0     Yes         No      17          Yes   \n",
       "8  6230-BSUXY  Female              1      No         No       1          Yes   \n",
       "9  5160-UXJED    Male              0      No        Yes      17          Yes   \n",
       "\n",
       "  MultipleLines InternetService       OnlineSecurity         OnlineBackup  \\\n",
       "0            No              No  No internet service  No internet service   \n",
       "1           Yes              No  No internet service  No internet service   \n",
       "2           Yes             DSL                  Yes                   No   \n",
       "3           Yes     Fiber optic                  Yes                   No   \n",
       "4           Yes     Fiber optic                  Yes                  Yes   \n",
       "5            No     Fiber optic                   No                   No   \n",
       "6           Yes             DSL                  Yes                  Yes   \n",
       "7            No             DSL                  Yes                  Yes   \n",
       "8            No     Fiber optic                   No                   No   \n",
       "9            No             DSL                   No                   No   \n",
       "\n",
       "      DeviceProtection          TechSupport          StreamingTV  \\\n",
       "0  No internet service  No internet service  No internet service   \n",
       "1  No internet service  No internet service  No internet service   \n",
       "2                  Yes                  Yes                   No   \n",
       "3                  Yes                  Yes                   No   \n",
       "4                  Yes                   No                  Yes   \n",
       "5                   No                   No                  Yes   \n",
       "6                  Yes                  Yes                  Yes   \n",
       "7                   No                   No                   No   \n",
       "8                  Yes                   No                   No   \n",
       "9                   No                   No                   No   \n",
       "\n",
       "       StreamingMovies        Contract PaperlessBilling  \\\n",
       "0  No internet service        One year              Yes   \n",
       "1  No internet service        Two year              Yes   \n",
       "2                  Yes        Two year               No   \n",
       "3                  Yes        Two year               No   \n",
       "4                  Yes        One year              Yes   \n",
       "5                  Yes  Month-to-month              Yes   \n",
       "6                  Yes        Two year               No   \n",
       "7                  Yes        One year               No   \n",
       "8                  Yes  Month-to-month              Yes   \n",
       "9                   No        One year               No   \n",
       "\n",
       "               PaymentMethod  MonthlyCharges  TotalCharges Churn  \\\n",
       "0               Mailed check           19.55        839.40    No   \n",
       "1               Mailed check           24.20       1445.20    No   \n",
       "2  Bank transfer (automatic)           73.25       4054.20    No   \n",
       "3               Mailed check           99.65       4630.20    No   \n",
       "4    Credit card (automatic)          109.20       5290.45    No   \n",
       "5           Electronic check           91.40        449.75   Yes   \n",
       "6    Credit card (automatic)           89.75       6595.90    No   \n",
       "7               Mailed check           64.80       1175.60    No   \n",
       "8           Electronic check           85.00         85.00   Yes   \n",
       "9               Mailed check           44.60        681.40    No   \n",
       "\n",
       "   Churn-Prediction  \n",
       "0          0.012131  \n",
       "1          0.001199  \n",
       "2          0.020692  \n",
       "3          0.023321  \n",
       "4          0.160578  \n",
       "5          0.684117  \n",
       "6          0.011566  \n",
       "7          0.166941  \n",
       "8          0.714697  \n",
       "9          0.102767  "
      ]
     },
     "execution_count": 89,
     "metadata": {},
     "output_type": "execute_result"
    }
   ],
   "source": [
    "df_inf_result"
   ]
  },
  {
   "cell_type": "markdown",
   "id": "55196634",
   "metadata": {},
   "source": [
    "## Analysis"
   ]
  },
  {
   "cell_type": "markdown",
   "id": "9aaad3c0",
   "metadata": {},
   "source": [
    "### EDA Analysis"
   ]
  },
  {
   "cell_type": "markdown",
   "id": "92564348",
   "metadata": {},
   "source": [
    "1. From the EDA of the services result it can be concluded that there are several columns which affect Customer Churning heavily and there are also columns that aren't affecting the Customer Churn such as The Phone Service and Multiple Lines.\n",
    "2. The features which affect customer churning, likely to be those who are connected to the Internet Service\n",
    "3. Further EDA for the prices, we can see price does affect customer churns. As we can see from the Monthly Charges, higher monthly charge responded with higher customer churn rate. However, TotalCharges doesn't seem to complement the conclusion of Monthly Charges.\n",
    "4. From the tenure EDA, we can see that in this dataset, there are high churn rate within short term tenure period. Thus we can somewhat conclude that this complement the Total Charges EDA. This dataset likely has lots of customers which tries every single service provided (**hence the high Total Charge**) within a short term just for the sake of trial and error. "
   ]
  },
  {
   "cell_type": "markdown",
   "id": "e13cd8e8",
   "metadata": {},
   "source": [
    "### Overall Analysis"
   ]
  },
  {
   "cell_type": "markdown",
   "id": "c1960ce5",
   "metadata": {},
   "source": [
    "- This dataset is a quite small data and highly imbalanced. Although we have handled the imbalance by using SMOTE, the small size of this data still contribute highly to it's unsteadyness during training period.\n",
    "- There are some features in the columns that could contribute highly to the training result. Such as there are some columns that include 'No Internet Service' or 'No Phone Service' beside the standard 'Yes' and 'No'. As for me, I'm choosing to keep the 'No Internet service' and 'No Phone Service' as it is and doing One Hot Encoding on them since in my opinion they hold different weight values. But there might be other people who chose to include 'No Internet Service' and 'No Phone Service' as No. Thus this one needs further crosschecking with the dataset provider, or better, they could provide some explanation regarding this column.\n",
    "- Since this data is small, I don't think tensorflow is the suitable model used since it is so easy for the data training to be overfitting.\n",
    "- Overall, there are lots of things contributing to this data's analysis and training, but if we take it aside, we could say that the data is pretty much representing what it should represents and that is clearly shown during the EDA section."
   ]
  }
 ],
 "metadata": {
  "colab": {
   "collapsed_sections": [],
   "name": "draft mls1.ipynb",
   "provenance": []
  },
  "kernelspec": {
   "display_name": "Python 3 (ipykernel)",
   "language": "python",
   "name": "python3"
  },
  "language_info": {
   "codemirror_mode": {
    "name": "ipython",
    "version": 3
   },
   "file_extension": ".py",
   "mimetype": "text/x-python",
   "name": "python",
   "nbconvert_exporter": "python",
   "pygments_lexer": "ipython3",
   "version": "3.9.7"
  }
 },
 "nbformat": 4,
 "nbformat_minor": 5
}
